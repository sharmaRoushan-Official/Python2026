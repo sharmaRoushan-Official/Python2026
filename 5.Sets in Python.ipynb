{
 "cells": [
  {
   "cell_type": "markdown",
   "id": "7faa28f0-c2a3-48db-a862-ab0c152fc194",
   "metadata": {},
   "source": [
    "# 5. Sets in Python\n",
    "\n",
    " * __Sets is one of 4-th built-in data types in Python used to sotre collection of data including tuples, and dictionary.__\n",
    " * __Sets are unordered, but you can remove items and add new items.__\n",
    " * __Set elements are unique, Duplicate value are not allowed.__\n",
    " * __A set itself may be modified, but the elements contained in the set must be of an immutable type.__\n",
    " * __Sets are used to store multiple items in a single variable.__\n",
    " * __You can denote a set with a pair of curly brackets.{}__"
   ]
  },
  {
   "cell_type": "code",
   "execution_count": 4,
   "id": "5ac43f63-b7f8-41f3-a5be-5b836039649f",
   "metadata": {},
   "outputs": [
    {
     "name": "stdout",
     "output_type": "stream",
     "text": [
      "{1} <class 'set'>\n"
     ]
    }
   ],
   "source": [
    "set1 = {1}\n",
    "\n",
    "print(set1,type(set1))"
   ]
  },
  {
   "cell_type": "code",
   "execution_count": 11,
   "id": "464eb738-835d-4515-a8f2-a5c321133c3d",
   "metadata": {},
   "outputs": [
    {
     "name": "stdout",
     "output_type": "stream",
     "text": [
      "{} <class 'dict'>\n"
     ]
    }
   ],
   "source": [
    "# empty sets\n",
    "\n",
    "x1 = {}\n",
    "print(x1,type(x1))"
   ]
  },
  {
   "cell_type": "code",
   "execution_count": 12,
   "id": "15f3933b-2bef-4633-bd7e-a93dfa923ef8",
   "metadata": {},
   "outputs": [
    {
     "name": "stdout",
     "output_type": "stream",
     "text": [
      "set() <class 'set'>\n"
     ]
    }
   ],
   "source": [
    "# set() method\n",
    "\n",
    "x2 = set()\n",
    "print(x2,type(x2))"
   ]
  },
  {
   "cell_type": "code",
   "execution_count": 14,
   "id": "55cc64ab-b739-423a-8b5f-b160208b7355",
   "metadata": {},
   "outputs": [
    {
     "name": "stdout",
     "output_type": "stream",
     "text": [
      "{False, True, 'Hello world', 3.147, 100, 'Neeraj'}\n"
     ]
    }
   ],
   "source": [
    "set1 = {'Hello world',3.147,100,True,False,\"Neeraj\"}\n",
    "\n",
    "print(set1)"
   ]
  },
  {
   "cell_type": "code",
   "execution_count": 15,
   "id": "4b9c6f48-472f-44c0-84fc-857d3a39da22",
   "metadata": {},
   "outputs": [
    {
     "name": "stdout",
     "output_type": "stream",
     "text": [
      "{False, True, 'Hello world', 3.147, 100, 'Neeraj'}\n"
     ]
    }
   ],
   "source": [
    "set1 = {'Hello world',3.147,100,True,False,\"Neeraj\"}\n",
    "\n",
    "print(set1)"
   ]
  },
  {
   "cell_type": "code",
   "execution_count": 16,
   "id": "5bdc5243-efc3-4e99-9ada-4baced618012",
   "metadata": {},
   "outputs": [
    {
     "name": "stdout",
     "output_type": "stream",
     "text": [
      "{False, True, 'Hello world', 3.147, 100, 'Neeraj'}\n"
     ]
    }
   ],
   "source": [
    "set1 = {'Hello world',3.147,100,True,False,\"Neeraj\"}\n",
    "\n",
    "print(set1)"
   ]
  },
  {
   "cell_type": "code",
   "execution_count": 25,
   "id": "366e59e6-7fe6-4798-83bd-76fe145b774e",
   "metadata": {},
   "outputs": [
    {
     "name": "stdout",
     "output_type": "stream",
     "text": [
      "{False, True, 'Hello world', 3.147, 100, 'Neeraj'}\n"
     ]
    }
   ],
   "source": [
    "set1 = {'Hello world',3.147,100,True,False,\"Neeraj\"}\n",
    "\n",
    "print(set1)"
   ]
  },
  {
   "cell_type": "code",
   "execution_count": 19,
   "id": "21f35bad-6932-49d3-9db7-1f1885bbf02d",
   "metadata": {},
   "outputs": [
    {
     "data": {
      "text/plain": [
       "2277214344512"
      ]
     },
     "execution_count": 19,
     "metadata": {},
     "output_type": "execute_result"
    }
   ],
   "source": [
    "id(set1)"
   ]
  },
  {
   "cell_type": "code",
   "execution_count": 26,
   "id": "c6c19c54-608a-40d4-91bb-f525043a101c",
   "metadata": {},
   "outputs": [
    {
     "data": {
      "text/plain": [
       "{100, 3.147, False, 'Hello world', True}"
      ]
     },
     "execution_count": 26,
     "metadata": {},
     "output_type": "execute_result"
    }
   ],
   "source": [
    "y={False, True, 3.147, 100, 'Hello world'}\n",
    "y"
   ]
  },
  {
   "cell_type": "code",
   "execution_count": 27,
   "id": "9c9168e3-01b0-4b57-82a6-f50157606384",
   "metadata": {},
   "outputs": [
    {
     "data": {
      "text/plain": [
       "{100, 3.147, False, 'Hello world', True}"
      ]
     },
     "execution_count": 27,
     "metadata": {},
     "output_type": "execute_result"
    }
   ],
   "source": [
    "y"
   ]
  },
  {
   "cell_type": "code",
   "execution_count": 28,
   "id": "6507260d-732a-4bbe-9652-66fdfe33e28b",
   "metadata": {},
   "outputs": [
    {
     "ename": "TypeError",
     "evalue": "unhashable type: 'list'",
     "output_type": "error",
     "traceback": [
      "\u001b[31m---------------------------------------------------------------------------\u001b[39m",
      "\u001b[31mTypeError\u001b[39m                                 Traceback (most recent call last)",
      "\u001b[36mCell\u001b[39m\u001b[36m \u001b[39m\u001b[32mIn[28]\u001b[39m\u001b[32m, line 1\u001b[39m\n\u001b[32m----> \u001b[39m\u001b[32m1\u001b[39m set1 = {\u001b[33m'\u001b[39m\u001b[33mHello world\u001b[39m\u001b[33m'\u001b[39m,\u001b[32m3.147\u001b[39m,\u001b[32m100\u001b[39m,\u001b[38;5;28;01mTrue\u001b[39;00m,\u001b[38;5;28;01mFalse\u001b[39;00m,\u001b[33m\"\u001b[39m\u001b[33mNeeraj\u001b[39m\u001b[33m\"\u001b[39m,[\u001b[33m'\u001b[39m\u001b[33mHello world\u001b[39m\u001b[33m'\u001b[39m,\u001b[32m20\u001b[39m]}\n\u001b[32m      3\u001b[39m \u001b[38;5;28mprint\u001b[39m(set1)\n",
      "\u001b[31mTypeError\u001b[39m: unhashable type: 'list'"
     ]
    }
   ],
   "source": [
    "set1 = {'Hello world',3.147,100,True,False,\"Neeraj\",['Hello world',20]}\n",
    "\n",
    "print(set1)"
   ]
  },
  {
   "cell_type": "code",
   "execution_count": 29,
   "id": "90f9b9ed-132f-4c19-af22-181313232744",
   "metadata": {},
   "outputs": [
    {
     "name": "stdout",
     "output_type": "stream",
     "text": [
      "{False, True, 'Hello world', 3.147, 100, 'Neeraj', ('Hello world', 20)}\n"
     ]
    }
   ],
   "source": [
    "set1 = {'Hello world',3.147,100,True,False,\"Neeraj\",('Hello world',20)}\n",
    "\n",
    "print(set1)"
   ]
  },
  {
   "cell_type": "code",
   "execution_count": 34,
   "id": "65c6ff64-01a9-4786-b215-4b3258fb14e6",
   "metadata": {},
   "outputs": [
    {
     "name": "stdout",
     "output_type": "stream",
     "text": [
      "{False, True, 'Hello world', 3.147, 100, 'Neeraj', ('Hello world', 20)}\n"
     ]
    }
   ],
   "source": [
    "set1 = {'Hello world',3.147,100,True,False,\"Neeraj\",('Hello world',20)}\n",
    "print(set1)"
   ]
  },
  {
   "cell_type": "code",
   "execution_count": 35,
   "id": "063b3357-54ac-413d-934a-959d7cd6f5f6",
   "metadata": {},
   "outputs": [
    {
     "name": "stdout",
     "output_type": "stream",
     "text": [
      "['Neeraj', 'Neeraj', 'Omkar', 10, 10, 10, 12, 45, 78, 0.369, 0.369]\n",
      "<class 'list'>\n"
     ]
    }
   ],
   "source": [
    "list1 = ['Neeraj',\"Neeraj\",\"Omkar\",10,10,10,12,45,78,0.369,0.369]\n",
    "print(list1)\n",
    "print(type(list1))"
   ]
  },
  {
   "cell_type": "code",
   "execution_count": 37,
   "id": "867ef070-a3b9-4b69-be43-613af89829fc",
   "metadata": {},
   "outputs": [
    {
     "data": {
      "text/plain": [
       "{0.369, 10, 12, 45, 78, 'Neeraj', 'Omkar'}"
      ]
     },
     "execution_count": 37,
     "metadata": {},
     "output_type": "execute_result"
    }
   ],
   "source": [
    "x1= set(list1)\n",
    "x1"
   ]
  },
  {
   "cell_type": "code",
   "execution_count": 39,
   "id": "99dbff5d-49e6-4c45-aa33-2977ddfbaf71",
   "metadata": {},
   "outputs": [],
   "source": [
    "# Set Operations\n",
    "\n",
    "# add() function"
   ]
  },
  {
   "cell_type": "code",
   "execution_count": 40,
   "id": "4cc3023f-8125-4439-a7e3-20cd8d4f93cc",
   "metadata": {},
   "outputs": [
    {
     "ename": "TypeError",
     "evalue": "'set' object is not subscriptable",
     "output_type": "error",
     "traceback": [
      "\u001b[31m---------------------------------------------------------------------------\u001b[39m",
      "\u001b[31mTypeError\u001b[39m                                 Traceback (most recent call last)",
      "\u001b[36mCell\u001b[39m\u001b[36m \u001b[39m\u001b[32mIn[40]\u001b[39m\u001b[32m, line 1\u001b[39m\n\u001b[32m----> \u001b[39m\u001b[32m1\u001b[39m \u001b[43mx1\u001b[49m\u001b[43m[\u001b[49m\u001b[32;43m0\u001b[39;49m\u001b[43m]\u001b[49m\n",
      "\u001b[31mTypeError\u001b[39m: 'set' object is not subscriptable"
     ]
    }
   ],
   "source": [
    "x1[0]"
   ]
  },
  {
   "cell_type": "code",
   "execution_count": 41,
   "id": "6d8b5149-881e-484e-8ff1-4d1a648ed00b",
   "metadata": {},
   "outputs": [
    {
     "data": {
      "text/plain": [
       "'Neeraj'"
      ]
     },
     "execution_count": 41,
     "metadata": {},
     "output_type": "execute_result"
    }
   ],
   "source": [
    "list1[0]"
   ]
  },
  {
   "cell_type": "code",
   "execution_count": 42,
   "id": "1f06cd7b-5088-4307-85e4-b9cbfe6ac64a",
   "metadata": {},
   "outputs": [
    {
     "data": {
      "text/plain": [
       "{0.369, 10, 12, 45, 78, 'Neeraj', 'Omkar'}"
      ]
     },
     "execution_count": 42,
     "metadata": {},
     "output_type": "execute_result"
    }
   ],
   "source": [
    "x1"
   ]
  },
  {
   "cell_type": "code",
   "execution_count": 43,
   "id": "6a431750-f328-4ea7-a44b-ff8809946ccd",
   "metadata": {},
   "outputs": [],
   "source": [
    "x1.add(\"Dheeraj\")"
   ]
  },
  {
   "cell_type": "code",
   "execution_count": 44,
   "id": "49bd5feb-5d7c-48b3-8b82-4321508837dc",
   "metadata": {},
   "outputs": [
    {
     "data": {
      "text/plain": [
       "{0.369, 10, 12, 45, 78, 'Dheeraj', 'Neeraj', 'Omkar'}"
      ]
     },
     "execution_count": 44,
     "metadata": {},
     "output_type": "execute_result"
    }
   ],
   "source": [
    "x1"
   ]
  },
  {
   "cell_type": "code",
   "execution_count": 45,
   "id": "82bdbf77-40f8-4fab-9ff2-f574ec52ee78",
   "metadata": {},
   "outputs": [],
   "source": [
    "x1.add(20)"
   ]
  },
  {
   "cell_type": "code",
   "execution_count": 46,
   "id": "cddd8b3f-c9ec-400a-85e0-249ef97c7115",
   "metadata": {},
   "outputs": [
    {
     "data": {
      "text/plain": [
       "{0.369, 10, 12, 20, 45, 78, 'Dheeraj', 'Neeraj', 'Omkar'}"
      ]
     },
     "execution_count": 46,
     "metadata": {},
     "output_type": "execute_result"
    }
   ],
   "source": [
    "x1"
   ]
  },
  {
   "cell_type": "code",
   "execution_count": 47,
   "id": "545e5463-4fba-40f0-b733-5cfc0fb40f03",
   "metadata": {},
   "outputs": [],
   "source": [
    "x1.add(10.23)"
   ]
  },
  {
   "cell_type": "code",
   "execution_count": 48,
   "id": "70226b59-de7a-4b89-8904-029d5d5e88d3",
   "metadata": {},
   "outputs": [
    {
     "data": {
      "text/plain": [
       "{0.369, 10, 10.23, 12, 20, 45, 78, 'Dheeraj', 'Neeraj', 'Omkar'}"
      ]
     },
     "execution_count": 48,
     "metadata": {},
     "output_type": "execute_result"
    }
   ],
   "source": [
    "x1"
   ]
  },
  {
   "cell_type": "code",
   "execution_count": 50,
   "id": "eca406ba-63df-4210-9fbb-408bc10c5176",
   "metadata": {},
   "outputs": [
    {
     "data": {
      "text/plain": [
       "{6, 7, 8, 9, 10, 11, 12}"
      ]
     },
     "execution_count": 50,
     "metadata": {},
     "output_type": "execute_result"
    }
   ],
   "source": [
    "# Update() function\n",
    "\n",
    "x_set = {6,7,8,9}\n",
    "\n",
    "y_set = {7,8,9,10,11,12}\n",
    "\n",
    "x_set.update(y_set)\n",
    "x_set"
   ]
  },
  {
   "cell_type": "code",
   "execution_count": 51,
   "id": "e068280a-d779-4aae-88a2-4d507afd023a",
   "metadata": {},
   "outputs": [
    {
     "data": {
      "text/plain": [
       "{6, 7, 8, 9, 11, 12}"
      ]
     },
     "execution_count": 51,
     "metadata": {},
     "output_type": "execute_result"
    }
   ],
   "source": [
    "# remove() function\n",
    "\n",
    "x_set.remove(10)\n",
    "x_set"
   ]
  },
  {
   "cell_type": "code",
   "execution_count": 52,
   "id": "c18b623a-ad49-41b0-9efe-bfc7f34159b1",
   "metadata": {},
   "outputs": [
    {
     "ename": "KeyError",
     "evalue": "10",
     "output_type": "error",
     "traceback": [
      "\u001b[31m---------------------------------------------------------------------------\u001b[39m",
      "\u001b[31mKeyError\u001b[39m                                  Traceback (most recent call last)",
      "\u001b[36mCell\u001b[39m\u001b[36m \u001b[39m\u001b[32mIn[52]\u001b[39m\u001b[32m, line 1\u001b[39m\n\u001b[32m----> \u001b[39m\u001b[32m1\u001b[39m \u001b[43mx_set\u001b[49m\u001b[43m.\u001b[49m\u001b[43mremove\u001b[49m\u001b[43m(\u001b[49m\u001b[32;43m10\u001b[39;49m\u001b[43m)\u001b[49m\n\u001b[32m      2\u001b[39m x_set\n",
      "\u001b[31mKeyError\u001b[39m: 10"
     ]
    }
   ],
   "source": [
    "x_set.remove(10)\n",
    "x_set"
   ]
  },
  {
   "cell_type": "code",
   "execution_count": 53,
   "id": "f95ab3c3-0243-4034-85ee-a8227f7a45cb",
   "metadata": {},
   "outputs": [
    {
     "data": {
      "text/plain": [
       "{6, 7, 8, 9, 11}"
      ]
     },
     "execution_count": 53,
     "metadata": {},
     "output_type": "execute_result"
    }
   ],
   "source": [
    "# discard() function \n",
    "\n",
    "x_set.discard(12)\n",
    "x_set"
   ]
  },
  {
   "cell_type": "code",
   "execution_count": 54,
   "id": "94dec1cb-729e-46ec-9f4a-444156fd2354",
   "metadata": {},
   "outputs": [
    {
     "data": {
      "text/plain": [
       "{6, 7, 8, 9, 11}"
      ]
     },
     "execution_count": 54,
     "metadata": {},
     "output_type": "execute_result"
    }
   ],
   "source": [
    "x_set.discard(12)\n",
    "x_set"
   ]
  },
  {
   "cell_type": "code",
   "execution_count": 55,
   "id": "1b3c3d53-8260-4b03-84c7-a6f239b681da",
   "metadata": {},
   "outputs": [
    {
     "data": {
      "text/plain": [
       "{6, 7, 8, 9, 11}"
      ]
     },
     "execution_count": 55,
     "metadata": {},
     "output_type": "execute_result"
    }
   ],
   "source": [
    "x_set.discard(12)\n",
    "x_set"
   ]
  },
  {
   "cell_type": "code",
   "execution_count": 56,
   "id": "4549cc0c-28f3-40d4-9e5d-eab1ab45accc",
   "metadata": {},
   "outputs": [
    {
     "data": {
      "text/plain": [
       "{6, 7, 8, 9, 11}"
      ]
     },
     "execution_count": 56,
     "metadata": {},
     "output_type": "execute_result"
    }
   ],
   "source": [
    "x_set.discard(12)\n",
    "x_set"
   ]
  },
  {
   "cell_type": "code",
   "execution_count": 58,
   "id": "ad2e9f57-89ef-44d6-8ee4-8354ea0f4513",
   "metadata": {},
   "outputs": [
    {
     "data": {
      "text/plain": [
       "{6, 7, 8, 9}"
      ]
     },
     "execution_count": 58,
     "metadata": {},
     "output_type": "execute_result"
    }
   ],
   "source": [
    "x_set.discard(11)\n",
    "x_set"
   ]
  },
  {
   "cell_type": "code",
   "execution_count": 59,
   "id": "b515e75c-2302-4839-9150-aa9a3a81dc3e",
   "metadata": {},
   "outputs": [
    {
     "data": {
      "text/plain": [
       "{6, 7, 8, 9}"
      ]
     },
     "execution_count": 59,
     "metadata": {},
     "output_type": "execute_result"
    }
   ],
   "source": [
    "x_set.discard(11)\n",
    "x_set"
   ]
  },
  {
   "cell_type": "code",
   "execution_count": 1,
   "id": "436ac65f-17ab-4e3f-8d74-2ddf63fb85b3",
   "metadata": {},
   "outputs": [],
   "source": [
    "# Logic Operations in sets\n",
    "\n",
    "# Union()\n",
    "# Intersection()\n",
    "# Difference()\n",
    "# symmetric_difference()\n",
    "\n",
    "\n",
    "# subset()\n",
    "# superset()"
   ]
  },
  {
   "cell_type": "code",
   "execution_count": 7,
   "id": "28926e5a-f9de-495f-abba-8a688b297d49",
   "metadata": {},
   "outputs": [
    {
     "name": "stdout",
     "output_type": "stream",
     "text": [
      "{1.618, 'Hello Python', 3.147, 'Hello World'}\n",
      "{False, 1.618, True, 3.147, 2025}\n"
     ]
    }
   ],
   "source": [
    "# Union:\n",
    "\n",
    "setA = {\"Hello Python\",3.147,1.618,\"Hello World\"}\n",
    "print(setA)\n",
    "\n",
    "setB = {3.147,1.618,True,False, 2025}\n",
    "print(setB)"
   ]
  },
  {
   "cell_type": "code",
   "execution_count": 8,
   "id": "45983ff4-ee55-4e63-950d-e4473511cd91",
   "metadata": {},
   "outputs": [
    {
     "data": {
      "text/plain": [
       "{1.618, 2025, 3.147, False, 'Hello Python', 'Hello World', True}"
      ]
     },
     "execution_count": 8,
     "metadata": {},
     "output_type": "execute_result"
    }
   ],
   "source": [
    "# Union: Unique Value\n",
    "\n",
    "setA.union(setB)"
   ]
  },
  {
   "cell_type": "code",
   "execution_count": 74,
   "id": "77c7bec7-3b02-42ee-9aa8-64c7c3c607b5",
   "metadata": {},
   "outputs": [
    {
     "name": "stdout",
     "output_type": "stream",
     "text": [
      "{1.618, 'Hello Python', 3.147, 'Hello World'}\n",
      "{False, 1.618, True, 3.147, 2025}\n"
     ]
    }
   ],
   "source": [
    "# Intersection: It display duplicate value\n",
    "\n",
    "setA = {\"Hello Python\",3.147,1.618,\"Hello World\"}\n",
    "print(setA)\n",
    "\n",
    "setB = {3.147,1.618,True,False, 2025}\n",
    "print(setB)"
   ]
  },
  {
   "cell_type": "code",
   "execution_count": 10,
   "id": "0bc7cb5a-96cd-4ce6-8cc5-1deea1e7e035",
   "metadata": {},
   "outputs": [
    {
     "data": {
      "text/plain": [
       "{1.618, 3.147}"
      ]
     },
     "execution_count": 10,
     "metadata": {},
     "output_type": "execute_result"
    }
   ],
   "source": [
    "# Intersection\n",
    "\n",
    "setA.intersection(setB)"
   ]
  },
  {
   "cell_type": "code",
   "execution_count": 11,
   "id": "07fb6635-7dbb-4e81-9cdd-f14db13d3171",
   "metadata": {},
   "outputs": [
    {
     "data": {
      "text/plain": [
       "{1.618, 3.147}"
      ]
     },
     "execution_count": 11,
     "metadata": {},
     "output_type": "execute_result"
    }
   ],
   "source": [
    "# ampersand: &\n",
    "\n",
    "setA & setB"
   ]
  },
  {
   "cell_type": "code",
   "execution_count": 16,
   "id": "b68d72c3-b5a9-425b-94b1-ce0cf6dac089",
   "metadata": {},
   "outputs": [
    {
     "name": "stdout",
     "output_type": "stream",
     "text": [
      "{1.618, 'Hello Python', 3.147, 'Hello World'}\n",
      "{False, 1.618, True, 3.147, 2025}\n",
      "{'Hello World', 'Hello Python'}\n",
      "{False, True, 2025}\n"
     ]
    }
   ],
   "source": [
    "# Intersection: It display duplicate value\n",
    "\n",
    "setA = {\"Hello Python\",3.147,1.618,\"Hello World\"}\n",
    "print(setA)\n",
    "\n",
    "setB = {3.147,1.618,True,False, 2025}\n",
    "print(setB)\n",
    "\n",
    "\n",
    "# differece: A-B, B-A\n",
    "\n",
    "print(setA.difference(setB))\n",
    "print(setB.difference(setA))"
   ]
  },
  {
   "cell_type": "code",
   "execution_count": 13,
   "id": "6ffb1ef4-2161-4a99-9922-ed084ddbfb66",
   "metadata": {},
   "outputs": [
    {
     "data": {
      "text/plain": [
       "0.0"
      ]
     },
     "execution_count": 13,
     "metadata": {},
     "output_type": "execute_result"
    }
   ],
   "source": [
    "3.147-3.147"
   ]
  },
  {
   "cell_type": "code",
   "execution_count": 14,
   "id": "704ba405-eff0-4181-9040-9daaae19b039",
   "metadata": {},
   "outputs": [
    {
     "data": {
      "text/plain": [
       "0.0"
      ]
     },
     "execution_count": 14,
     "metadata": {},
     "output_type": "execute_result"
    }
   ],
   "source": [
    "1.618-1.618"
   ]
  },
  {
   "cell_type": "code",
   "execution_count": 17,
   "id": "5df21066-54e0-4071-94ff-0e05a9db7223",
   "metadata": {},
   "outputs": [
    {
     "data": {
      "text/plain": [
       "{'Hello Python', 'Hello World'}"
      ]
     },
     "execution_count": 17,
     "metadata": {},
     "output_type": "execute_result"
    }
   ],
   "source": [
    "# second method\n",
    "\n",
    "setA-setB"
   ]
  },
  {
   "cell_type": "code",
   "execution_count": 18,
   "id": "acae18ec-39ff-4a7e-a1f7-e5b2c461e6cd",
   "metadata": {},
   "outputs": [
    {
     "data": {
      "text/plain": [
       "{False, True, 2025}"
      ]
     },
     "execution_count": 18,
     "metadata": {},
     "output_type": "execute_result"
    }
   ],
   "source": [
    "setB-setA"
   ]
  },
  {
   "cell_type": "code",
   "execution_count": 19,
   "id": "4b6d9223-3ec2-41fd-9951-d1711eb7f422",
   "metadata": {},
   "outputs": [
    {
     "name": "stdout",
     "output_type": "stream",
     "text": [
      "{1.618, 'Hello Python', 3.147, 'Hello World'}\n",
      "{False, 1.618, True, 3.147, 2025}\n"
     ]
    },
    {
     "data": {
      "text/plain": [
       "{2025, False, 'Hello Python', 'Hello World', True}"
      ]
     },
     "execution_count": 19,
     "metadata": {},
     "output_type": "execute_result"
    }
   ],
   "source": [
    "# Symmetric Difference \n",
    "\n",
    "\n",
    "\n",
    "setA = {\"Hello Python\",3.147,1.618,\"Hello World\"}\n",
    "print(setA)\n",
    "\n",
    "setB = {3.147,1.618,True,False, 2025}\n",
    "print(setB)\n",
    "\n",
    "\n",
    "setA.symmetric_difference(setB)"
   ]
  },
  {
   "cell_type": "code",
   "execution_count": 24,
   "id": "2328bfab-66f5-44ca-9757-b6128380cef9",
   "metadata": {},
   "outputs": [
    {
     "name": "stdout",
     "output_type": "stream",
     "text": [
      "{1.618, 'Hello Python', 3.147, 'Hello World'}\n",
      "{False, 1.618, 'Hello Python', 3.147, True, 'Hello World', 2025}\n"
     ]
    }
   ],
   "source": [
    "# subset and superset\n",
    "\n",
    "\n",
    "\n",
    "setA = {\"Hello Python\",3.147,1.618,\"Hello World\"}\n",
    "print(setA)\n",
    "\n",
    "setB = {3.147,1.618,True,False, 2025,\"Hello Python\",\"Hello World\"}\n",
    "print(setB)"
   ]
  },
  {
   "cell_type": "code",
   "execution_count": 25,
   "id": "6c60e683-24df-461d-899c-bcba619f0187",
   "metadata": {},
   "outputs": [
    {
     "data": {
      "text/plain": [
       "False"
      ]
     },
     "execution_count": 25,
     "metadata": {},
     "output_type": "execute_result"
    }
   ],
   "source": [
    "setA.issuperset(setB)"
   ]
  },
  {
   "cell_type": "code",
   "execution_count": 26,
   "id": "fc441593-a58e-4966-93e8-110ade561b79",
   "metadata": {},
   "outputs": [
    {
     "data": {
      "text/plain": [
       "True"
      ]
     },
     "execution_count": 26,
     "metadata": {},
     "output_type": "execute_result"
    }
   ],
   "source": [
    "setB.issuperset(setA)"
   ]
  },
  {
   "cell_type": "code",
   "execution_count": 27,
   "id": "b4b99f9b-9bbd-42c3-9794-83a7c3ed95b6",
   "metadata": {},
   "outputs": [
    {
     "data": {
      "text/plain": [
       "True"
      ]
     },
     "execution_count": 27,
     "metadata": {},
     "output_type": "execute_result"
    }
   ],
   "source": [
    "setA.issubset(setB)"
   ]
  },
  {
   "cell_type": "code",
   "execution_count": 28,
   "id": "4d0d14e1-96b1-4aaa-bf53-6ec953c82df4",
   "metadata": {},
   "outputs": [
    {
     "data": {
      "text/plain": [
       "False"
      ]
     },
     "execution_count": 28,
     "metadata": {},
     "output_type": "execute_result"
    }
   ],
   "source": [
    "setB.issubset(setA)"
   ]
  },
  {
   "cell_type": "code",
   "execution_count": 34,
   "id": "fd16ace0-3521-4972-bf63-a24fd1f3c632",
   "metadata": {},
   "outputs": [
    {
     "data": {
      "text/plain": [
       "True"
      ]
     },
     "execution_count": 34,
     "metadata": {},
     "output_type": "execute_result"
    }
   ],
   "source": [
    "a = {1,2,3,4,5,6,8,8,8,8,8,10}\n",
    "\n",
    "b = {10,12,1,2,3,4,5,6,12,8,13,45,78}\n",
    "\n",
    "a.issubset(b)"
   ]
  },
  {
   "cell_type": "code",
   "execution_count": 35,
   "id": "22a96bcd-fade-4a1c-afb3-6de7fc8985d4",
   "metadata": {},
   "outputs": [
    {
     "data": {
      "text/plain": [
       "True"
      ]
     },
     "execution_count": 35,
     "metadata": {},
     "output_type": "execute_result"
    }
   ],
   "source": [
    "b.issuperset(a)"
   ]
  },
  {
   "cell_type": "code",
   "execution_count": 36,
   "id": "fa69fe7d-ba88-48f3-8da3-b533acdb75a0",
   "metadata": {},
   "outputs": [
    {
     "data": {
      "text/plain": [
       "True"
      ]
     },
     "execution_count": 36,
     "metadata": {},
     "output_type": "execute_result"
    }
   ],
   "source": [
    "a.issubset(b)"
   ]
  },
  {
   "cell_type": "code",
   "execution_count": 44,
   "id": "ffa4db5d-adb8-44c7-b7dc-b07275af1b28",
   "metadata": {},
   "outputs": [
    {
     "name": "stdout",
     "output_type": "stream",
     "text": [
      "[1, 1, 2, 2, 3, 3, 4, 4, 5, 5]\n",
      "{1, 2, 3, 4, 5}\n",
      "The minimum value of the list: 1\n",
      "The minimum value of the set: 1\n",
      "The maximum value of the list: 5\n",
      "The maximum value of the set: 5\n",
      "The sum of value of the list 30\n",
      "The sum of the value of the set: 15\n",
      "Count of the value in the list is: 2\n"
     ]
    }
   ],
   "source": [
    "# min(), max(), sum(), count() functions\n",
    "\n",
    "\n",
    "A = [1,1,2,2,3,3,4,4,5,5]  # list\n",
    "a = {1,1,2,2,3,3,4,4,5,5}  # set\n",
    "\n",
    "print(A)\n",
    "print(a)\n",
    "\n",
    "print(\"The minimum value of the list:\",min(A))\n",
    "print(\"The minimum value of the set:\",min(a))\n",
    "\n",
    "print(\"The maximum value of the list:\",max(A))\n",
    "print(\"The maximum value of the set:\",max(a))\n",
    "\n",
    "print(\"The sum of value of the list\",sum(A))\n",
    "print(\"The sum of the value of the set:\",sum(a))\n",
    "\n",
    "print(\"Count of the value in the list is:\",A.count(3))\n",
    "# print(\"Count of the set value:\",a.count(3))"
   ]
  },
  {
   "cell_type": "code",
   "execution_count": 46,
   "id": "e5ad1e7e-a3a8-44f8-bfb6-4746540d5e73",
   "metadata": {},
   "outputs": [
    {
     "ename": "TypeError",
     "evalue": "unhashable type: 'list'",
     "output_type": "error",
     "traceback": [
      "\u001b[31m---------------------------------------------------------------------------\u001b[39m",
      "\u001b[31mTypeError\u001b[39m                                 Traceback (most recent call last)",
      "\u001b[36mCell\u001b[39m\u001b[36m \u001b[39m\u001b[32mIn[46]\u001b[39m\u001b[32m, line 3\u001b[39m\n\u001b[32m      1\u001b[39m \u001b[38;5;66;03m# No Mutable sequence in a set \u001b[39;00m\n\u001b[32m----> \u001b[39m\u001b[32m3\u001b[39m set6 = {\u001b[33m'\u001b[39m\u001b[33mPython\u001b[39m\u001b[33m'\u001b[39m,\u001b[32m1\u001b[39m,\u001b[32m2\u001b[39m,\u001b[32m3\u001b[39m,[\u001b[32m1\u001b[39m,\u001b[32m2\u001b[39m,\u001b[32m3\u001b[39m]}\n\u001b[32m      4\u001b[39m set6\n",
      "\u001b[31mTypeError\u001b[39m: unhashable type: 'list'"
     ]
    }
   ],
   "source": [
    "# No Mutable sequence in a set \n",
    "\n",
    "set6 = {'Python',1,2,3,[1,2,3]}\n",
    "set6"
   ]
  },
  {
   "cell_type": "code",
   "execution_count": 47,
   "id": "ef979ed6-6b4a-440a-9911-0398e9ce4215",
   "metadata": {},
   "outputs": [],
   "source": [
    "# index() function "
   ]
  },
  {
   "cell_type": "code",
   "execution_count": 51,
   "id": "b32ffaee-f6bb-4107-a258-4f067cdf2e47",
   "metadata": {},
   "outputs": [
    {
     "data": {
      "text/plain": [
       "3"
      ]
     },
     "execution_count": 51,
     "metadata": {},
     "output_type": "execute_result"
    }
   ],
   "source": [
    "A[4]"
   ]
  },
  {
   "cell_type": "code",
   "execution_count": 52,
   "id": "fdb3dd9e-f3d9-46c4-b8d2-bfb29dccd202",
   "metadata": {},
   "outputs": [
    {
     "ename": "TypeError",
     "evalue": "'set' object is not subscriptable",
     "output_type": "error",
     "traceback": [
      "\u001b[31m---------------------------------------------------------------------------\u001b[39m",
      "\u001b[31mTypeError\u001b[39m                                 Traceback (most recent call last)",
      "\u001b[36mCell\u001b[39m\u001b[36m \u001b[39m\u001b[32mIn[52]\u001b[39m\u001b[32m, line 1\u001b[39m\n\u001b[32m----> \u001b[39m\u001b[32m1\u001b[39m \u001b[43ma\u001b[49m\u001b[43m[\u001b[49m\u001b[32;43m0\u001b[39;49m\u001b[43m]\u001b[49m\n",
      "\u001b[31mTypeError\u001b[39m: 'set' object is not subscriptable"
     ]
    }
   ],
   "source": [
    "a[0]"
   ]
  },
  {
   "cell_type": "code",
   "execution_count": 53,
   "id": "9b2c68f0-1b85-4294-8efb-d452550d71cc",
   "metadata": {},
   "outputs": [],
   "source": [
    "# add()\n",
    "# pop()\n",
    "# remove()"
   ]
  },
  {
   "cell_type": "code",
   "execution_count": 54,
   "id": "438717c4-cba5-42b7-b943-b19e8b584525",
   "metadata": {},
   "outputs": [
    {
     "data": {
      "text/plain": [
       "{1, 2, 3, 4, 5}"
      ]
     },
     "execution_count": 54,
     "metadata": {},
     "output_type": "execute_result"
    }
   ],
   "source": [
    "a"
   ]
  },
  {
   "cell_type": "code",
   "execution_count": 56,
   "id": "6a264093-55ac-4ea4-90f6-6935dece7e6f",
   "metadata": {},
   "outputs": [],
   "source": [
    "a.add(\"Pushpa\")"
   ]
  },
  {
   "cell_type": "code",
   "execution_count": 57,
   "id": "1f938b85-f485-42b1-af17-a8dd4deb413e",
   "metadata": {},
   "outputs": [
    {
     "data": {
      "text/plain": [
       "{1, 2, 3, 4, 5, 'Pushpa'}"
      ]
     },
     "execution_count": 57,
     "metadata": {},
     "output_type": "execute_result"
    }
   ],
   "source": [
    "a"
   ]
  },
  {
   "cell_type": "code",
   "execution_count": 58,
   "id": "fcbac459-b08d-4e88-9e99-93145ef5d8da",
   "metadata": {},
   "outputs": [],
   "source": [
    "a.add(True)"
   ]
  },
  {
   "cell_type": "code",
   "execution_count": 59,
   "id": "81ebc70f-6912-4643-bc57-d28257ba6a8f",
   "metadata": {},
   "outputs": [
    {
     "data": {
      "text/plain": [
       "{1, 2, 3, 4, 5, 'Pushpa'}"
      ]
     },
     "execution_count": 59,
     "metadata": {},
     "output_type": "execute_result"
    }
   ],
   "source": [
    "a"
   ]
  },
  {
   "cell_type": "code",
   "execution_count": 60,
   "id": "1ea4b7f2-073a-4775-a062-0b6438e79e22",
   "metadata": {},
   "outputs": [
    {
     "data": {
      "text/plain": [
       "{1, 2, 3, 4, 5, False, 'Pushpa'}"
      ]
     },
     "execution_count": 60,
     "metadata": {},
     "output_type": "execute_result"
    }
   ],
   "source": [
    "a.add(False)\n",
    "a"
   ]
  },
  {
   "cell_type": "code",
   "execution_count": 61,
   "id": "1cd9df74-8e49-41ab-8f21-20422e2378b0",
   "metadata": {},
   "outputs": [
    {
     "data": {
      "text/plain": [
       "{1, 2, 3, 4, 5, False, 'Pushpa'}"
      ]
     },
     "execution_count": 61,
     "metadata": {},
     "output_type": "execute_result"
    }
   ],
   "source": [
    "a.add(0)\n",
    "a"
   ]
  },
  {
   "cell_type": "code",
   "execution_count": 62,
   "id": "3f812d74-6f91-4512-ab74-58bab15bf05f",
   "metadata": {},
   "outputs": [
    {
     "data": {
      "text/plain": [
       "False"
      ]
     },
     "execution_count": 62,
     "metadata": {},
     "output_type": "execute_result"
    }
   ],
   "source": [
    "# pop() \n",
    "# stack\n",
    "\n",
    "a.pop()"
   ]
  },
  {
   "cell_type": "code",
   "execution_count": 64,
   "id": "1c2aa0e6-c04d-43b9-998f-d4755c5fcd48",
   "metadata": {},
   "outputs": [
    {
     "data": {
      "text/plain": [
       "1"
      ]
     },
     "execution_count": 64,
     "metadata": {},
     "output_type": "execute_result"
    }
   ],
   "source": [
    "a.pop()"
   ]
  },
  {
   "cell_type": "code",
   "execution_count": 65,
   "id": "b882e686-a661-43e1-b6a4-3195e859a35b",
   "metadata": {},
   "outputs": [
    {
     "data": {
      "text/plain": [
       "{2, 3, 4, 5, 'Pushpa'}"
      ]
     },
     "execution_count": 65,
     "metadata": {},
     "output_type": "execute_result"
    }
   ],
   "source": [
    "a"
   ]
  },
  {
   "cell_type": "code",
   "execution_count": 66,
   "id": "4b6f6abe-dc3c-41fe-a36b-78fa3ed7baef",
   "metadata": {},
   "outputs": [
    {
     "data": {
      "text/plain": [
       "2"
      ]
     },
     "execution_count": 66,
     "metadata": {},
     "output_type": "execute_result"
    }
   ],
   "source": [
    "a.pop()"
   ]
  },
  {
   "cell_type": "code",
   "execution_count": 67,
   "id": "c8937c0f-f46a-42ba-8c6b-aec2111cfa80",
   "metadata": {},
   "outputs": [
    {
     "data": {
      "text/plain": [
       "{3, 4, 5, 'Pushpa'}"
      ]
     },
     "execution_count": 67,
     "metadata": {},
     "output_type": "execute_result"
    }
   ],
   "source": [
    "a"
   ]
  },
  {
   "cell_type": "code",
   "execution_count": 68,
   "id": "3455a064-20c2-43db-a592-859160b49fed",
   "metadata": {},
   "outputs": [
    {
     "ename": "AttributeError",
     "evalue": "'set' object has no attribute 'popitems'",
     "output_type": "error",
     "traceback": [
      "\u001b[31m---------------------------------------------------------------------------\u001b[39m",
      "\u001b[31mAttributeError\u001b[39m                            Traceback (most recent call last)",
      "\u001b[36mCell\u001b[39m\u001b[36m \u001b[39m\u001b[32mIn[68]\u001b[39m\u001b[32m, line 1\u001b[39m\n\u001b[32m----> \u001b[39m\u001b[32m1\u001b[39m \u001b[43ma\u001b[49m\u001b[43m.\u001b[49m\u001b[43mpopitems\u001b[49m()\n",
      "\u001b[31mAttributeError\u001b[39m: 'set' object has no attribute 'popitems'"
     ]
    }
   ],
   "source": [
    "a.popitems()"
   ]
  },
  {
   "cell_type": "code",
   "execution_count": 69,
   "id": "95354188-e436-434c-830b-9be22b36997f",
   "metadata": {},
   "outputs": [
    {
     "data": {
      "text/plain": [
       "{3, 4, 5, 'Pushpa'}"
      ]
     },
     "execution_count": 69,
     "metadata": {},
     "output_type": "execute_result"
    }
   ],
   "source": [
    "# remove() function\n",
    "\n",
    "a"
   ]
  },
  {
   "cell_type": "code",
   "execution_count": 70,
   "id": "a8bbab65-6014-4b47-a874-03ed8b97aa8c",
   "metadata": {},
   "outputs": [],
   "source": [
    "a.remove('Pushpa')"
   ]
  },
  {
   "cell_type": "code",
   "execution_count": 71,
   "id": "7184f668-5afa-40cc-a299-ad4fc18fa880",
   "metadata": {},
   "outputs": [
    {
     "data": {
      "text/plain": [
       "{3, 4, 5}"
      ]
     },
     "execution_count": 71,
     "metadata": {},
     "output_type": "execute_result"
    }
   ],
   "source": [
    "a"
   ]
  },
  {
   "cell_type": "code",
   "execution_count": 72,
   "id": "f27c7ed1-b2ad-473e-b246-5b5001fb25bd",
   "metadata": {},
   "outputs": [],
   "source": [
    "a.remove(4)"
   ]
  },
  {
   "cell_type": "code",
   "execution_count": 73,
   "id": "1fd63afa-d3dc-4d14-9416-ff632ba947bf",
   "metadata": {},
   "outputs": [
    {
     "data": {
      "text/plain": [
       "{3, 5}"
      ]
     },
     "execution_count": 73,
     "metadata": {},
     "output_type": "execute_result"
    }
   ],
   "source": [
    "a"
   ]
  },
  {
   "cell_type": "code",
   "execution_count": null,
   "id": "883045f8-9b0c-4dcf-bd61-b2563a318c28",
   "metadata": {},
   "outputs": [],
   "source": []
  }
 ],
 "metadata": {
  "kernelspec": {
   "display_name": "Python 3 (ipykernel)",
   "language": "python",
   "name": "python3"
  },
  "language_info": {
   "codemirror_mode": {
    "name": "ipython",
    "version": 3
   },
   "file_extension": ".py",
   "mimetype": "text/x-python",
   "name": "python",
   "nbconvert_exporter": "python",
   "pygments_lexer": "ipython3",
   "version": "3.13.7"
  }
 },
 "nbformat": 4,
 "nbformat_minor": 5
}
