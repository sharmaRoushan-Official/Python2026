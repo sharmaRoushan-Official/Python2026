{
 "cells": [
  {
   "cell_type": "markdown",
   "id": "7faa28f0-c2a3-48db-a862-ab0c152fc194",
   "metadata": {},
   "source": [
    "# 5. Sets in Python\n",
    "\n",
    " * __Sets is one of 4-th built-in data types in Python used to sotre collection of data including tuples, and dictionary.__\n",
    " * __Sets are unordered, but you can remove items and add new items.__\n",
    " * __Set elements are unique, Duplicate value are not allowed.__\n",
    " * __A set itself may be modified, but the elements contained in the set must be of an immutable type.__\n",
    " * __Sets are used to store multiple items in a single variable.__\n",
    " * __You can denote a set with a pair of curly brackets.{}__"
   ]
  },
  {
   "cell_type": "code",
   "execution_count": 4,
   "id": "5ac43f63-b7f8-41f3-a5be-5b836039649f",
   "metadata": {},
   "outputs": [
    {
     "name": "stdout",
     "output_type": "stream",
     "text": [
      "{1} <class 'set'>\n"
     ]
    }
   ],
   "source": [
    "set1 = {1}\n",
    "\n",
    "print(set1,type(set1))"
   ]
  },
  {
   "cell_type": "code",
   "execution_count": 11,
   "id": "464eb738-835d-4515-a8f2-a5c321133c3d",
   "metadata": {},
   "outputs": [
    {
     "name": "stdout",
     "output_type": "stream",
     "text": [
      "{} <class 'dict'>\n"
     ]
    }
   ],
   "source": [
    "# empty sets\n",
    "\n",
    "x1 = {}\n",
    "print(x1,type(x1))"
   ]
  },
  {
   "cell_type": "code",
   "execution_count": 12,
   "id": "15f3933b-2bef-4633-bd7e-a93dfa923ef8",
   "metadata": {},
   "outputs": [
    {
     "name": "stdout",
     "output_type": "stream",
     "text": [
      "set() <class 'set'>\n"
     ]
    }
   ],
   "source": [
    "# set() method\n",
    "\n",
    "x2 = set()\n",
    "print(x2,type(x2))"
   ]
  },
  {
   "cell_type": "code",
   "execution_count": 14,
   "id": "55cc64ab-b739-423a-8b5f-b160208b7355",
   "metadata": {},
   "outputs": [
    {
     "name": "stdout",
     "output_type": "stream",
     "text": [
      "{False, True, 'Hello world', 3.147, 100, 'Neeraj'}\n"
     ]
    }
   ],
   "source": [
    "set1 = {'Hello world',3.147,100,True,False,\"Neeraj\"}\n",
    "\n",
    "print(set1)"
   ]
  },
  {
   "cell_type": "code",
   "execution_count": 15,
   "id": "4b9c6f48-472f-44c0-84fc-857d3a39da22",
   "metadata": {},
   "outputs": [
    {
     "name": "stdout",
     "output_type": "stream",
     "text": [
      "{False, True, 'Hello world', 3.147, 100, 'Neeraj'}\n"
     ]
    }
   ],
   "source": [
    "set1 = {'Hello world',3.147,100,True,False,\"Neeraj\"}\n",
    "\n",
    "print(set1)"
   ]
  },
  {
   "cell_type": "code",
   "execution_count": 16,
   "id": "5bdc5243-efc3-4e99-9ada-4baced618012",
   "metadata": {},
   "outputs": [
    {
     "name": "stdout",
     "output_type": "stream",
     "text": [
      "{False, True, 'Hello world', 3.147, 100, 'Neeraj'}\n"
     ]
    }
   ],
   "source": [
    "set1 = {'Hello world',3.147,100,True,False,\"Neeraj\"}\n",
    "\n",
    "print(set1)"
   ]
  },
  {
   "cell_type": "code",
   "execution_count": 25,
   "id": "366e59e6-7fe6-4798-83bd-76fe145b774e",
   "metadata": {},
   "outputs": [
    {
     "name": "stdout",
     "output_type": "stream",
     "text": [
      "{False, True, 'Hello world', 3.147, 100, 'Neeraj'}\n"
     ]
    }
   ],
   "source": [
    "set1 = {'Hello world',3.147,100,True,False,\"Neeraj\"}\n",
    "\n",
    "print(set1)"
   ]
  },
  {
   "cell_type": "code",
   "execution_count": 19,
   "id": "21f35bad-6932-49d3-9db7-1f1885bbf02d",
   "metadata": {},
   "outputs": [
    {
     "data": {
      "text/plain": [
       "2277214344512"
      ]
     },
     "execution_count": 19,
     "metadata": {},
     "output_type": "execute_result"
    }
   ],
   "source": [
    "id(set1)"
   ]
  },
  {
   "cell_type": "code",
   "execution_count": 26,
   "id": "c6c19c54-608a-40d4-91bb-f525043a101c",
   "metadata": {},
   "outputs": [
    {
     "data": {
      "text/plain": [
       "{100, 3.147, False, 'Hello world', True}"
      ]
     },
     "execution_count": 26,
     "metadata": {},
     "output_type": "execute_result"
    }
   ],
   "source": [
    "y={False, True, 3.147, 100, 'Hello world'}\n",
    "y"
   ]
  },
  {
   "cell_type": "code",
   "execution_count": 27,
   "id": "9c9168e3-01b0-4b57-82a6-f50157606384",
   "metadata": {},
   "outputs": [
    {
     "data": {
      "text/plain": [
       "{100, 3.147, False, 'Hello world', True}"
      ]
     },
     "execution_count": 27,
     "metadata": {},
     "output_type": "execute_result"
    }
   ],
   "source": [
    "y"
   ]
  },
  {
   "cell_type": "code",
   "execution_count": 28,
   "id": "6507260d-732a-4bbe-9652-66fdfe33e28b",
   "metadata": {},
   "outputs": [
    {
     "ename": "TypeError",
     "evalue": "unhashable type: 'list'",
     "output_type": "error",
     "traceback": [
      "\u001b[31m---------------------------------------------------------------------------\u001b[39m",
      "\u001b[31mTypeError\u001b[39m                                 Traceback (most recent call last)",
      "\u001b[36mCell\u001b[39m\u001b[36m \u001b[39m\u001b[32mIn[28]\u001b[39m\u001b[32m, line 1\u001b[39m\n\u001b[32m----> \u001b[39m\u001b[32m1\u001b[39m set1 = {\u001b[33m'\u001b[39m\u001b[33mHello world\u001b[39m\u001b[33m'\u001b[39m,\u001b[32m3.147\u001b[39m,\u001b[32m100\u001b[39m,\u001b[38;5;28;01mTrue\u001b[39;00m,\u001b[38;5;28;01mFalse\u001b[39;00m,\u001b[33m\"\u001b[39m\u001b[33mNeeraj\u001b[39m\u001b[33m\"\u001b[39m,[\u001b[33m'\u001b[39m\u001b[33mHello world\u001b[39m\u001b[33m'\u001b[39m,\u001b[32m20\u001b[39m]}\n\u001b[32m      3\u001b[39m \u001b[38;5;28mprint\u001b[39m(set1)\n",
      "\u001b[31mTypeError\u001b[39m: unhashable type: 'list'"
     ]
    }
   ],
   "source": [
    "set1 = {'Hello world',3.147,100,True,False,\"Neeraj\",['Hello world',20]}\n",
    "\n",
    "print(set1)"
   ]
  },
  {
   "cell_type": "code",
   "execution_count": 29,
   "id": "90f9b9ed-132f-4c19-af22-181313232744",
   "metadata": {},
   "outputs": [
    {
     "name": "stdout",
     "output_type": "stream",
     "text": [
      "{False, True, 'Hello world', 3.147, 100, 'Neeraj', ('Hello world', 20)}\n"
     ]
    }
   ],
   "source": [
    "set1 = {'Hello world',3.147,100,True,False,\"Neeraj\",('Hello world',20)}\n",
    "\n",
    "print(set1)"
   ]
  },
  {
   "cell_type": "code",
   "execution_count": 34,
   "id": "65c6ff64-01a9-4786-b215-4b3258fb14e6",
   "metadata": {},
   "outputs": [
    {
     "name": "stdout",
     "output_type": "stream",
     "text": [
      "{False, True, 'Hello world', 3.147, 100, 'Neeraj', ('Hello world', 20)}\n"
     ]
    }
   ],
   "source": [
    "set1 = {'Hello world',3.147,100,True,False,\"Neeraj\",('Hello world',20)}\n",
    "print(set1)"
   ]
  },
  {
   "cell_type": "code",
   "execution_count": 35,
   "id": "063b3357-54ac-413d-934a-959d7cd6f5f6",
   "metadata": {},
   "outputs": [
    {
     "name": "stdout",
     "output_type": "stream",
     "text": [
      "['Neeraj', 'Neeraj', 'Omkar', 10, 10, 10, 12, 45, 78, 0.369, 0.369]\n",
      "<class 'list'>\n"
     ]
    }
   ],
   "source": [
    "list1 = ['Neeraj',\"Neeraj\",\"Omkar\",10,10,10,12,45,78,0.369,0.369]\n",
    "print(list1)\n",
    "print(type(list1))"
   ]
  },
  {
   "cell_type": "code",
   "execution_count": 37,
   "id": "867ef070-a3b9-4b69-be43-613af89829fc",
   "metadata": {},
   "outputs": [
    {
     "data": {
      "text/plain": [
       "{0.369, 10, 12, 45, 78, 'Neeraj', 'Omkar'}"
      ]
     },
     "execution_count": 37,
     "metadata": {},
     "output_type": "execute_result"
    }
   ],
   "source": [
    "x1= set(list1)\n",
    "x1"
   ]
  },
  {
   "cell_type": "code",
   "execution_count": 39,
   "id": "99dbff5d-49e6-4c45-aa33-2977ddfbaf71",
   "metadata": {},
   "outputs": [],
   "source": [
    "# Set Operations\n",
    "\n",
    "# add() function"
   ]
  },
  {
   "cell_type": "code",
   "execution_count": 40,
   "id": "4cc3023f-8125-4439-a7e3-20cd8d4f93cc",
   "metadata": {},
   "outputs": [
    {
     "ename": "TypeError",
     "evalue": "'set' object is not subscriptable",
     "output_type": "error",
     "traceback": [
      "\u001b[31m---------------------------------------------------------------------------\u001b[39m",
      "\u001b[31mTypeError\u001b[39m                                 Traceback (most recent call last)",
      "\u001b[36mCell\u001b[39m\u001b[36m \u001b[39m\u001b[32mIn[40]\u001b[39m\u001b[32m, line 1\u001b[39m\n\u001b[32m----> \u001b[39m\u001b[32m1\u001b[39m \u001b[43mx1\u001b[49m\u001b[43m[\u001b[49m\u001b[32;43m0\u001b[39;49m\u001b[43m]\u001b[49m\n",
      "\u001b[31mTypeError\u001b[39m: 'set' object is not subscriptable"
     ]
    }
   ],
   "source": [
    "x1[0]"
   ]
  },
  {
   "cell_type": "code",
   "execution_count": 41,
   "id": "6d8b5149-881e-484e-8ff1-4d1a648ed00b",
   "metadata": {},
   "outputs": [
    {
     "data": {
      "text/plain": [
       "'Neeraj'"
      ]
     },
     "execution_count": 41,
     "metadata": {},
     "output_type": "execute_result"
    }
   ],
   "source": [
    "list1[0]"
   ]
  },
  {
   "cell_type": "code",
   "execution_count": 42,
   "id": "1f06cd7b-5088-4307-85e4-b9cbfe6ac64a",
   "metadata": {},
   "outputs": [
    {
     "data": {
      "text/plain": [
       "{0.369, 10, 12, 45, 78, 'Neeraj', 'Omkar'}"
      ]
     },
     "execution_count": 42,
     "metadata": {},
     "output_type": "execute_result"
    }
   ],
   "source": [
    "x1"
   ]
  },
  {
   "cell_type": "code",
   "execution_count": 43,
   "id": "6a431750-f328-4ea7-a44b-ff8809946ccd",
   "metadata": {},
   "outputs": [],
   "source": [
    "x1.add(\"Dheeraj\")"
   ]
  },
  {
   "cell_type": "code",
   "execution_count": 44,
   "id": "49bd5feb-5d7c-48b3-8b82-4321508837dc",
   "metadata": {},
   "outputs": [
    {
     "data": {
      "text/plain": [
       "{0.369, 10, 12, 45, 78, 'Dheeraj', 'Neeraj', 'Omkar'}"
      ]
     },
     "execution_count": 44,
     "metadata": {},
     "output_type": "execute_result"
    }
   ],
   "source": [
    "x1"
   ]
  },
  {
   "cell_type": "code",
   "execution_count": 45,
   "id": "82bdbf77-40f8-4fab-9ff2-f574ec52ee78",
   "metadata": {},
   "outputs": [],
   "source": [
    "x1.add(20)"
   ]
  },
  {
   "cell_type": "code",
   "execution_count": 46,
   "id": "cddd8b3f-c9ec-400a-85e0-249ef97c7115",
   "metadata": {},
   "outputs": [
    {
     "data": {
      "text/plain": [
       "{0.369, 10, 12, 20, 45, 78, 'Dheeraj', 'Neeraj', 'Omkar'}"
      ]
     },
     "execution_count": 46,
     "metadata": {},
     "output_type": "execute_result"
    }
   ],
   "source": [
    "x1"
   ]
  },
  {
   "cell_type": "code",
   "execution_count": 47,
   "id": "545e5463-4fba-40f0-b733-5cfc0fb40f03",
   "metadata": {},
   "outputs": [],
   "source": [
    "x1.add(10.23)"
   ]
  },
  {
   "cell_type": "code",
   "execution_count": 48,
   "id": "70226b59-de7a-4b89-8904-029d5d5e88d3",
   "metadata": {},
   "outputs": [
    {
     "data": {
      "text/plain": [
       "{0.369, 10, 10.23, 12, 20, 45, 78, 'Dheeraj', 'Neeraj', 'Omkar'}"
      ]
     },
     "execution_count": 48,
     "metadata": {},
     "output_type": "execute_result"
    }
   ],
   "source": [
    "x1"
   ]
  },
  {
   "cell_type": "code",
   "execution_count": 50,
   "id": "eca406ba-63df-4210-9fbb-408bc10c5176",
   "metadata": {},
   "outputs": [
    {
     "data": {
      "text/plain": [
       "{6, 7, 8, 9, 10, 11, 12}"
      ]
     },
     "execution_count": 50,
     "metadata": {},
     "output_type": "execute_result"
    }
   ],
   "source": [
    "# Update() function\n",
    "\n",
    "x_set = {6,7,8,9}\n",
    "\n",
    "y_set = {7,8,9,10,11,12}\n",
    "\n",
    "x_set.update(y_set)\n",
    "x_set"
   ]
  },
  {
   "cell_type": "code",
   "execution_count": 51,
   "id": "e068280a-d779-4aae-88a2-4d507afd023a",
   "metadata": {},
   "outputs": [
    {
     "data": {
      "text/plain": [
       "{6, 7, 8, 9, 11, 12}"
      ]
     },
     "execution_count": 51,
     "metadata": {},
     "output_type": "execute_result"
    }
   ],
   "source": [
    "# remove() function\n",
    "\n",
    "x_set.remove(10)\n",
    "x_set"
   ]
  },
  {
   "cell_type": "code",
   "execution_count": 52,
   "id": "c18b623a-ad49-41b0-9efe-bfc7f34159b1",
   "metadata": {},
   "outputs": [
    {
     "ename": "KeyError",
     "evalue": "10",
     "output_type": "error",
     "traceback": [
      "\u001b[31m---------------------------------------------------------------------------\u001b[39m",
      "\u001b[31mKeyError\u001b[39m                                  Traceback (most recent call last)",
      "\u001b[36mCell\u001b[39m\u001b[36m \u001b[39m\u001b[32mIn[52]\u001b[39m\u001b[32m, line 1\u001b[39m\n\u001b[32m----> \u001b[39m\u001b[32m1\u001b[39m \u001b[43mx_set\u001b[49m\u001b[43m.\u001b[49m\u001b[43mremove\u001b[49m\u001b[43m(\u001b[49m\u001b[32;43m10\u001b[39;49m\u001b[43m)\u001b[49m\n\u001b[32m      2\u001b[39m x_set\n",
      "\u001b[31mKeyError\u001b[39m: 10"
     ]
    }
   ],
   "source": [
    "x_set.remove(10)\n",
    "x_set"
   ]
  },
  {
   "cell_type": "code",
   "execution_count": 53,
   "id": "f95ab3c3-0243-4034-85ee-a8227f7a45cb",
   "metadata": {},
   "outputs": [
    {
     "data": {
      "text/plain": [
       "{6, 7, 8, 9, 11}"
      ]
     },
     "execution_count": 53,
     "metadata": {},
     "output_type": "execute_result"
    }
   ],
   "source": [
    "# discard() function \n",
    "\n",
    "x_set.discard(12)\n",
    "x_set"
   ]
  },
  {
   "cell_type": "code",
   "execution_count": 54,
   "id": "94dec1cb-729e-46ec-9f4a-444156fd2354",
   "metadata": {},
   "outputs": [
    {
     "data": {
      "text/plain": [
       "{6, 7, 8, 9, 11}"
      ]
     },
     "execution_count": 54,
     "metadata": {},
     "output_type": "execute_result"
    }
   ],
   "source": [
    "x_set.discard(12)\n",
    "x_set"
   ]
  },
  {
   "cell_type": "code",
   "execution_count": 55,
   "id": "1b3c3d53-8260-4b03-84c7-a6f239b681da",
   "metadata": {},
   "outputs": [
    {
     "data": {
      "text/plain": [
       "{6, 7, 8, 9, 11}"
      ]
     },
     "execution_count": 55,
     "metadata": {},
     "output_type": "execute_result"
    }
   ],
   "source": [
    "x_set.discard(12)\n",
    "x_set"
   ]
  },
  {
   "cell_type": "code",
   "execution_count": 56,
   "id": "4549cc0c-28f3-40d4-9e5d-eab1ab45accc",
   "metadata": {},
   "outputs": [
    {
     "data": {
      "text/plain": [
       "{6, 7, 8, 9, 11}"
      ]
     },
     "execution_count": 56,
     "metadata": {},
     "output_type": "execute_result"
    }
   ],
   "source": [
    "x_set.discard(12)\n",
    "x_set"
   ]
  },
  {
   "cell_type": "code",
   "execution_count": 58,
   "id": "ad2e9f57-89ef-44d6-8ee4-8354ea0f4513",
   "metadata": {},
   "outputs": [
    {
     "data": {
      "text/plain": [
       "{6, 7, 8, 9}"
      ]
     },
     "execution_count": 58,
     "metadata": {},
     "output_type": "execute_result"
    }
   ],
   "source": [
    "x_set.discard(11)\n",
    "x_set"
   ]
  },
  {
   "cell_type": "code",
   "execution_count": 59,
   "id": "b515e75c-2302-4839-9150-aa9a3a81dc3e",
   "metadata": {},
   "outputs": [
    {
     "data": {
      "text/plain": [
       "{6, 7, 8, 9}"
      ]
     },
     "execution_count": 59,
     "metadata": {},
     "output_type": "execute_result"
    }
   ],
   "source": [
    "x_set.discard(11)\n",
    "x_set"
   ]
  },
  {
   "cell_type": "code",
   "execution_count": null,
   "id": "436ac65f-17ab-4e3f-8d74-2ddf63fb85b3",
   "metadata": {},
   "outputs": [],
   "source": [
    "# Logic Operations in sets\n",
    "\n",
    "# Union()\n",
    "# Intersection()\n",
    "# Difference()\n",
    "# symmetric_difference()\n",
    "\n",
    "\n",
    "# subset()\n",
    "# superset()"
   ]
  }
 ],
 "metadata": {
  "kernelspec": {
   "display_name": "Python 3 (ipykernel)",
   "language": "python",
   "name": "python3"
  },
  "language_info": {
   "codemirror_mode": {
    "name": "ipython",
    "version": 3
   },
   "file_extension": ".py",
   "mimetype": "text/x-python",
   "name": "python",
   "nbconvert_exporter": "python",
   "pygments_lexer": "ipython3",
   "version": "3.13.7"
  }
 },
 "nbformat": 4,
 "nbformat_minor": 5
}
