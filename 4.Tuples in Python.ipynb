{
 "cells": [
  {
   "cell_type": "markdown",
   "id": "d52a01d1-3ec3-4b57-96e7-88c1be8d5079",
   "metadata": {},
   "source": [
    "# Tuples in Python\n",
    "\n",
    " * __Tuples are immutable lists and connot be changed in any way once it is created.__\n",
    "\n",
    " * __Tuples are defined in the same way as lists.__\n",
    "\n",
    " * __They are enclose with parentheses() and not in square brackes.__\n",
    "\n",
    " * __Tuples are ordered, indexed collections value.__\n",
    "\n",
    " * __Similar to the string indices, the first value is in [0], and second one is [1].__\n",
    "\n",
    " * __Tuples also has the same structure where as the commas seperated value.__"
   ]
  },
  {
   "cell_type": "code",
   "execution_count": 4,
   "id": "49f01b76-d868-4ff8-aa10-0a510022fffe",
   "metadata": {},
   "outputs": [
    {
     "name": "stdout",
     "output_type": "stream",
     "text": [
      "['Neeraj']\n"
     ]
    }
   ],
   "source": [
    "x= [\"Neeraj\"]\n",
    "print(x)"
   ]
  },
  {
   "cell_type": "code",
   "execution_count": 5,
   "id": "8b3c3543-74ca-425a-b847-de61c2806df4",
   "metadata": {},
   "outputs": [
    {
     "data": {
      "text/plain": [
       "['M']"
      ]
     },
     "execution_count": 5,
     "metadata": {},
     "output_type": "execute_result"
    }
   ],
   "source": [
    "x[0] = \"M\"\n",
    "x"
   ]
  },
  {
   "cell_type": "code",
   "execution_count": 6,
   "id": "9d736d09-7eb7-46d0-8bfa-81dd4aff6e89",
   "metadata": {},
   "outputs": [
    {
     "name": "stdout",
     "output_type": "stream",
     "text": [
      "Python\n"
     ]
    }
   ],
   "source": [
    "x1 = \"Python\"\n",
    "print(x1)"
   ]
  },
  {
   "cell_type": "code",
   "execution_count": 7,
   "id": "9334fdbb-54bd-485f-84d2-48827e22c444",
   "metadata": {},
   "outputs": [
    {
     "data": {
      "text/plain": [
       "'P'"
      ]
     },
     "execution_count": 7,
     "metadata": {},
     "output_type": "execute_result"
    }
   ],
   "source": [
    "x1[0]"
   ]
  },
  {
   "cell_type": "code",
   "execution_count": 8,
   "id": "38a22881-ce68-4781-ab30-eb372cd838a7",
   "metadata": {},
   "outputs": [
    {
     "ename": "TypeError",
     "evalue": "'str' object does not support item assignment",
     "output_type": "error",
     "traceback": [
      "\u001b[31m---------------------------------------------------------------------------\u001b[39m",
      "\u001b[31mTypeError\u001b[39m                                 Traceback (most recent call last)",
      "\u001b[36mCell\u001b[39m\u001b[36m \u001b[39m\u001b[32mIn[8]\u001b[39m\u001b[32m, line 1\u001b[39m\n\u001b[32m----> \u001b[39m\u001b[32m1\u001b[39m \u001b[43mx1\u001b[49m\u001b[43m[\u001b[49m\u001b[32;43m0\u001b[39;49m\u001b[43m]\u001b[49m = \u001b[33m'\u001b[39m\u001b[33mT\u001b[39m\u001b[33m'\u001b[39m\n\u001b[32m      2\u001b[39m x1\n",
      "\u001b[31mTypeError\u001b[39m: 'str' object does not support item assignment"
     ]
    }
   ],
   "source": [
    "x1[0] = 'T'\n",
    "x1"
   ]
  },
  {
   "cell_type": "code",
   "execution_count": 18,
   "id": "29d480d1-bb08-4c4f-bb48-2da7bfb5e774",
   "metadata": {},
   "outputs": [
    {
     "name": "stdout",
     "output_type": "stream",
     "text": [
      "Hello world\n",
      "Hello python\n"
     ]
    }
   ],
   "source": [
    "x = ['Hello world',10]\n",
    "y = x[0]\n",
    "print(y)\n",
    "z = y.replace('world','python')\n",
    "print(z)\n"
   ]
  },
  {
   "cell_type": "code",
   "execution_count": 17,
   "id": "ec564d60-5b5a-40d6-86d0-988c560ef359",
   "metadata": {},
   "outputs": [
    {
     "name": "stdout",
     "output_type": "stream",
     "text": [
      "['Hello python', 10]\n"
     ]
    }
   ],
   "source": [
    "x[0] = z\n",
    "print(x)"
   ]
  },
  {
   "cell_type": "code",
   "execution_count": 20,
   "id": "d61b5e31-35a5-420a-8bcd-a5a1d76c8a36",
   "metadata": {},
   "outputs": [
    {
     "name": "stdout",
     "output_type": "stream",
     "text": [
      "() <class 'tuple'>\n"
     ]
    }
   ],
   "source": [
    "# Creating empty tuple\n",
    "\n",
    "x = ()\n",
    "print(x,type(x))"
   ]
  },
  {
   "cell_type": "code",
   "execution_count": 26,
   "id": "c73b409d-4868-44dd-b453-be5071295c30",
   "metadata": {},
   "outputs": [
    {
     "name": "stdout",
     "output_type": "stream",
     "text": [
      "10 <class 'int'>\n"
     ]
    }
   ],
   "source": [
    "y = (10)\n",
    "print(y,type(y))"
   ]
  },
  {
   "cell_type": "code",
   "execution_count": 24,
   "id": "679f953c-3342-4106-9390-c43ebc549b5a",
   "metadata": {},
   "outputs": [
    {
     "name": "stdout",
     "output_type": "stream",
     "text": [
      "[20] <class 'list'>\n"
     ]
    }
   ],
   "source": [
    "x = [20,]\n",
    "print(x,type(x))"
   ]
  },
  {
   "cell_type": "code",
   "execution_count": 32,
   "id": "ba32666b-8f6b-4f7e-8149-4c1bde191dec",
   "metadata": {},
   "outputs": [
    {
     "ename": "TypeError",
     "evalue": "'int' object is not iterable",
     "output_type": "error",
     "traceback": [
      "\u001b[31m---------------------------------------------------------------------------\u001b[39m",
      "\u001b[31mTypeError\u001b[39m                                 Traceback (most recent call last)",
      "\u001b[36mCell\u001b[39m\u001b[36m \u001b[39m\u001b[32mIn[32]\u001b[39m\u001b[32m, line 5\u001b[39m\n\u001b[32m      1\u001b[39m x = (\u001b[32m10\u001b[39m)\n\u001b[32m      3\u001b[39m \u001b[38;5;66;03m# change this value into tuple\u001b[39;00m\n\u001b[32m----> \u001b[39m\u001b[32m5\u001b[39m y = \u001b[38;5;28;43mtuple\u001b[39;49m\u001b[43m(\u001b[49m\u001b[43mx\u001b[49m\u001b[43m)\u001b[49m\n\u001b[32m      6\u001b[39m y\n",
      "\u001b[31mTypeError\u001b[39m: 'int' object is not iterable"
     ]
    }
   ],
   "source": [
    "x = (10)\n",
    "\n",
    "# change this value into tuple\n",
    "\n",
    "y = tuple(x)\n",
    "y"
   ]
  },
  {
   "cell_type": "code",
   "execution_count": 31,
   "id": "bcd1fdfd-3539-4e0b-bd13-fc63a4b5f586",
   "metadata": {},
   "outputs": [
    {
     "data": {
      "text/plain": [
       "[10]"
      ]
     },
     "execution_count": 31,
     "metadata": {},
     "output_type": "execute_result"
    }
   ],
   "source": [
    "x = [10]\n",
    "\n",
    "y = list(x)\n",
    "y"
   ]
  },
  {
   "cell_type": "code",
   "execution_count": 2,
   "id": "075428a0-3d95-4c83-afa4-56bcaebb7d4e",
   "metadata": {},
   "outputs": [
    {
     "name": "stdout",
     "output_type": "stream",
     "text": [
      "('Python', True, False, [10, 20, 30])\n"
     ]
    }
   ],
   "source": [
    "tuple_1 = ('Python',True,False,[10,20,30])\n",
    "print(tuple_1)"
   ]
  },
  {
   "cell_type": "code",
   "execution_count": 34,
   "id": "ef144687-b26e-4844-b99e-17d10eb7ae01",
   "metadata": {},
   "outputs": [
    {
     "ename": "TypeError",
     "evalue": "'tuple' object does not support item assignment",
     "output_type": "error",
     "traceback": [
      "\u001b[31m---------------------------------------------------------------------------\u001b[39m",
      "\u001b[31mTypeError\u001b[39m                                 Traceback (most recent call last)",
      "\u001b[36mCell\u001b[39m\u001b[36m \u001b[39m\u001b[32mIn[34]\u001b[39m\u001b[32m, line 1\u001b[39m\n\u001b[32m----> \u001b[39m\u001b[32m1\u001b[39m \u001b[43mtuple_1\u001b[49m\u001b[43m[\u001b[49m\u001b[32;43m0\u001b[39;49m\u001b[43m]\u001b[49m = \u001b[33m\"\u001b[39m\u001b[33mhello\u001b[39m\u001b[33m\"\u001b[39m\n\u001b[32m      2\u001b[39m tuple_1\n",
      "\u001b[31mTypeError\u001b[39m: 'tuple' object does not support item assignment"
     ]
    }
   ],
   "source": [
    "tuple_1[0] = \"hello\"\n",
    "tuple_1"
   ]
  },
  {
   "cell_type": "code",
   "execution_count": 36,
   "id": "8c51066d-634e-4b59-9a54-e8421fd1593b",
   "metadata": {},
   "outputs": [
    {
     "data": {
      "text/plain": [
       "('Python', True, False, [10, 20, 'Neeraj'])"
      ]
     },
     "execution_count": 36,
     "metadata": {},
     "output_type": "execute_result"
    }
   ],
   "source": [
    "tuple_1[3][2] = \"Neeraj\"\n",
    "tuple_1"
   ]
  },
  {
   "cell_type": "code",
   "execution_count": 3,
   "id": "1e4d2c58-2754-4f84-9bf4-8b36ebebb2a3",
   "metadata": {},
   "outputs": [
    {
     "data": {
      "text/plain": [
       "('Python', True, False, [10, 20, 30])"
      ]
     },
     "execution_count": 3,
     "metadata": {},
     "output_type": "execute_result"
    }
   ],
   "source": [
    "# Accessing index values in tuples.\n",
    "\n",
    "# Positive Index value\n",
    "\n",
    "tuple_1"
   ]
  },
  {
   "cell_type": "code",
   "execution_count": 7,
   "id": "b5686b74-146e-4046-8689-2d8420b05bf1",
   "metadata": {},
   "outputs": [
    {
     "name": "stdout",
     "output_type": "stream",
     "text": [
      "Python\n",
      "True\n",
      "False\n",
      "[10, 20, 30]\n"
     ]
    }
   ],
   "source": [
    "# Positive Index value:\n",
    "print(tuple_1[0])\n",
    "print(tuple_1[1])\n",
    "print(tuple_1[2])\n",
    "print(tuple_1[3])"
   ]
  },
  {
   "cell_type": "code",
   "execution_count": 8,
   "id": "d3522a54-f49c-4d8e-9ff5-e851a4c17a78",
   "metadata": {},
   "outputs": [
    {
     "name": "stdout",
     "output_type": "stream",
     "text": [
      "[10, 20, 30]\n",
      "False\n",
      "True\n",
      "Python\n"
     ]
    }
   ],
   "source": [
    "# Negative Index value\n",
    "print(tuple_1[-1])\n",
    "print(tuple_1[-2])\n",
    "print(tuple_1[-3])\n",
    "print(tuple_1[-4])"
   ]
  },
  {
   "cell_type": "code",
   "execution_count": 9,
   "id": "84b7d2de-fa88-4e16-bb78-10aed8567cfa",
   "metadata": {},
   "outputs": [
    {
     "data": {
      "text/plain": [
       "('Python', True, False, [10, 20, 30])"
      ]
     },
     "execution_count": 9,
     "metadata": {},
     "output_type": "execute_result"
    }
   ],
   "source": [
    "# slicing of an eleement in tuple\n",
    "\n",
    "tuple_1"
   ]
  },
  {
   "cell_type": "code",
   "execution_count": 10,
   "id": "b1fb3e30-59c9-437a-be0f-7bc421f55a56",
   "metadata": {},
   "outputs": [
    {
     "data": {
      "text/plain": [
       "(True, False)"
      ]
     },
     "execution_count": 10,
     "metadata": {},
     "output_type": "execute_result"
    }
   ],
   "source": [
    "# slicing\n",
    "\n",
    "tuple_1[1:3]"
   ]
  },
  {
   "cell_type": "code",
   "execution_count": 11,
   "id": "28202679-35a7-49b1-8fe5-b0d96ca4aaa6",
   "metadata": {},
   "outputs": [
    {
     "data": {
      "text/plain": [
       "('Python', True, False, [10, 20, 30])"
      ]
     },
     "execution_count": 11,
     "metadata": {},
     "output_type": "execute_result"
    }
   ],
   "source": [
    "# striding value in tuple [alternate]\n",
    "\n",
    "tuple_1"
   ]
  },
  {
   "cell_type": "code",
   "execution_count": 12,
   "id": "19e34aaa-f3a2-44d3-b3bc-0ea30ecf8ab4",
   "metadata": {},
   "outputs": [
    {
     "data": {
      "text/plain": [
       "('Python', False)"
      ]
     },
     "execution_count": 12,
     "metadata": {},
     "output_type": "execute_result"
    }
   ],
   "source": [
    "tuple_1[::2]"
   ]
  },
  {
   "cell_type": "markdown",
   "id": "8bde908e-1fac-49e6-8681-4c6bea5b77c5",
   "metadata": {},
   "source": [
    "# Concatenation of tuple"
   ]
  },
  {
   "cell_type": "code",
   "execution_count": 19,
   "id": "25e3414d-273e-4144-81b0-b6799e9f66cf",
   "metadata": {},
   "outputs": [
    {
     "name": "stdout",
     "output_type": "stream",
     "text": [
      "('Dheeraj', 'Neeraj', True, False, 'Hello world', 10, 20)\n"
     ]
    }
   ],
   "source": [
    "x_1 = ('Dheeraj',\"Neeraj\",True,False)\n",
    "\n",
    "x_2 = ('Hello world',10,20)\n",
    "\n",
    "newTuple = x_1+x_2\n",
    "print(newTuple)"
   ]
  },
  {
   "cell_type": "code",
   "execution_count": 15,
   "id": "7db62541-5dd3-4b45-97ee-83575367c5b4",
   "metadata": {},
   "outputs": [
    {
     "name": "stdout",
     "output_type": "stream",
     "text": [
      "('hello world',) <class 'tuple'>\n"
     ]
    }
   ],
   "source": [
    "x = ('hello world',)\n",
    "print(x,type(x))"
   ]
  },
  {
   "cell_type": "code",
   "execution_count": 21,
   "id": "1254710a-557f-41b8-8007-0b70d96bbf3f",
   "metadata": {},
   "outputs": [
    {
     "name": "stdout",
     "output_type": "stream",
     "text": [
      "DheerajNeeraj\n"
     ]
    }
   ],
   "source": [
    "firstName = \"Dheeraj\"\n",
    "lstname = \"Neeraj\"\n",
    "print(firstName+lstname)"
   ]
  },
  {
   "cell_type": "code",
   "execution_count": 23,
   "id": "4fde155b-eefd-472b-90dc-150e01d244cc",
   "metadata": {},
   "outputs": [
    {
     "data": {
      "text/plain": [
       "('Dheeraj',\n",
       " 'Neeraj',\n",
       " True,\n",
       " False,\n",
       " 'Dheeraj',\n",
       " 'Neeraj',\n",
       " True,\n",
       " False,\n",
       " 'Dheeraj',\n",
       " 'Neeraj',\n",
       " True,\n",
       " False)"
      ]
     },
     "execution_count": 23,
     "metadata": {},
     "output_type": "execute_result"
    }
   ],
   "source": [
    "# Repetation of tuple\n",
    "\n",
    "x_1 = ('Dheeraj',\"Neeraj\",True,False)\n",
    "\n",
    "3*x_1"
   ]
  },
  {
   "cell_type": "code",
   "execution_count": 24,
   "id": "7a08bdcd-28ec-4cc7-b1f1-868d948bf97c",
   "metadata": {},
   "outputs": [
    {
     "data": {
      "text/plain": [
       "'DheerajDheerajDheeraj'"
      ]
     },
     "execution_count": 24,
     "metadata": {},
     "output_type": "execute_result"
    }
   ],
   "source": [
    "3*\"Dheeraj\""
   ]
  },
  {
   "cell_type": "code",
   "execution_count": 35,
   "id": "6e391255-cde5-49c5-8446-a8a6959b3710",
   "metadata": {},
   "outputs": [
    {
     "name": "stdout",
     "output_type": "stream",
     "text": [
      "Minimum value in the tuple: 1\n",
      "Maximum value in the tuple: 10\n",
      "Count of the value: 2\n",
      "Length value in the tuple: 14\n",
      "Sum of the value: 75\n",
      "Average of the tuple: 5.357142857142857\n"
     ]
    }
   ],
   "source": [
    "# Numerical Function\n",
    "\n",
    "tuple_2 = (1,2,3,4,5,6,6,6,5,8,9,9,10,1)\n",
    "\n",
    "# min(), max(), count(),len(), sum(), average() \n",
    "\n",
    "\n",
    "print(\"Minimum value in the tuple:\",min(tuple_2))\n",
    "print(\"Maximum value in the tuple:\",max(tuple_2))\n",
    "print(\"Count of the value:\", tuple_2.count(1))\n",
    "print(\"Length value in the tuple:\",len(tuple_2))\n",
    "print(\"Sum of the value:\",sum(tuple_2))\n",
    "print(\"Average of the tuple:\",sum(tuple_2)/len(tuple_2))"
   ]
  },
  {
   "cell_type": "code",
   "execution_count": 38,
   "id": "e6dc4190-3f0e-4c7a-9155-1b1939ad13a4",
   "metadata": {},
   "outputs": [
    {
     "name": "stdout",
     "output_type": "stream",
     "text": [
      "Hello world <class 'str'>\n",
      "('H', 'e', 'l', 'l', 'o', ' ', 'w', 'o', 'r', 'l', 'd') <class 'tuple'>\n"
     ]
    }
   ],
   "source": [
    "# tup(sequence) function\n",
    "# : It converts a specific sequence to a tuple\n",
    "\n",
    "seq = \"Hello world\"\n",
    "print(seq,type(seq))\n",
    "x = tuple(seq)\n",
    "print(x,type(x))"
   ]
  },
  {
   "cell_type": "code",
   "execution_count": 40,
   "id": "854530de-8527-492c-bd8f-c1cca11fce00",
   "metadata": {},
   "outputs": [
    {
     "data": {
      "text/plain": [
       "2"
      ]
     },
     "execution_count": 40,
     "metadata": {},
     "output_type": "execute_result"
    }
   ],
   "source": [
    "x.count('o')"
   ]
  },
  {
   "cell_type": "code",
   "execution_count": 43,
   "id": "f027a5b2-51db-4e7f-9530-37d43d2535db",
   "metadata": {},
   "outputs": [
    {
     "name": "stdout",
     "output_type": "stream",
     "text": [
      "(0, 9, 7, 4, 5, 8, 2, 3, 6) <class 'tuple'>\n",
      "[0, 2, 3, 4, 5, 6, 7, 8, 9] <class 'list'>\n"
     ]
    }
   ],
   "source": [
    "# Sorting tuple\n",
    "\n",
    "# Bubble sort\n",
    "# Quick sort\n",
    "# Merge sort  [Divide/Conquer]\n",
    "# Selection sort\n",
    "# Insertion sort\n",
    "# Heap sort\n",
    "\n",
    "\n",
    "tuple_3 = (0,9,7,4,5,8,2,3,6)\n",
    "print(tuple_3,type(tuple_3))\n",
    "sorted_tuple = sorted(tuple_3)\n",
    "print(sorted_tuple,type(sorted_tuple))"
   ]
  },
  {
   "cell_type": "code",
   "execution_count": 79,
   "id": "881bb4a6-b5da-4428-80cf-58150c527458",
   "metadata": {
    "scrolled": true
   },
   "outputs": [
    {
     "name": "stdout",
     "output_type": "stream",
     "text": [
      "('Hello world', (10, 20, (('Dheeraj', True), ('Neeraj', False))), ('Anup', 100), (50.66, 'Dipti Sargar'), (('Manisha', 'Aditya'), ('Utkarsh', 'Amita')))\n"
     ]
    }
   ],
   "source": [
    "# Nested tuple\n",
    "\n",
    "x = ('Hello world',(10,20,((('Dheeraj',True)),(\"Neeraj\",False))),((\"Anup\",100)),(50.66,\"Dipti Sargar\"),(('Manisha',\"Aditya\"),(\"Utkarsh\",'Amita')))\n",
    "print(x)\n"
   ]
  },
  {
   "cell_type": "code",
   "execution_count": 57,
   "id": "b8fc59e4-3095-4cb0-a144-3d604dece8c3",
   "metadata": {},
   "outputs": [
    {
     "data": {
      "text/plain": [
       "'Dheeraj'"
      ]
     },
     "execution_count": 57,
     "metadata": {},
     "output_type": "execute_result"
    }
   ],
   "source": [
    "x[1][2][0][0]"
   ]
  },
  {
   "cell_type": "code",
   "execution_count": 60,
   "id": "b4e35aa8-6d6b-430f-9d4a-58dccdd775b0",
   "metadata": {},
   "outputs": [
    {
     "data": {
      "text/plain": [
       "'Aditya'"
      ]
     },
     "execution_count": 60,
     "metadata": {},
     "output_type": "execute_result"
    }
   ],
   "source": [
    "x[4][0][1]"
   ]
  },
  {
   "cell_type": "code",
   "execution_count": 61,
   "id": "2d4131ad-bc0e-4fe3-a4b2-da692d353438",
   "metadata": {},
   "outputs": [
    {
     "data": {
      "text/plain": [
       "'Anup'"
      ]
     },
     "execution_count": 61,
     "metadata": {},
     "output_type": "execute_result"
    }
   ],
   "source": [
    "x[2][0] "
   ]
  },
  {
   "cell_type": "code",
   "execution_count": 62,
   "id": "af270131-aa95-459e-a5df-e767e1470520",
   "metadata": {},
   "outputs": [
    {
     "data": {
      "text/plain": [
       "'Amita'"
      ]
     },
     "execution_count": 62,
     "metadata": {},
     "output_type": "execute_result"
    }
   ],
   "source": [
    "x[4][1][1]"
   ]
  },
  {
   "cell_type": "code",
   "execution_count": 63,
   "id": "e38fa51b-7c14-47bb-b89b-f2e13e1b161b",
   "metadata": {},
   "outputs": [
    {
     "name": "stdout",
     "output_type": "stream",
     "text": [
      "Dipti Sargar\n"
     ]
    }
   ],
   "source": [
    "print(x[3][1])"
   ]
  },
  {
   "cell_type": "code",
   "execution_count": 64,
   "id": "7997ddc2-e354-44f3-b11d-adb5b4471e89",
   "metadata": {},
   "outputs": [
    {
     "data": {
      "text/plain": [
       "'Utkarsh'"
      ]
     },
     "execution_count": 64,
     "metadata": {},
     "output_type": "execute_result"
    }
   ],
   "source": [
    "x[4][1][0]"
   ]
  },
  {
   "cell_type": "code",
   "execution_count": 65,
   "id": "9e92a2bc-dc50-4ea3-9327-ff4268378dfd",
   "metadata": {},
   "outputs": [
    {
     "data": {
      "text/plain": [
       "'Neeraj'"
      ]
     },
     "execution_count": 65,
     "metadata": {},
     "output_type": "execute_result"
    }
   ],
   "source": [
    "x[1][2][1][0]"
   ]
  },
  {
   "cell_type": "code",
   "execution_count": 67,
   "id": "42ac411e-1a7f-4916-89e7-0566f89a4d40",
   "metadata": {},
   "outputs": [
    {
     "data": {
      "text/plain": [
       "'Manisha'"
      ]
     },
     "execution_count": 67,
     "metadata": {},
     "output_type": "execute_result"
    }
   ],
   "source": [
    "x[4][0][0]"
   ]
  },
  {
   "cell_type": "code",
   "execution_count": 68,
   "id": "3c65162f-9a46-40a8-8cf5-07c8a8767ba4",
   "metadata": {},
   "outputs": [
    {
     "data": {
      "text/plain": [
       "('Hello world',\n",
       " (10, 20, (('Dheeraj', True), ('Neeraj', False))),\n",
       " ('Anup', 100),\n",
       " (50.66, 'Dipti Sargar'),\n",
       " (('Manisha', 'Aditya'), ('Utkarsh', 'Amita')))"
      ]
     },
     "execution_count": 68,
     "metadata": {},
     "output_type": "execute_result"
    }
   ],
   "source": [
    "# Tuples are immutable\n",
    "\n",
    "\n",
    "# add- insert(), append(), extend()\n",
    "\n",
    "x"
   ]
  },
  {
   "cell_type": "code",
   "execution_count": 69,
   "id": "173d3e27-2f0c-48f8-95b8-015781e2957c",
   "metadata": {},
   "outputs": [
    {
     "ename": "AttributeError",
     "evalue": "'tuple' object has no attribute 'append'",
     "output_type": "error",
     "traceback": [
      "\u001b[31m---------------------------------------------------------------------------\u001b[39m",
      "\u001b[31mAttributeError\u001b[39m                            Traceback (most recent call last)",
      "\u001b[36mCell\u001b[39m\u001b[36m \u001b[39m\u001b[32mIn[69]\u001b[39m\u001b[32m, line 1\u001b[39m\n\u001b[32m----> \u001b[39m\u001b[32m1\u001b[39m \u001b[43mx\u001b[49m\u001b[43m.\u001b[49m\u001b[43mappend\u001b[49m(\u001b[33m'\u001b[39m\u001b[33mapple\u001b[39m\u001b[33m'\u001b[39m)\n",
      "\u001b[31mAttributeError\u001b[39m: 'tuple' object has no attribute 'append'"
     ]
    }
   ],
   "source": [
    "x.append('apple')"
   ]
  },
  {
   "cell_type": "code",
   "execution_count": 70,
   "id": "1a46db42-63df-4c65-892f-0f58518829ee",
   "metadata": {},
   "outputs": [
    {
     "ename": "AttributeError",
     "evalue": "'tuple' object has no attribute 'extend'",
     "output_type": "error",
     "traceback": [
      "\u001b[31m---------------------------------------------------------------------------\u001b[39m",
      "\u001b[31mAttributeError\u001b[39m                            Traceback (most recent call last)",
      "\u001b[36mCell\u001b[39m\u001b[36m \u001b[39m\u001b[32mIn[70]\u001b[39m\u001b[32m, line 1\u001b[39m\n\u001b[32m----> \u001b[39m\u001b[32m1\u001b[39m \u001b[43mx\u001b[49m\u001b[43m.\u001b[49m\u001b[43mextend\u001b[49m([\u001b[33m'\u001b[39m\u001b[33mapple\u001b[39m\u001b[33m'\u001b[39m,\u001b[32m20\u001b[39m])\n",
      "\u001b[31mAttributeError\u001b[39m: 'tuple' object has no attribute 'extend'"
     ]
    }
   ],
   "source": [
    "x.extend(['apple',20])"
   ]
  },
  {
   "cell_type": "code",
   "execution_count": 71,
   "id": "586e67ab-fa66-4852-b5fa-46f742cabad2",
   "metadata": {},
   "outputs": [
    {
     "ename": "AttributeError",
     "evalue": "'tuple' object has no attribute 'insert'",
     "output_type": "error",
     "traceback": [
      "\u001b[31m---------------------------------------------------------------------------\u001b[39m",
      "\u001b[31mAttributeError\u001b[39m                            Traceback (most recent call last)",
      "\u001b[36mCell\u001b[39m\u001b[36m \u001b[39m\u001b[32mIn[71]\u001b[39m\u001b[32m, line 3\u001b[39m\n\u001b[32m      1\u001b[39m \u001b[38;5;66;03m# insert\u001b[39;00m\n\u001b[32m----> \u001b[39m\u001b[32m3\u001b[39m \u001b[43mx\u001b[49m\u001b[43m.\u001b[49m\u001b[43minsert\u001b[49m(\u001b[32m0\u001b[39m,\u001b[33m'\u001b[39m\u001b[33mapple\u001b[39m\u001b[33m'\u001b[39m)\n",
      "\u001b[31mAttributeError\u001b[39m: 'tuple' object has no attribute 'insert'"
     ]
    }
   ],
   "source": [
    "# insert\n",
    "\n",
    "x.insert(0,'apple')"
   ]
  },
  {
   "cell_type": "code",
   "execution_count": 72,
   "id": "6dca9d13-b4b3-4eb0-80b9-98b0b6153a1e",
   "metadata": {},
   "outputs": [
    {
     "ename": "AttributeError",
     "evalue": "'tuple' object has no attribute 'pop'",
     "output_type": "error",
     "traceback": [
      "\u001b[31m---------------------------------------------------------------------------\u001b[39m",
      "\u001b[31mAttributeError\u001b[39m                            Traceback (most recent call last)",
      "\u001b[36mCell\u001b[39m\u001b[36m \u001b[39m\u001b[32mIn[72]\u001b[39m\u001b[32m, line 3\u001b[39m\n\u001b[32m      1\u001b[39m \u001b[38;5;66;03m# pop\u001b[39;00m\n\u001b[32m----> \u001b[39m\u001b[32m3\u001b[39m \u001b[43mx\u001b[49m\u001b[43m.\u001b[49m\u001b[43mpop\u001b[49m()\n",
      "\u001b[31mAttributeError\u001b[39m: 'tuple' object has no attribute 'pop'"
     ]
    }
   ],
   "source": [
    "# pop\n",
    "\n",
    "x.pop()"
   ]
  },
  {
   "cell_type": "code",
   "execution_count": 73,
   "id": "f7ccd1b3-7d03-4002-97bb-11191b12eb39",
   "metadata": {},
   "outputs": [
    {
     "ename": "TypeError",
     "evalue": "'tuple' object doesn't support item deletion",
     "output_type": "error",
     "traceback": [
      "\u001b[31m---------------------------------------------------------------------------\u001b[39m",
      "\u001b[31mTypeError\u001b[39m                                 Traceback (most recent call last)",
      "\u001b[36mCell\u001b[39m\u001b[36m \u001b[39m\u001b[32mIn[73]\u001b[39m\u001b[32m, line 3\u001b[39m\n\u001b[32m      1\u001b[39m \u001b[38;5;66;03m# del()\u001b[39;00m\n\u001b[32m----> \u001b[39m\u001b[32m3\u001b[39m \u001b[38;5;28;01mdel\u001b[39;00m(\u001b[43mx\u001b[49m\u001b[43m[\u001b[49m\u001b[32;43m0\u001b[39;49m\u001b[43m]\u001b[49m)\n",
      "\u001b[31mTypeError\u001b[39m: 'tuple' object doesn't support item deletion"
     ]
    }
   ],
   "source": [
    "# del()\n",
    "\n",
    "del(x[0])"
   ]
  },
  {
   "cell_type": "code",
   "execution_count": 75,
   "id": "98d49f8f-48a4-4390-a8f7-4542a75a0846",
   "metadata": {},
   "outputs": [
    {
     "ename": "TypeError",
     "evalue": "'tuple' object does not support item assignment",
     "output_type": "error",
     "traceback": [
      "\u001b[31m---------------------------------------------------------------------------\u001b[39m",
      "\u001b[31mTypeError\u001b[39m                                 Traceback (most recent call last)",
      "\u001b[36mCell\u001b[39m\u001b[36m \u001b[39m\u001b[32mIn[75]\u001b[39m\u001b[32m, line 1\u001b[39m\n\u001b[32m----> \u001b[39m\u001b[32m1\u001b[39m \u001b[43mx\u001b[49m\u001b[43m[\u001b[49m\u001b[32;43m0\u001b[39;49m\u001b[43m]\u001b[49m = \u001b[33m\"\u001b[39m\u001b[33mapple\u001b[39m\u001b[33m\"\u001b[39m\n",
      "\u001b[31mTypeError\u001b[39m: 'tuple' object does not support item assignment"
     ]
    }
   ],
   "source": [
    "x[0] = \"apple\""
   ]
  },
  {
   "cell_type": "code",
   "execution_count": 76,
   "id": "418fdba2-fbb5-40b9-9692-3d7a4411bbea",
   "metadata": {},
   "outputs": [
    {
     "data": {
      "text/plain": [
       "('Hello world',\n",
       " (10, 20, (('Dheeraj', True), ('Neeraj', False))),\n",
       " ('Anup', 100),\n",
       " (50.66, 'Dipti Sargar'),\n",
       " (('Manisha', 'Aditya'), ('Utkarsh', 'Amita')))"
      ]
     },
     "execution_count": 76,
     "metadata": {},
     "output_type": "execute_result"
    }
   ],
   "source": [
    "x"
   ]
  },
  {
   "cell_type": "code",
   "execution_count": 77,
   "id": "80e1522a-69c9-47c6-b84b-bf5d0af695f3",
   "metadata": {},
   "outputs": [],
   "source": [
    "del(x)"
   ]
  },
  {
   "cell_type": "code",
   "execution_count": 78,
   "id": "ef73cc7d-b44f-4c2d-9c66-f1cd3c63e0e8",
   "metadata": {},
   "outputs": [
    {
     "ename": "NameError",
     "evalue": "name 'x' is not defined",
     "output_type": "error",
     "traceback": [
      "\u001b[31m---------------------------------------------------------------------------\u001b[39m",
      "\u001b[31mNameError\u001b[39m                                 Traceback (most recent call last)",
      "\u001b[36mCell\u001b[39m\u001b[36m \u001b[39m\u001b[32mIn[78]\u001b[39m\u001b[32m, line 1\u001b[39m\n\u001b[32m----> \u001b[39m\u001b[32m1\u001b[39m \u001b[43mx\u001b[49m\n",
      "\u001b[31mNameError\u001b[39m: name 'x' is not defined"
     ]
    }
   ],
   "source": [
    "x"
   ]
  },
  {
   "cell_type": "code",
   "execution_count": 80,
   "id": "9c02eced-bd96-481d-a552-3e7571992e2f",
   "metadata": {},
   "outputs": [
    {
     "data": {
      "text/plain": [
       "('Hello world',\n",
       " (10, 20, (('Dheeraj', True), ('Neeraj', False))),\n",
       " ('Anup', 100),\n",
       " (50.66, 'Dipti Sargar'),\n",
       " (('Manisha', 'Aditya'), ('Utkarsh', 'Amita')))"
      ]
     },
     "execution_count": 80,
     "metadata": {},
     "output_type": "execute_result"
    }
   ],
   "source": [
    "x"
   ]
  },
  {
   "cell_type": "code",
   "execution_count": 81,
   "id": "f5c6a923-0903-48e6-931c-5592619ddd64",
   "metadata": {},
   "outputs": [
    {
     "data": {
      "text/plain": [
       "('Hello world',\n",
       " (10, 20, (('Dheeraj', True), ('Neeraj', False))),\n",
       " ('Anup', 100),\n",
       " (50.66, 'Dipti Sargar'),\n",
       " (('Manisha', 'Aditya'), ('Utkarsh', 'Amita')))"
      ]
     },
     "execution_count": 81,
     "metadata": {},
     "output_type": "execute_result"
    }
   ],
   "source": [
    "# index() method\n",
    "\n",
    "# : It returns the index of the first occurrence of the value in the tuple\n",
    "\n",
    "x"
   ]
  },
  {
   "cell_type": "code",
   "execution_count": 82,
   "id": "130119c1-1fb6-4ec6-81f6-04a320fe9b62",
   "metadata": {},
   "outputs": [],
   "source": [
    "tuple_2 = (1,2,3,4,5,6,6,6,5,8,9,9,10,1)"
   ]
  },
  {
   "cell_type": "code",
   "execution_count": 83,
   "id": "7c32ecc2-14f8-4f2a-ae56-23005ea3705a",
   "metadata": {},
   "outputs": [
    {
     "data": {
      "text/plain": [
       "5"
      ]
     },
     "execution_count": 83,
     "metadata": {},
     "output_type": "execute_result"
    }
   ],
   "source": [
    "tuple_2.index(6)"
   ]
  },
  {
   "cell_type": "code",
   "execution_count": 84,
   "id": "0446839f-f267-4b8f-abe1-e19f10f23c1f",
   "metadata": {},
   "outputs": [
    {
     "data": {
      "text/plain": [
       "10"
      ]
     },
     "execution_count": 84,
     "metadata": {},
     "output_type": "execute_result"
    }
   ],
   "source": [
    "tuple_2.index(9)"
   ]
  },
  {
   "cell_type": "code",
   "execution_count": 85,
   "id": "aca9e960-99ff-49b0-a662-109198aba276",
   "metadata": {},
   "outputs": [
    {
     "data": {
      "text/plain": [
       "0"
      ]
     },
     "execution_count": 85,
     "metadata": {},
     "output_type": "execute_result"
    }
   ],
   "source": [
    "tuple_2.index(1)"
   ]
  },
  {
   "cell_type": "code",
   "execution_count": 86,
   "id": "9f75da25-6ce2-40f0-8a54-5cb4b069c771",
   "metadata": {},
   "outputs": [
    {
     "ename": "ValueError",
     "evalue": "tuple.index(x): x not in tuple",
     "output_type": "error",
     "traceback": [
      "\u001b[31m---------------------------------------------------------------------------\u001b[39m",
      "\u001b[31mValueError\u001b[39m                                Traceback (most recent call last)",
      "\u001b[36mCell\u001b[39m\u001b[36m \u001b[39m\u001b[32mIn[86]\u001b[39m\u001b[32m, line 1\u001b[39m\n\u001b[32m----> \u001b[39m\u001b[32m1\u001b[39m \u001b[43mtuple_2\u001b[49m\u001b[43m.\u001b[49m\u001b[43mindex\u001b[49m\u001b[43m(\u001b[49m\u001b[33;43m\"\u001b[39;49m\u001b[33;43mapple\u001b[39;49m\u001b[33;43m\"\u001b[39;49m\u001b[43m)\u001b[49m\n",
      "\u001b[31mValueError\u001b[39m: tuple.index(x): x not in tuple"
     ]
    }
   ],
   "source": [
    "tuple_2.index(\"apple\")"
   ]
  },
  {
   "cell_type": "code",
   "execution_count": null,
   "id": "71ff9f59-2f7e-4106-b7ce-56f32c73dfec",
   "metadata": {},
   "outputs": [],
   "source": []
  }
 ],
 "metadata": {
  "kernelspec": {
   "display_name": "Python 3 (ipykernel)",
   "language": "python",
   "name": "python3"
  },
  "language_info": {
   "codemirror_mode": {
    "name": "ipython",
    "version": 3
   },
   "file_extension": ".py",
   "mimetype": "text/x-python",
   "name": "python",
   "nbconvert_exporter": "python",
   "pygments_lexer": "ipython3",
   "version": "3.13.7"
  }
 },
 "nbformat": 4,
 "nbformat_minor": 5
}
