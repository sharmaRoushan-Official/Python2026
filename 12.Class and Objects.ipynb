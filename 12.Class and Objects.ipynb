{
 "cells": [
  {
   "cell_type": "markdown",
   "id": "31ff3600-9046-4afe-a509-ceebafbd267c",
   "metadata": {},
   "source": [
    "# 12. Classes and Obejcts in Python\n",
    "\n",
    " * __Python is an object-oriented programming language.__\n",
    " * __Unline procedure-oriented programming, where the main emphasis is on functions, object-oriented programming stresses on objects.__\n",
    " * __An object is a simple collection of data(variable) and methods (function) that act on those data.__\n",
    " * __Similarly, a class is blueprint for that object.__\n",
    " * __Like function definition begin with the def keyword in Python, a class definition begins with a class keyword.__\n",
    " * __The first string inside the class is called docstring and has a bried description of the class.__\n",
    " * __It's Not mandatory, this is highly recommeded.__\n",
    " * __Syntax:__\n",
    "    * __Class student:__\n",
    "      * __school_name=\"ABC School\"__\n",
    "        * __def __init__(self,anme,age)__\n",
    "           * __self.name = name__\n",
    "           * __self.age = age__\n",
    "    * __obj = student(\"Harry Porter\",25)__\n",
    "    * __obj.name__\n",
    "    * __obj.age__"
   ]
  },
  {
   "cell_type": "code",
   "execution_count": 1,
   "id": "71174ce3-30a7-4e0a-beda-836f773471a6",
   "metadata": {},
   "outputs": [],
   "source": [
    "# Pav Bhaji\n",
    "\n",
    "# 1). Ingridients\n",
    "# 2). Pav\n",
    "# 3). Bhaji: Vegitables: Peas:tomatos, potato, cabbage, carrot, capsicum\n",
    "\n",
    "\n",
    "# class car:\n",
    "# 1). Brand: Tata\n",
    "# 2). Model: Nexon\n",
    "# 3). Color: Red/black/Pink\n",
    "# 4). feature\n",
    "\n",
    "# object of Amita\n",
    "\n",
    "\n",
    "# class: Restaurent\n",
    "# menu: Veg/Non-Veg \n",
    "# menu VEG: Paneer Tika/\n",
    "# \n",
    "\n",
    "# object of anup\n",
    "\n",
    "\n",
    "# Tea\n"
   ]
  },
  {
   "cell_type": "code",
   "execution_count": 6,
   "id": "4201b169-5464-419c-914f-f8c0f1a623f9",
   "metadata": {},
   "outputs": [
    {
     "data": {
      "text/plain": [
       "10"
      ]
     },
     "execution_count": 6,
     "metadata": {},
     "output_type": "execute_result"
    }
   ],
   "source": [
    "class Data:\n",
    "    # attribute\n",
    "    num = 10\n",
    "    num1 = 100\n",
    "\n",
    "obj1 = Data()\n",
    "obj1.num"
   ]
  },
  {
   "cell_type": "code",
   "execution_count": 7,
   "id": "17956982-5760-409b-9a88-a69dafe5dfe2",
   "metadata": {},
   "outputs": [
    {
     "data": {
      "text/plain": [
       "100"
      ]
     },
     "execution_count": 7,
     "metadata": {},
     "output_type": "execute_result"
    }
   ],
   "source": [
    "obj1.num1"
   ]
  },
  {
   "cell_type": "code",
   "execution_count": 9,
   "id": "66ba7555-ad0d-4570-a1ab-97393e6e91f1",
   "metadata": {},
   "outputs": [
    {
     "data": {
      "text/plain": [
       "10"
      ]
     },
     "execution_count": 9,
     "metadata": {},
     "output_type": "execute_result"
    }
   ],
   "source": [
    "obj2 = Data()\n",
    "obj2.num"
   ]
  },
  {
   "cell_type": "code",
   "execution_count": 10,
   "id": "dffc2adf-f3c9-445b-89b7-6959e74ee318",
   "metadata": {},
   "outputs": [
    {
     "data": {
      "text/plain": [
       "100"
      ]
     },
     "execution_count": 10,
     "metadata": {},
     "output_type": "execute_result"
    }
   ],
   "source": [
    "obj2.num1"
   ]
  },
  {
   "cell_type": "code",
   "execution_count": 11,
   "id": "501d5b96-fbc3-45b6-b8c7-89bdfe1c8489",
   "metadata": {},
   "outputs": [],
   "source": [
    "class student:\n",
    "    def __init__(self,name,age,address,email):\n",
    "        self.name = name\n",
    "        self.age = age\n",
    "        self.address = address\n",
    "        self.email = email"
   ]
  },
  {
   "cell_type": "code",
   "execution_count": 12,
   "id": "25bfb926-f2f9-4f4e-8640-a4bf2c629caa",
   "metadata": {},
   "outputs": [],
   "source": [
    "obj1 = student(\"Anup\",25,\"Nagpur\",\"anup@gmail.com\")\n"
   ]
  },
  {
   "cell_type": "code",
   "execution_count": 16,
   "id": "1d701278-0d5f-4af3-af0b-1713fb654488",
   "metadata": {},
   "outputs": [
    {
     "name": "stdout",
     "output_type": "stream",
     "text": [
      "Anup\n",
      "25\n",
      "Nagpur\n",
      "anup@gmail.com\n"
     ]
    }
   ],
   "source": [
    "print(obj1.name)\n",
    "print(obj1.age)\n",
    "print(obj1.address)\n",
    "print(obj1.email)"
   ]
  },
  {
   "cell_type": "code",
   "execution_count": 17,
   "id": "acc15f9c-8d4b-403f-8656-ac8c5b90ac01",
   "metadata": {},
   "outputs": [],
   "source": [
    "obj2 = student(\"John\",35,\"Texas\",\"john32@hotmail.com\")\n"
   ]
  },
  {
   "cell_type": "code",
   "execution_count": 21,
   "id": "605567bb-d177-458b-a62e-666c5a6ddbd0",
   "metadata": {},
   "outputs": [
    {
     "name": "stdout",
     "output_type": "stream",
     "text": [
      "John\n",
      "35\n",
      "Texas\n",
      "john32@hotmail.com\n"
     ]
    }
   ],
   "source": [
    "print(obj2.name)\n",
    "print(obj2.age)\n",
    "print(obj2.address)\n",
    "print(obj2.email)"
   ]
  },
  {
   "cell_type": "code",
   "execution_count": 22,
   "id": "474a98db-b94d-4b3e-b3d5-2153fe62e547",
   "metadata": {},
   "outputs": [
    {
     "name": "stdout",
     "output_type": "stream",
     "text": [
      "Anup\n"
     ]
    }
   ],
   "source": [
    "print(obj1.name)"
   ]
  },
  {
   "cell_type": "code",
   "execution_count": 25,
   "id": "a28ee05d-094d-493f-902d-56b2d57d0b74",
   "metadata": {},
   "outputs": [
    {
     "name": "stdout",
     "output_type": "stream",
     "text": [
      "The name of student is:Anup\n",
      "The age of student is:25\n",
      "Address of student is:Nagpur\n",
      "Email of student is:anup@gmail.com\n"
     ]
    }
   ],
   "source": [
    "class student:  # student is the name of class\n",
    "    def __init__(self,name,age,address,email):  # __init__ : constructor\n",
    "        self.name = name  # attribute, instance\n",
    "        self.age = age\n",
    "        self.address = address\n",
    "        self.email = email\n",
    "\n",
    "    # method \n",
    "    def detailsStudent(self):\n",
    "        print(f\"The name of student is:{self.name}\")\n",
    "        print(f\"The age of student is:{self.age}\")\n",
    "        print(f\"Address of student is:{self.address}\")\n",
    "        print(f\"Email of student is:{self.email}\")\n",
    "\n",
    "obj1 = student(\"Anup\",25,\"Nagpur\",\"anup@gmail.com\")\n",
    "# print(obj1.name)\n",
    "# print(obj1.age)\n",
    "# print(obj1.address)\n",
    "# print(obj1.email)\n",
    "obj1.detailsStudent()\n"
   ]
  },
  {
   "cell_type": "code",
   "execution_count": 27,
   "id": "561493d7-07a6-4539-a0a4-50e502292376",
   "metadata": {},
   "outputs": [
    {
     "name": "stdout",
     "output_type": "stream",
     "text": [
      "The name of student is:John\n",
      "The age of student is:35\n",
      "Address of student is:Texas\n",
      "Email of student is:john32@hotmail.com\n"
     ]
    }
   ],
   "source": [
    "obj2 = student(\"John\",35,\"Texas\",\"john32@hotmail.com\")\n",
    "\n",
    "obj2.detailsStudent()"
   ]
  },
  {
   "cell_type": "code",
   "execution_count": 29,
   "id": "73a0a7d8-e152-4b4f-b327-a5c23e3103c7",
   "metadata": {},
   "outputs": [
    {
     "name": "stdout",
     "output_type": "stream",
     "text": [
      "The area of circle is: 314.1592653589793 Cm²\n",
      "Perimeter of cirlce is: 62.83185307179586 cm\n"
     ]
    }
   ],
   "source": [
    "# Area of circle, circumeference\n",
    "# radius\n",
    "\n",
    "import math\n",
    "class circle:\n",
    "    def __init__(self,radius):\n",
    "        self.radius = radius\n",
    "\n",
    "\n",
    "    def areaCircle(self):\n",
    "        area = math.pi*self.radius*self.radius\n",
    "        print(f\"The area of circle is: {area} Cm²\")\n",
    "        perimeter = 2*math.pi*self.radius\n",
    "        print(f\"Perimeter of cirlce is: {perimeter} cm\")\n",
    "\n",
    "\n",
    "circle1 = circle(10)\n",
    "circle1.areaCircle()"
   ]
  },
  {
   "cell_type": "code",
   "execution_count": 30,
   "id": "56b042f4-018f-40f3-b218-b63cab8cef58",
   "metadata": {},
   "outputs": [
    {
     "name": "stdout",
     "output_type": "stream",
     "text": [
      "The area of circle is: 1256.6370614359173 Cm²\n",
      "Perimeter of cirlce is: 125.66370614359172 cm\n"
     ]
    }
   ],
   "source": [
    "circle1 = circle(20)\n",
    "circle1.areaCircle()"
   ]
  },
  {
   "cell_type": "code",
   "execution_count": 31,
   "id": "9a7b4fd8-7ee4-425e-b5bd-d7a4f8e23be8",
   "metadata": {},
   "outputs": [
    {
     "name": "stdout",
     "output_type": "stream",
     "text": [
      "The area of circle is: 2827.4333882308138 Cm²\n",
      "Perimeter of cirlce is: 188.49555921538757 cm\n"
     ]
    }
   ],
   "source": [
    "circle1 = circle(30)\n",
    "circle1.areaCircle()"
   ]
  },
  {
   "cell_type": "code",
   "execution_count": null,
   "id": "fbe168a2-9fa7-4b51-84c0-a39e8b52b5f1",
   "metadata": {},
   "outputs": [],
   "source": []
  }
 ],
 "metadata": {
  "kernelspec": {
   "display_name": "Python 3 (ipykernel)",
   "language": "python",
   "name": "python3"
  },
  "language_info": {
   "codemirror_mode": {
    "name": "ipython",
    "version": 3
   },
   "file_extension": ".py",
   "mimetype": "text/x-python",
   "name": "python",
   "nbconvert_exporter": "python",
   "pygments_lexer": "ipython3",
   "version": "3.13.7"
  }
 },
 "nbformat": 4,
 "nbformat_minor": 5
}
