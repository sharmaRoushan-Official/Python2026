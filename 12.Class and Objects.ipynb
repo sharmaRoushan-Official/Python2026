{
 "cells": [
  {
   "cell_type": "markdown",
   "id": "31ff3600-9046-4afe-a509-ceebafbd267c",
   "metadata": {},
   "source": [
    "# 12. Classes and Obejcts in Python\n",
    "\n",
    " * __Python is an object-oriented programming language.__\n",
    " * __Unline procedure-oriented programming, where the main emphasis is on functions, object-oriented programming stresses on objects.__\n",
    " * __An object is a simple collection of data(variable) and methods (function) that act on those data.__\n",
    " * __Similarly, a class is blueprint for that object.__\n",
    " * __Like function definition begin with the def keyword in Python, a class definition begins with a class keyword.__\n",
    " * __The first string inside the class is called docstring and has a bried description of the class.__\n",
    " * __It's Not mandatory, this is highly recommeded.__\n",
    " * __Syntax:__\n",
    "    * __Class student:__\n",
    "      * __school_name=\"ABC School\"__\n",
    "        * __def __init__(self,anme,age)__\n",
    "           * __self.name = name__\n",
    "           * __self.age = age__\n",
    "    * __obj = student(\"Harry Porter\",25)__\n",
    "    * __obj.name__\n",
    "    * __obj.age__"
   ]
  },
  {
   "cell_type": "code",
   "execution_count": 1,
   "id": "71174ce3-30a7-4e0a-beda-836f773471a6",
   "metadata": {},
   "outputs": [],
   "source": [
    "# Pav Bhaji\n",
    "\n",
    "# 1). Ingridients\n",
    "# 2). Pav\n",
    "# 3). Bhaji: Vegitables: Peas:tomatos, potato, cabbage, carrot, capsicum\n",
    "\n",
    "\n",
    "# class car:\n",
    "# 1). Brand: Tata\n",
    "# 2). Model: Nexon\n",
    "# 3). Color: Red/black/Pink\n",
    "# 4). feature\n",
    "\n",
    "# object of Amita\n",
    "\n",
    "\n",
    "# class: Restaurent\n",
    "# menu: Veg/Non-Veg \n",
    "# menu VEG: Paneer Tika/\n",
    "# \n",
    "\n",
    "# object of anup\n",
    "\n",
    "\n",
    "# Tea\n"
   ]
  },
  {
   "cell_type": "code",
   "execution_count": 6,
   "id": "4201b169-5464-419c-914f-f8c0f1a623f9",
   "metadata": {},
   "outputs": [
    {
     "data": {
      "text/plain": [
       "10"
      ]
     },
     "execution_count": 6,
     "metadata": {},
     "output_type": "execute_result"
    }
   ],
   "source": [
    "class Data:\n",
    "    # attribute\n",
    "    num = 10\n",
    "    num1 = 100\n",
    "\n",
    "obj1 = Data()\n",
    "obj1.num"
   ]
  },
  {
   "cell_type": "code",
   "execution_count": 7,
   "id": "17956982-5760-409b-9a88-a69dafe5dfe2",
   "metadata": {},
   "outputs": [
    {
     "data": {
      "text/plain": [
       "100"
      ]
     },
     "execution_count": 7,
     "metadata": {},
     "output_type": "execute_result"
    }
   ],
   "source": [
    "obj1.num1"
   ]
  },
  {
   "cell_type": "code",
   "execution_count": 9,
   "id": "66ba7555-ad0d-4570-a1ab-97393e6e91f1",
   "metadata": {},
   "outputs": [
    {
     "data": {
      "text/plain": [
       "10"
      ]
     },
     "execution_count": 9,
     "metadata": {},
     "output_type": "execute_result"
    }
   ],
   "source": [
    "obj2 = Data()\n",
    "obj2.num"
   ]
  },
  {
   "cell_type": "code",
   "execution_count": 10,
   "id": "dffc2adf-f3c9-445b-89b7-6959e74ee318",
   "metadata": {},
   "outputs": [
    {
     "data": {
      "text/plain": [
       "100"
      ]
     },
     "execution_count": 10,
     "metadata": {},
     "output_type": "execute_result"
    }
   ],
   "source": [
    "obj2.num1"
   ]
  },
  {
   "cell_type": "code",
   "execution_count": 11,
   "id": "501d5b96-fbc3-45b6-b8c7-89bdfe1c8489",
   "metadata": {},
   "outputs": [],
   "source": [
    "class student:\n",
    "    def __init__(self,name,age,address,email):\n",
    "        self.name = name\n",
    "        self.age = age\n",
    "        self.address = address\n",
    "        self.email = email"
   ]
  },
  {
   "cell_type": "code",
   "execution_count": 12,
   "id": "25bfb926-f2f9-4f4e-8640-a4bf2c629caa",
   "metadata": {},
   "outputs": [],
   "source": [
    "obj1 = student(\"Anup\",25,\"Nagpur\",\"anup@gmail.com\")\n"
   ]
  },
  {
   "cell_type": "code",
   "execution_count": 16,
   "id": "1d701278-0d5f-4af3-af0b-1713fb654488",
   "metadata": {},
   "outputs": [
    {
     "name": "stdout",
     "output_type": "stream",
     "text": [
      "Anup\n",
      "25\n",
      "Nagpur\n",
      "anup@gmail.com\n"
     ]
    }
   ],
   "source": [
    "print(obj1.name)\n",
    "print(obj1.age)\n",
    "print(obj1.address)\n",
    "print(obj1.email)"
   ]
  },
  {
   "cell_type": "code",
   "execution_count": 17,
   "id": "acc15f9c-8d4b-403f-8656-ac8c5b90ac01",
   "metadata": {},
   "outputs": [],
   "source": [
    "obj2 = student(\"John\",35,\"Texas\",\"john32@hotmail.com\")\n"
   ]
  },
  {
   "cell_type": "code",
   "execution_count": 21,
   "id": "605567bb-d177-458b-a62e-666c5a6ddbd0",
   "metadata": {},
   "outputs": [
    {
     "name": "stdout",
     "output_type": "stream",
     "text": [
      "John\n",
      "35\n",
      "Texas\n",
      "john32@hotmail.com\n"
     ]
    }
   ],
   "source": [
    "print(obj2.name)\n",
    "print(obj2.age)\n",
    "print(obj2.address)\n",
    "print(obj2.email)"
   ]
  },
  {
   "cell_type": "code",
   "execution_count": 22,
   "id": "474a98db-b94d-4b3e-b3d5-2153fe62e547",
   "metadata": {},
   "outputs": [
    {
     "name": "stdout",
     "output_type": "stream",
     "text": [
      "Anup\n"
     ]
    }
   ],
   "source": [
    "print(obj1.name)"
   ]
  },
  {
   "cell_type": "code",
   "execution_count": 25,
   "id": "a28ee05d-094d-493f-902d-56b2d57d0b74",
   "metadata": {},
   "outputs": [
    {
     "name": "stdout",
     "output_type": "stream",
     "text": [
      "The name of student is:Anup\n",
      "The age of student is:25\n",
      "Address of student is:Nagpur\n",
      "Email of student is:anup@gmail.com\n"
     ]
    }
   ],
   "source": [
    "class student:  # student is the name of class\n",
    "    def __init__(self,name,age,address,email):  # __init__ : constructor\n",
    "        self.name = name  # attribute, instance\n",
    "        self.age = age\n",
    "        self.address = address\n",
    "        self.email = email\n",
    "\n",
    "    # method \n",
    "    def detailsStudent(self):\n",
    "        print(f\"The name of student is:{self.name}\")\n",
    "        print(f\"The age of student is:{self.age}\")\n",
    "        print(f\"Address of student is:{self.address}\")\n",
    "        print(f\"Email of student is:{self.email}\")\n",
    "\n",
    "obj1 = student(\"Anup\",25,\"Nagpur\",\"anup@gmail.com\")\n",
    "# print(obj1.name)\n",
    "# print(obj1.age)\n",
    "# print(obj1.address)\n",
    "# print(obj1.email)\n",
    "obj1.detailsStudent()\n"
   ]
  },
  {
   "cell_type": "code",
   "execution_count": 27,
   "id": "561493d7-07a6-4539-a0a4-50e502292376",
   "metadata": {},
   "outputs": [
    {
     "name": "stdout",
     "output_type": "stream",
     "text": [
      "The name of student is:John\n",
      "The age of student is:35\n",
      "Address of student is:Texas\n",
      "Email of student is:john32@hotmail.com\n"
     ]
    }
   ],
   "source": [
    "obj2 = student(\"John\",35,\"Texas\",\"john32@hotmail.com\")\n",
    "\n",
    "obj2.detailsStudent()"
   ]
  },
  {
   "cell_type": "code",
   "execution_count": 29,
   "id": "73a0a7d8-e152-4b4f-b327-a5c23e3103c7",
   "metadata": {},
   "outputs": [
    {
     "name": "stdout",
     "output_type": "stream",
     "text": [
      "The area of circle is: 314.1592653589793 Cm²\n",
      "Perimeter of cirlce is: 62.83185307179586 cm\n"
     ]
    }
   ],
   "source": [
    "# Area of circle, circumeference\n",
    "# radius\n",
    "\n",
    "import math\n",
    "class circle:\n",
    "    def __init__(self,radius):\n",
    "        self.radius = radius\n",
    "\n",
    "\n",
    "    def areaCircle(self):\n",
    "        area = math.pi*self.radius*self.radius\n",
    "        print(f\"The area of circle is: {area} Cm²\")\n",
    "        perimeter = 2*math.pi*self.radius\n",
    "        print(f\"Perimeter of cirlce is: {perimeter} cm\")\n",
    "\n",
    "\n",
    "circle1 = circle(10)\n",
    "circle1.areaCircle()"
   ]
  },
  {
   "cell_type": "code",
   "execution_count": 30,
   "id": "56b042f4-018f-40f3-b218-b63cab8cef58",
   "metadata": {},
   "outputs": [
    {
     "name": "stdout",
     "output_type": "stream",
     "text": [
      "The area of circle is: 1256.6370614359173 Cm²\n",
      "Perimeter of cirlce is: 125.66370614359172 cm\n"
     ]
    }
   ],
   "source": [
    "circle1 = circle(20)\n",
    "circle1.areaCircle()"
   ]
  },
  {
   "cell_type": "code",
   "execution_count": 31,
   "id": "9a7b4fd8-7ee4-425e-b5bd-d7a4f8e23be8",
   "metadata": {},
   "outputs": [
    {
     "name": "stdout",
     "output_type": "stream",
     "text": [
      "The area of circle is: 2827.4333882308138 Cm²\n",
      "Perimeter of cirlce is: 188.49555921538757 cm\n"
     ]
    }
   ],
   "source": [
    "circle1 = circle(30)\n",
    "circle1.areaCircle()"
   ]
  },
  {
   "cell_type": "code",
   "execution_count": 32,
   "id": "fbe168a2-9fa7-4b51-84c0-a39e8b52b5f1",
   "metadata": {},
   "outputs": [
    {
     "ename": "NameError",
     "evalue": "name 'radius' is not defined",
     "output_type": "error",
     "traceback": [
      "\u001b[31m---------------------------------------------------------------------------\u001b[39m",
      "\u001b[31mNameError\u001b[39m                                 Traceback (most recent call last)",
      "\u001b[36mCell\u001b[39m\u001b[36m \u001b[39m\u001b[32mIn[32]\u001b[39m\u001b[32m, line 1\u001b[39m\n\u001b[32m----> \u001b[39m\u001b[32m1\u001b[39m \u001b[43mradius\u001b[49m\n",
      "\u001b[31mNameError\u001b[39m: name 'radius' is not defined"
     ]
    }
   ],
   "source": [
    "radius"
   ]
  },
  {
   "cell_type": "markdown",
   "id": "b92627a5-7683-4f48-ab97-3968f038fd5f",
   "metadata": {},
   "source": [
    "### self parameter\n",
    "\n",
    " * __self refers to the instance of the class.__\n",
    " * __used to access instance variables and methods.__\n",
    " * __It is passed automatically in instance methods calls.__\n",
    " * __Must be the first parameter of instance methods.__\n",
    " * __It is not a keyword, just a naming convention (but strongly refered).__\n",
    " * __Used in constructors(_ _init_ _) to set object state.__\n",
    " * __Allow multiple instances to maintain their own data.__"
   ]
  },
  {
   "cell_type": "code",
   "execution_count": 5,
   "id": "8736c374-2a6d-43f0-bc59-e6343520a5a8",
   "metadata": {},
   "outputs": [
    {
     "name": "stdout",
     "output_type": "stream",
     "text": [
      "Myself is Omkar\n",
      "I'm 25 years old.\n",
      "My address is Anand Vihar\n"
     ]
    }
   ],
   "source": [
    "class student:\n",
    "    def __init__(self,name, age, address):\n",
    "        self.name = name\n",
    "        self.age = age\n",
    "        self.address = address\n",
    "\n",
    "\n",
    "    def studentDetails(self):\n",
    "        print(f'Myself is {self.name}')\n",
    "        print(f\"I'm {self.age} years old.\")\n",
    "        print(f\"My address is {self.address}\")\n",
    "\n",
    "    \n",
    "\n",
    "\n",
    "obj1 = student(\"Omkar\",25,\"Anand Vihar\")\n",
    "# print(obj1.name)\n",
    "# print(obj1.age)\n",
    "# print(obj1.address)\n",
    "obj1.studentDetails()"
   ]
  },
  {
   "cell_type": "code",
   "execution_count": 6,
   "id": "7f8b739c-6dac-4fd0-8ea3-b9b50731587b",
   "metadata": {},
   "outputs": [
    {
     "name": "stdout",
     "output_type": "stream",
     "text": [
      "Myself is Anup\n",
      "I'm 55 years old.\n",
      "My address is Mayur Vihar\n"
     ]
    }
   ],
   "source": [
    "obj2 = student(\"Anup\",55,\"Mayur Vihar\")\n",
    "# print(obj2.name)\n",
    "# print(obj2.age)\n",
    "# print(obj2.address)\n",
    "obj2.studentDetails()"
   ]
  },
  {
   "cell_type": "code",
   "execution_count": 7,
   "id": "0d3e05d8-404f-4b0f-b4d0-9e2b71b033f2",
   "metadata": {},
   "outputs": [
    {
     "name": "stdout",
     "output_type": "stream",
     "text": [
      "Area :  50\n",
      "Perimeter :  30\n"
     ]
    }
   ],
   "source": [
    "# class Rectangle: base and height : Area, perimeter,\n",
    "\n",
    "class Rectangle:\n",
    "    def __init__(self, base, height):\n",
    "        self.base = base\n",
    "        self.height = height\n",
    "\n",
    "    def area(self):\n",
    "        a = self.base * self.height\n",
    "        return a\n",
    "\n",
    "    def perimeter(self):\n",
    "        p = 2 * (self.base + self.height)\n",
    "        return p\n",
    "\n",
    "r = Rectangle(10, 5)\n",
    "print(\"Area : \", r.area())\n",
    "print(\"Perimeter : \", r.perimeter())"
   ]
  },
  {
   "cell_type": "code",
   "execution_count": 9,
   "id": "2fe0e296-c87b-4b7e-943c-4e91f7136c75",
   "metadata": {},
   "outputs": [
    {
     "name": "stdin",
     "output_type": "stream",
     "text": [
      "Enter lenght of rectangle:  10\n",
      "Enter breadth of rectangle:  14\n"
     ]
    },
    {
     "name": "stdout",
     "output_type": "stream",
     "text": [
      "The area of rectangle is: 140\n",
      "The perimeter of rectangle is: 48\n"
     ]
    }
   ],
   "source": [
    "class rectangle:\n",
    "    def __init__(self):\n",
    "        self.length = int(input(\"Enter lenght of rectangle: \"))\n",
    "        self.width = int(input(\"Enter breadth of rectangle: \"))\n",
    "\n",
    "    def arearectangle(self):\n",
    "        area = self.length*self.width\n",
    "        print(f\"The area of rectangle is: {area}\")\n",
    "        perimeter = 2*(self.length + self.width)\n",
    "        print(f\"The perimeter of rectangle is: {perimeter}\")\n",
    "\n",
    "rectangle1 = rectangle()\n",
    "rectangle1.arearectangle()"
   ]
  },
  {
   "cell_type": "code",
   "execution_count": 10,
   "id": "2f3286a9-0a8f-4495-b905-1d42dc941340",
   "metadata": {},
   "outputs": [
    {
     "name": "stdin",
     "output_type": "stream",
     "text": [
      "Enter lenght of rectangle:  78\n",
      "Enter breadth of rectangle:  96\n"
     ]
    },
    {
     "name": "stdout",
     "output_type": "stream",
     "text": [
      "The area of rectangle is: 7488\n",
      "The perimeter of rectangle is: 348\n"
     ]
    }
   ],
   "source": [
    "rectangle1 = rectangle()\n",
    "rectangle1.arearectangle()"
   ]
  },
  {
   "cell_type": "code",
   "execution_count": 15,
   "id": "a528e1b3-6cb0-491f-a928-ff0de10093ef",
   "metadata": {},
   "outputs": [
    {
     "name": "stdout",
     "output_type": "stream",
     "text": [
      "Myself is Omkar\n",
      "I'm 16 years old.\n",
      "My address is Anand Vihar\n",
      "Omkar is not elegible for voting.\n"
     ]
    }
   ],
   "source": [
    "class student:\n",
    "    def __init__(self,name, age, address):\n",
    "        self.name = name\n",
    "        self.age = age\n",
    "        self.address = address\n",
    "\n",
    "\n",
    "    def studentDetails(self):\n",
    "        print(f'Myself is {self.name}')\n",
    "        print(f\"I'm {self.age} years old.\")\n",
    "        print(f\"My address is {self.address}\")\n",
    "        \n",
    "        if self.age>=18:\n",
    "            print(f'{self.name} You are elegible for voting.')\n",
    "        else:\n",
    "            print(f\"{self.name} is not elegible for voting.\")\n",
    "    \n",
    "\n",
    "obj1 = student(\"Omkar\",16,\"Anand Vihar\")\n",
    "obj1.studentDetails()"
   ]
  },
  {
   "cell_type": "code",
   "execution_count": 16,
   "id": "57685489-f5db-4117-b210-3a22a513fe5a",
   "metadata": {},
   "outputs": [
    {
     "name": "stdout",
     "output_type": "stream",
     "text": [
      "Area of rectangle : 15,Perimeter of rectangle : 16 \n"
     ]
    }
   ],
   "source": [
    "class rectangle:\n",
    "    def __init__(self, length, breadth):\n",
    "        self.length = length\n",
    "        self.breadth = breadth\n",
    "\n",
    "    def rectangle_details(self):\n",
    "        area = self.length * self.breadth \n",
    "        perimeter = 2*(self.length + self.breadth)\n",
    "        return f\"Area of rectangle : {area},Perimeter of rectangle : {perimeter} \"\n",
    "        \n",
    "    \n",
    "r = rectangle(5,3)\n",
    "print(r.rectangle_details())"
   ]
  },
  {
   "cell_type": "code",
   "execution_count": 17,
   "id": "c262cb4f-4ec2-441d-9819-a964733e05d8",
   "metadata": {},
   "outputs": [
    {
     "name": "stdin",
     "output_type": "stream",
     "text": [
      "Enter the height of triangle: 89\n",
      "Enter the base of triangle: 77\n",
      "Enter the side of triangle: 89\n"
     ]
    },
    {
     "name": "stdout",
     "output_type": "stream",
     "text": [
      "The area of scalene triangle is: 3426.5\n",
      "The perimeter of scalene triangle is: 255\n"
     ]
    }
   ],
   "source": [
    "#4. find the area scalen triangle and their perimeter.\n",
    "\n",
    "class triangle:\n",
    "    def __init__(self):\n",
    "        self.height = int(input(\"Enter the height of triangle:\"))\n",
    "        self.base = int(input(\"Enter the base of triangle:\"))\n",
    "        self.side = int(input(\"Enter the side of triangle:\"))\n",
    "\n",
    "    def scalentriangle(self):\n",
    "        area = (1/2)*self.height*self.base\n",
    "        print(f\"The area of scalene triangle is: {area}\")\n",
    "        perimeter = self.height + self.base + self.side\n",
    "        print(f\"The perimeter of scalene triangle is: {perimeter}\")\n",
    "\n",
    "triangle1 = triangle()\n",
    "triangle1.scalentriangle()"
   ]
  },
  {
   "cell_type": "code",
   "execution_count": 19,
   "id": "4712d953-83d7-4522-9911-4b86b25b5521",
   "metadata": {},
   "outputs": [
    {
     "name": "stdin",
     "output_type": "stream",
     "text": [
      "Enter the side of square 88\n"
     ]
    },
    {
     "name": "stdout",
     "output_type": "stream",
     "text": [
      "Area of square: 7744\n",
      "Perimeter of square: 352\n"
     ]
    }
   ],
   "source": [
    "#1 Wrp to find the area of square and thier perimeter of square using class and object.\n",
    "\n",
    "class Square:\n",
    "    def __init__(self):\n",
    "        self.s = int(input(\"Enter the side of square\"))\n",
    "\n",
    "    def Area(self):\n",
    "        a = self.s * self.s\n",
    "        return a\n",
    "\n",
    "    def perimeter(self):\n",
    "        p = 4*self.s\n",
    "        return p\n",
    "\n",
    "sq = Square()\n",
    "print(\"Area of square:\", sq.Area())\n",
    "print(\"Perimeter of square:\", sq.perimeter())\n"
   ]
  },
  {
   "cell_type": "code",
   "execution_count": 21,
   "id": "42ff74b7-0b01-4848-b14a-1c7102f7dbb4",
   "metadata": {},
   "outputs": [
    {
     "name": "stdin",
     "output_type": "stream",
     "text": [
      "Enter the base :  74\n",
      "Enter the height :  75\n",
      "Enter the hypotenuse :  63\n"
     ]
    },
    {
     "name": "stdout",
     "output_type": "stream",
     "text": [
      "Is a triangle\n",
      "Area of Triangle: 2775.0 , Perimeter of Triangle: 212\n"
     ]
    }
   ],
   "source": [
    "# 1. Area and perimeter of traingle\n",
    "class traingle:\n",
    "    def __init__(self):\n",
    "        self.base = int(input(\"Enter the base : \"))\n",
    "        self.height = int(input(\"Enter the height : \"))\n",
    "        self.hypotenuse = int(input(\"Enter the hypotenuse : \"))\n",
    "    def triangle_dets(self):     \n",
    "        if (self.base + self.height)>self.hypotenuse and (self.height+self.hypotenuse)>self.base and (self.base+self.hypotenuse)>self.height:\n",
    "            print(\"Is a triangle\")\n",
    "            area = 1/2 *(self.base*self.height)\n",
    "            perimeter = self.height + self.base + self.hypotenuse\n",
    "            return f\"Area of Triangle: {area} , Perimeter of Triangle: {perimeter}\"\n",
    "        else:\n",
    "            print(\" Not a triangle\")\n",
    "\n",
    "    \n",
    "        \n",
    "t = traingle()\n",
    "print(t.triangle_dets())"
   ]
  },
  {
   "cell_type": "code",
   "execution_count": 22,
   "id": "d6c2c864-d721-4868-8283-da6766edd49c",
   "metadata": {},
   "outputs": [
    {
     "name": "stdin",
     "output_type": "stream",
     "text": [
      "Enter the base of the triangle:  45\n",
      "Enter the height of the triangle:  63\n",
      "Enter the side a:  88\n",
      "Enter the side b:  78\n",
      "Enter the side c  96\n"
     ]
    },
    {
     "name": "stdout",
     "output_type": "stream",
     "text": [
      "Area of triangle:  1417.5\n",
      "Perimeter of triangle: 262.0\n"
     ]
    }
   ],
   "source": [
    "#find the area scalen triangle and their perimeter.\n",
    "\n",
    "class ScalaneTri:\n",
    "    def __init__(self):\n",
    "        self.base = float(input(\"Enter the base of the triangle: \"))\n",
    "        self.height = float(input(\"Enter the height of the triangle: \"))\n",
    "        self.a = float(input(\"Enter the side a: \"))\n",
    "        self.b = float(input(\"Enter the side b: \"))\n",
    "        self.c = float(input(\"Enter the side c \"))\n",
    "\n",
    "    def validtriangle(self):\n",
    "        return (self.a + self.b > self.c) and (self.a + self.c > self.b) and (self.b + self.c > self.a)\n",
    "\n",
    "    def scalene(self):\n",
    "        return self.a != self.b and self.b != self.c and self.a != self.c\n",
    "\n",
    "    def area(self):\n",
    "        ar = (1/2) * self.base * self.height\n",
    "        return ar\n",
    "\n",
    "    def perimeter(self):\n",
    "        p = self.a + self.b + self.c\n",
    "        return p\n",
    "\n",
    "\n",
    "t = ScalaneTri()\n",
    "\n",
    "if t.validtriangle() and t.scalene():\n",
    "    print(\"Area of triangle: \", t.area())\n",
    "    print(\"Perimeter of triangle:\", t.perimeter())\n",
    "else:\n",
    "    print(\"Invalid Triangle\")"
   ]
  },
  {
   "cell_type": "code",
   "execution_count": 23,
   "id": "aac389bb-e76e-4042-9cdb-4c14b99f6f24",
   "metadata": {},
   "outputs": [
    {
     "name": "stdin",
     "output_type": "stream",
     "text": [
      "Enter the side of triangle:  45\n"
     ]
    },
    {
     "name": "stdout",
     "output_type": "stream",
     "text": [
      "The area of equilateral triangle is:876.8507213317441\n",
      "The perimeter of equilateral triangle is:135\n"
     ]
    }
   ],
   "source": [
    "#5. find the area of equilateral triangle  and their perimeter.\n",
    "\n",
    "import math\n",
    "class triangle1:\n",
    "    def __init__(self):\n",
    "        self.side = int(input(\"Enter the side of triangle: \"))\n",
    "\n",
    "    def equilateraltriangle(self):\n",
    "        area = (math.sqrt(3)/4)*self.side*self.side\n",
    "        print(f\"The area of equilateral triangle is:{area}\")\n",
    "        perimeter = 3*self.side\n",
    "        print(f\"The perimeter of equilateral triangle is:{perimeter}\")\n",
    "\n",
    "triangle2 = triangle1()\n",
    "triangle2.equilateraltriangle()"
   ]
  },
  {
   "cell_type": "code",
   "execution_count": 25,
   "id": "8db0d771-3397-4287-a407-03b2688af34e",
   "metadata": {},
   "outputs": [
    {
     "name": "stdin",
     "output_type": "stream",
     "text": [
      "Enter the base :  78\n",
      "Enter the height :  36\n",
      "Enter the hypotenuse :  100\n"
     ]
    },
    {
     "name": "stdout",
     "output_type": "stream",
     "text": [
      "Scalene triangle\n",
      "Perimeter of scalene triangle: 214, Area of scalene triangle : 1241.849829890877\n"
     ]
    }
   ],
   "source": [
    "# 4. find the area of scalen triangle and their perimeter.\n",
    "import math\n",
    "class s_traingle:\n",
    "    def __init__(self):\n",
    "        self.base = int(input(\"Enter the base : \"))\n",
    "        self.height = int(input(\"Enter the height : \"))\n",
    "        self.hypotenuse = int(input(\"Enter the hypotenuse : \"))\n",
    "        \n",
    "    def striangle_dets(self):     \n",
    "        if (self.base + self.height)>self.hypotenuse and (self.height+self.hypotenuse)>self.base and (self.base+self.hypotenuse)>self.height and (self.base != self.height and self.height != self.hypotenuse and self.base != self.hypotenuse) :\n",
    "            print(\"Scalene triangle\")\n",
    "            perimeter = self.base+self.height+self.hypotenuse\n",
    "            s = perimeter /2\n",
    "            area = math.sqrt(s*(s-self.base)*(s-self.height)*(s-self.hypotenuse))\n",
    "            print( f\"Perimeter of scalene triangle: {perimeter}, Area of scalene triangle : {area}\")\n",
    "        else:\n",
    "            print(\"Not a Scalene triangle\")  \n",
    "\n",
    "\n",
    "t = s_traingle()\n",
    "t.striangle_dets()"
   ]
  },
  {
   "cell_type": "markdown",
   "id": "94acd8a5-5dfe-42e0-bb60-23b966c1a4f3",
   "metadata": {},
   "source": [
    "### Pillars of OOPs\n",
    "# Inheritance\n",
    "   * __Single/Simple Inheritance__\n",
    "   * __Multilevel Inheritance__\n",
    "   * __Multiple Inheritance__\n",
    "   * __Hierarchical Inheritance__\n",
    "   * __Hybrid Inheritance__\n",
    "\n",
    "# Polymorphism\n",
    "  * __Overriding(Run-Time)__\n",
    "     * __Same name, same Parameter__\n",
    "     * __static__\n",
    " * __Overloading(compile-Time)__\n",
    "    * __Same name, different parameter__\n",
    "    * __Dynamic__\n",
    "# Encapsulation\n",
    "   * __Protected__\n",
    "   * __Public__\n",
    "   * __Private__\n",
    "\n",
    "\n",
    "# Data Abstraction\n",
    " * __Hiding implementation details.__\n",
    " * __Showing only essential features.__"
   ]
  },
  {
   "cell_type": "code",
   "execution_count": 7,
   "id": "d71c984a-c93f-47d1-9e14-ea806a770ce2",
   "metadata": {},
   "outputs": [
    {
     "name": "stdout",
     "output_type": "stream",
     "text": [
      "Amazon\n",
      "Flipkart\n",
      "Online Commerce store\n",
      "Online store\n"
     ]
    }
   ],
   "source": [
    "# 1. Single/Simple Inheritance\n",
    "\n",
    "class a:  # parent\n",
    "    brandName1 = \"Amazon\"\n",
    "    brandName2 = \"Flipkart\"\n",
    "\n",
    "\n",
    "class b(a):  # child of a\n",
    "    prod1 = \"Online Commerce store\"\n",
    "    prod2 = \"Online store\"\n",
    "\n",
    "\n",
    "# obj1 = a()\n",
    "# print(obj1.brandName1)\n",
    "# print(obj1.brandName2)\n",
    "\n",
    "\n",
    "# obj2 = b()\n",
    "# print(obj2.prod1)\n",
    "# print(obj2.prod2)\n",
    "\n",
    "\n",
    "obj1 = b()\n",
    "print(obj1.brandName1)\n",
    "print(obj1.brandName2)\n",
    "print(obj1.prod1)\n",
    "print(obj1.prod2)"
   ]
  },
  {
   "cell_type": "code",
   "execution_count": 10,
   "id": "e599a784-4f40-4797-a152-7045cad887d9",
   "metadata": {},
   "outputs": [
    {
     "name": "stdout",
     "output_type": "stream",
     "text": [
      "Amazon\n",
      "Flipkart\n",
      "Online Commerce store\n",
      "Online store\n",
      "100\n",
      "200\n"
     ]
    }
   ],
   "source": [
    "# parent \n",
    "\n",
    "# Multilevel Inheritance \n",
    "\n",
    "class a:  # parent\n",
    "    brandName1 = \"Amazon\"\n",
    "    brandName2 = \"Flipkart\"\n",
    "\n",
    "\n",
    "class b(a):  # child of a \n",
    "    prod1 = \"Online Commerce store\"\n",
    "    prod2 = \"Online store\"\n",
    "\n",
    "\n",
    "class c(b): # grand child \n",
    "    popularity1 = \"100\"\n",
    "    popularity2 = \"200\"\n",
    "\n",
    "\n",
    "obj1 = c()\n",
    "print(obj1.brandName1)\n",
    "print(obj1.brandName2)\n",
    "print(obj1.prod1)\n",
    "print(obj1.prod2)\n",
    "print(obj1.popularity1)\n",
    "print(obj1.popularity2)"
   ]
  },
  {
   "cell_type": "code",
   "execution_count": 11,
   "id": "d4dbd329-e412-4843-8349-b16932bd5584",
   "metadata": {},
   "outputs": [
    {
     "name": "stdout",
     "output_type": "stream",
     "text": [
      "Amazon\n",
      "Flipkart\n",
      "Online Commerce store\n",
      "Online store\n",
      "100\n",
      "200\n",
      "apple\n",
      "Pineapple\n"
     ]
    }
   ],
   "source": [
    "# Multiple Inheritance\n",
    "\n",
    "class a:  # parent\n",
    "    brandName1 = \"Amazon\"\n",
    "    brandName2 = \"Flipkart\"\n",
    "\n",
    "\n",
    "class b:  # parent\n",
    "    prod1 = \"Online Commerce store\"\n",
    "    prod2 = \"Online store\"\n",
    "\n",
    "\n",
    "class c:  # parent\n",
    "    popularity1 = \"100\"\n",
    "    popularity2 = \"200\"\n",
    "\n",
    "class d(a,b,c):   # child of a,b,c\n",
    "    x = \"apple\"\n",
    "    y = \"Pineapple\"\n",
    "\n",
    "obj1 = d()\n",
    "print(obj1.brandName1)\n",
    "print(obj1.brandName2)\n",
    "print(obj1.prod1)\n",
    "print(obj1.prod2)\n",
    "print(obj1.popularity1)\n",
    "print(obj1.popularity2)\n",
    "print(obj1.x)\n",
    "print(obj1.y)"
   ]
  },
  {
   "cell_type": "code",
   "execution_count": 14,
   "id": "c40cd9ba-a251-4919-a6a3-d12488a40d94",
   "metadata": {},
   "outputs": [
    {
     "name": "stdout",
     "output_type": "stream",
     "text": [
      "Amazon\n",
      "Flipkart\n",
      "Online Commerce store\n",
      "Online store\n",
      "Amazon\n",
      "Flipkart\n",
      "100\n",
      "200\n",
      "Amazon\n",
      "Flipkart\n",
      "apple\n",
      "Pineapple\n"
     ]
    }
   ],
   "source": [
    "# Hierarchical Inheratiance\n",
    "\n",
    "class a:  # parent\n",
    "    brandName1 = \"Amazon\"\n",
    "    brandName2 = \"Flipkart\"\n",
    "\n",
    "\n",
    "class b(a):  # child \n",
    "    prod1 = \"Online Commerce store\"\n",
    "    prod2 = \"Online store\"\n",
    "\n",
    "\n",
    "class c(a):   # child \n",
    "    popularity1 = \"100\"\n",
    "    popularity2 = \"200\"\n",
    "\n",
    "class d(a):   # child\n",
    "    x = \"apple\"\n",
    "    y = \"Pineapple\"\n",
    "\n",
    "obj1 = b()\n",
    "print(obj1.brandName1)\n",
    "print(obj1.brandName2)\n",
    "print(obj1.prod1)\n",
    "print(obj1.prod2)\n",
    "\n",
    "\n",
    "\n",
    "obj2 = c()\n",
    "print(obj2.brandName1)\n",
    "print(obj2.brandName2)\n",
    "print(obj2.popularity1)\n",
    "print(obj2.popularity2)\n",
    "\n",
    "\n",
    "obj3 = d()\n",
    "print(obj3.brandName1)\n",
    "print(obj3.brandName2)\n",
    "print(obj3.x)\n",
    "print(obj3.y)"
   ]
  },
  {
   "cell_type": "code",
   "execution_count": 18,
   "id": "af7ca9f1-8094-4c40-a806-b9d1994514aa",
   "metadata": {},
   "outputs": [
    {
     "name": "stdout",
     "output_type": "stream",
     "text": [
      "Dog Barks\n",
      "This is pet animal\n",
      "Puppy is playful\n"
     ]
    }
   ],
   "source": [
    "# Hybrid Inheritance:\n",
    "\n",
    "class Animal:  # parent\n",
    "    def sound(self):\n",
    "        return \"Animal makes a sound.\"\n",
    "\n",
    "\n",
    "class dog(Animal):    # \n",
    "    def sound(self):\n",
    "        return \"Dog Barks\"\n",
    "\n",
    "class cat(Animal):\n",
    "    def sound(self):\n",
    "        return \"Meow\"\n",
    "\n",
    "class pet(Animal):\n",
    "    def pet_type(self):\n",
    "        return \"This is pet animal\"\n",
    "\n",
    "class Puppy(dog,pet):  # Hybrid\n",
    "    def behavior(self):\n",
    "        return \"Puppy is playful\"\n",
    "\n",
    "obj = Puppy()  \n",
    "print(obj.sound())\n",
    "print(obj.pet_type())\n",
    "print(obj.behavior())\n",
    "        \n",
    "    \n",
    "        "
   ]
  },
  {
   "cell_type": "code",
   "execution_count": 19,
   "id": "f8b86620-29d1-4f1a-81d5-b28f126bc0f4",
   "metadata": {},
   "outputs": [
    {
     "name": "stdout",
     "output_type": "stream",
     "text": [
      "xyz\n",
      "35\n",
      "Dwarka\n"
     ]
    }
   ],
   "source": [
    "# super().__init__()\n",
    "class Student:\n",
    "    def __init__(self, name, age,address):\n",
    "        self.name = name\n",
    "        self.age = age\n",
    "        self.address = address\n",
    "\n",
    "\n",
    "obj1 = Student('xyz',35,\"Dwarka\")\n",
    "print(obj1.name)\n",
    "print(obj1.age)\n",
    "print(obj1.address)"
   ]
  },
  {
   "cell_type": "code",
   "execution_count": 25,
   "id": "87637ce2-e391-4b16-9e69-7246004dc6d1",
   "metadata": {},
   "outputs": [
    {
     "name": "stdout",
     "output_type": "stream",
     "text": [
      "4664644\n",
      "Omkar\n",
      "35\n",
      "Pune\n"
     ]
    }
   ],
   "source": [
    "# Inheritance\n",
    "\n",
    "class Student2(Student):\n",
    "    def __init__(self,name, age,address,phoneNo):\n",
    "        self.phoneNo = phoneNo\n",
    "        super().__init__(name, age,address)\n",
    "\n",
    "\n",
    "    def studentDetails(self):\n",
    "\n",
    "\n",
    "obj2 = Student2(\"Omkar\",35,\"Pune\",\"4664644\")\n",
    "print(obj2.phoneNo)\n",
    "print(obj2.name)\n",
    "print(obj2.age)\n",
    "print(obj2.address)"
   ]
  },
  {
   "cell_type": "code",
   "execution_count": 26,
   "id": "c205f0a9-3de8-49b9-9ba5-6d77b6311a8a",
   "metadata": {},
   "outputs": [
    {
     "name": "stdout",
     "output_type": "stream",
     "text": [
      "Omkar\n",
      "35\n",
      "Pune\n",
      "4664644\n",
      "bob@gmail.com\n"
     ]
    }
   ],
   "source": [
    "class student3(Student2):\n",
    "    def __init__(self,name,age,address,phoneNo,email):\n",
    "        self.email=email\n",
    "        super().__init__(name, age,address,phoneNo)\n",
    "\n",
    "\n",
    "obj2 = student3(\"Omkar\",35,\"Pune\",\"4664644\",'bob@gmail.com')\n",
    "print(obj2.name)\n",
    "print(obj2.age)\n",
    "print(obj2.address)\n",
    "print(obj2.phoneNo)\n",
    "print(obj2.email)"
   ]
  },
  {
   "cell_type": "code",
   "execution_count": 29,
   "id": "26e0803b-9510-48fd-b335-186cc4a4b430",
   "metadata": {},
   "outputs": [],
   "source": [
    "class rectangle:\n",
    "    def __init__(self,length,breadth):\n",
    "        self.length = length\n",
    "        self.breadth = breadth\n"
   ]
  },
  {
   "cell_type": "code",
   "execution_count": 33,
   "id": "65356855-2a9d-4d9f-bc20-b6a22cd580bc",
   "metadata": {},
   "outputs": [
    {
     "data": {
      "text/plain": [
       "'Area of Right Angled Triangle: 100.0 cm²'"
      ]
     },
     "execution_count": 33,
     "metadata": {},
     "output_type": "execute_result"
    }
   ],
   "source": [
    "class Triangle(rectangle):\n",
    "    def __init__(self,length,breadth,height):\n",
    "        self.height = height\n",
    "        super().__init__(length,breadth)\n",
    "\n",
    "\n",
    "    def Area(self):\n",
    "        area = 1/2*(self.breadth*self.height)\n",
    "        return f'Area of Right Angled Triangle: {area} cm²'\n",
    "\n",
    "\n",
    "tri = Triangle(0,10,20)\n",
    "tri.Area()"
   ]
  },
  {
   "cell_type": "markdown",
   "id": "396c0abd-2cbd-4308-be83-9955f0ee5dc3",
   "metadata": {},
   "source": [
    "### Polymorphism:\n",
    " * __Funciton Overriding__\n",
    " * __Funciton Overloading__\n",
    "\n",
    "### Why We use Overriding?\n",
    " * __To provode specific behaviour for the subclass.__\n",
    " * __To extend or modify the functionality of a base class.__"
   ]
  },
  {
   "cell_type": "code",
   "execution_count": 42,
   "id": "ef408cf7-aa30-49e3-89f2-bce4dcd4ca70",
   "metadata": {},
   "outputs": [
    {
     "name": "stdout",
     "output_type": "stream",
     "text": [
      "The dog barks\n",
      "Elephant color is black\n",
      "Elephant Trumph\n"
     ]
    }
   ],
   "source": [
    "class Animal:\n",
    "    def speak(self,color):\n",
    "        print(\"Its color is black\")\n",
    "        return \"The animal makes a sound.\"\n",
    "        \n",
    "\n",
    "\n",
    "class Dog(Animal):\n",
    "    def speak(self):  # local function\n",
    "        return \"The dog barks\"\n",
    "\n",
    "\n",
    "obj1 = Dog()\n",
    "print(obj1.speak())\n",
    "\n",
    "\n",
    "class Elephant(Animal):\n",
    "    def speak(self,color=\"black\"):\n",
    "        print(\"Elephant color is black\")\n",
    "        return \"Elephant Trumph\"\n",
    "\n",
    "\n",
    "obj2 = Elephant()\n",
    "print(obj2.speak())"
   ]
  },
  {
   "cell_type": "code",
   "execution_count": 5,
   "id": "7166a164-912d-41db-b37b-c4b9530dfc70",
   "metadata": {},
   "outputs": [
    {
     "name": "stdout",
     "output_type": "stream",
     "text": [
      "Square of 10 is 100\n",
      "Cube of: 10 is 1000\n"
     ]
    }
   ],
   "source": [
    "# Polymorphism: function same name(same parameter)\n",
    "# function overriding\n",
    "\n",
    "class Number: # parent class\n",
    "    def calculate(self,n):\n",
    "        print(\"Square of\",n,\"is\",n*n)\n",
    "\n",
    "\n",
    "class NewNumber(Number):\n",
    "    # Overriding the parent method\n",
    "    def calculate(self,n):\n",
    "        print(\"Cube of:\",n,\"is\",n*n*n)\n",
    "\n",
    "obj1 = Number()\n",
    "obj1.calculate(10)\n",
    "\n",
    "\n",
    "obj2 = NewNumber()\n",
    "obj2.calculate(10)"
   ]
  },
  {
   "cell_type": "code",
   "execution_count": 6,
   "id": "71026736-8a1b-402e-86b5-f447dcd95279",
   "metadata": {},
   "outputs": [
    {
     "ename": "TypeError",
     "evalue": "add() missing 1 required positional argument: 'c'",
     "output_type": "error",
     "traceback": [
      "\u001b[31m---------------------------------------------------------------------------\u001b[39m",
      "\u001b[31mTypeError\u001b[39m                                 Traceback (most recent call last)",
      "\u001b[36mCell\u001b[39m\u001b[36m \u001b[39m\u001b[32mIn[6]\u001b[39m\u001b[32m, line 8\u001b[39m\n\u001b[32m      5\u001b[39m \u001b[38;5;28;01mdef\u001b[39;00m\u001b[38;5;250m \u001b[39m\u001b[34madd\u001b[39m(a,b,c):\n\u001b[32m      6\u001b[39m     \u001b[38;5;28;01mreturn\u001b[39;00m a+b+c\n\u001b[32m----> \u001b[39m\u001b[32m8\u001b[39m \u001b[38;5;28mprint\u001b[39m(\u001b[43madd\u001b[49m\u001b[43m(\u001b[49m\u001b[32;43m10\u001b[39;49m\u001b[43m,\u001b[49m\u001b[32;43m20\u001b[39;49m\u001b[43m)\u001b[49m)\n",
      "\u001b[31mTypeError\u001b[39m: add() missing 1 required positional argument: 'c'"
     ]
    }
   ],
   "source": [
    "def add(a,b): # parent class\n",
    "    return a+b\n",
    "\n",
    "\n",
    "def add(a,b,c):\n",
    "    return a+b+c\n",
    "\n",
    "print(add(10,20))"
   ]
  },
  {
   "cell_type": "code",
   "execution_count": 9,
   "id": "76a94eae-9983-4a63-a046-15753841c6be",
   "metadata": {},
   "outputs": [
    {
     "name": "stdout",
     "output_type": "stream",
     "text": [
      "10\n",
      "30\n",
      "45\n"
     ]
    }
   ],
   "source": [
    "def add(a,b=0,c=0):\n",
    "    return a+b+c\n",
    "\n",
    "print(add(10))\n",
    "print(add(10,20)) \n",
    "print(add(10,20,15))"
   ]
  },
  {
   "cell_type": "code",
   "execution_count": 12,
   "id": "a0edce00-221e-4dc4-8c12-fb21de32f81d",
   "metadata": {},
   "outputs": [
    {
     "name": "stdout",
     "output_type": "stream",
     "text": [
      "10\n",
      "30\n",
      "45\n",
      "978\n"
     ]
    }
   ],
   "source": [
    "def add(*args):\n",
    "    return sum(args)\n",
    "\n",
    "print(add(10))\n",
    "print(add(10,20)) \n",
    "print(add(10,20,15))\n",
    "print(add(10,10,10,22,2,2,20,500,50,50,225,77))"
   ]
  },
  {
   "cell_type": "code",
   "execution_count": 31,
   "id": "3daa385e-e63e-4862-9417-f89f3c58581b",
   "metadata": {},
   "outputs": [
    {
     "name": "stdout",
     "output_type": "stream",
     "text": [
      "Sum of the two numbers is: 30\n",
      "Sum of the three numbers is: 78\n",
      "Provide at least two Numbers\n"
     ]
    }
   ],
   "source": [
    "# example of overloading\n",
    "class calculator:\n",
    "    def add(self,a=None,b=None,c=None):\n",
    "        if a is not None and b is not None and c is not None:\n",
    "            print(\"Sum of the three numbers is:\",a+b+c)\n",
    "        elif a is not None and b is not None:\n",
    "            print(\"Sum of the two numbers is:\", a+b)\n",
    "        else:\n",
    "            print(\"Provide at least two Numbers\")\n",
    "\n",
    "\n",
    "obj1 = calculator()\n",
    "obj1.add(10,20)\n",
    "obj1.add(45,18,15)\n",
    "obj1.add(10)"
   ]
  },
  {
   "cell_type": "markdown",
   "id": "938ce72c-2ead-4693-ac79-54a6907f6254",
   "metadata": {},
   "source": [
    "### Encapsulation\n",
    "\n",
    " * __Encapsulation is an oop concept where we handle the data(variable) and the methods (functions) that operate on data into a single unit.__\n",
    " * __It also restrict direct access to some data- meaning you can hide sensitive information from the outside world and control access uisng getters and setters.__\n",
    " * __Real-life example: A bank account object contains:__\n",
    " * __Data: An account Number, with balance.__\n",
    " * __Method: Deposite, withdraw.__\n",
    " * __The account balance should not be directly modified by anyone.__\n",
    "\n",
    "\n",
    "### Kye points about Encapsulation in Python\n",
    "\n",
    " * __Public Members: Accessible everywhere or evenryone.__\n",
    " * __Private members: Declared with _ _ (double undersore), not accessible directly outisde the class.__\n",
    " * __Protected Members: Declared _ (single underscote), means to be treated as private, but still accessible.__"
   ]
  },
  {
   "cell_type": "code",
   "execution_count": 45,
   "id": "d75a8586-4998-4d6e-962d-d225ab40ba18",
   "metadata": {},
   "outputs": [
    {
     "data": {
      "text/plain": [
       "0"
      ]
     },
     "execution_count": 45,
     "metadata": {},
     "output_type": "execute_result"
    }
   ],
   "source": [
    "class bankAccount:\n",
    "    def __init__(self,accountNumber,balance=0):\n",
    "        self.accountNumber = accountNumber\n",
    "        self.__balance = balance  # private\n",
    "\n",
    "    # Getter: it returns value on the screen only\n",
    "    def get_balance(self):\n",
    "        return self.__balance\n",
    "\n",
    "    # setter method\n",
    "    def depositeAmount(self):\n",
    "        amount = int(input(\"Enter your Amount ₹:\"))\n",
    "        self.__balance = self.__balance+amount\n",
    "        return f\"Your Updated balance is: {self.__balance}\"\n",
    "\n",
    "    def withDrawAmount(self):\n",
    "        amount = int(input(\"Enter your withdrawal Amount ₹: \"))\n",
    "        if self.__balance>amount:\n",
    "            self.__balance -= amount\n",
    "            return f\"Your Updated balance is: {self.__balance}\" \n",
    "        else:\n",
    "            print(\"Insufficient Balance\")\n",
    "\n",
    "bank = bankAccount(\"41565415441\")\n",
    "bank.get_balance()"
   ]
  },
  {
   "cell_type": "code",
   "execution_count": 47,
   "id": "98dea7f2-0392-41b7-a40d-a28727b32452",
   "metadata": {},
   "outputs": [
    {
     "name": "stdin",
     "output_type": "stream",
     "text": [
      "Enter your Amount ₹: 4000\n"
     ]
    },
    {
     "data": {
      "text/plain": [
       "'Your Updated balance is: 4000'"
      ]
     },
     "execution_count": 47,
     "metadata": {},
     "output_type": "execute_result"
    }
   ],
   "source": [
    "bank = bankAccount(\"41565415441\")\n",
    "bank.get_balance()\n",
    "bank.depositeAmount()"
   ]
  },
  {
   "cell_type": "code",
   "execution_count": 48,
   "id": "9465837f-8b65-4cb0-9b51-cc0d71f0b6ad",
   "metadata": {},
   "outputs": [
    {
     "name": "stdin",
     "output_type": "stream",
     "text": [
      "Enter your withdrawal Amount ₹:  1500\n"
     ]
    },
    {
     "data": {
      "text/plain": [
       "'Your Updated balance is: 2500'"
      ]
     },
     "execution_count": 48,
     "metadata": {},
     "output_type": "execute_result"
    }
   ],
   "source": [
    "bank.withDrawAmount()"
   ]
  },
  {
   "cell_type": "code",
   "execution_count": 49,
   "id": "58589214-db21-40c2-b094-e59eca73aea8",
   "metadata": {},
   "outputs": [],
   "source": [
    "# ATM: Public, private, protected."
   ]
  },
  {
   "cell_type": "code",
   "execution_count": null,
   "id": "16d21454-bf11-4fa7-a8ef-2c24ef3c9e1d",
   "metadata": {},
   "outputs": [],
   "source": []
  },
  {
   "cell_type": "code",
   "execution_count": null,
   "id": "05101762-2c3d-4e04-ae76-20e13f747aa6",
   "metadata": {},
   "outputs": [],
   "source": []
  },
  {
   "cell_type": "markdown",
   "id": "55ac19df-4a5d-464a-aaec-92b1952423d6",
   "metadata": {},
   "source": [
    "# Data Abstraction \n",
    " * __Data Abstraction is an OOP Concept where you hide the implementation details of any class and expose only the necessary functionality to the user.__\n",
    "\n",
    " * __Example: When you drive a car, you use the steering wheel, acceletor, and breaks But you don't need to know the complex details of how the engine or transmission work.__\n",
    "\n",
    " * __In Python, abstraction is mainly achieved using abstract base classes and method.__\n",
    "\n",
    "\n",
    "# How Abstraction works in Python\n",
    "\n",
    " * __Python provides the abc(Abstract base classes) module to implement abstraction.__\n",
    " * __Abstract class: A class that cannot be inherited(You can't create object from it).__\n",
    " * __Abstract method: A method declared in the abstract class, but without implementation. The child calss must be implemented it.__"
   ]
  },
  {
   "cell_type": "code",
   "execution_count": 75,
   "id": "fbe20927-9f01-4773-8174-9c9552cf0df6",
   "metadata": {},
   "outputs": [],
   "source": [
    "from abc import ABC, abstractmethod\n",
    "class Vehicle(ABC):\n",
    "\n",
    "    @abstractmethod    \n",
    "    def starts(self):\n",
    "        pass\n",
    "        \n",
    "    @abstractmethod\n",
    "    def stop(self):\n",
    "        pass\n",
    "\n",
    "    @abstractmethod\n",
    "    def break1(self):\n",
    "        pass"
   ]
  },
  {
   "cell_type": "code",
   "execution_count": 78,
   "id": "7a53b6a9-3dd0-4167-b8bc-c2977b7c4ac2",
   "metadata": {},
   "outputs": [
    {
     "name": "stdout",
     "output_type": "stream",
     "text": [
      "Car Engine Started.\n",
      "None\n"
     ]
    }
   ],
   "source": [
    "class Car(Vehicle):\n",
    "    \n",
    "    def starts(self):\n",
    "        print(\"Car Engine Started.\")\n",
    "\n",
    "    def stop(self):\n",
    "        pass\n",
    "\n",
    "    def break1(self):\n",
    "        pass\n",
    "vehicle1 = Car()\n",
    "print(vehicle1.starts())"
   ]
  },
  {
   "cell_type": "code",
   "execution_count": 79,
   "id": "b0efeeae-d97e-4b29-9ff7-4a408ee6f3fb",
   "metadata": {},
   "outputs": [
    {
     "name": "stdout",
     "output_type": "stream",
     "text": [
      "This is my Bike\n"
     ]
    }
   ],
   "source": [
    "class Bike(Vehicle):\n",
    "    def myBike(self):\n",
    "        print(\"This is my Bike\")\n",
    "\n",
    "    def starts(self):\n",
    "        pass\n",
    "\n",
    "    def stop(self):\n",
    "        pass\n",
    "\n",
    "    def break1(self):\n",
    "        pass\n",
    "\n",
    "vehicle2 = Bike()\n",
    "vehicle2.myBike()"
   ]
  },
  {
   "cell_type": "code",
   "execution_count": null,
   "id": "a10943bf-9f27-42ef-9a48-1bf1d233d956",
   "metadata": {},
   "outputs": [],
   "source": [
    "# ATM Project"
   ]
  }
 ],
 "metadata": {
  "kernelspec": {
   "display_name": "Python 3 (ipykernel)",
   "language": "python",
   "name": "python3"
  },
  "language_info": {
   "codemirror_mode": {
    "name": "ipython",
    "version": 3
   },
   "file_extension": ".py",
   "mimetype": "text/x-python",
   "name": "python",
   "nbconvert_exporter": "python",
   "pygments_lexer": "ipython3",
   "version": "3.13.7"
  }
 },
 "nbformat": 4,
 "nbformat_minor": 5
}
