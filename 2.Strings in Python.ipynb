{
 "cells": [
  {
   "cell_type": "markdown",
   "id": "26b74bfe-7381-42c9-beaf-ddacfda39547",
   "metadata": {},
   "source": [
    "# 2. Strings in python"
   ]
  },
  {
   "cell_type": "code",
   "execution_count": 1,
   "id": "a2808e37-a2da-464b-b5f4-ee3e3cc54515",
   "metadata": {},
   "outputs": [
    {
     "data": {
      "text/plain": [
       "'Hello world'"
      ]
     },
     "execution_count": 1,
     "metadata": {},
     "output_type": "execute_result"
    }
   ],
   "source": [
    "\"Hello world\""
   ]
  },
  {
   "cell_type": "code",
   "execution_count": 2,
   "id": "a9d1b1c5-6269-412d-906c-86a80401b1f3",
   "metadata": {},
   "outputs": [
    {
     "data": {
      "text/plain": [
       "'Hello world'"
      ]
     },
     "execution_count": 2,
     "metadata": {},
     "output_type": "execute_result"
    }
   ],
   "source": [
    "'Hello world'"
   ]
  },
  {
   "cell_type": "code",
   "execution_count": 3,
   "id": "0df8745a-91cc-446b-9ac5-dd5df492da7b",
   "metadata": {},
   "outputs": [
    {
     "data": {
      "text/plain": [
       "'Hello world'"
      ]
     },
     "execution_count": 3,
     "metadata": {},
     "output_type": "execute_result"
    }
   ],
   "source": [
    "# Multiline comment\n",
    "'''Hello world'''"
   ]
  },
  {
   "cell_type": "code",
   "execution_count": 4,
   "id": "de08f1d0-3c10-4ef0-bd99-5d7354a56776",
   "metadata": {},
   "outputs": [
    {
     "data": {
      "text/plain": [
       "'123345566'"
      ]
     },
     "execution_count": 4,
     "metadata": {},
     "output_type": "execute_result"
    }
   ],
   "source": [
    "\"123345566\""
   ]
  },
  {
   "cell_type": "code",
   "execution_count": 5,
   "id": "29c1358e-63ba-4560-97b0-2601eaee1aed",
   "metadata": {},
   "outputs": [
    {
     "data": {
      "text/plain": [
       "'!@!#$%^^'"
      ]
     },
     "execution_count": 5,
     "metadata": {},
     "output_type": "execute_result"
    }
   ],
   "source": [
    "\"!@!#$%^^\""
   ]
  },
  {
   "cell_type": "code",
   "execution_count": 6,
   "id": "816df1fa-e2af-4eee-90ae-31a8b1dd11aa",
   "metadata": {},
   "outputs": [
    {
     "name": "stdout",
     "output_type": "stream",
     "text": [
      "Hello world\n"
     ]
    }
   ],
   "source": [
    "message = 'Hello world'\n",
    "print(message)"
   ]
  },
  {
   "cell_type": "code",
   "execution_count": 11,
   "id": "99500bed-56da-4959-a9f6-05bc7f16fa27",
   "metadata": {},
   "outputs": [
    {
     "name": "stdout",
     "output_type": "stream",
     "text": [
      "H\n",
      "e\n",
      "l\n",
      "l\n",
      "o\n",
      " \n",
      "w\n",
      "o\n",
      "r\n",
      "l\n",
      "d\n"
     ]
    },
    {
     "ename": "IndexError",
     "evalue": "string index out of range",
     "output_type": "error",
     "traceback": [
      "\u001b[31m---------------------------------------------------------------------------\u001b[39m",
      "\u001b[31mIndexError\u001b[39m                                Traceback (most recent call last)",
      "\u001b[36mCell\u001b[39m\u001b[36m \u001b[39m\u001b[32mIn[11]\u001b[39m\u001b[32m, line 12\u001b[39m\n\u001b[32m     10\u001b[39m \u001b[38;5;28mprint\u001b[39m(message[\u001b[32m9\u001b[39m])\n\u001b[32m     11\u001b[39m \u001b[38;5;28mprint\u001b[39m(message[\u001b[32m10\u001b[39m])\n\u001b[32m---> \u001b[39m\u001b[32m12\u001b[39m \u001b[38;5;28mprint\u001b[39m(\u001b[43mmessage\u001b[49m\u001b[43m[\u001b[49m\u001b[32;43m11\u001b[39;49m\u001b[43m]\u001b[49m)\n",
      "\u001b[31mIndexError\u001b[39m: string index out of range"
     ]
    }
   ],
   "source": [
    "# Positive Indexing\n",
    "print(message[0])\n",
    "print(message[1])\n",
    "print(message[2])\n",
    "print(message[3])\n",
    "print(message[4])\n",
    "print(message[5])\n",
    "print(message[6])\n",
    "print(message[7])\n",
    "print(message[8])\n",
    "print(message[9])\n",
    "print(message[10])\n",
    "print(message[11])"
   ]
  },
  {
   "cell_type": "code",
   "execution_count": 16,
   "id": "7261d531-90a2-4b2e-b89f-d1362072fcf3",
   "metadata": {},
   "outputs": [
    {
     "name": "stdout",
     "output_type": "stream",
     "text": [
      "Hello world\n",
      "d\n",
      "l\n",
      "r\n",
      "o\n",
      "w\n",
      " \n",
      "o\n",
      "l\n",
      "l\n",
      "e\n",
      "H\n"
     ]
    }
   ],
   "source": [
    "# Negative Indexing\n",
    "print(message)\n",
    "print(message[-1])\n",
    "print(message[-2])\n",
    "print(message[-3])\n",
    "print(message[-4])\n",
    "print(message[-5])\n",
    "print(message[-6])\n",
    "print(message[-7])\n",
    "print(message[-8])\n",
    "print(message[-9])\n",
    "print(message[-10])\n",
    "print(message[-11])"
   ]
  },
  {
   "cell_type": "code",
   "execution_count": 17,
   "id": "60c2b1ed-a8c0-4486-9f1f-1a9c787df073",
   "metadata": {},
   "outputs": [
    {
     "name": "stdout",
     "output_type": "stream",
     "text": [
      "Original String: Hello World\n"
     ]
    }
   ],
   "source": [
    "# slicing of string\n",
    "\n",
    "msg = \"Hello World\"\n",
    "print(\"Original String:\",msg)"
   ]
  },
  {
   "cell_type": "code",
   "execution_count": 20,
   "id": "bd30e0c8-b643-4c32-9099-c50b107eb0f0",
   "metadata": {},
   "outputs": [
    {
     "data": {
      "text/plain": [
       "'Hello'"
      ]
     },
     "execution_count": 20,
     "metadata": {},
     "output_type": "execute_result"
    }
   ],
   "source": [
    "msg1 = msg[0:5]   # [starts:ends]  n-1 = 5-1 = 4\n",
    "msg1"
   ]
  },
  {
   "cell_type": "code",
   "execution_count": 21,
   "id": "c25f5f6f-6b58-487c-b100-c4feb35fcc85",
   "metadata": {},
   "outputs": [
    {
     "data": {
      "text/plain": [
       "2523578864416"
      ]
     },
     "execution_count": 21,
     "metadata": {},
     "output_type": "execute_result"
    }
   ],
   "source": [
    "id(msg1)"
   ]
  },
  {
   "cell_type": "code",
   "execution_count": 22,
   "id": "e1f867f3-7588-4d6b-a212-e2b72e3f892d",
   "metadata": {},
   "outputs": [],
   "source": [
    "x = 20"
   ]
  },
  {
   "cell_type": "code",
   "execution_count": 23,
   "id": "0ccb97cb-b1a0-4179-a694-5aacd4cb84ab",
   "metadata": {},
   "outputs": [
    {
     "data": {
      "text/plain": [
       "140723792999944"
      ]
     },
     "execution_count": 23,
     "metadata": {},
     "output_type": "execute_result"
    }
   ],
   "source": [
    "id(x)"
   ]
  },
  {
   "cell_type": "code",
   "execution_count": 24,
   "id": "c3de64b0-a2ed-4ab5-889b-380cf48cdc46",
   "metadata": {},
   "outputs": [
    {
     "data": {
      "text/plain": [
       "'Hello World'"
      ]
     },
     "execution_count": 24,
     "metadata": {},
     "output_type": "execute_result"
    }
   ],
   "source": [
    "msg"
   ]
  },
  {
   "cell_type": "code",
   "execution_count": 25,
   "id": "88439bd4-f14c-44c4-845a-54942ee41924",
   "metadata": {},
   "outputs": [
    {
     "data": {
      "text/plain": [
       "'World'"
      ]
     },
     "execution_count": 25,
     "metadata": {},
     "output_type": "execute_result"
    }
   ],
   "source": [
    "msg2 = msg[6:]\n",
    "msg2"
   ]
  },
  {
   "cell_type": "code",
   "execution_count": 26,
   "id": "15ab520c-ed36-43fa-b033-998225453083",
   "metadata": {},
   "outputs": [
    {
     "data": {
      "text/plain": [
       "'Hello'"
      ]
     },
     "execution_count": 26,
     "metadata": {},
     "output_type": "execute_result"
    }
   ],
   "source": [
    "msg3 = msg[:5]\n",
    "msg3"
   ]
  },
  {
   "cell_type": "markdown",
   "id": "82a59bac-7071-4687-9f62-afb3ef3bd6bd",
   "metadata": {},
   "source": [
    "# Striding of a String"
   ]
  },
  {
   "cell_type": "code",
   "execution_count": 27,
   "id": "ada4552f-efe7-4a84-9904-f0774a073018",
   "metadata": {},
   "outputs": [
    {
     "name": "stdout",
     "output_type": "stream",
     "text": [
      "123456789\n"
     ]
    }
   ],
   "source": [
    "val = \"123456789\"  # n-1 =  2 - 1 = 1\n",
    "\n",
    "print(val)"
   ]
  },
  {
   "cell_type": "code",
   "execution_count": 33,
   "id": "cb643a16-f6fe-4217-bc2d-458de5e4841b",
   "metadata": {},
   "outputs": [
    {
     "data": {
      "text/plain": [
       "'159'"
      ]
     },
     "execution_count": 33,
     "metadata": {},
     "output_type": "execute_result"
    }
   ],
   "source": [
    "val[::4]"
   ]
  },
  {
   "cell_type": "code",
   "execution_count": 34,
   "id": "a9f93b24-3635-4d50-b5c2-9d10618824f9",
   "metadata": {},
   "outputs": [
    {
     "name": "stdout",
     "output_type": "stream",
     "text": [
      "Hlo\n"
     ]
    }
   ],
   "source": [
    "x1 = \"Hello world\"\n",
    "\n",
    "x2 = x1[:5:2]\n",
    "print(x2)"
   ]
  },
  {
   "cell_type": "code",
   "execution_count": 36,
   "id": "27fa4c1b-352b-4c6a-927b-6bff2003a768",
   "metadata": {},
   "outputs": [
    {
     "data": {
      "text/plain": [
       "'eood'"
      ]
     },
     "execution_count": 36,
     "metadata": {},
     "output_type": "execute_result"
    }
   ],
   "source": [
    "x3 = x1[1::3]\n",
    "x3"
   ]
  },
  {
   "cell_type": "code",
   "execution_count": 39,
   "id": "81cd684f-7d67-4184-b0f8-7e43ffce5957",
   "metadata": {},
   "outputs": [
    {
     "name": "stdout",
     "output_type": "stream",
     "text": [
      "Aditya Ashok Patil\n"
     ]
    }
   ],
   "source": [
    "# Concatenation \n",
    "\n",
    "firstname = \"Aditya\"\n",
    "middlename = \" Ashok\"\n",
    "Lastname = \" Patil\"\n",
    "\n",
    "fullname = firstname+middlename+Lastname\n",
    "print(fullname)"
   ]
  },
  {
   "cell_type": "code",
   "execution_count": 40,
   "id": "cd069576-6711-45ab-ae17-823c48b21127",
   "metadata": {},
   "outputs": [
    {
     "data": {
      "text/plain": [
       "'AdityaAdityaAdityaAditya'"
      ]
     },
     "execution_count": 40,
     "metadata": {},
     "output_type": "execute_result"
    }
   ],
   "source": [
    "# Repetation of value\n",
    "\n",
    "4*firstname"
   ]
  },
  {
   "cell_type": "code",
   "execution_count": 41,
   "id": "2107d6fb-2454-4b12-ad88-a78418767ee3",
   "metadata": {},
   "outputs": [
    {
     "ename": "TypeError",
     "evalue": "unsupported operand type(s) for +: 'int' and 'str'",
     "output_type": "error",
     "traceback": [
      "\u001b[31m---------------------------------------------------------------------------\u001b[39m",
      "\u001b[31mTypeError\u001b[39m                                 Traceback (most recent call last)",
      "\u001b[36mCell\u001b[39m\u001b[36m \u001b[39m\u001b[32mIn[41]\u001b[39m\u001b[32m, line 1\u001b[39m\n\u001b[32m----> \u001b[39m\u001b[32m1\u001b[39m \u001b[32;43m4\u001b[39;49m\u001b[43m+\u001b[49m\u001b[43mfirstname\u001b[49m\n",
      "\u001b[31mTypeError\u001b[39m: unsupported operand type(s) for +: 'int' and 'str'"
     ]
    }
   ],
   "source": [
    "4+firstname"
   ]
  },
  {
   "cell_type": "code",
   "execution_count": 43,
   "id": "94884bc9-e624-4e0a-bd81-3139efb01f3a",
   "metadata": {},
   "outputs": [
    {
     "data": {
      "text/plain": [
       "'HelloHelloHelloHello'"
      ]
     },
     "execution_count": 43,
     "metadata": {},
     "output_type": "execute_result"
    }
   ],
   "source": [
    "4*\"Hello\""
   ]
  },
  {
   "cell_type": "code",
   "execution_count": 44,
   "id": "cf2dffba-a5d6-4781-b7e1-6d0137d97dcc",
   "metadata": {},
   "outputs": [],
   "source": [
    "# Escape Sequence"
   ]
  },
  {
   "cell_type": "code",
   "execution_count": 45,
   "id": "b7a769ef-9901-4e60-86e6-2990544ab4fd",
   "metadata": {},
   "outputs": [
    {
     "name": "stdout",
     "output_type": "stream",
     "text": [
      "!@#$%/\n"
     ]
    }
   ],
   "source": [
    "print(\"!@#$%/\")"
   ]
  },
  {
   "cell_type": "code",
   "execution_count": 46,
   "id": "189d34b8-0ac3-4d3a-9172-23ac9b3fe4db",
   "metadata": {},
   "outputs": [
    {
     "ename": "SyntaxError",
     "evalue": "unterminated string literal (detected at line 1); perhaps you escaped the end quote? (4138952293.py, line 1)",
     "output_type": "error",
     "traceback": [
      "  \u001b[36mCell\u001b[39m\u001b[36m \u001b[39m\u001b[32mIn[46]\u001b[39m\u001b[32m, line 1\u001b[39m\n\u001b[31m    \u001b[39m\u001b[31mprint('\\')\u001b[39m\n          ^\n\u001b[31mSyntaxError\u001b[39m\u001b[31m:\u001b[39m unterminated string literal (detected at line 1); perhaps you escaped the end quote?\n"
     ]
    }
   ],
   "source": [
    "print('\\')"
   ]
  },
  {
   "cell_type": "code",
   "execution_count": 48,
   "id": "7a28c980-1fe4-4752-ad0a-cc970eebf11a",
   "metadata": {},
   "outputs": [
    {
     "name": "stderr",
     "output_type": "stream",
     "text": [
      "<>:1: SyntaxWarning: invalid escape sequence '\\h'\n",
      "<>:1: SyntaxWarning: invalid escape sequence '\\h'\n",
      "C:\\Users\\User\\AppData\\Local\\Temp\\ipykernel_6740\\3798858828.py:1: SyntaxWarning: invalid escape sequence '\\h'\n",
      "  \"\\h\"\n"
     ]
    },
    {
     "data": {
      "text/plain": [
       "'\\\\h'"
      ]
     },
     "execution_count": 48,
     "metadata": {},
     "output_type": "execute_result"
    }
   ],
   "source": [
    "\"\\h\""
   ]
  },
  {
   "cell_type": "code",
   "execution_count": 54,
   "id": "16c71f36-f59f-4ea3-b9cd-c7741074d14c",
   "metadata": {},
   "outputs": [
    {
     "name": "stdout",
     "output_type": "stream",
     "text": [
      "\\\\\\\n"
     ]
    }
   ],
   "source": [
    "print(\"\\\\\\\\\\\\\")"
   ]
  },
  {
   "cell_type": "code",
   "execution_count": 56,
   "id": "2214d1b3-ac8e-4ea1-b134-14a71712889d",
   "metadata": {},
   "outputs": [
    {
     "name": "stdout",
     "output_type": "stream",
     "text": [
      "Hello world\n",
      "How are you?\n"
     ]
    }
   ],
   "source": [
    "print(\"Hello world\\nHow are you?\")  # \\n - ---> new line"
   ]
  },
  {
   "cell_type": "code",
   "execution_count": 57,
   "id": "8ad2409c-75aa-453b-86ee-f7e5e2e35892",
   "metadata": {},
   "outputs": [
    {
     "name": "stdout",
     "output_type": "stream",
     "text": [
      "Hello world\tHow are you?\n"
     ]
    }
   ],
   "source": [
    "print(\"Hello world\\tHow are you?\")  # \\t -----> tab"
   ]
  },
  {
   "cell_type": "markdown",
   "id": "12be5dab-93ab-49fe-8ac4-16222e3c1c33",
   "metadata": {},
   "source": [
    "In Python, **escape sequence characters** are special character combinations starting with a backslash (`\\`). They are used inside strings to represent characters that are difficult or impossible to type directly.\n",
    "\n",
    "Here’s a list of commonly used escape sequences in Python:\n",
    "\n",
    "| Escape Sequence | Meaning                                                         |\n",
    "| --------------- | --------------------------------------------------------------- |\n",
    "| `\\'`            | Single quote                                                    |\n",
    "| `\\\"`            | Double quote                                                    |\n",
    "| `\\\\`            | Backslash                                                       |\n",
    "| `\\n`            | Newline (line break)                                            |\n",
    "| `\\t`            | Tab (horizontal)                                                |\n",
    "| `\\r`            | Carriage return                                                 |\n",
    "| `\\b`            | Backspace                                                       |\n",
    "| `\\f`            | Form feed                                                       |\n",
    "| `\\v`            | Vertical tab                                                    |\n",
    "| `\\ooo`          | Character with octal value *ooo*                                |\n",
    "| `\\xhh`          | Character with hexadecimal value *hh*                           |\n",
    "| `\\N{name}`      | Unicode character with the given name (e.g., `\\N{EM DASH}` → —) |\n",
    "| `\\uXXXX`        | Unicode character with 16-bit hex value (4 digits)              |\n",
    "| `\\UXXXXXXXX`    | Unicode character with 32-bit hex value (8 digits)              |\n",
    "| `\\a`            | Bell/alert sound (may not work on all systems)                  |\n",
    "\n",
    "---\n",
    "\n",
    "✅ **Examples:**\n",
    "\n",
    "```python\n",
    "print(\"Hello\\nWorld\")    # Newline\n",
    "print(\"Python\\tRocks\")   # Tab space\n",
    "print(\"He said, \\\"Hi!\\\"\") # Double quotes inside string\n",
    "print(\"Backslash: \\\\\")   # Prints a single backslash\n",
    "print(\"Unicode: \\u03A9\") # Greek Omega symbol (Ω)\n",
    "```\n",
    "\n",
    "\n"
   ]
  },
  {
   "cell_type": "code",
   "execution_count": 58,
   "id": "bcc380c2-9179-4b12-9c9b-ce080e2c0596",
   "metadata": {},
   "outputs": [
    {
     "name": "stdout",
     "output_type": "stream",
     "text": [
      "'\n"
     ]
    }
   ],
   "source": [
    "print(\"\\'\")"
   ]
  },
  {
   "cell_type": "markdown",
   "id": "e0c86d4d-d3f0-47a5-9126-8c226306fb4c",
   "metadata": {},
   "source": [
    "# String Operations"
   ]
  },
  {
   "cell_type": "code",
   "execution_count": 59,
   "id": "c7054cc1-4fbe-4a75-93d0-2a17049c257f",
   "metadata": {},
   "outputs": [
    {
     "name": "stdout",
     "output_type": "stream",
     "text": [
      "original text is: HellO WORld\n"
     ]
    }
   ],
   "source": [
    "msg = \"HellO WORld\"\n",
    "\n",
    "print('original text is:',msg)"
   ]
  },
  {
   "cell_type": "code",
   "execution_count": 62,
   "id": "d1fbd4a0-21dc-4463-97a7-c5b4022070f2",
   "metadata": {},
   "outputs": [
    {
     "name": "stdout",
     "output_type": "stream",
     "text": [
      "Lower text is: hello world\n",
      "After upper case is: HELLO WORLD\n",
      "After capitalize is: Hello world\n"
     ]
    }
   ],
   "source": [
    "# case: lower(), upper(), capitalize(), title(), \n",
    "\n",
    "# lower()\n",
    "\n",
    "msg1 = msg.lower()\n",
    "print('Lower text is:',msg1)\n",
    "\n",
    "# upper()\n",
    "msg2 = msg.upper()\n",
    "print('After upper case is:',msg2)\n",
    "\n",
    "\n",
    "# capitalize()\n",
    "\n",
    "msg3 = msg.capitalize()\n",
    "print(\"After capitalize is:\",msg3)"
   ]
  },
  {
   "cell_type": "code",
   "execution_count": 63,
   "id": "3e68207a-c790-4c4d-b204-6816191df1a8",
   "metadata": {},
   "outputs": [
    {
     "name": "stdout",
     "output_type": "stream",
     "text": [
      "After capitalize: Hello World\n"
     ]
    }
   ],
   "source": [
    "# title\n",
    "msg4 = msg.title()\n",
    "print('After capitalize:',msg4)"
   ]
  },
  {
   "cell_type": "code",
   "execution_count": 66,
   "id": "6d801747-95f9-4a61-8d0e-6dcf4c4a69c1",
   "metadata": {},
   "outputs": [
    {
     "name": "stdout",
     "output_type": "stream",
     "text": [
      "Hello Aditya\n",
      "hey world\n"
     ]
    }
   ],
   "source": [
    "# replace()\n",
    "\n",
    "msg = \"Hello world\"\n",
    "\n",
    "msg1 = msg.replace('world','Aditya')\n",
    "print(msg1)\n",
    "\n",
    "msg2 = msg.replace('Hello','hey')\n",
    "print(msg2)"
   ]
  },
  {
   "cell_type": "code",
   "execution_count": 67,
   "id": "cca17b63-2b42-4c04-9616-b3ed3feae4f9",
   "metadata": {},
   "outputs": [
    {
     "name": "stdout",
     "output_type": "stream",
     "text": [
      "Hello world\n"
     ]
    }
   ],
   "source": [
    "# FIND()\n",
    "\n",
    "print(msg)"
   ]
  },
  {
   "cell_type": "code",
   "execution_count": 74,
   "id": "5ed0cdb2-316f-4f82-9c44-68aa19081983",
   "metadata": {},
   "outputs": [
    {
     "name": "stdout",
     "output_type": "stream",
     "text": [
      "0\n"
     ]
    }
   ],
   "source": [
    "msg = 'Hello world'\n",
    "print(msg.find(\"Hello\"))"
   ]
  },
  {
   "cell_type": "code",
   "execution_count": 75,
   "id": "d45ba6cd-6bf6-41a7-a1f1-7d9852f345c9",
   "metadata": {},
   "outputs": [
    {
     "name": "stdout",
     "output_type": "stream",
     "text": [
      "4\n"
     ]
    }
   ],
   "source": [
    "print(msg.find(\"o\"))"
   ]
  },
  {
   "cell_type": "code",
   "execution_count": 76,
   "id": "19dcbc87-2641-40a5-bb1e-4f6e35e9c447",
   "metadata": {},
   "outputs": [
    {
     "name": "stdout",
     "output_type": "stream",
     "text": [
      "4\n"
     ]
    }
   ],
   "source": [
    "print(msg.find(\"o \"))"
   ]
  },
  {
   "cell_type": "code",
   "execution_count": 77,
   "id": "829eafcf-4a9a-4855-80db-520a577f4afa",
   "metadata": {},
   "outputs": [
    {
     "name": "stdout",
     "output_type": "stream",
     "text": [
      "7\n"
     ]
    }
   ],
   "source": [
    "print(msg.find('or'))"
   ]
  },
  {
   "cell_type": "code",
   "execution_count": 78,
   "id": "b3d56f71-1650-43b7-9b01-29622b580c1a",
   "metadata": {},
   "outputs": [
    {
     "name": "stdout",
     "output_type": "stream",
     "text": [
      "                   hello world                    \n"
     ]
    }
   ],
   "source": [
    "# center\n",
    "\n",
    "msg = \"hello world\"\n",
    "\n",
    "print(msg.center(50,' '))"
   ]
  },
  {
   "cell_type": "code",
   "execution_count": 79,
   "id": "8ef385da-7df9-4e42-b9df-28a0b1a9b80d",
   "metadata": {},
   "outputs": [
    {
     "data": {
      "text/plain": [
       "11"
      ]
     },
     "execution_count": 79,
     "metadata": {},
     "output_type": "execute_result"
    }
   ],
   "source": [
    "len(msg)"
   ]
  },
  {
   "cell_type": "code",
   "execution_count": 80,
   "id": "5616820b-93fa-4fca-8687-80192477f372",
   "metadata": {},
   "outputs": [
    {
     "data": {
      "text/plain": [
       "39"
      ]
     },
     "execution_count": 80,
     "metadata": {},
     "output_type": "execute_result"
    }
   ],
   "source": [
    "50-11"
   ]
  },
  {
   "cell_type": "code",
   "execution_count": 81,
   "id": "f1771eb3-e61f-40ef-84d1-c1157b85a630",
   "metadata": {},
   "outputs": [
    {
     "data": {
      "text/plain": [
       "19.5"
      ]
     },
     "execution_count": 81,
     "metadata": {},
     "output_type": "execute_result"
    }
   ],
   "source": [
    "39/2"
   ]
  },
  {
   "cell_type": "code",
   "execution_count": 82,
   "id": "68d7486b-e168-4c7e-b93b-746e28b62d58",
   "metadata": {},
   "outputs": [
    {
     "data": {
      "text/plain": [
       "39"
      ]
     },
     "execution_count": 82,
     "metadata": {},
     "output_type": "execute_result"
    }
   ],
   "source": [
    "19+20"
   ]
  },
  {
   "cell_type": "code",
   "execution_count": 83,
   "id": "ad58c14d-a5e1-4f7a-894c-5cd9bfd7850b",
   "metadata": {},
   "outputs": [
    {
     "name": "stdout",
     "output_type": "stream",
     "text": [
      "*******************hello world********************\n"
     ]
    }
   ],
   "source": [
    "msg = \"hello world\"\n",
    "\n",
    "print(msg.center(50,'*'))"
   ]
  },
  {
   "cell_type": "code",
   "execution_count": 89,
   "id": "84a37bce-786d-4c41-8494-f97d39ed3d59",
   "metadata": {},
   "outputs": [
    {
     "name": "stdout",
     "output_type": "stream",
     "text": [
      "1\n",
      "2\n",
      "1\n"
     ]
    }
   ],
   "source": [
    "# count()\n",
    "\n",
    "x = \"hello world\"\n",
    "\n",
    "print(x.count(\"h\"))\n",
    "print(x.count(\"o\"))\n",
    "print(x.count(\"w\"))"
   ]
  },
  {
   "cell_type": "code",
   "execution_count": 90,
   "id": "27caac89-02eb-4004-a80f-8f54f2caca2e",
   "metadata": {},
   "outputs": [
    {
     "name": "stdout",
     "output_type": "stream",
     "text": [
      "-1\n"
     ]
    }
   ],
   "source": [
    "print(x.find(\"apple\"))"
   ]
  },
  {
   "cell_type": "code",
   "execution_count": 95,
   "id": "f46920d7-6772-4db9-ae2a-3ec6121b4f4e",
   "metadata": {},
   "outputs": [
    {
     "name": "stdout",
     "output_type": "stream",
     "text": [
      "Hello Neeraj\n",
      "Hello Dheeraj\n",
      "Hello Utkarsh\n",
      "Hello Aditya\n"
     ]
    }
   ],
   "source": [
    "# format function\n",
    "\n",
    "txt = \"Hello {world}\"  # {} for placeholder\n",
    "print(txt.format(world='Neeraj'))\n",
    "print(txt.format(world=\"Dheeraj\"))\n",
    "print(txt.format(world=\"Utkarsh\"))\n",
    "print(txt.format(world=\"Aditya\"))"
   ]
  },
  {
   "cell_type": "code",
   "execution_count": 91,
   "id": "e6966d97-9a5f-4964-8656-1fcccd4783e3",
   "metadata": {},
   "outputs": [
    {
     "name": "stdout",
     "output_type": "stream",
     "text": [
      "hello amita amita hello\n"
     ]
    }
   ],
   "source": [
    "x = \"hello world world hello\"\n",
    "\n",
    "print(x.replace('world',\"amita\"))"
   ]
  },
  {
   "cell_type": "code",
   "execution_count": 97,
   "id": "fcaa1c38-7a60-4df4-b285-f12963e671a5",
   "metadata": {},
   "outputs": [
    {
     "name": "stdout",
     "output_type": "stream",
     "text": [
      "Hi, My name is Dheeraj and I am 50 years old.\n",
      "Hi, My name is 100 and I am Neeraj years old.\n"
     ]
    }
   ],
   "source": [
    "msg1 = \"Hi, My name is {} and I am {} years old.\"\n",
    "print(msg1.format('Dheeraj',50))\n",
    "print(msg1.format(100,\"Neeraj\"))"
   ]
  },
  {
   "cell_type": "code",
   "execution_count": 99,
   "id": "338f4724-5982-4310-974c-aa1c61a81328",
   "metadata": {},
   "outputs": [
    {
     "name": "stdout",
     "output_type": "stream",
     "text": [
      "Hi, My name is Neeraj and I am 20 years old.\n",
      "Hi, My name is Dheeraj and I am 99 years old.\n"
     ]
    }
   ],
   "source": [
    "msg1 = \"Hi, My name is {name} and I am {age} years old.\"\n",
    "\n",
    "print(msg1.format(name=\"Neeraj\",age=20))\n",
    "print(msg1.format(age=99,name=\"Dheeraj\"))"
   ]
  },
  {
   "cell_type": "code",
   "execution_count": 105,
   "id": "543866cf-9e86-45b7-a06d-6a75b7086f49",
   "metadata": {},
   "outputs": [
    {
     "name": "stdout",
     "output_type": "stream",
     "text": [
      "Hi, My name is 50 and I am Dheeraj years old.\n",
      "Hi, My name is Dheeraj and I am 100 years old.\n"
     ]
    }
   ],
   "source": [
    "msg1 = \"Hi, My name is {1} and I am {0} years old.\"\n",
    "\n",
    "print(msg1.format('Dheeraj',50))\n",
    "print(msg1.format(100,'Dheeraj'))"
   ]
  },
  {
   "cell_type": "code",
   "execution_count": null,
   "id": "c11e8baf-34c8-48d2-83df-a327bfc91a51",
   "metadata": {},
   "outputs": [],
   "source": []
  }
 ],
 "metadata": {
  "kernelspec": {
   "display_name": "Python 3 (ipykernel)",
   "language": "python",
   "name": "python3"
  },
  "language_info": {
   "codemirror_mode": {
    "name": "ipython",
    "version": 3
   },
   "file_extension": ".py",
   "mimetype": "text/x-python",
   "name": "python",
   "nbconvert_exporter": "python",
   "pygments_lexer": "ipython3",
   "version": "3.13.7"
  }
 },
 "nbformat": 4,
 "nbformat_minor": 5
}
