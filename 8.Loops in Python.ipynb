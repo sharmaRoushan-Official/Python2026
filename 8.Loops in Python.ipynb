{
 "cells": [
  {
   "cell_type": "markdown",
   "id": "4d65daf6-2c0d-48ec-b3bd-26d2974a60ee",
   "metadata": {},
   "source": [
    "# 8. Loops in Python\n",
    " * __A for loop is used for iterating over a sequence(that is either a list, a tuple, a dicitionary, a set or a string.)__\n",
    " * __This is less like the for keyword in other programming languges, and works more like an iterator method as foudn in other object-oriented programming languages.__\n",
    " * __With the for loop we can execute a set of statements, once for each item in a list, a tuple, a set etc.__\n",
    " * __The for loop does not required an indexing varible to set beforehand.__\n",
    " * __with the while loop we can execute a set of statements as long as condition is true.__\n",
    " * __Note: while loop requires relevant variables to be ready, we need to define an indexing variable, i, which we set to 1.__\n",
    "\n",
    "\n",
    "## range() function\n",
    " * __It is helpful to think of the range object as an ordered list.__\n",
    " * __To loop through a set of code a specified number of times, we can use the range() functions.__\n",
    " * __To range() function returns a sequence of numbers, starting from 0 by default, and increments by 1(by default), and ends at a specified number.__"
   ]
  },
  {
   "cell_type": "code",
   "execution_count": 1,
   "id": "cd0cb982-8fa3-4a1c-ba38-1f0fe6b15855",
   "metadata": {},
   "outputs": [
    {
     "name": "stdout",
     "output_type": "stream",
     "text": [
      "Hello world\n",
      "Hello world\n",
      "Hello world\n",
      "Hello world\n",
      "Hello world\n",
      "Hello world\n",
      "Hello world\n",
      "Hello world\n",
      "Hello world\n",
      "Hello world\n",
      "Hello world\n",
      "Hello world\n",
      "Hello world\n",
      "Hello world\n",
      "Hello world\n",
      "Hello world\n",
      "Hello world\n",
      "Hello world\n",
      "Hello world\n",
      "Hello world\n",
      "Hello world\n",
      "Hello world\n",
      "Hello world\n",
      "Hello world\n"
     ]
    }
   ],
   "source": [
    "print(\"Hello world\")\n",
    "print(\"Hello world\")\n",
    "print(\"Hello world\")\n",
    "print(\"Hello world\")\n",
    "print(\"Hello world\")\n",
    "print(\"Hello world\")\n",
    "print(\"Hello world\")\n",
    "print(\"Hello world\")\n",
    "print(\"Hello world\")\n",
    "print(\"Hello world\")\n",
    "print(\"Hello world\")\n",
    "print(\"Hello world\")\n",
    "print(\"Hello world\")\n",
    "print(\"Hello world\")\n",
    "print(\"Hello world\")\n",
    "print(\"Hello world\")\n",
    "print(\"Hello world\")\n",
    "print(\"Hello world\")\n",
    "print(\"Hello world\")\n",
    "print(\"Hello world\")\n",
    "print(\"Hello world\")\n",
    "print(\"Hello world\")\n",
    "print(\"Hello world\")\n",
    "print(\"Hello world\")"
   ]
  },
  {
   "cell_type": "code",
   "execution_count": 2,
   "id": "c4054f03-e933-41d5-8b16-a7bd70a4f5ec",
   "metadata": {},
   "outputs": [
    {
     "data": {
      "text/plain": [
       "range(0, 10)"
      ]
     },
     "execution_count": 2,
     "metadata": {},
     "output_type": "execute_result"
    }
   ],
   "source": [
    "num = 10\n",
    "\n",
    "range(10)"
   ]
  },
  {
   "cell_type": "code",
   "execution_count": 3,
   "id": "a56c6360-e254-4f53-91a6-370c2ed8d8a1",
   "metadata": {},
   "outputs": [
    {
     "data": {
      "text/plain": [
       "range(0, -10)"
      ]
     },
     "execution_count": 3,
     "metadata": {},
     "output_type": "execute_result"
    }
   ],
   "source": [
    "num = -10\n",
    "\n",
    "range(-10)"
   ]
  },
  {
   "cell_type": "code",
   "execution_count": 4,
   "id": "c4ed74f2-153d-4066-86a7-773f20e3d279",
   "metadata": {},
   "outputs": [
    {
     "data": {
      "text/plain": [
       "range(1, -10, -1)"
      ]
     },
     "execution_count": 4,
     "metadata": {},
     "output_type": "execute_result"
    }
   ],
   "source": [
    "range(1,-10,-1)"
   ]
  },
  {
   "cell_type": "code",
   "execution_count": 5,
   "id": "87113535-b45e-493a-80ec-3c2a286f663e",
   "metadata": {},
   "outputs": [
    {
     "name": "stdout",
     "output_type": "stream",
     "text": [
      "0\n",
      "1\n",
      "2\n",
      "3\n",
      "4\n",
      "5\n",
      "6\n",
      "7\n",
      "8\n",
      "9\n"
     ]
    }
   ],
   "source": [
    "for i in range(10):\n",
    "    print(i)"
   ]
  },
  {
   "cell_type": "code",
   "execution_count": 6,
   "id": "ad57655d-8f29-4c86-b2a6-824aed0cb3be",
   "metadata": {},
   "outputs": [
    {
     "name": "stdout",
     "output_type": "stream",
     "text": [
      "0\n",
      "1\n",
      "2\n",
      "3\n",
      "4\n",
      "5\n",
      "6\n",
      "7\n",
      "8\n",
      "9\n"
     ]
    }
   ],
   "source": [
    "# decrement\n",
    "for dheeraj in range(10):\n",
    "    print(dheeraj)"
   ]
  },
  {
   "cell_type": "code",
   "execution_count": 10,
   "id": "ba0ff18b-2b24-4f7d-b704-808eba0e4053",
   "metadata": {},
   "outputs": [
    {
     "name": "stdout",
     "output_type": "stream",
     "text": [
      "1\n",
      "0\n",
      "-1\n",
      "-2\n",
      "-3\n",
      "-4\n",
      "-5\n",
      "-6\n",
      "-7\n",
      "-8\n",
      "-9\n"
     ]
    }
   ],
   "source": [
    "for i in range(1,-10,-1):\n",
    "    print(i)"
   ]
  },
  {
   "cell_type": "code",
   "execution_count": 12,
   "id": "a3094f5c-fed4-4e8d-9f39-729499b0e16a",
   "metadata": {},
   "outputs": [
    {
     "name": "stdout",
     "output_type": "stream",
     "text": [
      "3\n",
      "4\n"
     ]
    }
   ],
   "source": [
    "# 10\n",
    "for i in range(3,5):\n",
    "    print(i)"
   ]
  },
  {
   "cell_type": "code",
   "execution_count": 14,
   "id": "aade33e0-9e8d-4564-8e6c-b720a900a590",
   "metadata": {},
   "outputs": [
    {
     "name": "stdout",
     "output_type": "stream",
     "text": [
      "1 Hello world\n",
      "2 Hello world\n",
      "3 Hello world\n",
      "4 Hello world\n",
      "5 Hello world\n",
      "6 Hello world\n",
      "7 Hello world\n",
      "8 Hello world\n",
      "9 Hello world\n",
      "10 Hello world\n"
     ]
    }
   ],
   "source": [
    "for i in range(1,11):\n",
    "    print(i,\"Hello world\")"
   ]
  },
  {
   "cell_type": "code",
   "execution_count": 17,
   "id": "e51bdfba-f64b-490d-96b0-6fbe74a16122",
   "metadata": {},
   "outputs": [
    {
     "name": "stdout",
     "output_type": "stream",
     "text": [
      "D\n",
      "h\n",
      "e\n",
      "e\n",
      "r\n",
      "a\n",
      "j\n"
     ]
    }
   ],
   "source": [
    "x = \"Dheeraj\"\n",
    "# print(x)\n",
    "for j in x:\n",
    "    print(j)"
   ]
  },
  {
   "cell_type": "code",
   "execution_count": 18,
   "id": "6ab02f1a-58cb-4964-8359-80dbf880d120",
   "metadata": {},
   "outputs": [
    {
     "data": {
      "text/plain": [
       "'D'"
      ]
     },
     "execution_count": 18,
     "metadata": {},
     "output_type": "execute_result"
    }
   ],
   "source": [
    "x[0]"
   ]
  },
  {
   "cell_type": "code",
   "execution_count": 25,
   "id": "81e3877c-cd25-4abd-85a8-43e9ede5cc84",
   "metadata": {},
   "outputs": [
    {
     "name": "stdout",
     "output_type": "stream",
     "text": [
      "Mo\n",
      "Tu\n",
      "We\n",
      "Th\n",
      "Fr\n",
      "Sa\n",
      "Su\n"
     ]
    }
   ],
   "source": [
    "weekdays = ['Monday',\"Tuesday\",\"Wednesday\",\"Thursday\",\"Friday\",\"Saturday\",\"Sunday\"]\n",
    "\n",
    "for i in weekdays:\n",
    "    print(i[0:2])"
   ]
  },
  {
   "cell_type": "code",
   "execution_count": 26,
   "id": "edcf41c7-f290-4afb-8798-0b12e71f05ac",
   "metadata": {},
   "outputs": [
    {
     "name": "stdout",
     "output_type": "stream",
     "text": [
      "Mo\n",
      "Tu\n",
      "We\n",
      "Th\n",
      "Fr\n",
      "Sa\n",
      "Su\n"
     ]
    }
   ],
   "source": [
    "weekdays = ('Monday',\"Tuesday\",\"Wednesday\",\"Thursday\",\"Friday\",\"Saturday\",\"Sunday\")\n",
    "\n",
    "for i in weekdays:\n",
    "    print(i[0:2])"
   ]
  },
  {
   "cell_type": "code",
   "execution_count": 29,
   "id": "d0257d23-5c4e-4d19-b701-4c707140aaf4",
   "metadata": {},
   "outputs": [
    {
     "data": {
      "text/plain": [
       "'Tu'"
      ]
     },
     "execution_count": 29,
     "metadata": {},
     "output_type": "execute_result"
    }
   ],
   "source": [
    "weekdays[0][0:2]\n",
    "weekdays[1][0:2]"
   ]
  },
  {
   "cell_type": "code",
   "execution_count": 33,
   "id": "f978fac6-62bb-48bf-8c74-9d3594a7b8d9",
   "metadata": {},
   "outputs": [
    {
     "name": "stdout",
     "output_type": "stream",
     "text": [
      "{65, 1, 2, 100, 5, 56, 89, 58}\n"
     ]
    }
   ],
   "source": [
    "x = {1,1,1,2,2,58,89,65,5,56,100}\n",
    "print(x)"
   ]
  },
  {
   "cell_type": "code",
   "execution_count": 34,
   "id": "85be9843-7242-45f1-aa18-390f8fc58157",
   "metadata": {},
   "outputs": [
    {
     "name": "stdout",
     "output_type": "stream",
     "text": [
      "65\n",
      "1\n",
      "2\n",
      "100\n",
      "5\n",
      "56\n",
      "89\n",
      "58\n"
     ]
    }
   ],
   "source": [
    "for x1 in x:\n",
    "    print(x1)"
   ]
  },
  {
   "cell_type": "code",
   "execution_count": 35,
   "id": "9cec2441-d3f1-4a23-bea9-e8f7877e3a82",
   "metadata": {},
   "outputs": [
    {
     "name": "stdout",
     "output_type": "stream",
     "text": [
      "name\n",
      "age\n",
      "email\n"
     ]
    }
   ],
   "source": [
    "x1 = {'name':\"Dhiraj\",\"age\":100,'email':'dhiraj@gmail.com'}\n",
    "\n",
    "for i in x1:\n",
    "    print(i)"
   ]
  },
  {
   "cell_type": "code",
   "execution_count": 36,
   "id": "1df7a204-8290-48c8-9c90-accbe03e360e",
   "metadata": {},
   "outputs": [
    {
     "name": "stdout",
     "output_type": "stream",
     "text": [
      "name\n",
      "age\n",
      "email\n"
     ]
    }
   ],
   "source": [
    "for i in x1.keys():\n",
    "    print(i)"
   ]
  },
  {
   "cell_type": "code",
   "execution_count": 40,
   "id": "6cbcf996-b41f-4d55-ad45-f25d2f65430d",
   "metadata": {},
   "outputs": [
    {
     "name": "stdout",
     "output_type": "stream",
     "text": [
      "name : Dhiraj\n",
      "age : 100\n",
      "email : dhiraj@gmail.com\n"
     ]
    }
   ],
   "source": [
    "for i,j in x1.items():\n",
    "    print(i,\":\",j)"
   ]
  },
  {
   "cell_type": "code",
   "execution_count": 43,
   "id": "946882b1-738d-424c-9a1a-41efbc4a8841",
   "metadata": {},
   "outputs": [
    {
     "name": "stdout",
     "output_type": "stream",
     "text": [
      "55\n"
     ]
    }
   ],
   "source": [
    "# 1-10 ----> \n",
    "sum1 =0 # 1, 3, 6 , 10 , 15, 21, 28, 36 , 45, 55\n",
    "for i in range(1,11):  # 1+2 = 3+3 = 6+4 = 10+ 5= 15+6 = 21+7 = 28+8 = 36+9 = 45+10= 55\n",
    "    sum1 = sum1+i  #  0+1 = 1, 1+2 = 3, 3+3 , 6+4 =10, 10+5, 15+6 =21, 21+7 = 28, 28+8 = 36, 36+9 = 45, 45+10 = 55\n",
    "print(sum1)"
   ]
  },
  {
   "cell_type": "code",
   "execution_count": 53,
   "id": "9e9c069b-78c2-473a-8e4b-2f1e8ab6df1c",
   "metadata": {},
   "outputs": [
    {
     "name": "stdout",
     "output_type": "stream",
     "text": [
      "30\n"
     ]
    }
   ],
   "source": [
    "# sum of 10 even numbers\n",
    "sum1 = 0\n",
    "for i in range(0,11,2):\n",
    "    sum1 += i\n",
    "print(sum1)"
   ]
  },
  {
   "cell_type": "code",
   "execution_count": 58,
   "id": "6cf2ebfd-e77d-4ae8-9cf9-c689319a6cc7",
   "metadata": {},
   "outputs": [
    {
     "name": "stdout",
     "output_type": "stream",
     "text": [
      "30\n"
     ]
    }
   ],
   "source": [
    "sum2 = 0\n",
    "for x in range(11):\n",
    "    if x%2 == 0:\n",
    "        \n",
    "        # print(x)\n",
    "        sum2 += x\n",
    "print(sum2)"
   ]
  },
  {
   "cell_type": "code",
   "execution_count": 65,
   "id": "5249cebc-60cb-4f52-a059-f39763fd88a5",
   "metadata": {},
   "outputs": [
    {
     "name": "stdout",
     "output_type": "stream",
     "text": [
      "0 U\n",
      "1 t\n",
      "2 k\n",
      "3 a\n",
      "4 r\n",
      "5 s\n",
      "6 h\n"
     ]
    }
   ],
   "source": [
    "x = \"Utkarsh\"\n",
    "\n",
    "for i in range(len(x)):\n",
    "    print(i,x[i])"
   ]
  },
  {
   "cell_type": "code",
   "execution_count": 63,
   "id": "2de57752-a322-4bdc-aeda-41d27091a3ce",
   "metadata": {},
   "outputs": [
    {
     "data": {
      "text/plain": [
       "'U'"
      ]
     },
     "execution_count": 63,
     "metadata": {},
     "output_type": "execute_result"
    }
   ],
   "source": [
    "x[0]"
   ]
  },
  {
   "cell_type": "code",
   "execution_count": 1,
   "id": "0d14352a-fd9d-4df7-9a57-aae02f887f09",
   "metadata": {},
   "outputs": [
    {
     "name": "stdout",
     "output_type": "stream",
     "text": [
      "C\n",
      "C++\n",
      "java\n",
      "Kotlin\n",
      "JavaScript\n",
      "Python\n",
      "Anocanda\n",
      "Ruby\n",
      "Go\n",
      "ForTran\n",
      "BASIC\n",
      "Swift\n",
      "Android\n",
      "PHP\n"
     ]
    }
   ],
   "source": [
    "lang = ['C','C++',\"java\",\"Kotlin\",\"JavaScript\",\"Python\",\"Anocanda\",\"Ruby\",\"Go\",\"ForTran\",\"BASIC\",\"Swift\",\"Android\",\"PHP\"]\n",
    "\n",
    "for i in lang:\n",
    "    print(i)"
   ]
  },
  {
   "cell_type": "code",
   "execution_count": 2,
   "id": "a6ab3765-bd73-45af-b141-a3b1d0e6000d",
   "metadata": {},
   "outputs": [
    {
     "data": {
      "text/plain": [
       "range(0, 10)"
      ]
     },
     "execution_count": 2,
     "metadata": {},
     "output_type": "execute_result"
    }
   ],
   "source": [
    "range(10)"
   ]
  },
  {
   "cell_type": "code",
   "execution_count": 4,
   "id": "f7149dfb-ef03-4473-bf21-7acab4183d58",
   "metadata": {},
   "outputs": [
    {
     "data": {
      "text/plain": [
       "range(0, 5)"
      ]
     },
     "execution_count": 4,
     "metadata": {},
     "output_type": "execute_result"
    }
   ],
   "source": [
    "range(5)"
   ]
  },
  {
   "cell_type": "code",
   "execution_count": 5,
   "id": "b72a3c0a-931b-4910-9b4a-693980725fb2",
   "metadata": {},
   "outputs": [
    {
     "data": {
      "text/plain": [
       "range(6, 10)"
      ]
     },
     "execution_count": 5,
     "metadata": {},
     "output_type": "execute_result"
    }
   ],
   "source": [
    "range(6,10)"
   ]
  },
  {
   "cell_type": "code",
   "execution_count": 10,
   "id": "ed05168e-867d-4a61-8f0f-8a5b47114a08",
   "metadata": {},
   "outputs": [
    {
     "name": "stdout",
     "output_type": "stream",
     "text": [
      "0 c\n",
      "1 C++\n",
      "2 java\n",
      "3 Kotlin\n",
      "4 JavaScript\n",
      "5 Python\n",
      "6 Anocanda\n",
      "7 Ruby\n",
      "8 Go\n",
      "9 ForTran\n",
      "10 BASIC\n",
      "11 Swift\n",
      "12 Android\n",
      "13 PHP\n",
      "14 COBOL\n",
      "15 C#\n"
     ]
    }
   ],
   "source": [
    "lang = ['c','C++',\"java\",\"Kotlin\",\"JavaScript\",\"Python\",\"Anocanda\",\"Ruby\",\"Go\",\"ForTran\",\"BASIC\",\"Swift\",\"Android\",\"PHP\",\"COBOL\",\"C#\"]\n",
    "# 14\n",
    "\n",
    "for x in range(len(lang)):\n",
    "    print(x,lang[x])"
   ]
  },
  {
   "cell_type": "code",
   "execution_count": 7,
   "id": "b09a08fe-95c2-4d21-a098-d8c52595b1e4",
   "metadata": {},
   "outputs": [
    {
     "data": {
      "text/plain": [
       "'C'"
      ]
     },
     "execution_count": 7,
     "metadata": {},
     "output_type": "execute_result"
    }
   ],
   "source": [
    "lang[0]"
   ]
  },
  {
   "cell_type": "code",
   "execution_count": 20,
   "id": "c0c36b92-48d5-4ffa-a67f-566839e95481",
   "metadata": {},
   "outputs": [
    {
     "name": "stdout",
     "output_type": "stream",
     "text": [
      "0 c\n",
      "1 C++\n",
      "14 COBOL\n",
      "15 C#\n"
     ]
    }
   ],
   "source": [
    "lang = ['c','C++',\"java\",\"Kotlin\",\"JavaScript\",\"Python\",\"Anocanda\",\"Ruby\",\"Go\",\"ForTran\",\"BASIC\",\"Swift\",\"Android\",\"PHP\",\"COBOL\",\"C#\"]\n",
    "# 14\n",
    "\n",
    "for x in range(len(lang)):\n",
    "    if lang[x][0] == \"C\" or lang[x][0] == 'c':\n",
    "        print(x,lang[x])"
   ]
  },
  {
   "cell_type": "code",
   "execution_count": 26,
   "id": "b03ae768-af68-40df-957b-823fdb7d8dca",
   "metadata": {},
   "outputs": [
    {
     "name": "stdout",
     "output_type": "stream",
     "text": [
      "0\n",
      "1\n",
      "2\n",
      "3\n",
      "4\n"
     ]
    }
   ],
   "source": [
    "# 1 - 10: break\n",
    "\n",
    "for a in range(15):\n",
    "\n",
    "    if a == 5:\n",
    "        break\n",
    "    print(a)"
   ]
  },
  {
   "cell_type": "code",
   "execution_count": 32,
   "id": "8962b749-5cb2-436a-9488-79ea3afdaa73",
   "metadata": {},
   "outputs": [
    {
     "name": "stdout",
     "output_type": "stream",
     "text": [
      "5\n"
     ]
    }
   ],
   "source": [
    "# continue\n",
    "\n",
    "for i in range(1,11):\n",
    "    \n",
    "    if i == 5:\n",
    "        print(i)\n",
    "        continue\n",
    "    # print(i)"
   ]
  },
  {
   "cell_type": "code",
   "execution_count": 34,
   "id": "ab1e3882-d3d3-41e7-a096-fc2a746e8c51",
   "metadata": {},
   "outputs": [
    {
     "name": "stdout",
     "output_type": "stream",
     "text": [
      "11\n",
      "10\n",
      "9\n",
      "8\n",
      "7\n",
      "6\n",
      "5\n",
      "4\n",
      "3\n",
      "2\n"
     ]
    }
   ],
   "source": [
    "# while loop \n",
    "\n",
    "\n",
    "for i in range(11,1,-1):\n",
    "    print(i)"
   ]
  },
  {
   "cell_type": "code",
   "execution_count": 35,
   "id": "564f6879-7a55-4a26-82c5-bb8b82bc86ba",
   "metadata": {},
   "outputs": [],
   "source": [
    "# while(condition):\n",
    "#     statement\n",
    "#     valueIncremnet/valueDecrement\n"
   ]
  },
  {
   "cell_type": "code",
   "execution_count": 1,
   "id": "fb3606c4-bb87-4957-b3e2-b35f63d2ec50",
   "metadata": {},
   "outputs": [
    {
     "name": "stdout",
     "output_type": "stream",
     "text": [
      "0\n",
      "1\n",
      "2\n",
      "3\n",
      "4\n",
      "5\n",
      "6\n",
      "7\n",
      "8\n",
      "9\n",
      "10\n"
     ]
    }
   ],
   "source": [
    "i = 0 #1 , 2\n",
    "j = 11\n",
    "\n",
    "while (i<j):\n",
    "    print(i)\n",
    "    i = i + 1 # 0+1, 1+1 = 2"
   ]
  },
  {
   "cell_type": "code",
   "execution_count": 6,
   "id": "8bcddc14-b685-4ba3-9696-a605f28b4780",
   "metadata": {},
   "outputs": [
    {
     "name": "stdout",
     "output_type": "stream",
     "text": [
      "11\n",
      "10\n",
      "9\n",
      "8\n",
      "7\n",
      "6\n",
      "5\n",
      "4\n",
      "3\n",
      "2\n",
      "1\n"
     ]
    }
   ],
   "source": [
    "i = 0\n",
    "j = 11\n",
    "\n",
    "while j>i:\n",
    "    print(j)\n",
    "    j-=1"
   ]
  },
  {
   "cell_type": "code",
   "execution_count": 9,
   "id": "893722f9-63eb-459f-ad2a-724734a66a0c",
   "metadata": {},
   "outputs": [
    {
     "name": "stdout",
     "output_type": "stream",
     "text": [
      "55\n"
     ]
    }
   ],
   "source": [
    "# 1 - 10\n",
    "sum1 = 0\n",
    "for i in range(1,11):\n",
    "    sum1 = sum1 + i\n",
    "    # print(i)\n",
    "print(sum1)"
   ]
  },
  {
   "cell_type": "code",
   "execution_count": 11,
   "id": "02c544a8-1105-4247-aefe-1918e50f9f5b",
   "metadata": {},
   "outputs": [
    {
     "name": "stdout",
     "output_type": "stream",
     "text": [
      "55\n"
     ]
    }
   ],
   "source": [
    "i = 1\n",
    "j = 10\n",
    "sum2 = 0\n",
    "\n",
    "while i<=j:\n",
    "    # print(i)\n",
    "    sum2 = sum2+i\n",
    "    i+=1\n",
    "print(sum2)"
   ]
  },
  {
   "cell_type": "code",
   "execution_count": 19,
   "id": "d6d6c42b-bae5-42fc-9f50-57b483211f01",
   "metadata": {},
   "outputs": [
    {
     "name": "stdout",
     "output_type": "stream",
     "text": [
      "1\n",
      "2\n",
      "3\n",
      "4\n",
      "5\n"
     ]
    }
   ],
   "source": [
    "# break and continue in while loop\n",
    "\n",
    "# 1 -10\n",
    "\n",
    "a = 0\n",
    "b = 10\n",
    "while a<=b:\n",
    "    #print(a)  # 0 - 5\n",
    "    if a == 5:\n",
    "        break\n",
    "    #print(a)  # 0 - 4\n",
    "    a+=1\n",
    "    print(a)  # 1 - 5\n",
    "    "
   ]
  },
  {
   "cell_type": "code",
   "execution_count": 23,
   "id": "e4dd7c95-e572-4551-9ee6-b49ae09a209a",
   "metadata": {},
   "outputs": [
    {
     "name": "stdout",
     "output_type": "stream",
     "text": [
      "1\n",
      "2\n",
      "3\n",
      "4\n",
      "6\n",
      "7\n",
      "8\n",
      "9\n",
      "10\n",
      "11\n"
     ]
    }
   ],
   "source": [
    "# continue\n",
    "\n",
    "\n",
    "x = 0\n",
    "\n",
    "y = 10\n",
    "\n",
    "while x<=y:\n",
    "    # print(x)  # 0-10\n",
    "    x+=1\n",
    "    if x == 5:\n",
    "        continue\n",
    "    print(x) # 1,11  # 5 skip"
   ]
  },
  {
   "cell_type": "code",
   "execution_count": 24,
   "id": "68a12864-1ab8-483d-abc7-cdf7eb6d3617",
   "metadata": {},
   "outputs": [
    {
     "name": "stdout",
     "output_type": "stream",
     "text": [
      "The sum is: 30\n"
     ]
    }
   ],
   "source": [
    "# find the sum of even numbers from 1- 10 uisng while and for loop \n",
    "\n",
    "# 2,4,6,8,10\n",
    "\n",
    "total = 0\n",
    "for number in range(1, 11):\n",
    "    if number % 2 == 0: \n",
    "        total += number\n",
    "print(f\"The sum is: {total}\")"
   ]
  },
  {
   "cell_type": "code",
   "execution_count": 25,
   "id": "f6e64c4a-449d-4e3e-8ce0-f3a7b8e7ca39",
   "metadata": {},
   "outputs": [
    {
     "name": "stdout",
     "output_type": "stream",
     "text": [
      "Sum of even numbers :  30\n"
     ]
    }
   ],
   "source": [
    "#while loop\n",
    "i = 0\n",
    "sum1 = 0\n",
    "while i <= 10:\n",
    "    if i%2 == 0:\n",
    "        sum1 += i\n",
    "    i+=1\n",
    "print(\"Sum of even numbers : \" ,sum1)"
   ]
  },
  {
   "cell_type": "code",
   "execution_count": 26,
   "id": "8c22fc12-0bfc-4ece-bc66-ed7b76d21cdc",
   "metadata": {},
   "outputs": [
    {
     "name": "stdout",
     "output_type": "stream",
     "text": [
      "Sum of even numbers : 30\n"
     ]
    }
   ],
   "source": [
    "#for loop\n",
    "\n",
    "sum2 = 0\n",
    "for i in range(1, 11):\n",
    "    if i % 2 == 0:\n",
    "        sum2 += i\n",
    "\n",
    "print(\"Sum of even numbers :\", sum2)"
   ]
  },
  {
   "cell_type": "code",
   "execution_count": 29,
   "id": "04afdc38-226f-45f4-840c-9942f7ee2326",
   "metadata": {},
   "outputs": [
    {
     "name": "stdout",
     "output_type": "stream",
     "text": [
      "30\n"
     ]
    }
   ],
   "source": [
    "# 1-10\n",
    "# even\n",
    "# sum\n",
    "\n",
    "i = 1\n",
    "j = 10\n",
    "\n",
    "sum1 = 0\n",
    "while i<=j:\n",
    "    # print(i)\n",
    "    if i%2==0:\n",
    "        sum1 = sum1 + i\n",
    "        # print(i)\n",
    "    i+=1\n",
    "print(sum1)"
   ]
  },
  {
   "cell_type": "code",
   "execution_count": 33,
   "id": "bb8c8854-e696-4a2a-b0ec-4cf64a3e6111",
   "metadata": {},
   "outputs": [
    {
     "name": "stdout",
     "output_type": "stream",
     "text": [
      "25\n"
     ]
    }
   ],
   "source": [
    "sum1=0\n",
    "for i in range(1,11):\n",
    "    if i%2!=0:\n",
    "        sum1 = sum1+i\n",
    "    # print(i)\n",
    "print(sum1)"
   ]
  },
  {
   "cell_type": "code",
   "execution_count": 38,
   "id": "4d7ffae4-ca86-47ce-a818-59e66fc3f3c6",
   "metadata": {},
   "outputs": [
    {
     "name": "stdout",
     "output_type": "stream",
     "text": [
      "Sum of the even vlaue is:30\n",
      "Sum of the odd vlaue is:25\n",
      "Sum of the total vlaue is:55\n"
     ]
    }
   ],
   "source": [
    "# sum of the value even, odd, and total in one code with using while loop\n",
    "\n",
    "i = 1\n",
    "j = 10\n",
    "evenSum = 0\n",
    "oddSum = 0\n",
    "totalSum = 0\n",
    "\n",
    "while i<=j:\n",
    "    # print(i)\n",
    "    if i%2 == 0:\n",
    "        # print(i)\n",
    "        evenSum+=i    \n",
    "    else:\n",
    "        oddSum+=i\n",
    "        \n",
    "    totalSum = totalSum + i\n",
    "    i+=1\n",
    "print(f\"Sum of the even vlaue is:{evenSum}\")\n",
    "print(f\"Sum of the odd vlaue is:{oddSum}\")\n",
    "print(f\"Sum of the total vlaue is:{totalSum}\")"
   ]
  },
  {
   "cell_type": "code",
   "execution_count": 39,
   "id": "42d27970-838c-45bb-a01a-53948f417ef5",
   "metadata": {},
   "outputs": [
    {
     "data": {
      "text/plain": [
       "55"
      ]
     },
     "execution_count": 39,
     "metadata": {},
     "output_type": "execute_result"
    }
   ],
   "source": [
    "x=[1,2,3,4,5,6,7,8,9,10]\n",
    "sum(x)"
   ]
  },
  {
   "cell_type": "code",
   "execution_count": 42,
   "id": "2d026881-d999-4553-a10f-c6a20182e361",
   "metadata": {},
   "outputs": [
    {
     "name": "stdout",
     "output_type": "stream",
     "text": [
      "total value is: 12\n"
     ]
    }
   ],
   "source": [
    "list1 = ['apple',\"banana\",\"Pomegranate\",\"Grapes\",\"Litchi\",\"Mango\",\"Guava\",\"Watermelon\",\"Kiwi\",\"Pineapple\",\"Muskmelon\",\"Jackfruit\"]\n",
    "# len(list1)\n",
    "# count this items using while loop \n",
    "count = 0\n",
    "for i in list1:\n",
    "    count = count + 1\n",
    "    # print(i)\n",
    "print(\"total value is:\",count)"
   ]
  },
  {
   "cell_type": "code",
   "execution_count": 45,
   "id": "aa57ec02-ddb1-46a8-a2c5-916641f050f1",
   "metadata": {},
   "outputs": [
    {
     "name": "stdout",
     "output_type": "stream",
     "text": [
      "12\n"
     ]
    }
   ],
   "source": [
    "i = 1\n",
    "# len(list1) #12\n",
    "count = 0\n",
    "while i<=len(list1):\n",
    "    # print(i)\n",
    "    count = count+1\n",
    "    i+=1\n",
    "print(count)"
   ]
  },
  {
   "cell_type": "code",
   "execution_count": 49,
   "id": "526d924e-d03f-4e27-a6e2-b7e6f7c6f8aa",
   "metadata": {},
   "outputs": [
    {
     "name": "stdout",
     "output_type": "stream",
     "text": [
      "19 X 1 = 19\n",
      "19 X 2 = 38\n",
      "19 X 3 = 57\n",
      "19 X 4 = 76\n",
      "19 X 5 = 95\n",
      "19 X 6 = 114\n",
      "19 X 7 = 133\n",
      "19 X 8 = 152\n",
      "19 X 9 = 171\n",
      "19 X 10 = 190\n"
     ]
    }
   ],
   "source": [
    "# 19x1 = 19\n",
    "# 19x2=38\n",
    "# 19x3 =57\n",
    "# 19x4 = 76\n",
    "# 19x9=171\n",
    "num = 19\n",
    "\n",
    "for i in range(1,11):\n",
    "    print(num,\"X\",i,\"=\",num*i)"
   ]
  },
  {
   "cell_type": "code",
   "execution_count": 52,
   "id": "b5b598fb-17ac-4859-bf46-25aea6ce4d0b",
   "metadata": {},
   "outputs": [
    {
     "name": "stdin",
     "output_type": "stream",
     "text": [
      "enter any value: 31\n"
     ]
    },
    {
     "name": "stdout",
     "output_type": "stream",
     "text": [
      "31X1=31\n",
      "31X2=62\n",
      "31X3=93\n",
      "31X4=124\n",
      "31X5=155\n",
      "31X6=186\n",
      "31X7=217\n",
      "31X8=248\n",
      "31X9=279\n",
      "31X10=310\n"
     ]
    }
   ],
   "source": [
    "num = int(input(\"enter any value:\"))\n",
    "for i in range(1,11):\n",
    "    print(\"%dX%d=%d\"%(num,i, num*i))"
   ]
  },
  {
   "cell_type": "code",
   "execution_count": 56,
   "id": "308a1c79-c886-43bc-ad09-a9160af0efb5",
   "metadata": {},
   "outputs": [
    {
     "name": "stdout",
     "output_type": "stream",
     "text": [
      "\n",
      "Table of 1\n",
      "1X1=1\n",
      "1X2=2\n",
      "1X3=3\n",
      "1X4=4\n",
      "1X5=5\n",
      "1X6=6\n",
      "1X7=7\n",
      "1X8=8\n",
      "1X9=9\n",
      "1X10=10\n",
      "\n",
      "Table of 2\n",
      "2X1=2\n",
      "2X2=4\n",
      "2X3=6\n",
      "2X4=8\n",
      "2X5=10\n",
      "2X6=12\n",
      "2X7=14\n",
      "2X8=16\n",
      "2X9=18\n",
      "2X10=20\n",
      "\n",
      "Table of 3\n",
      "3X1=3\n",
      "3X2=6\n",
      "3X3=9\n",
      "3X4=12\n",
      "3X5=15\n",
      "3X6=18\n",
      "3X7=21\n",
      "3X8=24\n",
      "3X9=27\n",
      "3X10=30\n",
      "\n",
      "Table of 4\n",
      "4X1=4\n",
      "4X2=8\n",
      "4X3=12\n",
      "4X4=16\n",
      "4X5=20\n",
      "4X6=24\n",
      "4X7=28\n",
      "4X8=32\n",
      "4X9=36\n",
      "4X10=40\n",
      "\n",
      "Table of 5\n",
      "5X1=5\n",
      "5X2=10\n",
      "5X3=15\n",
      "5X4=20\n",
      "5X5=25\n",
      "5X6=30\n",
      "5X7=35\n",
      "5X8=40\n",
      "5X9=45\n",
      "5X10=50\n",
      "\n",
      "Table of 6\n",
      "6X1=6\n",
      "6X2=12\n",
      "6X3=18\n",
      "6X4=24\n",
      "6X5=30\n",
      "6X6=36\n",
      "6X7=42\n",
      "6X8=48\n",
      "6X9=54\n",
      "6X10=60\n",
      "\n",
      "Table of 7\n",
      "7X1=7\n",
      "7X2=14\n",
      "7X3=21\n",
      "7X4=28\n",
      "7X5=35\n",
      "7X6=42\n",
      "7X7=49\n",
      "7X8=56\n",
      "7X9=63\n",
      "7X10=70\n",
      "\n",
      "Table of 8\n",
      "8X1=8\n",
      "8X2=16\n",
      "8X3=24\n",
      "8X4=32\n",
      "8X5=40\n",
      "8X6=48\n",
      "8X7=56\n",
      "8X8=64\n",
      "8X9=72\n",
      "8X10=80\n",
      "\n",
      "Table of 9\n",
      "9X1=9\n",
      "9X2=18\n",
      "9X3=27\n",
      "9X4=36\n",
      "9X5=45\n",
      "9X6=54\n",
      "9X7=63\n",
      "9X8=72\n",
      "9X9=81\n",
      "9X10=90\n",
      "\n",
      "Table of 10\n",
      "10X1=10\n",
      "10X2=20\n",
      "10X3=30\n",
      "10X4=40\n",
      "10X5=50\n",
      "10X6=60\n",
      "10X7=70\n",
      "10X8=80\n",
      "10X9=90\n",
      "10X10=100\n",
      "\n",
      "Table of 11\n",
      "11X1=11\n",
      "11X2=22\n",
      "11X3=33\n",
      "11X4=44\n",
      "11X5=55\n",
      "11X6=66\n",
      "11X7=77\n",
      "11X8=88\n",
      "11X9=99\n",
      "11X10=110\n",
      "\n",
      "Table of 12\n",
      "12X1=12\n",
      "12X2=24\n",
      "12X3=36\n",
      "12X4=48\n",
      "12X5=60\n",
      "12X6=72\n",
      "12X7=84\n",
      "12X8=96\n",
      "12X9=108\n",
      "12X10=120\n",
      "\n",
      "Table of 13\n",
      "13X1=13\n",
      "13X2=26\n",
      "13X3=39\n",
      "13X4=52\n",
      "13X5=65\n",
      "13X6=78\n",
      "13X7=91\n",
      "13X8=104\n",
      "13X9=117\n",
      "13X10=130\n",
      "\n",
      "Table of 14\n",
      "14X1=14\n",
      "14X2=28\n",
      "14X3=42\n",
      "14X4=56\n",
      "14X5=70\n",
      "14X6=84\n",
      "14X7=98\n",
      "14X8=112\n",
      "14X9=126\n",
      "14X10=140\n",
      "\n",
      "Table of 15\n",
      "15X1=15\n",
      "15X2=30\n",
      "15X3=45\n",
      "15X4=60\n",
      "15X5=75\n",
      "15X6=90\n",
      "15X7=105\n",
      "15X8=120\n",
      "15X9=135\n",
      "15X10=150\n",
      "\n",
      "Table of 16\n",
      "16X1=16\n",
      "16X2=32\n",
      "16X3=48\n",
      "16X4=64\n",
      "16X5=80\n",
      "16X6=96\n",
      "16X7=112\n",
      "16X8=128\n",
      "16X9=144\n",
      "16X10=160\n",
      "\n",
      "Table of 17\n",
      "17X1=17\n",
      "17X2=34\n",
      "17X3=51\n",
      "17X4=68\n",
      "17X5=85\n",
      "17X6=102\n",
      "17X7=119\n",
      "17X8=136\n",
      "17X9=153\n",
      "17X10=170\n",
      "\n",
      "Table of 18\n",
      "18X1=18\n",
      "18X2=36\n",
      "18X3=54\n",
      "18X4=72\n",
      "18X5=90\n",
      "18X6=108\n",
      "18X7=126\n",
      "18X8=144\n",
      "18X9=162\n",
      "18X10=180\n",
      "\n",
      "Table of 19\n",
      "19X1=19\n",
      "19X2=38\n",
      "19X3=57\n",
      "19X4=76\n",
      "19X5=95\n",
      "19X6=114\n",
      "19X7=133\n",
      "19X8=152\n",
      "19X9=171\n",
      "19X10=190\n",
      "\n",
      "Table of 20\n",
      "20X1=20\n",
      "20X2=40\n",
      "20X3=60\n",
      "20X4=80\n",
      "20X5=100\n",
      "20X6=120\n",
      "20X7=140\n",
      "20X8=160\n",
      "20X9=180\n",
      "20X10=200\n",
      "\n",
      "Table of 21\n",
      "21X1=21\n",
      "21X2=42\n",
      "21X3=63\n",
      "21X4=84\n",
      "21X5=105\n",
      "21X6=126\n",
      "21X7=147\n",
      "21X8=168\n",
      "21X9=189\n",
      "21X10=210\n",
      "\n",
      "Table of 22\n",
      "22X1=22\n",
      "22X2=44\n",
      "22X3=66\n",
      "22X4=88\n",
      "22X5=110\n",
      "22X6=132\n",
      "22X7=154\n",
      "22X8=176\n",
      "22X9=198\n",
      "22X10=220\n",
      "\n",
      "Table of 23\n",
      "23X1=23\n",
      "23X2=46\n",
      "23X3=69\n",
      "23X4=92\n",
      "23X5=115\n",
      "23X6=138\n",
      "23X7=161\n",
      "23X8=184\n",
      "23X9=207\n",
      "23X10=230\n",
      "\n",
      "Table of 24\n",
      "24X1=24\n",
      "24X2=48\n",
      "24X3=72\n",
      "24X4=96\n",
      "24X5=120\n",
      "24X6=144\n",
      "24X7=168\n",
      "24X8=192\n",
      "24X9=216\n",
      "24X10=240\n",
      "\n",
      "Table of 25\n",
      "25X1=25\n",
      "25X2=50\n",
      "25X3=75\n",
      "25X4=100\n",
      "25X5=125\n",
      "25X6=150\n",
      "25X7=175\n",
      "25X8=200\n",
      "25X9=225\n",
      "25X10=250\n",
      "\n",
      "Table of 26\n",
      "26X1=26\n",
      "26X2=52\n",
      "26X3=78\n",
      "26X4=104\n",
      "26X5=130\n",
      "26X6=156\n",
      "26X7=182\n",
      "26X8=208\n",
      "26X9=234\n",
      "26X10=260\n",
      "\n",
      "Table of 27\n",
      "27X1=27\n",
      "27X2=54\n",
      "27X3=81\n",
      "27X4=108\n",
      "27X5=135\n",
      "27X6=162\n",
      "27X7=189\n",
      "27X8=216\n",
      "27X9=243\n",
      "27X10=270\n",
      "\n",
      "Table of 28\n",
      "28X1=28\n",
      "28X2=56\n",
      "28X3=84\n",
      "28X4=112\n",
      "28X5=140\n",
      "28X6=168\n",
      "28X7=196\n",
      "28X8=224\n",
      "28X9=252\n",
      "28X10=280\n",
      "\n",
      "Table of 29\n",
      "29X1=29\n",
      "29X2=58\n",
      "29X3=87\n",
      "29X4=116\n",
      "29X5=145\n",
      "29X6=174\n",
      "29X7=203\n",
      "29X8=232\n",
      "29X9=261\n",
      "29X10=290\n",
      "\n",
      "Table of 30\n",
      "30X1=30\n",
      "30X2=60\n",
      "30X3=90\n",
      "30X4=120\n",
      "30X5=150\n",
      "30X6=180\n",
      "30X7=210\n",
      "30X8=240\n",
      "30X9=270\n",
      "30X10=300\n",
      "\n",
      "Table of 31\n",
      "31X1=31\n",
      "31X2=62\n",
      "31X3=93\n",
      "31X4=124\n",
      "31X5=155\n",
      "31X6=186\n",
      "31X7=217\n",
      "31X8=248\n",
      "31X9=279\n",
      "31X10=310\n",
      "\n",
      "Table of 32\n",
      "32X1=32\n",
      "32X2=64\n",
      "32X3=96\n",
      "32X4=128\n",
      "32X5=160\n",
      "32X6=192\n",
      "32X7=224\n",
      "32X8=256\n",
      "32X9=288\n",
      "32X10=320\n",
      "\n",
      "Table of 33\n",
      "33X1=33\n",
      "33X2=66\n",
      "33X3=99\n",
      "33X4=132\n",
      "33X5=165\n",
      "33X6=198\n",
      "33X7=231\n",
      "33X8=264\n",
      "33X9=297\n",
      "33X10=330\n",
      "\n",
      "Table of 34\n",
      "34X1=34\n",
      "34X2=68\n",
      "34X3=102\n",
      "34X4=136\n",
      "34X5=170\n",
      "34X6=204\n",
      "34X7=238\n",
      "34X8=272\n",
      "34X9=306\n",
      "34X10=340\n",
      "\n",
      "Table of 35\n",
      "35X1=35\n",
      "35X2=70\n",
      "35X3=105\n",
      "35X4=140\n",
      "35X5=175\n",
      "35X6=210\n",
      "35X7=245\n",
      "35X8=280\n",
      "35X9=315\n",
      "35X10=350\n",
      "\n",
      "Table of 36\n",
      "36X1=36\n",
      "36X2=72\n",
      "36X3=108\n",
      "36X4=144\n",
      "36X5=180\n",
      "36X6=216\n",
      "36X7=252\n",
      "36X8=288\n",
      "36X9=324\n",
      "36X10=360\n",
      "\n",
      "Table of 37\n",
      "37X1=37\n",
      "37X2=74\n",
      "37X3=111\n",
      "37X4=148\n",
      "37X5=185\n",
      "37X6=222\n",
      "37X7=259\n",
      "37X8=296\n",
      "37X9=333\n",
      "37X10=370\n",
      "\n",
      "Table of 38\n",
      "38X1=38\n",
      "38X2=76\n",
      "38X3=114\n",
      "38X4=152\n",
      "38X5=190\n",
      "38X6=228\n",
      "38X7=266\n",
      "38X8=304\n",
      "38X9=342\n",
      "38X10=380\n",
      "\n",
      "Table of 39\n",
      "39X1=39\n",
      "39X2=78\n",
      "39X3=117\n",
      "39X4=156\n",
      "39X5=195\n",
      "39X6=234\n",
      "39X7=273\n",
      "39X8=312\n",
      "39X9=351\n",
      "39X10=390\n",
      "\n",
      "Table of 40\n",
      "40X1=40\n",
      "40X2=80\n",
      "40X3=120\n",
      "40X4=160\n",
      "40X5=200\n",
      "40X6=240\n",
      "40X7=280\n",
      "40X8=320\n",
      "40X9=360\n",
      "40X10=400\n"
     ]
    }
   ],
   "source": [
    "# 1-40\n",
    "\n",
    "# 1-40\n",
    "# 1 -----10 , 2-----------10 , 3\n",
    "\n",
    "for i in range(1,41):\n",
    "    print(f\"\\nTable of {i}\")\n",
    "    for j in range(1,11):\n",
    "        print(f\"{i}X{j}={i*j}\")"
   ]
  },
  {
   "cell_type": "code",
   "execution_count": 10,
   "id": "9a133743-56ac-4324-bb83-8c2966184aec",
   "metadata": {},
   "outputs": [
    {
     "name": "stdin",
     "output_type": "stream",
     "text": [
      "Enter ending range:  30\n"
     ]
    },
    {
     "name": "stdout",
     "output_type": "stream",
     "text": [
      "The sum of the value is from 1 to given number is 30: 465\n"
     ]
    }
   ],
   "source": [
    "# calculate the sum of numbers from 1-n:\n",
    "\n",
    "num = int(input(\"Enter ending range: \"))\n",
    "sum1 = 0\n",
    "for i in range(1,num+1):\n",
    "    # print(i,end=\",\")\n",
    "    sum1 = sum1+i\n",
    "print(f\"The sum of the value is from 1 to given number is {num}:\",sum1)"
   ]
  },
  {
   "cell_type": "code",
   "execution_count": 9,
   "id": "719f0fa4-9dff-4fc5-b0d5-706f513f08fa",
   "metadata": {},
   "outputs": [
    {
     "name": "stdin",
     "output_type": "stream",
     "text": [
      "Enter any value:  30\n"
     ]
    },
    {
     "name": "stdout",
     "output_type": "stream",
     "text": [
      "The sum of the value is from 1 to given number is 30: 465\n"
     ]
    }
   ],
   "source": [
    "num1 = int(input(\"Enter any value: \"))\n",
    "i = 1\n",
    "\n",
    "sumVal = 0\n",
    "while i<=num1:\n",
    "    # print(i)\n",
    "    sumVal+=i\n",
    "    i+=1\n",
    "print(f\"The sum of the value is from 1 to given number is {num1}:\",sumVal)"
   ]
  },
  {
   "cell_type": "code",
   "execution_count": 14,
   "id": "2e9e5949-d8ea-42c2-8e51-996ca49575a1",
   "metadata": {},
   "outputs": [
    {
     "name": "stdin",
     "output_type": "stream",
     "text": [
      "Enter any value:  4\n"
     ]
    },
    {
     "name": "stdout",
     "output_type": "stream",
     "text": [
      "Factorial of the user given value is 4:24\n"
     ]
    }
   ],
   "source": [
    "# calculate the factorial of the numbers.\n",
    "\n",
    "num = int(input(\"Enter any value: \"))\n",
    "fact = 1\n",
    "for i in range(1,num+1):\n",
    "    fact = fact*i\n",
    "    # print(i)\n",
    "print(f\"Factorial of the user given value is {num}:{fact}\")"
   ]
  },
  {
   "cell_type": "code",
   "execution_count": 17,
   "id": "eeae5c5f-492e-4e91-b923-30071592437f",
   "metadata": {},
   "outputs": [
    {
     "name": "stdin",
     "output_type": "stream",
     "text": [
      "enter any value: 5\n"
     ]
    },
    {
     "name": "stdout",
     "output_type": "stream",
     "text": [
      "Factorial of the user given value is 5:120\n"
     ]
    }
   ],
   "source": [
    "num=int(input(\"enter any value:\"))\n",
    "fact=1\n",
    "i=1\n",
    "while i<=num:\n",
    "    fact=fact*i\n",
    "    i=i+1\n",
    "print(f\"Factorial of the user given value is {num}:{fact}\")"
   ]
  },
  {
   "cell_type": "code",
   "execution_count": 20,
   "id": "92f853f6-1bfc-40b9-9187-22f85bc87d29",
   "metadata": {},
   "outputs": [
    {
     "name": "stdout",
     "output_type": "stream",
     "text": [
      "1 is not divisible by both 3 and 5\n",
      "2 is not divisible by both 3 and 5\n",
      "3 is divisible by only 3 not 5\n",
      "4 is not divisible by both 3 and 5\n",
      "5 is divisible by only 5 not 3\n",
      "6 is divisible by only 3 not 5\n",
      "7 is not divisible by both 3 and 5\n",
      "8 is not divisible by both 3 and 5\n",
      "9 is divisible by only 3 not 5\n",
      "10 is divisible by only 5 not 3\n",
      "11 is not divisible by both 3 and 5\n",
      "12 is divisible by only 3 not 5\n",
      "13 is not divisible by both 3 and 5\n",
      "14 is not divisible by both 3 and 5\n",
      "15 is divisble by both 3 and 5\n",
      "16 is not divisible by both 3 and 5\n",
      "17 is not divisible by both 3 and 5\n",
      "18 is divisible by only 3 not 5\n",
      "19 is not divisible by both 3 and 5\n",
      "20 is divisible by only 5 not 3\n",
      "21 is divisible by only 3 not 5\n",
      "22 is not divisible by both 3 and 5\n",
      "23 is not divisible by both 3 and 5\n",
      "24 is divisible by only 3 not 5\n",
      "25 is divisible by only 5 not 3\n",
      "26 is not divisible by both 3 and 5\n",
      "27 is divisible by only 3 not 5\n",
      "28 is not divisible by both 3 and 5\n",
      "29 is not divisible by both 3 and 5\n",
      "30 is divisble by both 3 and 5\n",
      "31 is not divisible by both 3 and 5\n",
      "32 is not divisible by both 3 and 5\n",
      "33 is divisible by only 3 not 5\n",
      "34 is not divisible by both 3 and 5\n",
      "35 is divisible by only 5 not 3\n",
      "36 is divisible by only 3 not 5\n",
      "37 is not divisible by both 3 and 5\n",
      "38 is not divisible by both 3 and 5\n",
      "39 is divisible by only 3 not 5\n",
      "40 is divisible by only 5 not 3\n",
      "41 is not divisible by both 3 and 5\n",
      "42 is divisible by only 3 not 5\n",
      "43 is not divisible by both 3 and 5\n",
      "44 is not divisible by both 3 and 5\n",
      "45 is divisble by both 3 and 5\n",
      "46 is not divisible by both 3 and 5\n",
      "47 is not divisible by both 3 and 5\n",
      "48 is divisible by only 3 not 5\n",
      "49 is not divisible by both 3 and 5\n",
      "50 is divisible by only 5 not 3\n",
      "51 is divisible by only 3 not 5\n",
      "52 is not divisible by both 3 and 5\n",
      "53 is not divisible by both 3 and 5\n",
      "54 is divisible by only 3 not 5\n",
      "55 is divisible by only 5 not 3\n",
      "56 is not divisible by both 3 and 5\n",
      "57 is divisible by only 3 not 5\n",
      "58 is not divisible by both 3 and 5\n",
      "59 is not divisible by both 3 and 5\n",
      "60 is divisble by both 3 and 5\n",
      "61 is not divisible by both 3 and 5\n",
      "62 is not divisible by both 3 and 5\n",
      "63 is divisible by only 3 not 5\n",
      "64 is not divisible by both 3 and 5\n",
      "65 is divisible by only 5 not 3\n",
      "66 is divisible by only 3 not 5\n",
      "67 is not divisible by both 3 and 5\n",
      "68 is not divisible by both 3 and 5\n",
      "69 is divisible by only 3 not 5\n",
      "70 is divisible by only 5 not 3\n",
      "71 is not divisible by both 3 and 5\n",
      "72 is divisible by only 3 not 5\n",
      "73 is not divisible by both 3 and 5\n",
      "74 is not divisible by both 3 and 5\n",
      "75 is divisble by both 3 and 5\n",
      "76 is not divisible by both 3 and 5\n",
      "77 is not divisible by both 3 and 5\n",
      "78 is divisible by only 3 not 5\n",
      "79 is not divisible by both 3 and 5\n",
      "80 is divisible by only 5 not 3\n",
      "81 is divisible by only 3 not 5\n",
      "82 is not divisible by both 3 and 5\n",
      "83 is not divisible by both 3 and 5\n",
      "84 is divisible by only 3 not 5\n",
      "85 is divisible by only 5 not 3\n",
      "86 is not divisible by both 3 and 5\n",
      "87 is divisible by only 3 not 5\n",
      "88 is not divisible by both 3 and 5\n",
      "89 is not divisible by both 3 and 5\n",
      "90 is divisble by both 3 and 5\n",
      "91 is not divisible by both 3 and 5\n",
      "92 is not divisible by both 3 and 5\n",
      "93 is divisible by only 3 not 5\n",
      "94 is not divisible by both 3 and 5\n",
      "95 is divisible by only 5 not 3\n",
      "96 is divisible by only 3 not 5\n",
      "97 is not divisible by both 3 and 5\n",
      "98 is not divisible by both 3 and 5\n",
      "99 is divisible by only 3 not 5\n",
      "100 is divisible by only 5 not 3\n"
     ]
    }
   ],
   "source": [
    "# print all number divisible by 3 and 5 from 1 - 100\n",
    "\n",
    "i = 1\n",
    "j = 100\n",
    "\n",
    "while i<=j:\n",
    "    # print(i)\n",
    "    if i%3==0 and i%5!=0:\n",
    "        print(f\"{i} is divisible by only 3 not 5\")\n",
    "    elif i%3!=0 and i%5==0:\n",
    "        print(f\"{i} is divisible by only 5 not 3\")\n",
    "    elif i%3==0 and i%5==0:\n",
    "        print(f\"{i} is divisble by both 3 and 5\")\n",
    "    elif i%3!=0 and i%5!=0:\n",
    "        print(f\"{i} is not divisible by both 3 and 5\")\n",
    "        \n",
    "    i+=1"
   ]
  },
  {
   "cell_type": "code",
   "execution_count": 25,
   "id": "92e0b025-9aa7-4b3a-a17f-b5809f6421d8",
   "metadata": {},
   "outputs": [
    {
     "name": "stdin",
     "output_type": "stream",
     "text": [
      "Enter any value:  12\n"
     ]
    },
    {
     "name": "stdout",
     "output_type": "stream",
     "text": [
      "21\n"
     ]
    }
   ],
   "source": [
    "# print the reverse of given numbers:\n",
    "num = input(\"Enter any value: \")\n",
    "rev = \"\"  #5613\n",
    "for i in num:\n",
    "    # print(i,end=\"\")\n",
    "    rev = i + rev  # \n",
    "print(rev)"
   ]
  },
  {
   "cell_type": "code",
   "execution_count": 26,
   "id": "1ee5f51c-c498-4346-9558-581731be605c",
   "metadata": {},
   "outputs": [
    {
     "data": {
      "text/plain": [
       "range(0, 10)"
      ]
     },
     "execution_count": 26,
     "metadata": {},
     "output_type": "execute_result"
    }
   ],
   "source": [
    "range(10)"
   ]
  },
  {
   "cell_type": "code",
   "execution_count": 30,
   "id": "96db1405-f408-475f-a861-035d7a2805a8",
   "metadata": {},
   "outputs": [
    {
     "name": "stdin",
     "output_type": "stream",
     "text": [
      "Enter any value:  123\n"
     ]
    },
    {
     "name": "stdout",
     "output_type": "stream",
     "text": [
      "Reversed value is: 321\n"
     ]
    }
   ],
   "source": [
    "num = input(\"Enter any value: \")\n",
    "\n",
    "i = 0\n",
    "rev = ''\n",
    "while i< len(num):\n",
    "    # print(num[i])\n",
    "    rev = num[i] + rev\n",
    "    i+=1\n",
    "print(\"Reversed value is:\",rev)"
   ]
  },
  {
   "cell_type": "code",
   "execution_count": 33,
   "id": "c499b3e8-4b87-450c-93f3-7b3935cddf2d",
   "metadata": {},
   "outputs": [
    {
     "name": "stdout",
     "output_type": "stream",
     "text": [
      "11\n"
     ]
    }
   ],
   "source": [
    "# count digits in a number using a loop\n",
    "\n",
    "num = \"11565415215\"\n",
    "\n",
    "# len(num)\n",
    "count = 0\n",
    "for i in num:\n",
    "    count+=1\n",
    "    # print(i)\n",
    "print(count)"
   ]
  },
  {
   "cell_type": "code",
   "execution_count": 34,
   "id": "2005af26-796f-4fa2-b030-f71aef708797",
   "metadata": {},
   "outputs": [
    {
     "name": "stdout",
     "output_type": "stream",
     "text": [
      "11\n"
     ]
    }
   ],
   "source": [
    "# while \n",
    "\n",
    "i = 0\n",
    "count1=0\n",
    "while i< len(num):\n",
    "    count1 = count1+1\n",
    "    i+=1\n",
    "print(count1)"
   ]
  },
  {
   "cell_type": "code",
   "execution_count": 35,
   "id": "e5b4a12c-9e1b-463a-8c7e-5529ff61c325",
   "metadata": {},
   "outputs": [],
   "source": [
    "# print all the characters of string using loop\n",
    "\n",
    "# 'hello world'"
   ]
  },
  {
   "cell_type": "code",
   "execution_count": 40,
   "id": "b18a44cf-5852-4df9-8e4f-7a541b672bed",
   "metadata": {},
   "outputs": [
    {
     "name": "stdin",
     "output_type": "stream",
     "text": [
      "enter your name:  utkarsh\n"
     ]
    },
    {
     "name": "stdout",
     "output_type": "stream",
     "text": [
      "Vowel Charactrs is: ['u', 'a']\n",
      "Consonent Charactrs is: ['t', 'k', 'r', 's', 'h']\n"
     ]
    }
   ],
   "source": [
    "# print only vowels from string input by the user.\n",
    "\n",
    "name = input(\"enter your name: \")\n",
    "vowList = []\n",
    "consList = []\n",
    "for i in range(len(name)):\n",
    "    # print(name[i])\n",
    "    if name[i] in \"aeiouAEIOU\":\n",
    "        vowList.append(name[i])\n",
    "        # print(name[i])\n",
    "    else:\n",
    "        # print('Consonent charactesrs is:')\n",
    "        consList.append(name[i])\n",
    "print(\"Vowel Charactrs is:\",vowList)\n",
    "print(\"Consonent Charactrs is:\",consList)"
   ]
  },
  {
   "cell_type": "code",
   "execution_count": 51,
   "id": "f5a07eaa-480b-40ee-b8ad-c992ea7bf57c",
   "metadata": {},
   "outputs": [
    {
     "name": "stdin",
     "output_type": "stream",
     "text": [
      "enter your name:  Biryani is a mixed rice dish originating in South Asia, traditionally made with rice, meat or seafood, and spices. Biryani is one of the most popular dishes in South Asia and among the South Asian diaspora, though the dish is often associated with the region's Muslim population in particular.\n"
     ]
    },
    {
     "name": "stdout",
     "output_type": "stream",
     "text": [
      "Vowel is: ['i', 'a', 'i', 's', 'i', 'd', 'i', 'i', 'h', 'i', 'a', 'i', 'g', 'n', 'o', 'A', ',', 't', 'i', 'i', 'o', 'y', 'a', 'e', 'w', 't', ',', 'e', 'o', 'f', 'o', 'n', 'd', 'i', '.', 'B', 'r', 'y', 'i', 'f', 'h', 't', 'p', 'l', 'r', 's', 'e', 'i', 't', 's', 'd', 'm', 'n', 'e', 'u', 'A', 'n', 'd', 'p', 'r', 'a', 't', 'g', 't', 'h', 'o', 'f', 'a', 's', 'o', 't', 'e', 'i', 'h', 'e', 'g', 'M', 'l', 'o', 'l', 'i', 'i', 'a', 't', 'i', 'u', '.']\n",
      "Consonenet is: ['B', 'r', 'y', 'n', 'i', 'a', 'm', 'x', 'e', 'r', 'c', 'e', 'd', 's', 'o', 'r', 'g', 'i', 'n', 't', 'n', 'i', 'S', 'u', 't', 'h', 's', 'i', 'a', 'r', 'a', 'd', 't', 'n', 'a', 'l', 'l', 'm', 'd', 'i', 'h', 'r', 'i', 'c', 'e', 'm', 'a', 't', 'r', 's', 'e', 'a', 'o', 'd', ',', 'a', 's', 'p', 'c', 'e', 's', 'i', 'a', 'n', 'i', 's', 'o', 'n', 'e', 'o', 't', 'e', 'm', 'o', 's', 'p', 'o', 'u', 'a', 'd', 'i', 'h', 's', 'n', 'S', 'o', 'u', 'h', 'A', 'i', 'a', 'a', 'n', 'a', 'o', 'g', 't', 'h', 'S', 'o', 't', 'h', 's', 'i', 'a', 'i', 'a', 's', 'o', ',', 'h', 'o', 'u', 'h', 'h', 'e', 'd', 'i', 's', 'i', 's', 't', 'e', 'n', 's', 'c', 'i', 'a', 'd', 'w', 't', 't', 'h', 'e', 'r', 'i', 'o', 'n', \"'\", 's', 'u', 's', 'i', 'm', 'p', 'p', 'u', 'a', 't', 'o', 'n', 'n', 'p', 'r', 'c', 'l', 'a', 'r']\n"
     ]
    }
   ],
   "source": [
    "name = input(\"enter your name: \")\n",
    "name1 = name.replace(' ','')\n",
    "i = 0\n",
    "j = len(name1)\n",
    "vowList = []\n",
    "consList = []\n",
    "while i<j:\n",
    "    # print(name[i])\n",
    "    if name[i] in \"aeiouAEIOU\":\n",
    "        vowList.append(name1[i])\n",
    "    else:\n",
    "        consList.append(name1[i])\n",
    "    i+=1\n",
    "\n",
    "    \n",
    "print(\"Vowel is:\",vowList)\n",
    "print(\"Consonenet is:\",consList)"
   ]
  },
  {
   "cell_type": "code",
   "execution_count": null,
   "id": "45ecaac7-8c17-41f1-855b-41d5b15a1c95",
   "metadata": {},
   "outputs": [],
   "source": [
    "# count total number of every words and display in the new list.\n",
    "list1 = ['apple',\"banana\",\"Pomegranate\",\"Grapes\",\"Litchi\",\"Mango\",\"Guava\",\"Watermelon\",\"Kiwi\",\"Pineapple\",\"Muskmelon\",\"Jackfruit\"]\n",
    "# countWords = [5,6,11,6,6,5]\n",
    "\n"
   ]
  },
  {
   "cell_type": "code",
   "execution_count": 1,
   "id": "7d1bdf7e-70a5-4307-a992-2514c8a7ac12",
   "metadata": {},
   "outputs": [
    {
     "name": "stdout",
     "output_type": "stream",
     "text": [
      "Original list :  ['apple', 'banana', 'Pomegranate', 'Grapes', 'Litchi', 'Mango', 'Guava', 'Watermelon', 'Kiwi', 'Pineapple', 'Muskmelon', 'Jackfruit']\n",
      "Countwords:  [5, 6, 11, 6, 6, 5, 5, 10, 4, 9, 9, 9]\n"
     ]
    }
   ],
   "source": [
    "list1 = [\"apple\",\"banana\",\"Pomegranate\",\"Grapes\",\"Litchi\",\"Mango\",\"Guava\",\"Watermelon\",\"Kiwi\",\"Pineapple\",\"Muskmelon\",\"Jackfruit\"]\n",
    "new_list = []\n",
    "count = 0 \n",
    "for i in list1:\n",
    "    new_list.append(len(i))\n",
    "print(\"Original list : \" ,list1)\n",
    "print(\"Countwords: \" , new_list)"
   ]
  },
  {
   "cell_type": "code",
   "execution_count": 8,
   "id": "3a851876-783c-43b6-b87b-6b4d4f6668b3",
   "metadata": {},
   "outputs": [
    {
     "name": "stdout",
     "output_type": "stream",
     "text": [
      "[5, 6, 11, 6, 6, 5, 5, 10, 4, 9, 9, 9]\n"
     ]
    }
   ],
   "source": [
    "list1 = [\"apple\",\"banana\",\"Pomegranate\",\"Grapes\",\"Litchi\",\"Mango\",\"Guava\",\"Watermelon\",\"Kiwi\",\"Pineapple\",\"Muskmelon\",\"Jackfruit\"]\n",
    "newList = [] # 5,6\n",
    "for i in range(len(list1)): #banana\n",
    "    wordsCount=0  # 123456\n",
    "    for j in list1[i]:  # banana\n",
    "        wordsCount = wordsCount+1\n",
    "        # print(j)\n",
    "    newList.append(wordsCount)\n",
    "print(newList)"
   ]
  },
  {
   "cell_type": "code",
   "execution_count": 9,
   "id": "1132bb8f-211c-4162-9600-161e9fa20e2f",
   "metadata": {},
   "outputs": [
    {
     "name": "stdout",
     "output_type": "stream",
     "text": [
      "[5, 6, 11, 6, 6, 5, 5, 10, 4, 9, 9, 9]\n"
     ]
    }
   ],
   "source": [
    "list1 = [\"apple\",\"banana\",\"Pomegranate\",\"Grapes\",\"Litchi\",\"Mango\",\"Guava\",\"Watermelon\",\"Kiwi\",\"Pineapple\",\"Muskmelon\",\"Jackfruit\"]\n",
    "new_list = []\n",
    "i = 0\n",
    "while i < len(list1):\n",
    "    wordCount = 0\n",
    "    j = 0\n",
    "    while j < len(list1[i]):\n",
    "        wordCount = wordCount+1\n",
    "        j+=1       \n",
    "    new_list.append(wordCount)\n",
    "    i+=1\n",
    "print(new_list)"
   ]
  },
  {
   "cell_type": "code",
   "execution_count": 14,
   "id": "d50b6c1b-8661-4a03-a4be-7c579f5b7bb0",
   "metadata": {},
   "outputs": [
    {
     "name": "stdout",
     "output_type": "stream",
     "text": [
      "['apple', 'banana', 'Pomegranate', 'Grapes', 'Litchi', 'Mango', 'Guava', 'Watermelon', 'Kiwi', 'Pineapple', 'Muskmelon', 'Jackfruit']\n",
      "Total number of words in the list is: [5, 6, 11, 6, 6, 5, 5, 10, 4, 9, 9, 9]\n"
     ]
    }
   ],
   "source": [
    "list1 = [\"apple\",\"banana\",\"Pomegranate\",\"Grapes\",\"Litchi\",\"Mango\",\"Guava\",\"Watermelon\",\"Kiwi\",\"Pineapple\",\"Muskmelon\",\"Jackfruit\"]\n",
    "print(list1)\n",
    "newList=[]\n",
    "i = 0\n",
    "\n",
    "while i<len(list1):\n",
    "    # print(list1[i])\n",
    "    wordsCount = 0\n",
    "    j=0\n",
    "    while j<len(list1[i]):\n",
    "        # print(j)\n",
    "        wordsCount+=1\n",
    "        j+=1\n",
    "    newList.append(wordsCount)\n",
    "    i+=1\n",
    "print(\"Total number of words in the list is:\",newList)"
   ]
  },
  {
   "cell_type": "code",
   "execution_count": 21,
   "id": "22da88b1-c2be-4f39-b485-ae82904daaa8",
   "metadata": {},
   "outputs": [
    {
     "name": "stdout",
     "output_type": "stream",
     "text": [
      "The Maximum Value is: 11\n"
     ]
    }
   ],
   "source": [
    "# Find the maximum value in a list using a loop\n",
    "\n",
    "lst = [5,8,2,10,11,3,6]\n",
    "# max(lst)\n",
    "\n",
    "maxVal = lst[0] \n",
    "# print(maxVal)\n",
    "\n",
    "for num in lst:\n",
    "    if num> maxVal:\n",
    "        maxVal = num\n",
    "print(\"The Maximum Value is:\",maxVal)"
   ]
  },
  {
   "cell_type": "code",
   "execution_count": 22,
   "id": "f19102ce-b491-42e2-99a1-3ace8c3c4841",
   "metadata": {},
   "outputs": [
    {
     "name": "stdout",
     "output_type": "stream",
     "text": [
      "The Minimum Value is: 2\n"
     ]
    }
   ],
   "source": [
    "# lst = [5,8,2,10,11,3,6]\n",
    "\n",
    "# find the smallest value in the list using while loop \n",
    "\n",
    "list1 = [5, 8, 2, 10, 11, 3, 6]\n",
    "minVal = list[0]\n",
    "\n",
    "for num in list1:\n",
    "    if num < minVal:\n",
    "        minVal = num\n",
    "        \n",
    "print(\"The Minimum Value is:\", minVal)"
   ]
  },
  {
   "cell_type": "code",
   "execution_count": null,
   "id": "8d6cf89e-60a8-4ced-bf9e-1353632699b5",
   "metadata": {},
   "outputs": [],
   "source": [
    "# lst = [5,8,2,10,11,3,6]\n",
    "\n",
    "# find the smallest value in the list using while loop "
   ]
  },
  {
   "cell_type": "code",
   "execution_count": 23,
   "id": "646cfd37-f45a-49e0-bc92-6fab224fdb11",
   "metadata": {},
   "outputs": [
    {
     "name": "stdout",
     "output_type": "stream",
     "text": [
      "2\n"
     ]
    }
   ],
   "source": [
    "lst = [5, 8, 2, 10, 11, 3, 6]\n",
    "\n",
    "i=0\n",
    "minval=lst[0]\n",
    "\n",
    "while i <len(lst):\n",
    "    if lst[i]<minval:\n",
    "        minval=lst[i]\n",
    "    i+=1\n",
    "\n",
    "print(minval)"
   ]
  },
  {
   "cell_type": "code",
   "execution_count": 25,
   "id": "d55108f4-3385-47b5-a248-4299f75c6ac4",
   "metadata": {},
   "outputs": [
    {
     "name": "stdout",
     "output_type": "stream",
     "text": [
      "The Minimum Value is: 2\n"
     ]
    }
   ],
   "source": [
    "list2 = [5, 8, 2, 10, 11, 3, 6]\n",
    "minVal = list[0]\n",
    "i = 1 \n",
    "while i < len(list2):\n",
    "    if list2[i] < minVal:\n",
    "        minVal = list2[i]\n",
    "    i = i + 1\n",
    "print(\"The Minimum Value is:\", minVal)"
   ]
  },
  {
   "cell_type": "code",
   "execution_count": 32,
   "id": "0305dc89-9311-40b1-a2cb-1b1f42520b9e",
   "metadata": {},
   "outputs": [
    {
     "name": "stdout",
     "output_type": "stream",
     "text": [
      "Mininum value in the list is: -10\n"
     ]
    }
   ],
   "source": [
    "list2 = [5, 8, 2, 10, 11, 3, 6,1,-10]\n",
    "\n",
    "\n",
    "minVal = list2[0]\n",
    "i = 0\n",
    "\n",
    "while i<len(list2):\n",
    "    # print(list2[i])\n",
    "    if list2[i]< minVal:\n",
    "        minVal = list2[i]\n",
    "    i+=1\n",
    "print(f\"Mininum value in the list is:\",minVal)"
   ]
  },
  {
   "cell_type": "code",
   "execution_count": null,
   "id": "4f130753-0ce2-4039-b2cf-0f5e5826110b",
   "metadata": {},
   "outputs": [],
   "source": []
  }
 ],
 "metadata": {
  "kernelspec": {
   "display_name": "Python 3 (ipykernel)",
   "language": "python",
   "name": "python3"
  },
  "language_info": {
   "codemirror_mode": {
    "name": "ipython",
    "version": 3
   },
   "file_extension": ".py",
   "mimetype": "text/x-python",
   "name": "python",
   "nbconvert_exporter": "python",
   "pygments_lexer": "ipython3",
   "version": "3.13.7"
  }
 },
 "nbformat": 4,
 "nbformat_minor": 5
}
