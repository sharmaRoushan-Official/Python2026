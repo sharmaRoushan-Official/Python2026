{
 "cells": [
  {
   "cell_type": "markdown",
   "id": "4d65daf6-2c0d-48ec-b3bd-26d2974a60ee",
   "metadata": {},
   "source": [
    "# 8. Loops in Python\n",
    " * __A for loop is used for iterating over a sequence(that is either a list, a tuple, a dicitionary, a set or a string.)__\n",
    " * __This is less like the for keyword in other programming languges, and works more like an iterator method as foudn in other object-oriented programming languages.__\n",
    " * __With the for loop we can execute a set of statements, once for each item in a list, a tuple, a set etc.__\n",
    " * __The for loop does not required an indexing varible to set beforehand.__\n",
    " * __with the while loop we can execute a set of statements as long as condition is true.__\n",
    " * __Note: while loop requires relevant variables to be ready, we need to define an indexing variable, i, which we set to 1.__\n",
    "\n",
    "\n",
    "## range() function\n",
    " * __It is helpful to think of the range object as an ordered list.__\n",
    " * __To loop through a set of code a specified number of times, we can use the range() functions.__\n",
    " * __To range() function returns a sequence of numbers, starting from 0 by default, and increments by 1(by default), and ends at a specified number.__"
   ]
  },
  {
   "cell_type": "code",
   "execution_count": 1,
   "id": "cd0cb982-8fa3-4a1c-ba38-1f0fe6b15855",
   "metadata": {},
   "outputs": [
    {
     "name": "stdout",
     "output_type": "stream",
     "text": [
      "Hello world\n",
      "Hello world\n",
      "Hello world\n",
      "Hello world\n",
      "Hello world\n",
      "Hello world\n",
      "Hello world\n",
      "Hello world\n",
      "Hello world\n",
      "Hello world\n",
      "Hello world\n",
      "Hello world\n",
      "Hello world\n",
      "Hello world\n",
      "Hello world\n",
      "Hello world\n",
      "Hello world\n",
      "Hello world\n",
      "Hello world\n",
      "Hello world\n",
      "Hello world\n",
      "Hello world\n",
      "Hello world\n",
      "Hello world\n"
     ]
    }
   ],
   "source": [
    "print(\"Hello world\")\n",
    "print(\"Hello world\")\n",
    "print(\"Hello world\")\n",
    "print(\"Hello world\")\n",
    "print(\"Hello world\")\n",
    "print(\"Hello world\")\n",
    "print(\"Hello world\")\n",
    "print(\"Hello world\")\n",
    "print(\"Hello world\")\n",
    "print(\"Hello world\")\n",
    "print(\"Hello world\")\n",
    "print(\"Hello world\")\n",
    "print(\"Hello world\")\n",
    "print(\"Hello world\")\n",
    "print(\"Hello world\")\n",
    "print(\"Hello world\")\n",
    "print(\"Hello world\")\n",
    "print(\"Hello world\")\n",
    "print(\"Hello world\")\n",
    "print(\"Hello world\")\n",
    "print(\"Hello world\")\n",
    "print(\"Hello world\")\n",
    "print(\"Hello world\")\n",
    "print(\"Hello world\")"
   ]
  },
  {
   "cell_type": "code",
   "execution_count": 2,
   "id": "c4054f03-e933-41d5-8b16-a7bd70a4f5ec",
   "metadata": {},
   "outputs": [
    {
     "data": {
      "text/plain": [
       "range(0, 10)"
      ]
     },
     "execution_count": 2,
     "metadata": {},
     "output_type": "execute_result"
    }
   ],
   "source": [
    "num = 10\n",
    "\n",
    "range(10)"
   ]
  },
  {
   "cell_type": "code",
   "execution_count": 3,
   "id": "a56c6360-e254-4f53-91a6-370c2ed8d8a1",
   "metadata": {},
   "outputs": [
    {
     "data": {
      "text/plain": [
       "range(0, -10)"
      ]
     },
     "execution_count": 3,
     "metadata": {},
     "output_type": "execute_result"
    }
   ],
   "source": [
    "num = -10\n",
    "\n",
    "range(-10)"
   ]
  },
  {
   "cell_type": "code",
   "execution_count": 4,
   "id": "c4ed74f2-153d-4066-86a7-773f20e3d279",
   "metadata": {},
   "outputs": [
    {
     "data": {
      "text/plain": [
       "range(1, -10, -1)"
      ]
     },
     "execution_count": 4,
     "metadata": {},
     "output_type": "execute_result"
    }
   ],
   "source": [
    "range(1,-10,-1)"
   ]
  },
  {
   "cell_type": "code",
   "execution_count": 5,
   "id": "87113535-b45e-493a-80ec-3c2a286f663e",
   "metadata": {},
   "outputs": [
    {
     "name": "stdout",
     "output_type": "stream",
     "text": [
      "0\n",
      "1\n",
      "2\n",
      "3\n",
      "4\n",
      "5\n",
      "6\n",
      "7\n",
      "8\n",
      "9\n"
     ]
    }
   ],
   "source": [
    "for i in range(10):\n",
    "    print(i)"
   ]
  },
  {
   "cell_type": "code",
   "execution_count": 6,
   "id": "ad57655d-8f29-4c86-b2a6-824aed0cb3be",
   "metadata": {},
   "outputs": [
    {
     "name": "stdout",
     "output_type": "stream",
     "text": [
      "0\n",
      "1\n",
      "2\n",
      "3\n",
      "4\n",
      "5\n",
      "6\n",
      "7\n",
      "8\n",
      "9\n"
     ]
    }
   ],
   "source": [
    "# decrement\n",
    "for dheeraj in range(10):\n",
    "    print(dheeraj)"
   ]
  },
  {
   "cell_type": "code",
   "execution_count": 10,
   "id": "ba0ff18b-2b24-4f7d-b704-808eba0e4053",
   "metadata": {},
   "outputs": [
    {
     "name": "stdout",
     "output_type": "stream",
     "text": [
      "1\n",
      "0\n",
      "-1\n",
      "-2\n",
      "-3\n",
      "-4\n",
      "-5\n",
      "-6\n",
      "-7\n",
      "-8\n",
      "-9\n"
     ]
    }
   ],
   "source": [
    "for i in range(1,-10,-1):\n",
    "    print(i)"
   ]
  },
  {
   "cell_type": "code",
   "execution_count": 12,
   "id": "a3094f5c-fed4-4e8d-9f39-729499b0e16a",
   "metadata": {},
   "outputs": [
    {
     "name": "stdout",
     "output_type": "stream",
     "text": [
      "3\n",
      "4\n"
     ]
    }
   ],
   "source": [
    "# 10\n",
    "for i in range(3,5):\n",
    "    print(i)"
   ]
  },
  {
   "cell_type": "code",
   "execution_count": 14,
   "id": "aade33e0-9e8d-4564-8e6c-b720a900a590",
   "metadata": {},
   "outputs": [
    {
     "name": "stdout",
     "output_type": "stream",
     "text": [
      "1 Hello world\n",
      "2 Hello world\n",
      "3 Hello world\n",
      "4 Hello world\n",
      "5 Hello world\n",
      "6 Hello world\n",
      "7 Hello world\n",
      "8 Hello world\n",
      "9 Hello world\n",
      "10 Hello world\n"
     ]
    }
   ],
   "source": [
    "for i in range(1,11):\n",
    "    print(i,\"Hello world\")"
   ]
  },
  {
   "cell_type": "code",
   "execution_count": 17,
   "id": "e51bdfba-f64b-490d-96b0-6fbe74a16122",
   "metadata": {},
   "outputs": [
    {
     "name": "stdout",
     "output_type": "stream",
     "text": [
      "D\n",
      "h\n",
      "e\n",
      "e\n",
      "r\n",
      "a\n",
      "j\n"
     ]
    }
   ],
   "source": [
    "x = \"Dheeraj\"\n",
    "# print(x)\n",
    "for j in x:\n",
    "    print(j)"
   ]
  },
  {
   "cell_type": "code",
   "execution_count": 18,
   "id": "6ab02f1a-58cb-4964-8359-80dbf880d120",
   "metadata": {},
   "outputs": [
    {
     "data": {
      "text/plain": [
       "'D'"
      ]
     },
     "execution_count": 18,
     "metadata": {},
     "output_type": "execute_result"
    }
   ],
   "source": [
    "x[0]"
   ]
  },
  {
   "cell_type": "code",
   "execution_count": 25,
   "id": "81e3877c-cd25-4abd-85a8-43e9ede5cc84",
   "metadata": {},
   "outputs": [
    {
     "name": "stdout",
     "output_type": "stream",
     "text": [
      "Mo\n",
      "Tu\n",
      "We\n",
      "Th\n",
      "Fr\n",
      "Sa\n",
      "Su\n"
     ]
    }
   ],
   "source": [
    "weekdays = ['Monday',\"Tuesday\",\"Wednesday\",\"Thursday\",\"Friday\",\"Saturday\",\"Sunday\"]\n",
    "\n",
    "for i in weekdays:\n",
    "    print(i[0:2])"
   ]
  },
  {
   "cell_type": "code",
   "execution_count": 26,
   "id": "edcf41c7-f290-4afb-8798-0b12e71f05ac",
   "metadata": {},
   "outputs": [
    {
     "name": "stdout",
     "output_type": "stream",
     "text": [
      "Mo\n",
      "Tu\n",
      "We\n",
      "Th\n",
      "Fr\n",
      "Sa\n",
      "Su\n"
     ]
    }
   ],
   "source": [
    "weekdays = ('Monday',\"Tuesday\",\"Wednesday\",\"Thursday\",\"Friday\",\"Saturday\",\"Sunday\")\n",
    "\n",
    "for i in weekdays:\n",
    "    print(i[0:2])"
   ]
  },
  {
   "cell_type": "code",
   "execution_count": 29,
   "id": "d0257d23-5c4e-4d19-b701-4c707140aaf4",
   "metadata": {},
   "outputs": [
    {
     "data": {
      "text/plain": [
       "'Tu'"
      ]
     },
     "execution_count": 29,
     "metadata": {},
     "output_type": "execute_result"
    }
   ],
   "source": [
    "weekdays[0][0:2]\n",
    "weekdays[1][0:2]"
   ]
  },
  {
   "cell_type": "code",
   "execution_count": 33,
   "id": "f978fac6-62bb-48bf-8c74-9d3594a7b8d9",
   "metadata": {},
   "outputs": [
    {
     "name": "stdout",
     "output_type": "stream",
     "text": [
      "{65, 1, 2, 100, 5, 56, 89, 58}\n"
     ]
    }
   ],
   "source": [
    "x = {1,1,1,2,2,58,89,65,5,56,100}\n",
    "print(x)"
   ]
  },
  {
   "cell_type": "code",
   "execution_count": 34,
   "id": "85be9843-7242-45f1-aa18-390f8fc58157",
   "metadata": {},
   "outputs": [
    {
     "name": "stdout",
     "output_type": "stream",
     "text": [
      "65\n",
      "1\n",
      "2\n",
      "100\n",
      "5\n",
      "56\n",
      "89\n",
      "58\n"
     ]
    }
   ],
   "source": [
    "for x1 in x:\n",
    "    print(x1)"
   ]
  },
  {
   "cell_type": "code",
   "execution_count": 35,
   "id": "9cec2441-d3f1-4a23-bea9-e8f7877e3a82",
   "metadata": {},
   "outputs": [
    {
     "name": "stdout",
     "output_type": "stream",
     "text": [
      "name\n",
      "age\n",
      "email\n"
     ]
    }
   ],
   "source": [
    "x1 = {'name':\"Dhiraj\",\"age\":100,'email':'dhiraj@gmail.com'}\n",
    "\n",
    "for i in x1:\n",
    "    print(i)"
   ]
  },
  {
   "cell_type": "code",
   "execution_count": 36,
   "id": "1df7a204-8290-48c8-9c90-accbe03e360e",
   "metadata": {},
   "outputs": [
    {
     "name": "stdout",
     "output_type": "stream",
     "text": [
      "name\n",
      "age\n",
      "email\n"
     ]
    }
   ],
   "source": [
    "for i in x1.keys():\n",
    "    print(i)"
   ]
  },
  {
   "cell_type": "code",
   "execution_count": 40,
   "id": "6cbcf996-b41f-4d55-ad45-f25d2f65430d",
   "metadata": {},
   "outputs": [
    {
     "name": "stdout",
     "output_type": "stream",
     "text": [
      "name : Dhiraj\n",
      "age : 100\n",
      "email : dhiraj@gmail.com\n"
     ]
    }
   ],
   "source": [
    "for i,j in x1.items():\n",
    "    print(i,\":\",j)"
   ]
  },
  {
   "cell_type": "code",
   "execution_count": 43,
   "id": "946882b1-738d-424c-9a1a-41efbc4a8841",
   "metadata": {},
   "outputs": [
    {
     "name": "stdout",
     "output_type": "stream",
     "text": [
      "55\n"
     ]
    }
   ],
   "source": [
    "# 1-10 ----> \n",
    "sum1 =0 # 1, 3, 6 , 10 , 15, 21, 28, 36 , 45, 55\n",
    "for i in range(1,11):  # 1+2 = 3+3 = 6+4 = 10+ 5= 15+6 = 21+7 = 28+8 = 36+9 = 45+10= 55\n",
    "    sum1 = sum1+i  #  0+1 = 1, 1+2 = 3, 3+3 , 6+4 =10, 10+5, 15+6 =21, 21+7 = 28, 28+8 = 36, 36+9 = 45, 45+10 = 55\n",
    "print(sum1)"
   ]
  },
  {
   "cell_type": "code",
   "execution_count": 53,
   "id": "9e9c069b-78c2-473a-8e4b-2f1e8ab6df1c",
   "metadata": {},
   "outputs": [
    {
     "name": "stdout",
     "output_type": "stream",
     "text": [
      "30\n"
     ]
    }
   ],
   "source": [
    "# sum of 10 even numbers\n",
    "sum1 = 0\n",
    "for i in range(0,11,2):\n",
    "    sum1 += i\n",
    "print(sum1)"
   ]
  },
  {
   "cell_type": "code",
   "execution_count": 58,
   "id": "6cf2ebfd-e77d-4ae8-9cf9-c689319a6cc7",
   "metadata": {},
   "outputs": [
    {
     "name": "stdout",
     "output_type": "stream",
     "text": [
      "30\n"
     ]
    }
   ],
   "source": [
    "sum2 = 0\n",
    "for x in range(11):\n",
    "    if x%2 == 0:\n",
    "        \n",
    "        # print(x)\n",
    "        sum2 += x\n",
    "print(sum2)"
   ]
  },
  {
   "cell_type": "code",
   "execution_count": 65,
   "id": "5249cebc-60cb-4f52-a059-f39763fd88a5",
   "metadata": {},
   "outputs": [
    {
     "name": "stdout",
     "output_type": "stream",
     "text": [
      "0 U\n",
      "1 t\n",
      "2 k\n",
      "3 a\n",
      "4 r\n",
      "5 s\n",
      "6 h\n"
     ]
    }
   ],
   "source": [
    "x = \"Utkarsh\"\n",
    "\n",
    "for i in range(len(x)):\n",
    "    print(i,x[i])"
   ]
  },
  {
   "cell_type": "code",
   "execution_count": 63,
   "id": "2de57752-a322-4bdc-aeda-41d27091a3ce",
   "metadata": {},
   "outputs": [
    {
     "data": {
      "text/plain": [
       "'U'"
      ]
     },
     "execution_count": 63,
     "metadata": {},
     "output_type": "execute_result"
    }
   ],
   "source": [
    "x[0]"
   ]
  },
  {
   "cell_type": "code",
   "execution_count": null,
   "id": "0d14352a-fd9d-4df7-9a57-aae02f887f09",
   "metadata": {},
   "outputs": [],
   "source": []
  }
 ],
 "metadata": {
  "kernelspec": {
   "display_name": "Python 3 (ipykernel)",
   "language": "python",
   "name": "python3"
  },
  "language_info": {
   "codemirror_mode": {
    "name": "ipython",
    "version": 3
   },
   "file_extension": ".py",
   "mimetype": "text/x-python",
   "name": "python",
   "nbconvert_exporter": "python",
   "pygments_lexer": "ipython3",
   "version": "3.13.7"
  }
 },
 "nbformat": 4,
 "nbformat_minor": 5
}
