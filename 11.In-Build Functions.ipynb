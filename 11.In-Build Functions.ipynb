{
 "cells": [
  {
   "cell_type": "markdown",
   "id": "131a6880-7c21-42da-9bed-08dc947996e9",
   "metadata": {},
   "source": [
    "# 11. In-Build Functions"
   ]
  },
  {
   "cell_type": "markdown",
   "id": "f59edd14-f0e0-4360-8f2d-1c42289256f9",
   "metadata": {},
   "source": [
    "### 1. abs(x)\n",
    " * __Returns the absolute value of a number (removes any negative sign)__"
   ]
  },
  {
   "cell_type": "code",
   "execution_count": 1,
   "id": "a439aa42-5eb1-41e6-b1fa-3c146472cc36",
   "metadata": {},
   "outputs": [
    {
     "data": {
      "text/plain": [
       "5"
      ]
     },
     "execution_count": 1,
     "metadata": {},
     "output_type": "execute_result"
    }
   ],
   "source": [
    "abs(-5)"
   ]
  },
  {
   "cell_type": "code",
   "execution_count": 2,
   "id": "7117c841-23c0-42fc-98bc-57e3d5d039f6",
   "metadata": {},
   "outputs": [
    {
     "data": {
      "text/plain": [
       "10"
      ]
     },
     "execution_count": 2,
     "metadata": {},
     "output_type": "execute_result"
    }
   ],
   "source": [
    "abs(-10)"
   ]
  },
  {
   "cell_type": "code",
   "execution_count": 3,
   "id": "3a812bf1-439b-4583-a855-0aa6ce5dd5c8",
   "metadata": {},
   "outputs": [
    {
     "data": {
      "text/plain": [
       "20"
      ]
     },
     "execution_count": 3,
     "metadata": {},
     "output_type": "execute_result"
    }
   ],
   "source": [
    "abs(20)"
   ]
  },
  {
   "cell_type": "markdown",
   "id": "a033b2e3-3a00-41d7-b8fc-0ce193f9df13",
   "metadata": {},
   "source": [
    "### 2. all(iterable):\n",
    " * __Returns True if all items in an iteratble are True.__"
   ]
  },
  {
   "cell_type": "code",
   "execution_count": 5,
   "id": "faeff0b2-8faa-45f9-accc-5d2e14e00049",
   "metadata": {},
   "outputs": [
    {
     "data": {
      "text/plain": [
       "True"
      ]
     },
     "execution_count": 5,
     "metadata": {},
     "output_type": "execute_result"
    }
   ],
   "source": [
    "all([True, 1, 'hello'])"
   ]
  },
  {
   "cell_type": "code",
   "execution_count": 6,
   "id": "a47c18d6-3971-42f3-9bd5-7a3d21fc5b2c",
   "metadata": {},
   "outputs": [
    {
     "data": {
      "text/plain": [
       "False"
      ]
     },
     "execution_count": 6,
     "metadata": {},
     "output_type": "execute_result"
    }
   ],
   "source": [
    "all([False,  1, 'hello'])"
   ]
  },
  {
   "cell_type": "code",
   "execution_count": 7,
   "id": "2d9faedd-05d4-41b3-b1e9-9e8740a1806a",
   "metadata": {},
   "outputs": [
    {
     "data": {
      "text/plain": [
       "False"
      ]
     },
     "execution_count": 7,
     "metadata": {},
     "output_type": "execute_result"
    }
   ],
   "source": [
    "all([True, 0, 'hello'])"
   ]
  },
  {
   "cell_type": "markdown",
   "id": "9606e33f-a5c6-4302-97a9-b4e64f7dee5c",
   "metadata": {},
   "source": [
    "### 3. any(iterable)\n",
    " * __Returns True if any element in the iterable is True.__"
   ]
  },
  {
   "cell_type": "code",
   "execution_count": 14,
   "id": "9a9f9c67-2789-427c-b6ec-ee29a364d450",
   "metadata": {},
   "outputs": [
    {
     "data": {
      "text/plain": [
       "True"
      ]
     },
     "execution_count": 14,
     "metadata": {},
     "output_type": "execute_result"
    }
   ],
   "source": [
    "any([None,False,0,1])"
   ]
  },
  {
   "cell_type": "markdown",
   "id": "8482835b-d92c-4f77-a065-fe71cdc897a7",
   "metadata": {},
   "source": [
    "### 4.bin(x)\n",
    " * __Convert an integer to it's binary strting__"
   ]
  },
  {
   "cell_type": "code",
   "execution_count": 16,
   "id": "19c8dc9b-73fe-443a-8a30-bab194f213ad",
   "metadata": {},
   "outputs": [
    {
     "data": {
      "text/plain": [
       "'0b1'"
      ]
     },
     "execution_count": 16,
     "metadata": {},
     "output_type": "execute_result"
    }
   ],
   "source": [
    "bin(1)"
   ]
  },
  {
   "cell_type": "code",
   "execution_count": 17,
   "id": "e3ccc9df-9475-478f-8a36-79e003f0a586",
   "metadata": {},
   "outputs": [
    {
     "data": {
      "text/plain": [
       "'0b10'"
      ]
     },
     "execution_count": 17,
     "metadata": {},
     "output_type": "execute_result"
    }
   ],
   "source": [
    "bin(2)"
   ]
  },
  {
   "cell_type": "code",
   "execution_count": 18,
   "id": "9d841493-a9fe-4701-b702-e3402cb9101d",
   "metadata": {},
   "outputs": [
    {
     "data": {
      "text/plain": [
       "'0b11'"
      ]
     },
     "execution_count": 18,
     "metadata": {},
     "output_type": "execute_result"
    }
   ],
   "source": [
    "bin(3)"
   ]
  },
  {
   "cell_type": "code",
   "execution_count": 19,
   "id": "c5d8ed9f-ee47-4261-a885-9564d004988a",
   "metadata": {},
   "outputs": [
    {
     "data": {
      "text/plain": [
       "'0b100'"
      ]
     },
     "execution_count": 19,
     "metadata": {},
     "output_type": "execute_result"
    }
   ],
   "source": [
    "bin(4)"
   ]
  },
  {
   "cell_type": "code",
   "execution_count": 20,
   "id": "7990e51d-0fbd-40fc-8fca-152421534367",
   "metadata": {},
   "outputs": [
    {
     "data": {
      "text/plain": [
       "'0b1100100'"
      ]
     },
     "execution_count": 20,
     "metadata": {},
     "output_type": "execute_result"
    }
   ],
   "source": [
    "# 1100100 \n",
    "\n",
    "bin(100)"
   ]
  },
  {
   "cell_type": "code",
   "execution_count": 21,
   "id": "a4a99c58-d56d-40fb-820c-2fff4d7aaabd",
   "metadata": {},
   "outputs": [
    {
     "data": {
      "text/plain": [
       "'0b1111101'"
      ]
     },
     "execution_count": 21,
     "metadata": {},
     "output_type": "execute_result"
    }
   ],
   "source": [
    "# 125\n",
    "bin(125)"
   ]
  },
  {
   "cell_type": "code",
   "execution_count": 22,
   "id": "91c46584-452f-41e4-8132-924999607f62",
   "metadata": {},
   "outputs": [
    {
     "data": {
      "text/plain": [
       "'0b1000001'"
      ]
     },
     "execution_count": 22,
     "metadata": {},
     "output_type": "execute_result"
    }
   ],
   "source": [
    "bin(65)"
   ]
  },
  {
   "cell_type": "code",
   "execution_count": 23,
   "id": "d229e179-1080-422d-bf9e-024adb479c34",
   "metadata": {},
   "outputs": [
    {
     "data": {
      "text/plain": [
       "'0b1100001'"
      ]
     },
     "execution_count": 23,
     "metadata": {},
     "output_type": "execute_result"
    }
   ],
   "source": [
    "bin(97)"
   ]
  },
  {
   "cell_type": "markdown",
   "id": "81bb2a82-a434-4f01-9ec2-762fa7eb5601",
   "metadata": {},
   "source": [
    "### 5. bool(x)\n",
    " * __Converts a value to Boolean(True or False).__"
   ]
  },
  {
   "cell_type": "code",
   "execution_count": 24,
   "id": "dab3869a-c7bf-43fa-801a-f842e5753afc",
   "metadata": {},
   "outputs": [
    {
     "data": {
      "text/plain": [
       "True"
      ]
     },
     "execution_count": 24,
     "metadata": {},
     "output_type": "execute_result"
    }
   ],
   "source": [
    "bool(1)  "
   ]
  },
  {
   "cell_type": "code",
   "execution_count": 25,
   "id": "9758e30b-6443-41f3-971e-e4bb31ce74e5",
   "metadata": {},
   "outputs": [
    {
     "data": {
      "text/plain": [
       "False"
      ]
     },
     "execution_count": 25,
     "metadata": {},
     "output_type": "execute_result"
    }
   ],
   "source": [
    "bool(0)"
   ]
  },
  {
   "cell_type": "code",
   "execution_count": 26,
   "id": "a00448cc-a0db-439e-9fde-d17941347692",
   "metadata": {},
   "outputs": [
    {
     "data": {
      "text/plain": [
       "False"
      ]
     },
     "execution_count": 26,
     "metadata": {},
     "output_type": "execute_result"
    }
   ],
   "source": [
    "bool(\"\")"
   ]
  },
  {
   "cell_type": "markdown",
   "id": "5ec2988f-f8e9-404c-9c24-8ff9077f9ad4",
   "metadata": {},
   "source": [
    "### 6. chr(i)\n",
    " * __Returns the character for a Unicode point.__"
   ]
  },
  {
   "cell_type": "code",
   "execution_count": 27,
   "id": "56e6dcae-345d-46ce-b081-b91c8113f336",
   "metadata": {},
   "outputs": [
    {
     "data": {
      "text/plain": [
       "'A'"
      ]
     },
     "execution_count": 27,
     "metadata": {},
     "output_type": "execute_result"
    }
   ],
   "source": [
    "chr(65)"
   ]
  },
  {
   "cell_type": "code",
   "execution_count": 28,
   "id": "97de46c5-da9c-44b1-8902-2d8809f5e419",
   "metadata": {},
   "outputs": [
    {
     "data": {
      "text/plain": [
       "'\\x01'"
      ]
     },
     "execution_count": 28,
     "metadata": {},
     "output_type": "execute_result"
    }
   ],
   "source": [
    "chr(1)"
   ]
  },
  {
   "cell_type": "code",
   "execution_count": 29,
   "id": "7401f828-467f-4fb1-9f84-85258e72431e",
   "metadata": {},
   "outputs": [
    {
     "data": {
      "text/plain": [
       "'\\x02'"
      ]
     },
     "execution_count": 29,
     "metadata": {},
     "output_type": "execute_result"
    }
   ],
   "source": [
    "chr(2)"
   ]
  },
  {
   "cell_type": "code",
   "execution_count": 30,
   "id": "bc15c22e-9e1e-4f70-9dff-958c22ceb91f",
   "metadata": {},
   "outputs": [
    {
     "data": {
      "text/plain": [
       "'\\x00'"
      ]
     },
     "execution_count": 30,
     "metadata": {},
     "output_type": "execute_result"
    }
   ],
   "source": [
    "chr(0)"
   ]
  },
  {
   "cell_type": "code",
   "execution_count": 31,
   "id": "c1c21900-282f-4a1c-aa1a-d052091fd458",
   "metadata": {},
   "outputs": [
    {
     "data": {
      "text/plain": [
       "'\\t'"
      ]
     },
     "execution_count": 31,
     "metadata": {},
     "output_type": "execute_result"
    }
   ],
   "source": [
    "chr(9)"
   ]
  },
  {
   "cell_type": "code",
   "execution_count": 32,
   "id": "5c73d073-2aba-4cd0-842b-b2ef52f0a666",
   "metadata": {},
   "outputs": [
    {
     "name": "stdout",
     "output_type": "stream",
     "text": [
      "\t\n"
     ]
    }
   ],
   "source": [
    "print('\\t')"
   ]
  },
  {
   "cell_type": "code",
   "execution_count": 33,
   "id": "99a81a5e-5202-47e3-9c90-3fd1ba519646",
   "metadata": {},
   "outputs": [
    {
     "name": "stdout",
     "output_type": "stream",
     "text": [
      "\u0000\n"
     ]
    }
   ],
   "source": [
    "print('\\x00')"
   ]
  },
  {
   "cell_type": "code",
   "execution_count": 35,
   "id": "8387a2b0-db96-4b2c-8c9d-f3e8f4579226",
   "metadata": {},
   "outputs": [
    {
     "data": {
      "text/plain": [
       "'\\x08'"
      ]
     },
     "execution_count": 35,
     "metadata": {},
     "output_type": "execute_result"
    }
   ],
   "source": [
    "chr(8)"
   ]
  },
  {
   "cell_type": "code",
   "execution_count": 39,
   "id": "991278df-eaec-4d71-a2f9-c6d190b82b21",
   "metadata": {},
   "outputs": [
    {
     "name": "stdout",
     "output_type": "stream",
     "text": [
      "amit\n"
     ]
    }
   ],
   "source": [
    "print('amita\\x08')"
   ]
  },
  {
   "cell_type": "markdown",
   "id": "55cb818f-92f7-4002-8c21-f22dd6ca9cec",
   "metadata": {},
   "source": [
    "### 7. delattr(object,name)\n",
    " * __Deletes an attribut from an object.__"
   ]
  },
  {
   "cell_type": "code",
   "execution_count": 49,
   "id": "b53533a8-a5d4-4189-8654-97f2475aca2a",
   "metadata": {},
   "outputs": [],
   "source": [
    "class A: x = 10"
   ]
  },
  {
   "cell_type": "code",
   "execution_count": 45,
   "id": "96d5e7ad-b26d-429c-82a4-d606c6cec6a7",
   "metadata": {},
   "outputs": [
    {
     "data": {
      "text/plain": [
       "__main__.A"
      ]
     },
     "execution_count": 45,
     "metadata": {},
     "output_type": "execute_result"
    }
   ],
   "source": [
    "A"
   ]
  },
  {
   "cell_type": "code",
   "execution_count": 46,
   "id": "884293f7-d621-43ad-b773-8585491de8e1",
   "metadata": {},
   "outputs": [
    {
     "data": {
      "text/plain": [
       "10"
      ]
     },
     "execution_count": 46,
     "metadata": {},
     "output_type": "execute_result"
    }
   ],
   "source": [
    "A.x"
   ]
  },
  {
   "cell_type": "code",
   "execution_count": 47,
   "id": "2e20a28d-6e90-420b-ad7a-98331126fa3b",
   "metadata": {},
   "outputs": [],
   "source": [
    "delattr(A,'x')"
   ]
  },
  {
   "cell_type": "code",
   "execution_count": 48,
   "id": "45ef58d4-fd9a-42fc-aeb5-efac218d06e0",
   "metadata": {},
   "outputs": [
    {
     "ename": "AttributeError",
     "evalue": "type object 'A' has no attribute 'x'",
     "output_type": "error",
     "traceback": [
      "\u001b[31m---------------------------------------------------------------------------\u001b[39m",
      "\u001b[31mAttributeError\u001b[39m                            Traceback (most recent call last)",
      "\u001b[36mCell\u001b[39m\u001b[36m \u001b[39m\u001b[32mIn[48]\u001b[39m\u001b[32m, line 1\u001b[39m\n\u001b[32m----> \u001b[39m\u001b[32m1\u001b[39m \u001b[43mA\u001b[49m\u001b[43m.\u001b[49m\u001b[43mx\u001b[49m\n",
      "\u001b[31mAttributeError\u001b[39m: type object 'A' has no attribute 'x'"
     ]
    }
   ],
   "source": [
    "A.x"
   ]
  },
  {
   "cell_type": "markdown",
   "id": "2131d3b5-d7c2-4d51-85ef-8c571c965214",
   "metadata": {},
   "source": [
    "### 7.divmod(a,b)\n",
    " * __Returns a tuple (quotient, remainder)__"
   ]
  },
  {
   "cell_type": "code",
   "execution_count": 51,
   "id": "dc93c668-86af-4677-bc3b-7690f47c1df5",
   "metadata": {},
   "outputs": [
    {
     "data": {
      "text/plain": [
       "(1, 1)"
      ]
     },
     "execution_count": 51,
     "metadata": {},
     "output_type": "execute_result"
    }
   ],
   "source": [
    "divmod(3,2)"
   ]
  },
  {
   "cell_type": "code",
   "execution_count": 52,
   "id": "08cb8c3a-776b-49fc-8dc3-dfccdfbffbc1",
   "metadata": {},
   "outputs": [
    {
     "data": {
      "text/plain": [
       "(10, 0)"
      ]
     },
     "execution_count": 52,
     "metadata": {},
     "output_type": "execute_result"
    }
   ],
   "source": [
    "divmod(20,2)"
   ]
  },
  {
   "cell_type": "code",
   "execution_count": 53,
   "id": "c7656ac4-13ae-43e5-aaae-95aefde8e578",
   "metadata": {},
   "outputs": [
    {
     "data": {
      "text/plain": [
       "0"
      ]
     },
     "execution_count": 53,
     "metadata": {},
     "output_type": "execute_result"
    }
   ],
   "source": [
    "20%2"
   ]
  },
  {
   "cell_type": "markdown",
   "id": "dab07939-758b-41d9-b133-fbdd3e5c1d1b",
   "metadata": {},
   "source": [
    "### 8. enumerate(iterable, start=0)\n",
    " * __Returns a iterator that gives index and value pairs.__"
   ]
  },
  {
   "cell_type": "code",
   "execution_count": 55,
   "id": "8fd21b9c-dd71-428e-a20a-9922fba85a2e",
   "metadata": {},
   "outputs": [
    {
     "name": "stdout",
     "output_type": "stream",
     "text": [
      "0 10\n",
      "1 20\n",
      "2 30\n"
     ]
    }
   ],
   "source": [
    "list1 = [10,20,30]\n",
    "for i,j in enumerate(list1):\n",
    "    print(i,j)"
   ]
  },
  {
   "cell_type": "code",
   "execution_count": 63,
   "id": "37476f0c-3af1-4d1e-8ef5-3f6c2fbaeca2",
   "metadata": {},
   "outputs": [
    {
     "name": "stdout",
     "output_type": "stream",
     "text": [
      "0 name\n",
      "1 age\n",
      "2 email\n"
     ]
    }
   ],
   "source": [
    "stu = {'name':'Pingle','age':75,'email':'omkar@gmail.com'}\n",
    "\n",
    "for x,y in enumerate(stu):\n",
    "    print(x,y)"
   ]
  },
  {
   "cell_type": "code",
   "execution_count": 64,
   "id": "64c9e563-a90b-4a1e-97d7-f43289f4b90f",
   "metadata": {},
   "outputs": [
    {
     "name": "stdout",
     "output_type": "stream",
     "text": [
      "0 name : Pingle\n",
      "1 age : 75\n",
      "2 email : omkar@gmail.com\n"
     ]
    }
   ],
   "source": [
    "for x,y in enumerate(stu):\n",
    "    print(x,y,\":\",stu[y])"
   ]
  },
  {
   "cell_type": "markdown",
   "id": "d50078ae-4d71-4a3f-bbc4-03d09bfcff75",
   "metadata": {},
   "source": [
    "### 9. eval()\n",
    " * __Evaluates a string as a Python Expression.__"
   ]
  },
  {
   "cell_type": "code",
   "execution_count": 67,
   "id": "dd996251-f45c-4b7d-afd8-c90c9c297554",
   "metadata": {},
   "outputs": [
    {
     "data": {
      "text/plain": [
       "3"
      ]
     },
     "execution_count": 67,
     "metadata": {},
     "output_type": "execute_result"
    }
   ],
   "source": [
    "eval('1+2')"
   ]
  },
  {
   "cell_type": "markdown",
   "id": "c7394004-adb9-45d4-a90b-0232844aa389",
   "metadata": {},
   "source": [
    "# 10. filter(function, iteratable)\n",
    " * __Filters elements from an iteratble based on a condition.__"
   ]
  },
  {
   "cell_type": "code",
   "execution_count": 85,
   "id": "e48aa8fa-6631-42d7-adb9-4d20149025ab",
   "metadata": {},
   "outputs": [],
   "source": [
    "nums = [1,2,3,4,5]\n",
    "\n",
    "def evenA(x):\n",
    "    if x%2==0:\n",
    "        return x\n",
    "# sumA(nums)"
   ]
  },
  {
   "cell_type": "code",
   "execution_count": 90,
   "id": "06a86f57-d7c4-4614-a278-bc52dfa8a501",
   "metadata": {},
   "outputs": [
    {
     "data": {
      "text/plain": [
       "[20, 22, 24]"
      ]
     },
     "execution_count": 90,
     "metadata": {},
     "output_type": "execute_result"
    }
   ],
   "source": [
    "list(filter(sumA, [1,20,21,22,23,24]))"
   ]
  },
  {
   "cell_type": "code",
   "execution_count": 91,
   "id": "12653376-75f6-40ba-9bab-53628ab4c288",
   "metadata": {},
   "outputs": [],
   "source": [
    "def oddA(x):\n",
    "    if x%2!=0:\n",
    "        return x"
   ]
  },
  {
   "cell_type": "code",
   "execution_count": 93,
   "id": "8a2afa45-a0cb-4eb1-9f97-2653bee91d1f",
   "metadata": {},
   "outputs": [
    {
     "data": {
      "text/plain": [
       "[1, 21, 23]"
      ]
     },
     "execution_count": 93,
     "metadata": {},
     "output_type": "execute_result"
    }
   ],
   "source": [
    "list(filter(oddA, [1,20,21,22,23,24]))"
   ]
  },
  {
   "cell_type": "markdown",
   "id": "17822559-a81e-4344-a19f-7bd687875d3b",
   "metadata": {},
   "source": [
    "### float(x)\n",
    " * __Convert a number or string to a float.__"
   ]
  },
  {
   "cell_type": "code",
   "execution_count": 94,
   "id": "bafb8881-57ce-4344-827e-445b893e0b99",
   "metadata": {},
   "outputs": [
    {
     "data": {
      "text/plain": [
       "100.0"
      ]
     },
     "execution_count": 94,
     "metadata": {},
     "output_type": "execute_result"
    }
   ],
   "source": [
    "float(100)"
   ]
  },
  {
   "cell_type": "code",
   "execution_count": 97,
   "id": "9b3d24ab-6536-45d2-ae08-b49fda2783a1",
   "metadata": {},
   "outputs": [
    {
     "data": {
      "text/plain": [
       "10.0"
      ]
     },
     "execution_count": 97,
     "metadata": {},
     "output_type": "execute_result"
    }
   ],
   "source": [
    "float(\"10\")"
   ]
  },
  {
   "cell_type": "markdown",
   "id": "bcca9739-b8eb-4f6f-ba0c-61e4ce612e61",
   "metadata": {},
   "source": [
    "### format(value, format_spec)\n",
    " * __Formats a value using a format specification.__"
   ]
  },
  {
   "cell_type": "code",
   "execution_count": 100,
   "id": "17d66738-b189-46bf-b5ee-e60ab65f80c1",
   "metadata": {},
   "outputs": [
    {
     "data": {
      "text/plain": [
       "'3.1448'"
      ]
     },
     "execution_count": 100,
     "metadata": {},
     "output_type": "execute_result"
    }
   ],
   "source": [
    "format(3.14477,\".4f\")"
   ]
  },
  {
   "cell_type": "markdown",
   "id": "0038acf9-ddbf-46c7-aaa4-78ccb4a682cc",
   "metadata": {},
   "source": [
    "# hasattr(object, name)\n",
    " * __Checks if an object has an attribute.__"
   ]
  },
  {
   "cell_type": "code",
   "execution_count": 101,
   "id": "2e8de934-efc9-4543-816a-7d9f6b3f4c32",
   "metadata": {},
   "outputs": [
    {
     "data": {
      "text/plain": [
       "True"
      ]
     },
     "execution_count": 101,
     "metadata": {},
     "output_type": "execute_result"
    }
   ],
   "source": [
    "hasattr(str,'upper')"
   ]
  },
  {
   "cell_type": "code",
   "execution_count": 110,
   "id": "3a57b666-3fc5-4fcf-8944-af4ae00c5fb4",
   "metadata": {},
   "outputs": [
    {
     "data": {
      "text/plain": [
       "False"
      ]
     },
     "execution_count": 110,
     "metadata": {},
     "output_type": "execute_result"
    }
   ],
   "source": [
    "hasattr(str,\"apple\")"
   ]
  },
  {
   "cell_type": "code",
   "execution_count": 109,
   "id": "678ebf4e-dff0-4809-896b-ac940c6ffe84",
   "metadata": {},
   "outputs": [
    {
     "data": {
      "text/plain": [
       "1"
      ]
     },
     "execution_count": 109,
     "metadata": {},
     "output_type": "execute_result"
    }
   ],
   "source": [
    "int(True)"
   ]
  },
  {
   "cell_type": "code",
   "execution_count": 111,
   "id": "63a9a469-e490-4bd6-a796-437a9c82f0be",
   "metadata": {},
   "outputs": [
    {
     "name": "stdout",
     "output_type": "stream",
     "text": [
      "True\n",
      "True\n",
      "False\n",
      "True\n",
      "False\n"
     ]
    }
   ],
   "source": [
    "class Car:\n",
    "    def __init__(self, brand, model):\n",
    "        self.brand = brand\n",
    "        self.model = model\n",
    "\n",
    "    def start_engine(self):\n",
    "        print(\"Engine started!\")\n",
    "\n",
    "my_car = Car(\"Toyota\", \"Camry\")\n",
    "\n",
    "# Check for existing attributes\n",
    "print(hasattr(my_car, \"brand\"))    # Output: True\n",
    "print(hasattr(my_car, \"model\"))    # Output: True\n",
    "\n",
    "# Check for a non-existent attribute\n",
    "print(hasattr(my_car, \"color\"))    # Output: False\n",
    "\n",
    "# Check for an existing method\n",
    "print(hasattr(my_car, \"start_engine\")) # Output: True\n",
    "\n",
    "# Check for a non-existent method\n",
    "print(hasattr(my_car, \"stop_engine\")) # Output: False"
   ]
  },
  {
   "cell_type": "code",
   "execution_count": 112,
   "id": "6d40d8f7-9997-4068-a2f2-0ae062ff8078",
   "metadata": {},
   "outputs": [
    {
     "data": {
      "text/plain": [
       "'0xa'"
      ]
     },
     "execution_count": 112,
     "metadata": {},
     "output_type": "execute_result"
    }
   ],
   "source": [
    "# hex() decimal value\n",
    "\n",
    "hex(10)"
   ]
  },
  {
   "cell_type": "code",
   "execution_count": 113,
   "id": "e12c11cd-d990-493a-9c98-56bef04624d2",
   "metadata": {},
   "outputs": [
    {
     "data": {
      "text/plain": [
       "'0xb'"
      ]
     },
     "execution_count": 113,
     "metadata": {},
     "output_type": "execute_result"
    }
   ],
   "source": [
    "hex(11)"
   ]
  },
  {
   "cell_type": "code",
   "execution_count": 114,
   "id": "eaac5441-a24f-4ffb-ba25-2ee8fd1085f8",
   "metadata": {},
   "outputs": [
    {
     "data": {
      "text/plain": [
       "'0xc'"
      ]
     },
     "execution_count": 114,
     "metadata": {},
     "output_type": "execute_result"
    }
   ],
   "source": [
    "hex(12)"
   ]
  },
  {
   "cell_type": "code",
   "execution_count": 115,
   "id": "09284802-8288-4138-9ad1-129f70a061d9",
   "metadata": {},
   "outputs": [
    {
     "data": {
      "text/plain": [
       "'0xd'"
      ]
     },
     "execution_count": 115,
     "metadata": {},
     "output_type": "execute_result"
    }
   ],
   "source": [
    "hex(13)"
   ]
  },
  {
   "cell_type": "code",
   "execution_count": 116,
   "id": "f224bb2e-7f69-4545-9913-b13b9db33220",
   "metadata": {},
   "outputs": [
    {
     "data": {
      "text/plain": [
       "'0x9'"
      ]
     },
     "execution_count": 116,
     "metadata": {},
     "output_type": "execute_result"
    }
   ],
   "source": [
    "hex(9)"
   ]
  },
  {
   "cell_type": "code",
   "execution_count": 117,
   "id": "5754ae31-0277-4e80-b7c3-7ddacaec4797",
   "metadata": {},
   "outputs": [
    {
     "data": {
      "text/plain": [
       "'0xf'"
      ]
     },
     "execution_count": 117,
     "metadata": {},
     "output_type": "execute_result"
    }
   ],
   "source": [
    "hex(15)"
   ]
  },
  {
   "cell_type": "markdown",
   "id": "39dfa4c6-a382-4013-a6ac-c5efd0564f40",
   "metadata": {},
   "source": [
    "# Python Built-in Functions with Examples\n",
    "\n",
    "Python has **69 built-in functions** (as of Python 3.12) that are always available without needing to import any modules.\n",
    "\n",
    "## Complete List with Examples\n",
    "\n",
    "### A\n",
    "\n",
    "**`abs()`** - Returns the absolute value of a number\n",
    "```python\n",
    "abs(-5)  # Output: 5\n",
    "abs(-3.14)  # Output: 3.14\n",
    "```\n",
    "\n",
    "**`aiter()`** - Returns an asynchronous iterator for an asynchronous iterable\n",
    "```python\n",
    "async def main():\n",
    "    async_iter = aiter(async_generator())\n",
    "```\n",
    "\n",
    "**`all()`** - Returns True if all elements in an iterable are true\n",
    "```python\n",
    "all([True, True, True])  # Output: True\n",
    "all([True, False, True])  # Output: False\n",
    "```\n",
    "\n",
    "**`any()`** - Returns True if any element in an iterable is true\n",
    "```python\n",
    "any([False, False, True])  # Output: True\n",
    "any([False, False, False])  # Output: False\n",
    "```\n",
    "\n",
    "**`anext()`** - Returns the next item from an asynchronous iterator\n",
    "```python\n",
    "async def main():\n",
    "    value = await anext(async_iterator)\n",
    "```\n",
    "\n",
    "**`ascii()`** - Returns a string with printable representation of an object\n",
    "```python\n",
    "ascii('hello')  # Output: \"'hello'\"\n",
    "ascii('café')  # Output: \"'caf\\\\xe9'\"\n",
    "```\n",
    "\n",
    "### B\n",
    "\n",
    "**`bin()`** - Converts an integer to a binary string\n",
    "```python\n",
    "bin(10)  # Output: '0b1010'\n",
    "bin(255)  # Output: '0b11111111'\n",
    "```\n",
    "\n",
    "**`bool()`** - Converts a value to a Boolean\n",
    "```python\n",
    "bool(1)  # Output: True\n",
    "bool(0)  # Output: False\n",
    "bool(\"\")  # Output: False\n",
    "```\n",
    "\n",
    "**`breakpoint()`** - Drops into the debugger\n",
    "```python\n",
    "x = 10\n",
    "breakpoint()  # Pauses execution for debugging\n",
    "print(x)\n",
    "```\n",
    "\n",
    "**`bytearray()`** - Returns a mutable bytearray object\n",
    "```python\n",
    "bytearray([65, 66, 67])  # Output: bytearray(b'ABC')\n",
    "bytearray('hello', 'utf-8')  # Output: bytearray(b'hello')\n",
    "```\n",
    "\n",
    "**`bytes()`** - Returns an immutable bytes object\n",
    "```python\n",
    "bytes([65, 66, 67])  # Output: b'ABC'\n",
    "bytes('hello', 'utf-8')  # Output: b'hello'\n",
    "```\n",
    "\n",
    "### C\n",
    "\n",
    "**`callable()`** - Checks if an object is callable\n",
    "```python\n",
    "callable(print)  # Output: True\n",
    "callable(5)  # Output: False\n",
    "```\n",
    "\n",
    "**`chr()`** - Returns a character from a Unicode code point\n",
    "```python\n",
    "chr(65)  # Output: 'A'\n",
    "chr(97)  # Output: 'a'\n",
    "```\n",
    "\n",
    "**`classmethod()`** - Converts a method into a class method\n",
    "```python\n",
    "class MyClass:\n",
    "    @classmethod\n",
    "    def my_method(cls):\n",
    "        return \"Class method called\"\n",
    "```\n",
    "\n",
    "**`compile()`** - Compiles source code into a code object\n",
    "```python\n",
    "code = compile('print(\"Hello\")', '<string>', 'exec')\n",
    "exec(code)  # Output: Hello\n",
    "```\n",
    "\n",
    "**`complex()`** - Creates a complex number\n",
    "```python\n",
    "complex(2, 3)  # Output: (2+3j)\n",
    "complex('3+5j')  # Output: (3+5j)\n",
    "```\n",
    "\n",
    "### D\n",
    "\n",
    "**`delattr()`** - Deletes an attribute from an object\n",
    "```python\n",
    "class Person:\n",
    "    name = \"John\"\n",
    "delattr(Person, 'name')\n",
    "```\n",
    "\n",
    "**`dict()`** - Creates a dictionary\n",
    "```python\n",
    "dict(a=1, b=2)  # Output: {'a': 1, 'b': 2}\n",
    "dict([('x', 1), ('y', 2)])  # Output: {'x': 1, 'y': 2}\n",
    "```\n",
    "\n",
    "**`dir()`** - Returns a list of attributes and methods of an object\n",
    "```python\n",
    "dir([])  # Output: ['append', 'clear', 'copy', ...]\n",
    "dir(str)  # Output: ['capitalize', 'upper', ...]\n",
    "```\n",
    "\n",
    "**`divmod()`** - Returns quotient and remainder of division\n",
    "```python\n",
    "divmod(10, 3)  # Output: (3, 1)\n",
    "divmod(20, 6)  # Output: (3, 2)\n",
    "```\n",
    "\n",
    "### E\n",
    "\n",
    "**`enumerate()`** - Returns an enumerate object with index-value pairs\n",
    "```python\n",
    "list(enumerate(['a', 'b', 'c']))  # Output: [(0, 'a'), (1, 'b'), (2, 'c')]\n",
    "for i, val in enumerate(['x', 'y']):\n",
    "    print(i, val)  # 0 x, 1 y\n",
    "```\n",
    "\n",
    "**`eval()`** - Evaluates a Python expression from a string\n",
    "```python\n",
    "eval('2 + 3')  # Output: 5\n",
    "eval('len(\"hello\")')  # Output: 5\n",
    "```\n",
    "\n",
    "**`exec()`** - Executes Python code dynamically\n",
    "```python\n",
    "exec('x = 5')\n",
    "exec('print(x)')  # Output: 5\n",
    "```\n",
    "\n",
    "### F\n",
    "\n",
    "**`filter()`** - Filters elements from an iterable based on a function\n",
    "```python\n",
    "list(filter(lambda x: x > 0, [-1, 0, 1, 2]))  # Output: [1, 2]\n",
    "list(filter(None, [0, 1, False, True]))  # Output: [1, True]\n",
    "```\n",
    "\n",
    "**`float()`** - Converts a value to a floating-point number\n",
    "```python\n",
    "float(5)  # Output: 5.0\n",
    "float('3.14')  # Output: 3.14\n",
    "```\n",
    "\n",
    "**`format()`** - Formats a value according to a format specification\n",
    "```python\n",
    "format(123, 'b')  # Output: '1111011' (binary)\n",
    "format(3.14159, '.2f')  # Output: '3.14'\n",
    "```\n",
    "\n",
    "**`frozenset()`** - Returns an immutable frozenset object\n",
    "```python\n",
    "frozenset([1, 2, 3, 2])  # Output: frozenset({1, 2, 3})\n",
    "```\n",
    "\n",
    "### G\n",
    "\n",
    "**`getattr()`** - Gets the value of an attribute from an object\n",
    "```python\n",
    "class Person:\n",
    "    name = \"Alice\"\n",
    "getattr(Person, 'name')  # Output: 'Alice'\n",
    "getattr(Person, 'age', 25)  # Output: 25 (default)\n",
    "```\n",
    "\n",
    "**`globals()`** - Returns the global symbol table as a dictionary\n",
    "```python\n",
    "globals()  # Output: {...all global variables...}\n",
    "x = 10\n",
    "'x' in globals()  # Output: True\n",
    "```\n",
    "\n",
    "### H\n",
    "\n",
    "**`hasattr()`** - Checks if an object has a specific attribute\n",
    "```python\n",
    "class Dog:\n",
    "    name = \"Buddy\"\n",
    "hasattr(Dog, 'name')  # Output: True\n",
    "hasattr(Dog, 'age')  # Output: False\n",
    "```\n",
    "\n",
    "**`hash()`** - Returns the hash value of an object\n",
    "```python\n",
    "hash('hello')  # Output: (some integer)\n",
    "hash((1, 2, 3))  # Output: (some integer)\n",
    "```\n",
    "\n",
    "**`help()`** - Invokes the built-in help system\n",
    "```python\n",
    "help(print)  # Displays documentation for print()\n",
    "help(str.upper)  # Displays documentation for str.upper()\n",
    "```\n",
    "\n",
    "**`hex()`** - Converts an integer to a hexadecimal string\n",
    "```python\n",
    "hex(255)  # Output: '0xff'\n",
    "hex(16)  # Output: '0x10'\n",
    "```\n",
    "\n",
    "### I\n",
    "\n",
    "**`id()`** - Returns the unique identity (memory address) of an object\n",
    "```python\n",
    "x = [1, 2, 3]\n",
    "id(x)  # Output: (memory address like 140234567890)\n",
    "```\n",
    "\n",
    "**`input()`** - Reads input from the user\n",
    "```python\n",
    "name = input(\"Enter your name: \")\n",
    "age = input(\"Enter your age: \")\n",
    "```\n",
    "\n",
    "**`int()`** - Converts a value to an integer\n",
    "```python\n",
    "int(3.14)  # Output: 3\n",
    "int('42')  # Output: 42\n",
    "int('1010', 2)  # Output: 10 (binary to int)\n",
    "```\n",
    "\n",
    "**`isinstance()`** - Checks if an object is an instance of a class\n",
    "```python\n",
    "isinstance(5, int)  # Output: True\n",
    "isinstance('hello', str)  # Output: True\n",
    "isinstance([1, 2], dict)  # Output: False\n",
    "```\n",
    "\n",
    "**`issubclass()`** - Checks if a class is a subclass of another\n",
    "```python\n",
    "issubclass(bool, int)  # Output: True\n",
    "issubclass(str, object)  # Output: True\n",
    "```\n",
    "\n",
    "**`iter()`** - Returns an iterator object\n",
    "```python\n",
    "my_iter = iter([1, 2, 3])\n",
    "next(my_iter)  # Output: 1\n",
    "next(my_iter)  # Output: 2\n",
    "```\n",
    "\n",
    "### L\n",
    "\n",
    "**`len()`** - Returns the length (number of items) of an object\n",
    "```python\n",
    "len([1, 2, 3])  # Output: 3\n",
    "len('hello')  # Output: 5\n",
    "```\n",
    "\n",
    "**`list()`** - Creates a list\n",
    "```python\n",
    "list((1, 2, 3))  # Output: [1, 2, 3]\n",
    "list('abc')  # Output: ['a', 'b', 'c']\n",
    "```\n",
    "\n",
    "**`locals()`** - Returns the local symbol table as a dictionary\n",
    "```python\n",
    "def my_func():\n",
    "    x = 10\n",
    "    return locals()\n",
    "my_func()  # Output: {'x': 10}\n",
    "```\n",
    "\n",
    "### M\n",
    "\n",
    "**`map()`** - Applies a function to all items in an iterable\n",
    "```python\n",
    "list(map(lambda x: x * 2, [1, 2, 3]))  # Output: [2, 4, 6]\n",
    "list(map(str.upper, ['a', 'b']))  # Output: ['A', 'B']\n",
    "```\n",
    "\n",
    "**`max()`** - Returns the largest item\n",
    "```python\n",
    "max([1, 5, 3])  # Output: 5\n",
    "max('apple', 'banana')  # Output: 'banana'\n",
    "```\n",
    "\n",
    "**`memoryview()`** - Returns a memory view object\n",
    "```python\n",
    "mv = memoryview(b'hello')\n",
    "mv[0]  # Output: 104 (ASCII value of 'h')\n",
    "```\n",
    "\n",
    "**`min()`** - Returns the smallest item\n",
    "```python\n",
    "min([1, 5, 3])  # Output: 1\n",
    "min('apple', 'banana')  # Output: 'apple'\n",
    "```\n",
    "\n",
    "### N\n",
    "\n",
    "**`next()`** - Retrieves the next item from an iterator\n",
    "```python\n",
    "my_iter = iter([1, 2, 3])\n",
    "next(my_iter)  # Output: 1\n",
    "next(my_iter)  # Output: 2\n",
    "next(my_iter, 'end')  # Output: 3, then 'end' on next call\n",
    "```\n",
    "\n",
    "### O\n",
    "\n",
    "**`object()`** - Returns a new featureless object\n",
    "```python\n",
    "obj = object()\n",
    "type(obj)  # Output: <class 'object'>\n",
    "```\n",
    "\n",
    "**`oct()`** - Converts an integer to an octal string\n",
    "```python\n",
    "oct(8)  # Output: '0o10'\n",
    "oct(64)  # Output: '0o100'\n",
    "```\n",
    "\n",
    "**`open()`** - Opens a file and returns a file object\n",
    "```python\n",
    "file = open('example.txt', 'r')\n",
    "content = file.read()\n",
    "file.close()\n",
    "```\n",
    "\n",
    "**`ord()`** - Returns the Unicode code point of a character\n",
    "```python\n",
    "ord('A')  # Output: 65\n",
    "ord('a')  # Output: 97\n",
    "```\n",
    "\n",
    "### P\n",
    "\n",
    "**`pow()`** - Raises a number to a power\n",
    "```python\n",
    "pow(2, 3)  # Output: 8\n",
    "pow(5, 2, 3)  # Output: 1 (5^2 % 3)\n",
    "```\n",
    "\n",
    "**`print()`** - Prints output to the console\n",
    "```python\n",
    "print('Hello, World!')  # Output: Hello, World!\n",
    "print('Name:', 'Alice', sep='-')  # Output: Name-Alice\n",
    "```\n",
    "\n",
    "**`property()`** - Creates a property attribute\n",
    "```python\n",
    "class Person:\n",
    "    def __init__(self):\n",
    "        self._age = 0\n",
    "    @property\n",
    "    def age(self):\n",
    "        return self._age\n",
    "```\n",
    "\n",
    "### R\n",
    "\n",
    "**`range()`** - Generates a sequence of numbers\n",
    "```python\n",
    "list(range(5))  # Output: [0, 1, 2, 3, 4]\n",
    "list(range(2, 8))  # Output: [2, 3, 4, 5, 6, 7]\n",
    "list(range(0, 10, 2))  # Output: [0, 2, 4, 6, 8]\n",
    "```\n",
    "\n",
    "**`repr()`** - Returns a string representation of an object\n",
    "```python\n",
    "repr('hello')  # Output: \"'hello'\"\n",
    "repr([1, 2, 3])  # Output: '[1, 2, 3]'\n",
    "```\n",
    "\n",
    "**`reversed()`** - Returns a reversed iterator\n",
    "```python\n",
    "list(reversed([1, 2, 3]))  # Output: [3, 2, 1]\n",
    "list(reversed('hello'))  # Output: ['o', 'l', 'l', 'e', 'h']\n",
    "```\n",
    "\n",
    "**`round()`** - Rounds a number to a specified precision\n",
    "```python\n",
    "round(3.14159, 2)  # Output: 3.14\n",
    "round(2.5)  # Output: 2\n",
    "round(2.7)  # Output: 3\n",
    "```\n",
    "\n",
    "### S\n",
    "\n",
    "**`set()`** - Creates a set (unordered collection of unique elements)\n",
    "```python\n",
    "set([1, 2, 2, 3])  # Output: {1, 2, 3}\n",
    "set('hello')  # Output: {'h', 'e', 'l', 'o'}\n",
    "```\n",
    "\n",
    "**`setattr()`** - Sets an attribute value on an object\n",
    "```python\n",
    "class Person:\n",
    "    pass\n",
    "p = Person()\n",
    "setattr(p, 'name', 'Bob')\n",
    "p.name  # Output: 'Bob'\n",
    "```\n",
    "\n",
    "**`slice()`** - Returns a slice object\n",
    "```python\n",
    "s = slice(1, 5, 2)\n",
    "[0, 1, 2, 3, 4, 5][s]  # Output: [1, 3]\n",
    "```\n",
    "\n",
    "**`sorted()`** - Returns a sorted list from an iterable\n",
    "```python\n",
    "sorted([3, 1, 2])  # Output: [1, 2, 3]\n",
    "sorted(['banana', 'apple'], reverse=True)  # Output: ['banana', 'apple']\n",
    "```\n",
    "\n",
    "**`staticmethod()`** - Converts a method into a static method\n",
    "```python\n",
    "class Math:\n",
    "    @staticmethod\n",
    "    def add(x, y):\n",
    "        return x + y\n",
    "Math.add(5, 3)  # Output: 8\n",
    "```\n",
    "\n",
    "**`str()`** - Converts a value to a string\n",
    "```python\n",
    "str(123)  # Output: '123'\n",
    "str([1, 2, 3])  # Output: '[1, 2, 3]'\n",
    "```\n",
    "\n",
    "**`sum()`** - Sums items in an iterable\n",
    "```python\n",
    "sum([1, 2, 3])  # Output: 6\n",
    "sum([1, 2, 3], 10)  # Output: 16 (with start value)\n",
    "```\n",
    "\n",
    "**`super()`** - Returns a proxy object for parent class methods\n",
    "```python\n",
    "class Parent:\n",
    "    def greet(self):\n",
    "        return \"Hello from Parent\"\n",
    "class Child(Parent):\n",
    "    def greet(self):\n",
    "        return super().greet() + \" and Child\"\n",
    "```\n",
    "\n",
    "### T\n",
    "\n",
    "**`tuple()`** - Creates a tuple (immutable sequence)\n",
    "```python\n",
    "tuple([1, 2, 3])  # Output: (1, 2, 3)\n",
    "tuple('abc')  # Output: ('a', 'b', 'c')\n",
    "```\n",
    "\n",
    "**`type()`** - Returns the type of an object\n",
    "```python\n",
    "type(5)  # Output: <class 'int'>\n",
    "type('hello')  # Output: <class 'str'>\n",
    "type([])  # Output: <class 'list'>\n",
    "```\n",
    "\n",
    "### V\n",
    "\n",
    "**`vars()`** - Returns the `__dict__` attribute of an object\n",
    "```python\n",
    "class Person:\n",
    "    def __init__(self):\n",
    "        self.name = \"Alice\"\n",
    "p = Person()\n",
    "vars(p)  # Output: {'name': 'Alice'}\n",
    "```\n",
    "\n",
    "### Z\n",
    "\n",
    "**`zip()`** - Combines multiple iterables into tuples\n",
    "```python\n",
    "list(zip([1, 2], ['a', 'b']))  # Output: [(1, 'a'), (2, 'b')]\n",
    "list(zip([1, 2, 3], ['a', 'b']))  # Output: [(1, 'a'), (2, 'b')]\n",
    "```\n",
    "\n",
    "### Special Functions\n",
    "\n",
    "**`__import__()`** - Imports a module (advanced use, prefer using `import`)\n",
    "```python\n",
    "math = __import__('math')\n",
    "math.sqrt(16)  # Output: 4.0\n",
    "```\n",
    "\n",
    "---\n",
    "\n",
    "## Quick Stats\n",
    "\n",
    "- **Total Built-in Functions:** 69\n",
    "- **Most Common Categories:** Type Conversion, Iteration, Mathematical Operations\n",
    "- **Python Version:** 3.12+\n",
    "\n",
    "All these functions are available globally without any imports!"
   ]
  },
  {
   "cell_type": "code",
   "execution_count": null,
   "id": "e30830dc-e1d5-4b05-aa1d-9e4c544b601d",
   "metadata": {},
   "outputs": [],
   "source": []
  }
 ],
 "metadata": {
  "kernelspec": {
   "display_name": "Python 3 (ipykernel)",
   "language": "python",
   "name": "python3"
  },
  "language_info": {
   "codemirror_mode": {
    "name": "ipython",
    "version": 3
   },
   "file_extension": ".py",
   "mimetype": "text/x-python",
   "name": "python",
   "nbconvert_exporter": "python",
   "pygments_lexer": "ipython3",
   "version": "3.13.7"
  }
 },
 "nbformat": 4,
 "nbformat_minor": 5
}
