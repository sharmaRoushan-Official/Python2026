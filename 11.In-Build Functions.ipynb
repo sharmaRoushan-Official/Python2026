{
 "cells": [
  {
   "cell_type": "markdown",
   "id": "131a6880-7c21-42da-9bed-08dc947996e9",
   "metadata": {},
   "source": [
    "# 11. In-Build Functions"
   ]
  },
  {
   "cell_type": "markdown",
   "id": "f59edd14-f0e0-4360-8f2d-1c42289256f9",
   "metadata": {},
   "source": [
    "### 1. abs(x)\n",
    " * __Returns the absolute value of a number (removes any negative sign)__"
   ]
  },
  {
   "cell_type": "code",
   "execution_count": 1,
   "id": "a439aa42-5eb1-41e6-b1fa-3c146472cc36",
   "metadata": {},
   "outputs": [
    {
     "data": {
      "text/plain": [
       "5"
      ]
     },
     "execution_count": 1,
     "metadata": {},
     "output_type": "execute_result"
    }
   ],
   "source": [
    "abs(-5)"
   ]
  },
  {
   "cell_type": "code",
   "execution_count": 2,
   "id": "7117c841-23c0-42fc-98bc-57e3d5d039f6",
   "metadata": {},
   "outputs": [
    {
     "data": {
      "text/plain": [
       "10"
      ]
     },
     "execution_count": 2,
     "metadata": {},
     "output_type": "execute_result"
    }
   ],
   "source": [
    "abs(-10)"
   ]
  },
  {
   "cell_type": "code",
   "execution_count": 3,
   "id": "3a812bf1-439b-4583-a855-0aa6ce5dd5c8",
   "metadata": {},
   "outputs": [
    {
     "data": {
      "text/plain": [
       "20"
      ]
     },
     "execution_count": 3,
     "metadata": {},
     "output_type": "execute_result"
    }
   ],
   "source": [
    "abs(20)"
   ]
  },
  {
   "cell_type": "markdown",
   "id": "a033b2e3-3a00-41d7-b8fc-0ce193f9df13",
   "metadata": {},
   "source": [
    "### 2. all(iterable):\n",
    " * __Returns True if all items in an iteratble are True.__"
   ]
  },
  {
   "cell_type": "code",
   "execution_count": 5,
   "id": "faeff0b2-8faa-45f9-accc-5d2e14e00049",
   "metadata": {},
   "outputs": [
    {
     "data": {
      "text/plain": [
       "True"
      ]
     },
     "execution_count": 5,
     "metadata": {},
     "output_type": "execute_result"
    }
   ],
   "source": [
    "all([True, 1, 'hello'])"
   ]
  },
  {
   "cell_type": "code",
   "execution_count": 6,
   "id": "a47c18d6-3971-42f3-9bd5-7a3d21fc5b2c",
   "metadata": {},
   "outputs": [
    {
     "data": {
      "text/plain": [
       "False"
      ]
     },
     "execution_count": 6,
     "metadata": {},
     "output_type": "execute_result"
    }
   ],
   "source": [
    "all([False,  1, 'hello'])"
   ]
  },
  {
   "cell_type": "code",
   "execution_count": 7,
   "id": "2d9faedd-05d4-41b3-b1e9-9e8740a1806a",
   "metadata": {},
   "outputs": [
    {
     "data": {
      "text/plain": [
       "False"
      ]
     },
     "execution_count": 7,
     "metadata": {},
     "output_type": "execute_result"
    }
   ],
   "source": [
    "all([True, 0, 'hello'])"
   ]
  },
  {
   "cell_type": "markdown",
   "id": "9606e33f-a5c6-4302-97a9-b4e64f7dee5c",
   "metadata": {},
   "source": [
    "### 3. any(iterable)\n",
    " * __Returns True if any element in the iterable is True.__"
   ]
  },
  {
   "cell_type": "code",
   "execution_count": 14,
   "id": "9a9f9c67-2789-427c-b6ec-ee29a364d450",
   "metadata": {},
   "outputs": [
    {
     "data": {
      "text/plain": [
       "True"
      ]
     },
     "execution_count": 14,
     "metadata": {},
     "output_type": "execute_result"
    }
   ],
   "source": [
    "any([None,False,0,1])"
   ]
  },
  {
   "cell_type": "markdown",
   "id": "8482835b-d92c-4f77-a065-fe71cdc897a7",
   "metadata": {},
   "source": [
    "### 4.bin(x)\n",
    " * __Convert an integer to it's binary strting__"
   ]
  },
  {
   "cell_type": "code",
   "execution_count": 16,
   "id": "19c8dc9b-73fe-443a-8a30-bab194f213ad",
   "metadata": {},
   "outputs": [
    {
     "data": {
      "text/plain": [
       "'0b1'"
      ]
     },
     "execution_count": 16,
     "metadata": {},
     "output_type": "execute_result"
    }
   ],
   "source": [
    "bin(1)"
   ]
  },
  {
   "cell_type": "code",
   "execution_count": 17,
   "id": "e3ccc9df-9475-478f-8a36-79e003f0a586",
   "metadata": {},
   "outputs": [
    {
     "data": {
      "text/plain": [
       "'0b10'"
      ]
     },
     "execution_count": 17,
     "metadata": {},
     "output_type": "execute_result"
    }
   ],
   "source": [
    "bin(2)"
   ]
  },
  {
   "cell_type": "code",
   "execution_count": 18,
   "id": "9d841493-a9fe-4701-b702-e3402cb9101d",
   "metadata": {},
   "outputs": [
    {
     "data": {
      "text/plain": [
       "'0b11'"
      ]
     },
     "execution_count": 18,
     "metadata": {},
     "output_type": "execute_result"
    }
   ],
   "source": [
    "bin(3)"
   ]
  },
  {
   "cell_type": "code",
   "execution_count": 19,
   "id": "c5d8ed9f-ee47-4261-a885-9564d004988a",
   "metadata": {},
   "outputs": [
    {
     "data": {
      "text/plain": [
       "'0b100'"
      ]
     },
     "execution_count": 19,
     "metadata": {},
     "output_type": "execute_result"
    }
   ],
   "source": [
    "bin(4)"
   ]
  },
  {
   "cell_type": "code",
   "execution_count": 20,
   "id": "7990e51d-0fbd-40fc-8fca-152421534367",
   "metadata": {},
   "outputs": [
    {
     "data": {
      "text/plain": [
       "'0b1100100'"
      ]
     },
     "execution_count": 20,
     "metadata": {},
     "output_type": "execute_result"
    }
   ],
   "source": [
    "# 1100100 \n",
    "\n",
    "bin(100)"
   ]
  },
  {
   "cell_type": "code",
   "execution_count": 21,
   "id": "a4a99c58-d56d-40fb-820c-2fff4d7aaabd",
   "metadata": {},
   "outputs": [
    {
     "data": {
      "text/plain": [
       "'0b1111101'"
      ]
     },
     "execution_count": 21,
     "metadata": {},
     "output_type": "execute_result"
    }
   ],
   "source": [
    "# 125\n",
    "bin(125)"
   ]
  },
  {
   "cell_type": "code",
   "execution_count": 22,
   "id": "91c46584-452f-41e4-8132-924999607f62",
   "metadata": {},
   "outputs": [
    {
     "data": {
      "text/plain": [
       "'0b1000001'"
      ]
     },
     "execution_count": 22,
     "metadata": {},
     "output_type": "execute_result"
    }
   ],
   "source": [
    "bin(65)"
   ]
  },
  {
   "cell_type": "code",
   "execution_count": 23,
   "id": "d229e179-1080-422d-bf9e-024adb479c34",
   "metadata": {},
   "outputs": [
    {
     "data": {
      "text/plain": [
       "'0b1100001'"
      ]
     },
     "execution_count": 23,
     "metadata": {},
     "output_type": "execute_result"
    }
   ],
   "source": [
    "bin(97)"
   ]
  },
  {
   "cell_type": "markdown",
   "id": "81bb2a82-a434-4f01-9ec2-762fa7eb5601",
   "metadata": {},
   "source": [
    "### 5. bool(x)\n",
    " * __Converts a value to Boolean(True or False).__"
   ]
  },
  {
   "cell_type": "code",
   "execution_count": 24,
   "id": "dab3869a-c7bf-43fa-801a-f842e5753afc",
   "metadata": {},
   "outputs": [
    {
     "data": {
      "text/plain": [
       "True"
      ]
     },
     "execution_count": 24,
     "metadata": {},
     "output_type": "execute_result"
    }
   ],
   "source": [
    "bool(1)  "
   ]
  },
  {
   "cell_type": "code",
   "execution_count": 25,
   "id": "9758e30b-6443-41f3-971e-e4bb31ce74e5",
   "metadata": {},
   "outputs": [
    {
     "data": {
      "text/plain": [
       "False"
      ]
     },
     "execution_count": 25,
     "metadata": {},
     "output_type": "execute_result"
    }
   ],
   "source": [
    "bool(0)"
   ]
  },
  {
   "cell_type": "code",
   "execution_count": 26,
   "id": "a00448cc-a0db-439e-9fde-d17941347692",
   "metadata": {},
   "outputs": [
    {
     "data": {
      "text/plain": [
       "False"
      ]
     },
     "execution_count": 26,
     "metadata": {},
     "output_type": "execute_result"
    }
   ],
   "source": [
    "bool(\"\")"
   ]
  },
  {
   "cell_type": "markdown",
   "id": "5ec2988f-f8e9-404c-9c24-8ff9077f9ad4",
   "metadata": {},
   "source": [
    "### 6. chr(i)\n",
    " * __Returns the character for a Unicode point.__"
   ]
  },
  {
   "cell_type": "code",
   "execution_count": 27,
   "id": "56e6dcae-345d-46ce-b081-b91c8113f336",
   "metadata": {},
   "outputs": [
    {
     "data": {
      "text/plain": [
       "'A'"
      ]
     },
     "execution_count": 27,
     "metadata": {},
     "output_type": "execute_result"
    }
   ],
   "source": [
    "chr(65)"
   ]
  },
  {
   "cell_type": "code",
   "execution_count": 28,
   "id": "97de46c5-da9c-44b1-8902-2d8809f5e419",
   "metadata": {},
   "outputs": [
    {
     "data": {
      "text/plain": [
       "'\\x01'"
      ]
     },
     "execution_count": 28,
     "metadata": {},
     "output_type": "execute_result"
    }
   ],
   "source": [
    "chr(1)"
   ]
  },
  {
   "cell_type": "code",
   "execution_count": 29,
   "id": "7401f828-467f-4fb1-9f84-85258e72431e",
   "metadata": {},
   "outputs": [
    {
     "data": {
      "text/plain": [
       "'\\x02'"
      ]
     },
     "execution_count": 29,
     "metadata": {},
     "output_type": "execute_result"
    }
   ],
   "source": [
    "chr(2)"
   ]
  },
  {
   "cell_type": "code",
   "execution_count": 30,
   "id": "bc15c22e-9e1e-4f70-9dff-958c22ceb91f",
   "metadata": {},
   "outputs": [
    {
     "data": {
      "text/plain": [
       "'\\x00'"
      ]
     },
     "execution_count": 30,
     "metadata": {},
     "output_type": "execute_result"
    }
   ],
   "source": [
    "chr(0)"
   ]
  },
  {
   "cell_type": "code",
   "execution_count": 31,
   "id": "c1c21900-282f-4a1c-aa1a-d052091fd458",
   "metadata": {},
   "outputs": [
    {
     "data": {
      "text/plain": [
       "'\\t'"
      ]
     },
     "execution_count": 31,
     "metadata": {},
     "output_type": "execute_result"
    }
   ],
   "source": [
    "chr(9)"
   ]
  },
  {
   "cell_type": "code",
   "execution_count": 32,
   "id": "5c73d073-2aba-4cd0-842b-b2ef52f0a666",
   "metadata": {},
   "outputs": [
    {
     "name": "stdout",
     "output_type": "stream",
     "text": [
      "\t\n"
     ]
    }
   ],
   "source": [
    "print('\\t')"
   ]
  },
  {
   "cell_type": "code",
   "execution_count": 33,
   "id": "99a81a5e-5202-47e3-9c90-3fd1ba519646",
   "metadata": {},
   "outputs": [
    {
     "name": "stdout",
     "output_type": "stream",
     "text": [
      "\u0000\n"
     ]
    }
   ],
   "source": [
    "print('\\x00')"
   ]
  },
  {
   "cell_type": "code",
   "execution_count": 35,
   "id": "8387a2b0-db96-4b2c-8c9d-f3e8f4579226",
   "metadata": {},
   "outputs": [
    {
     "data": {
      "text/plain": [
       "'\\x08'"
      ]
     },
     "execution_count": 35,
     "metadata": {},
     "output_type": "execute_result"
    }
   ],
   "source": [
    "chr(8)"
   ]
  },
  {
   "cell_type": "code",
   "execution_count": 39,
   "id": "991278df-eaec-4d71-a2f9-c6d190b82b21",
   "metadata": {},
   "outputs": [
    {
     "name": "stdout",
     "output_type": "stream",
     "text": [
      "amit\n"
     ]
    }
   ],
   "source": [
    "print('amita\\x08')"
   ]
  },
  {
   "cell_type": "markdown",
   "id": "55cb818f-92f7-4002-8c21-f22dd6ca9cec",
   "metadata": {},
   "source": [
    "### 7. delattr(object,name)\n",
    " * __Deletes an attribut from an object.__"
   ]
  },
  {
   "cell_type": "code",
   "execution_count": 49,
   "id": "b53533a8-a5d4-4189-8654-97f2475aca2a",
   "metadata": {},
   "outputs": [],
   "source": [
    "class A: x = 10"
   ]
  },
  {
   "cell_type": "code",
   "execution_count": 45,
   "id": "96d5e7ad-b26d-429c-82a4-d606c6cec6a7",
   "metadata": {},
   "outputs": [
    {
     "data": {
      "text/plain": [
       "__main__.A"
      ]
     },
     "execution_count": 45,
     "metadata": {},
     "output_type": "execute_result"
    }
   ],
   "source": [
    "A"
   ]
  },
  {
   "cell_type": "code",
   "execution_count": 46,
   "id": "884293f7-d621-43ad-b773-8585491de8e1",
   "metadata": {},
   "outputs": [
    {
     "data": {
      "text/plain": [
       "10"
      ]
     },
     "execution_count": 46,
     "metadata": {},
     "output_type": "execute_result"
    }
   ],
   "source": [
    "A.x"
   ]
  },
  {
   "cell_type": "code",
   "execution_count": 47,
   "id": "2e20a28d-6e90-420b-ad7a-98331126fa3b",
   "metadata": {},
   "outputs": [],
   "source": [
    "delattr(A,'x')"
   ]
  },
  {
   "cell_type": "code",
   "execution_count": 48,
   "id": "45ef58d4-fd9a-42fc-aeb5-efac218d06e0",
   "metadata": {},
   "outputs": [
    {
     "ename": "AttributeError",
     "evalue": "type object 'A' has no attribute 'x'",
     "output_type": "error",
     "traceback": [
      "\u001b[31m---------------------------------------------------------------------------\u001b[39m",
      "\u001b[31mAttributeError\u001b[39m                            Traceback (most recent call last)",
      "\u001b[36mCell\u001b[39m\u001b[36m \u001b[39m\u001b[32mIn[48]\u001b[39m\u001b[32m, line 1\u001b[39m\n\u001b[32m----> \u001b[39m\u001b[32m1\u001b[39m \u001b[43mA\u001b[49m\u001b[43m.\u001b[49m\u001b[43mx\u001b[49m\n",
      "\u001b[31mAttributeError\u001b[39m: type object 'A' has no attribute 'x'"
     ]
    }
   ],
   "source": [
    "A.x"
   ]
  },
  {
   "cell_type": "markdown",
   "id": "2131d3b5-d7c2-4d51-85ef-8c571c965214",
   "metadata": {},
   "source": [
    "### 7.divmod(a,b)\n",
    " * __Returns a tuple (quotient, remainder)__"
   ]
  },
  {
   "cell_type": "code",
   "execution_count": 51,
   "id": "dc93c668-86af-4677-bc3b-7690f47c1df5",
   "metadata": {},
   "outputs": [
    {
     "data": {
      "text/plain": [
       "(1, 1)"
      ]
     },
     "execution_count": 51,
     "metadata": {},
     "output_type": "execute_result"
    }
   ],
   "source": [
    "divmod(3,2)"
   ]
  },
  {
   "cell_type": "code",
   "execution_count": 52,
   "id": "08cb8c3a-776b-49fc-8dc3-dfccdfbffbc1",
   "metadata": {},
   "outputs": [
    {
     "data": {
      "text/plain": [
       "(10, 0)"
      ]
     },
     "execution_count": 52,
     "metadata": {},
     "output_type": "execute_result"
    }
   ],
   "source": [
    "divmod(20,2)"
   ]
  },
  {
   "cell_type": "code",
   "execution_count": 53,
   "id": "c7656ac4-13ae-43e5-aaae-95aefde8e578",
   "metadata": {},
   "outputs": [
    {
     "data": {
      "text/plain": [
       "0"
      ]
     },
     "execution_count": 53,
     "metadata": {},
     "output_type": "execute_result"
    }
   ],
   "source": [
    "20%2"
   ]
  },
  {
   "cell_type": "markdown",
   "id": "dab07939-758b-41d9-b133-fbdd3e5c1d1b",
   "metadata": {},
   "source": [
    "### 8. enumerate(iterable, start=0)\n",
    " * __Returns a iterator that gives index and value pairs.__"
   ]
  },
  {
   "cell_type": "code",
   "execution_count": 55,
   "id": "8fd21b9c-dd71-428e-a20a-9922fba85a2e",
   "metadata": {},
   "outputs": [
    {
     "name": "stdout",
     "output_type": "stream",
     "text": [
      "0 10\n",
      "1 20\n",
      "2 30\n"
     ]
    }
   ],
   "source": [
    "list1 = [10,20,30]\n",
    "for i,j in enumerate(list1):\n",
    "    print(i,j)"
   ]
  },
  {
   "cell_type": "code",
   "execution_count": 63,
   "id": "37476f0c-3af1-4d1e-8ef5-3f6c2fbaeca2",
   "metadata": {},
   "outputs": [
    {
     "name": "stdout",
     "output_type": "stream",
     "text": [
      "0 name\n",
      "1 age\n",
      "2 email\n"
     ]
    }
   ],
   "source": [
    "stu = {'name':'Pingle','age':75,'email':'omkar@gmail.com'}\n",
    "\n",
    "for x,y in enumerate(stu):\n",
    "    print(x,y)"
   ]
  },
  {
   "cell_type": "code",
   "execution_count": 64,
   "id": "64c9e563-a90b-4a1e-97d7-f43289f4b90f",
   "metadata": {},
   "outputs": [
    {
     "name": "stdout",
     "output_type": "stream",
     "text": [
      "0 name : Pingle\n",
      "1 age : 75\n",
      "2 email : omkar@gmail.com\n"
     ]
    }
   ],
   "source": [
    "for x,y in enumerate(stu):\n",
    "    print(x,y,\":\",stu[y])"
   ]
  },
  {
   "cell_type": "markdown",
   "id": "d50078ae-4d71-4a3f-bbc4-03d09bfcff75",
   "metadata": {},
   "source": [
    "### 9. eval()\n",
    " * __Evaluates a string as a Python Expression.__"
   ]
  },
  {
   "cell_type": "code",
   "execution_count": 67,
   "id": "dd996251-f45c-4b7d-afd8-c90c9c297554",
   "metadata": {},
   "outputs": [
    {
     "data": {
      "text/plain": [
       "3"
      ]
     },
     "execution_count": 67,
     "metadata": {},
     "output_type": "execute_result"
    }
   ],
   "source": [
    "eval('1+2')"
   ]
  },
  {
   "cell_type": "markdown",
   "id": "c7394004-adb9-45d4-a90b-0232844aa389",
   "metadata": {},
   "source": [
    "# 10. filter(function, iteratable)\n",
    " * __Filters elements from an iteratble based on a condition.__"
   ]
  },
  {
   "cell_type": "code",
   "execution_count": 85,
   "id": "e48aa8fa-6631-42d7-adb9-4d20149025ab",
   "metadata": {},
   "outputs": [],
   "source": [
    "nums = [1,2,3,4,5]\n",
    "\n",
    "def evenA(x):\n",
    "    if x%2==0:\n",
    "        return x\n",
    "# sumA(nums)"
   ]
  },
  {
   "cell_type": "code",
   "execution_count": 90,
   "id": "06a86f57-d7c4-4614-a278-bc52dfa8a501",
   "metadata": {},
   "outputs": [
    {
     "data": {
      "text/plain": [
       "[20, 22, 24]"
      ]
     },
     "execution_count": 90,
     "metadata": {},
     "output_type": "execute_result"
    }
   ],
   "source": [
    "list(filter(sumA, [1,20,21,22,23,24]))"
   ]
  },
  {
   "cell_type": "code",
   "execution_count": 91,
   "id": "12653376-75f6-40ba-9bab-53628ab4c288",
   "metadata": {},
   "outputs": [],
   "source": [
    "def oddA(x):\n",
    "    if x%2!=0:\n",
    "        return x"
   ]
  },
  {
   "cell_type": "code",
   "execution_count": 93,
   "id": "8a2afa45-a0cb-4eb1-9f97-2653bee91d1f",
   "metadata": {},
   "outputs": [
    {
     "data": {
      "text/plain": [
       "[1, 21, 23]"
      ]
     },
     "execution_count": 93,
     "metadata": {},
     "output_type": "execute_result"
    }
   ],
   "source": [
    "list(filter(oddA, [1,20,21,22,23,24]))"
   ]
  },
  {
   "cell_type": "markdown",
   "id": "17822559-a81e-4344-a19f-7bd687875d3b",
   "metadata": {},
   "source": [
    "### float(x)\n",
    " * __Convert a number or string to a float.__"
   ]
  },
  {
   "cell_type": "code",
   "execution_count": 94,
   "id": "bafb8881-57ce-4344-827e-445b893e0b99",
   "metadata": {},
   "outputs": [
    {
     "data": {
      "text/plain": [
       "100.0"
      ]
     },
     "execution_count": 94,
     "metadata": {},
     "output_type": "execute_result"
    }
   ],
   "source": [
    "float(100)"
   ]
  },
  {
   "cell_type": "code",
   "execution_count": 97,
   "id": "9b3d24ab-6536-45d2-ae08-b49fda2783a1",
   "metadata": {},
   "outputs": [
    {
     "data": {
      "text/plain": [
       "10.0"
      ]
     },
     "execution_count": 97,
     "metadata": {},
     "output_type": "execute_result"
    }
   ],
   "source": [
    "float(\"10\")"
   ]
  },
  {
   "cell_type": "markdown",
   "id": "bcca9739-b8eb-4f6f-ba0c-61e4ce612e61",
   "metadata": {},
   "source": [
    "### format(value, format_spec)\n",
    " * __Formats a value using a format specification.__"
   ]
  },
  {
   "cell_type": "code",
   "execution_count": 100,
   "id": "17d66738-b189-46bf-b5ee-e60ab65f80c1",
   "metadata": {},
   "outputs": [
    {
     "data": {
      "text/plain": [
       "'3.1448'"
      ]
     },
     "execution_count": 100,
     "metadata": {},
     "output_type": "execute_result"
    }
   ],
   "source": [
    "format(3.14477,\".4f\")"
   ]
  },
  {
   "cell_type": "markdown",
   "id": "0038acf9-ddbf-46c7-aaa4-78ccb4a682cc",
   "metadata": {},
   "source": [
    "# hasattr(object, name)\n",
    " * __Checks if an object has an attribute.__"
   ]
  },
  {
   "cell_type": "code",
   "execution_count": 101,
   "id": "2e8de934-efc9-4543-816a-7d9f6b3f4c32",
   "metadata": {},
   "outputs": [
    {
     "data": {
      "text/plain": [
       "True"
      ]
     },
     "execution_count": 101,
     "metadata": {},
     "output_type": "execute_result"
    }
   ],
   "source": [
    "hasattr(str,'upper')"
   ]
  },
  {
   "cell_type": "code",
   "execution_count": 110,
   "id": "3a57b666-3fc5-4fcf-8944-af4ae00c5fb4",
   "metadata": {},
   "outputs": [
    {
     "data": {
      "text/plain": [
       "False"
      ]
     },
     "execution_count": 110,
     "metadata": {},
     "output_type": "execute_result"
    }
   ],
   "source": [
    "hasattr(str,\"apple\")"
   ]
  },
  {
   "cell_type": "code",
   "execution_count": 109,
   "id": "678ebf4e-dff0-4809-896b-ac940c6ffe84",
   "metadata": {},
   "outputs": [
    {
     "data": {
      "text/plain": [
       "1"
      ]
     },
     "execution_count": 109,
     "metadata": {},
     "output_type": "execute_result"
    }
   ],
   "source": [
    "int(True)"
   ]
  },
  {
   "cell_type": "code",
   "execution_count": 111,
   "id": "63a9a469-e490-4bd6-a796-437a9c82f0be",
   "metadata": {},
   "outputs": [
    {
     "name": "stdout",
     "output_type": "stream",
     "text": [
      "True\n",
      "True\n",
      "False\n",
      "True\n",
      "False\n"
     ]
    }
   ],
   "source": [
    "class Car:\n",
    "    def __init__(self, brand, model):\n",
    "        self.brand = brand\n",
    "        self.model = model\n",
    "\n",
    "    def start_engine(self):\n",
    "        print(\"Engine started!\")\n",
    "\n",
    "my_car = Car(\"Toyota\", \"Camry\")\n",
    "\n",
    "# Check for existing attributes\n",
    "print(hasattr(my_car, \"brand\"))    # Output: True\n",
    "print(hasattr(my_car, \"model\"))    # Output: True\n",
    "\n",
    "# Check for a non-existent attribute\n",
    "print(hasattr(my_car, \"color\"))    # Output: False\n",
    "\n",
    "# Check for an existing method\n",
    "print(hasattr(my_car, \"start_engine\")) # Output: True\n",
    "\n",
    "# Check for a non-existent method\n",
    "print(hasattr(my_car, \"stop_engine\")) # Output: False"
   ]
  },
  {
   "cell_type": "code",
   "execution_count": 112,
   "id": "6d40d8f7-9997-4068-a2f2-0ae062ff8078",
   "metadata": {},
   "outputs": [
    {
     "data": {
      "text/plain": [
       "'0xa'"
      ]
     },
     "execution_count": 112,
     "metadata": {},
     "output_type": "execute_result"
    }
   ],
   "source": [
    "# hex() decimal value\n",
    "\n",
    "hex(10)"
   ]
  },
  {
   "cell_type": "code",
   "execution_count": 113,
   "id": "e12c11cd-d990-493a-9c98-56bef04624d2",
   "metadata": {},
   "outputs": [
    {
     "data": {
      "text/plain": [
       "'0xb'"
      ]
     },
     "execution_count": 113,
     "metadata": {},
     "output_type": "execute_result"
    }
   ],
   "source": [
    "hex(11)"
   ]
  },
  {
   "cell_type": "code",
   "execution_count": 114,
   "id": "eaac5441-a24f-4ffb-ba25-2ee8fd1085f8",
   "metadata": {},
   "outputs": [
    {
     "data": {
      "text/plain": [
       "'0xc'"
      ]
     },
     "execution_count": 114,
     "metadata": {},
     "output_type": "execute_result"
    }
   ],
   "source": [
    "hex(12)"
   ]
  },
  {
   "cell_type": "code",
   "execution_count": 115,
   "id": "09284802-8288-4138-9ad1-129f70a061d9",
   "metadata": {},
   "outputs": [
    {
     "data": {
      "text/plain": [
       "'0xd'"
      ]
     },
     "execution_count": 115,
     "metadata": {},
     "output_type": "execute_result"
    }
   ],
   "source": [
    "hex(13)"
   ]
  },
  {
   "cell_type": "code",
   "execution_count": 116,
   "id": "f224bb2e-7f69-4545-9913-b13b9db33220",
   "metadata": {},
   "outputs": [
    {
     "data": {
      "text/plain": [
       "'0x9'"
      ]
     },
     "execution_count": 116,
     "metadata": {},
     "output_type": "execute_result"
    }
   ],
   "source": [
    "hex(9)"
   ]
  },
  {
   "cell_type": "code",
   "execution_count": 117,
   "id": "5754ae31-0277-4e80-b7c3-7ddacaec4797",
   "metadata": {},
   "outputs": [
    {
     "data": {
      "text/plain": [
       "'0xf'"
      ]
     },
     "execution_count": 117,
     "metadata": {},
     "output_type": "execute_result"
    }
   ],
   "source": [
    "hex(15)"
   ]
  },
  {
   "cell_type": "code",
   "execution_count": null,
   "id": "517d2064-d467-4c28-b205-473469e875a5",
   "metadata": {},
   "outputs": [],
   "source": []
  }
 ],
 "metadata": {
  "kernelspec": {
   "display_name": "Python 3 (ipykernel)",
   "language": "python",
   "name": "python3"
  },
  "language_info": {
   "codemirror_mode": {
    "name": "ipython",
    "version": 3
   },
   "file_extension": ".py",
   "mimetype": "text/x-python",
   "name": "python",
   "nbconvert_exporter": "python",
   "pygments_lexer": "ipython3",
   "version": "3.13.7"
  }
 },
 "nbformat": 4,
 "nbformat_minor": 5
}
