{
 "cells": [
  {
   "cell_type": "markdown",
   "id": "3baf0af1-21ce-4637-b26b-669f0e0a659e",
   "metadata": {},
   "source": [
    "# 3. Lists in Python\n",
    "\n",
    " * __Lists are ordered.__\n",
    " * __Lists can contain any aribitrary objects.__\n",
    " * __Lists elements can be accessed by Index.__\n",
    " * __Lists are mutable.__\n",
    " * __lists are dynamic.__"
   ]
  },
  {
   "cell_type": "code",
   "execution_count": 1,
   "id": "0df7b9d4-e4f6-4971-b37b-b4d19de0dfc2",
   "metadata": {},
   "outputs": [
    {
     "name": "stdout",
     "output_type": "stream",
     "text": [
      "['Python', 25, 2025]\n"
     ]
    }
   ],
   "source": [
    "# Creating a list\n",
    "\n",
    "nlis = ['Python',25,2025]\n",
    "print(nlis)"
   ]
  },
  {
   "cell_type": "code",
   "execution_count": 3,
   "id": "06b02974-f7cb-4ea4-ad44-ae4c9854daf4",
   "metadata": {},
   "outputs": [
    {
     "name": "stdout",
     "output_type": "stream",
     "text": [
      "[]\n",
      "<class 'list'>\n"
     ]
    }
   ],
   "source": [
    "nlis1 = []\n",
    "print(nlis1)\n",
    "print(type(nlis1))"
   ]
  },
  {
   "cell_type": "code",
   "execution_count": 4,
   "id": "e6050749-7e39-45bd-94d3-7ddbd02a8e3a",
   "metadata": {},
   "outputs": [
    {
     "name": "stdout",
     "output_type": "stream",
     "text": [
      "['Python', 25, 2025]\n"
     ]
    }
   ],
   "source": [
    "# Accessing value [Posivit Index]\n",
    "print(nlis)"
   ]
  },
  {
   "cell_type": "code",
   "execution_count": 5,
   "id": "8297cf13-d356-49df-b19d-91b336267da1",
   "metadata": {},
   "outputs": [
    {
     "name": "stdout",
     "output_type": "stream",
     "text": [
      "Python\n"
     ]
    }
   ],
   "source": [
    "print(nlis[0])"
   ]
  },
  {
   "cell_type": "code",
   "execution_count": 6,
   "id": "e557e38c-eec1-45a8-afcc-ff7628de469f",
   "metadata": {},
   "outputs": [
    {
     "name": "stdout",
     "output_type": "stream",
     "text": [
      "25\n"
     ]
    }
   ],
   "source": [
    "print(nlis[1])"
   ]
  },
  {
   "cell_type": "code",
   "execution_count": 7,
   "id": "6cc5bc30-c5b2-4307-ad40-ab3ce28bb935",
   "metadata": {},
   "outputs": [
    {
     "name": "stdout",
     "output_type": "stream",
     "text": [
      "2025\n"
     ]
    }
   ],
   "source": [
    "print(nlis[2])"
   ]
  },
  {
   "cell_type": "code",
   "execution_count": 8,
   "id": "522db114-9c6c-417c-ae23-7c81ec094324",
   "metadata": {},
   "outputs": [
    {
     "name": "stdout",
     "output_type": "stream",
     "text": [
      "['Python', 25, 2025]\n"
     ]
    }
   ],
   "source": [
    "# Negative Indexing\n",
    "\n",
    "nlis = ['Python',25,2025]\n",
    "print(nlis)"
   ]
  },
  {
   "cell_type": "code",
   "execution_count": 11,
   "id": "7d8d2079-a1d2-474a-9e0a-b990f26ba9f3",
   "metadata": {},
   "outputs": [
    {
     "name": "stdout",
     "output_type": "stream",
     "text": [
      "2025\n",
      "25\n",
      "Python\n"
     ]
    }
   ],
   "source": [
    "print(nlis[-1])\n",
    "print(nlis[-2])\n",
    "print(nlis[-3])"
   ]
  },
  {
   "cell_type": "markdown",
   "id": "06119461-9ab3-4d8a-a9a1-10cf5f1989a7",
   "metadata": {},
   "source": [
    "# what can content a list?\n",
    "\n",
    " * __Strings__\n",
    " * __Floats__\n",
    " * __Integer__\n",
    " * __Boolean__\n",
    " * __Nested List__\n",
    " * __Nested Tuple__\n",
    " * __Other data Structures__"
   ]
  },
  {
   "cell_type": "code",
   "execution_count": 12,
   "id": "fa3cdea7-ac1a-4419-8f1a-7947a540609b",
   "metadata": {},
   "outputs": [
    {
     "name": "stdout",
     "output_type": "stream",
     "text": [
      "['python', 3.147, 2002, True, False, [1, 1, 3, 5, 4, 35], ('Hello', 'Pyhton', 3.147, 2022)]\n"
     ]
    }
   ],
   "source": [
    "# Creating a list\n",
    "\n",
    "nlis = [\"python\",3.147,2002,True,False,[1,1,3,5,4,35],('Hello',\"Pyhton\",3.147,2022)]\n",
    "print(nlis)"
   ]
  },
  {
   "cell_type": "code",
   "execution_count": 15,
   "id": "81f6b482-7474-4193-9857-a67a15fa22f5",
   "metadata": {},
   "outputs": [
    {
     "name": "stdout",
     "output_type": "stream",
     "text": [
      "python\n",
      "<class 'str'>\n",
      "3.147\n",
      "<class 'float'>\n",
      "2002\n",
      "<class 'int'>\n",
      "True\n",
      "<class 'bool'>\n",
      "False\n",
      "<class 'bool'>\n",
      "[1, 1, 3, 5, 4, 35]\n",
      "<class 'list'>\n",
      "('Hello', 'Pyhton', 3.147, 2022)\n",
      "<class 'tuple'>\n"
     ]
    }
   ],
   "source": [
    "# how to check their data type()\n",
    "print(nlis[0])\n",
    "print(type(nlis[0]))\n",
    "print(nlis[1])\n",
    "print(type(nlis[1]))\n",
    "print(nlis[2])\n",
    "print(type(nlis[2]))\n",
    "print(nlis[3])\n",
    "print(type(nlis[3]))\n",
    "print(nlis[4])\n",
    "print(type(nlis[4]))\n",
    "print(nlis[5])\n",
    "print(type(nlis[5]))\n",
    "print(nlis[6])\n",
    "print(type(nlis[6]))"
   ]
  },
  {
   "cell_type": "markdown",
   "id": "135fbce0-5cbd-4165-a9a1-7ce4b264887c",
   "metadata": {},
   "source": [
    "# List Operations"
   ]
  },
  {
   "cell_type": "code",
   "execution_count": 16,
   "id": "6b8522dc-5919-461f-9c57-e376794862d4",
   "metadata": {},
   "outputs": [
    {
     "name": "stdout",
     "output_type": "stream",
     "text": [
      "['python', 3.147, 2002, True, False, [1, 1, 3, 5, 4, 35], ('Hello', 'Pyhton', 3.147, 2022)]\n"
     ]
    }
   ],
   "source": [
    "nlis = [\"python\",3.147,2002,True,False,[1,1,3,5,4,35],('Hello',\"Pyhton\",3.147,2022)]\n",
    "print(nlis)"
   ]
  },
  {
   "cell_type": "code",
   "execution_count": 17,
   "id": "d0c5f3b4-65a4-4cb9-8646-615674a2f47c",
   "metadata": {},
   "outputs": [
    {
     "data": {
      "text/plain": [
       "7"
      ]
     },
     "execution_count": 17,
     "metadata": {},
     "output_type": "execute_result"
    }
   ],
   "source": [
    "# length of the list is:\n",
    "len(nlis)"
   ]
  },
  {
   "cell_type": "markdown",
   "id": "cbe0c4ad-5e40-4b66-89c1-290c39637491",
   "metadata": {},
   "source": [
    "# slicing"
   ]
  },
  {
   "cell_type": "code",
   "execution_count": 20,
   "id": "087e551a-6f9b-4be0-9543-966aea864d39",
   "metadata": {},
   "outputs": [
    {
     "name": "stdout",
     "output_type": "stream",
     "text": [
      "['python', 3.147, 2002, True, False, [1, 1, 3, 5, 4, 35], ('Hello', 'Pyhton', 3.147, 2022)]\n"
     ]
    }
   ],
   "source": [
    "print(nlis)"
   ]
  },
  {
   "cell_type": "code",
   "execution_count": 21,
   "id": "0e9e2bca-30e5-412e-b4b9-8e0b9e13133b",
   "metadata": {},
   "outputs": [
    {
     "data": {
      "text/plain": [
       "['python', 3.147, 2002]"
      ]
     },
     "execution_count": 21,
     "metadata": {},
     "output_type": "execute_result"
    }
   ],
   "source": [
    "nlis[0:3]"
   ]
  },
  {
   "cell_type": "code",
   "execution_count": 22,
   "id": "c2d78dc9-b3cd-4b7e-a6ab-5479345dc273",
   "metadata": {},
   "outputs": [
    {
     "name": "stdout",
     "output_type": "stream",
     "text": [
      "[True, False]\n"
     ]
    }
   ],
   "source": [
    "print(nlis[3:5])"
   ]
  },
  {
   "cell_type": "code",
   "execution_count": 23,
   "id": "e8c9ece2-07aa-4492-9344-6a6e4dd00af8",
   "metadata": {},
   "outputs": [
    {
     "name": "stdout",
     "output_type": "stream",
     "text": [
      "['python', 3.147, 2002, True, False]\n"
     ]
    }
   ],
   "source": [
    "print(nlis[:5])"
   ]
  },
  {
   "cell_type": "code",
   "execution_count": null,
   "id": "65e1583a-e09d-4ca4-a0c4-620fabdbfa66",
   "metadata": {},
   "outputs": [],
   "source": []
  }
 ],
 "metadata": {
  "kernelspec": {
   "display_name": "Python 3 (ipykernel)",
   "language": "python",
   "name": "python3"
  },
  "language_info": {
   "codemirror_mode": {
    "name": "ipython",
    "version": 3
   },
   "file_extension": ".py",
   "mimetype": "text/x-python",
   "name": "python",
   "nbconvert_exporter": "python",
   "pygments_lexer": "ipython3",
   "version": "3.13.7"
  }
 },
 "nbformat": 4,
 "nbformat_minor": 5
}
