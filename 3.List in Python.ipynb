{
 "cells": [
  {
   "cell_type": "markdown",
   "id": "9d0d7add-c440-4b5f-86d6-4e5ce528354c",
   "metadata": {},
   "source": [
    "# 3.Lists in Python\n",
    "\n",
    " * __Lists are ordered.__\n",
    " * __Lists can contains any value.__\n",
    " * __List elements can be accessed by Index value.__\n",
    " * __Lists are mutable.__\n",
    " * __Lists are dynamic.__"
   ]
  },
  {
   "cell_type": "code",
   "execution_count": 3,
   "id": "52d12137-b157-43ff-91da-e717fde0f2d1",
   "metadata": {},
   "outputs": [
    {
     "name": "stdout",
     "output_type": "stream",
     "text": [
      "['Python', 25, 2000.25]\n"
     ]
    }
   ],
   "source": [
    "# Creating a list\n",
    "\n",
    "x = ['Python',25,2000.25]\n",
    "print(x)"
   ]
  },
  {
   "cell_type": "code",
   "execution_count": 4,
   "id": "0421f633-81ce-4b6d-bef4-d016cc5617dd",
   "metadata": {},
   "outputs": [
    {
     "name": "stdout",
     "output_type": "stream",
     "text": [
      "<class 'list'>\n"
     ]
    }
   ],
   "source": [
    "print(type(x))"
   ]
  },
  {
   "cell_type": "code",
   "execution_count": 5,
   "id": "1a3e55a1-d9d6-4d9d-b21d-a9d035ebac65",
   "metadata": {},
   "outputs": [
    {
     "name": "stdout",
     "output_type": "stream",
     "text": [
      "[]\n",
      "<class 'list'>\n"
     ]
    }
   ],
   "source": [
    "# creating empty list\n",
    "\n",
    "x = []\n",
    "print(x)\n",
    "print(type(x))"
   ]
  },
  {
   "cell_type": "code",
   "execution_count": 7,
   "id": "9006f394-9bc5-4405-809a-cf11efa8c132",
   "metadata": {},
   "outputs": [
    {
     "name": "stdout",
     "output_type": "stream",
     "text": [
      "['Python', 25, 2000.25]\n"
     ]
    },
    {
     "data": {
      "text/plain": [
       "'Python'"
      ]
     },
     "execution_count": 7,
     "metadata": {},
     "output_type": "execute_result"
    }
   ],
   "source": [
    "x = ['Python',25,2000.25]\n",
    "print(x)\n",
    "\n",
    "# Accessing index value of lists\n",
    "\n",
    "x[0]"
   ]
  },
  {
   "cell_type": "code",
   "execution_count": 8,
   "id": "f3f92adf-6c8a-4c54-8736-1fc9aa0dfef3",
   "metadata": {},
   "outputs": [
    {
     "data": {
      "text/plain": [
       "25"
      ]
     },
     "execution_count": 8,
     "metadata": {},
     "output_type": "execute_result"
    }
   ],
   "source": [
    "x[1]"
   ]
  },
  {
   "cell_type": "code",
   "execution_count": 9,
   "id": "7fe3894c-1455-49f0-862d-f7fc14647e5a",
   "metadata": {},
   "outputs": [
    {
     "data": {
      "text/plain": [
       "2000.25"
      ]
     },
     "execution_count": 9,
     "metadata": {},
     "output_type": "execute_result"
    }
   ],
   "source": [
    "x[2]"
   ]
  },
  {
   "cell_type": "code",
   "execution_count": 10,
   "id": "315591f0-956d-41fe-ba74-ef9ceac50ac3",
   "metadata": {},
   "outputs": [
    {
     "ename": "IndexError",
     "evalue": "list index out of range",
     "output_type": "error",
     "traceback": [
      "\u001b[31m---------------------------------------------------------------------------\u001b[39m",
      "\u001b[31mIndexError\u001b[39m                                Traceback (most recent call last)",
      "\u001b[36mCell\u001b[39m\u001b[36m \u001b[39m\u001b[32mIn[10]\u001b[39m\u001b[32m, line 1\u001b[39m\n\u001b[32m----> \u001b[39m\u001b[32m1\u001b[39m \u001b[43mx\u001b[49m\u001b[43m[\u001b[49m\u001b[32;43m3\u001b[39;49m\u001b[43m]\u001b[49m\n",
      "\u001b[31mIndexError\u001b[39m: list index out of range"
     ]
    }
   ],
   "source": [
    "x[3]"
   ]
  },
  {
   "cell_type": "code",
   "execution_count": 11,
   "id": "52d02c47-60b6-4180-974f-2efe263e8cd1",
   "metadata": {},
   "outputs": [
    {
     "data": {
      "text/plain": [
       "2000.25"
      ]
     },
     "execution_count": 11,
     "metadata": {},
     "output_type": "execute_result"
    }
   ],
   "source": [
    "# Negative index value\n",
    "\n",
    "x[-1]"
   ]
  },
  {
   "cell_type": "code",
   "execution_count": 12,
   "id": "de8561e2-7900-48bc-9892-c3fd474aa8a1",
   "metadata": {},
   "outputs": [
    {
     "data": {
      "text/plain": [
       "25"
      ]
     },
     "execution_count": 12,
     "metadata": {},
     "output_type": "execute_result"
    }
   ],
   "source": [
    "x[-2]"
   ]
  },
  {
   "cell_type": "code",
   "execution_count": 13,
   "id": "d55d3a0c-f8bf-496a-a3bc-53b30b6eaefb",
   "metadata": {},
   "outputs": [
    {
     "data": {
      "text/plain": [
       "'Python'"
      ]
     },
     "execution_count": 13,
     "metadata": {},
     "output_type": "execute_result"
    }
   ],
   "source": [
    "x[-3]"
   ]
  },
  {
   "cell_type": "code",
   "execution_count": 14,
   "id": "04ace791-abae-4518-bdb4-5e397a215ffc",
   "metadata": {},
   "outputs": [
    {
     "ename": "IndexError",
     "evalue": "list index out of range",
     "output_type": "error",
     "traceback": [
      "\u001b[31m---------------------------------------------------------------------------\u001b[39m",
      "\u001b[31mIndexError\u001b[39m                                Traceback (most recent call last)",
      "\u001b[36mCell\u001b[39m\u001b[36m \u001b[39m\u001b[32mIn[14]\u001b[39m\u001b[32m, line 1\u001b[39m\n\u001b[32m----> \u001b[39m\u001b[32m1\u001b[39m \u001b[43mx\u001b[49m\u001b[43m[\u001b[49m\u001b[43m-\u001b[49m\u001b[32;43m4\u001b[39;49m\u001b[43m]\u001b[49m\n",
      "\u001b[31mIndexError\u001b[39m: list index out of range"
     ]
    }
   ],
   "source": [
    "x[-4]"
   ]
  },
  {
   "cell_type": "code",
   "execution_count": 15,
   "id": "7087827b-1f49-46b0-9394-00267e65b86c",
   "metadata": {},
   "outputs": [
    {
     "data": {
      "text/plain": [
       "['Python',\n",
       " 100,\n",
       " 45.55,\n",
       " True,\n",
       " False,\n",
       " ['Hello world', 55],\n",
       " ('Python', 'NOIDa', 'True'),\n",
       " {1, 2, 5, 45, 52},\n",
       " {'a': True, 'b': False}]"
      ]
     },
     "execution_count": 15,
     "metadata": {},
     "output_type": "execute_result"
    }
   ],
   "source": [
    "# lists \n",
    "\n",
    "nlis = ['Python',100,45.55,True,False,['Hello world',55],('Python','NOIDa',\"True\"),{1,1,1,2,52,45,5,5},{'a':True,'b':False}]\n",
    "nlis"
   ]
  },
  {
   "cell_type": "code",
   "execution_count": 16,
   "id": "186cdd41-e8ce-45d9-b9a0-a9b73ee5f7ad",
   "metadata": {},
   "outputs": [
    {
     "name": "stdout",
     "output_type": "stream",
     "text": [
      "['Python', 100, 45.55, True, False, ['Hello world', 55], ('Python', 'NOIDa', 'True'), {1, 2, 52, 5, 45}, {'a': True, 'b': False}]\n"
     ]
    }
   ],
   "source": [
    "print(nlis)"
   ]
  },
  {
   "cell_type": "markdown",
   "id": "ef1c7c24-96d2-45a2-9959-55380d5ef1b8",
   "metadata": {},
   "source": [
    "# slicing of value\n",
    "\n"
   ]
  },
  {
   "cell_type": "code",
   "execution_count": 23,
   "id": "49b942bc-2c7f-4c11-a63f-33625eadb1c2",
   "metadata": {},
   "outputs": [
    {
     "data": {
      "text/plain": [
       "[[['Utkarsh'], 'Neeraj'],\n",
       " 10,\n",
       " 50,\n",
       " 88,\n",
       " [40,\n",
       "  [50, [60, ['Dheeraj']]],\n",
       "  ['Dipti'],\n",
       "  [[['Amita']], [[[10, ['Aditya']]]]],\n",
       "  ['Manisha', [[10, [20, ['Anup']]]]]]]"
      ]
     },
     "execution_count": 23,
     "metadata": {},
     "output_type": "execute_result"
    }
   ],
   "source": [
    "x = [[['Utkarsh'],'Neeraj'],10,50,88,[40,[50,[60,['Dheeraj']]],['Dipti'],[[['Amita']],[[[10,['Aditya',]]]]],['Manisha',[[10,[20,['Anup']]]]]]]\n",
    "x"
   ]
  },
  {
   "cell_type": "code",
   "execution_count": 20,
   "id": "6b1daac6-446c-4ef4-acc1-7279ec37bc4f",
   "metadata": {},
   "outputs": [
    {
     "name": "stdout",
     "output_type": "stream",
     "text": [
      "[True, False]\n"
     ]
    }
   ],
   "source": [
    "print (nlis[3:5])"
   ]
  },
  {
   "cell_type": "code",
   "execution_count": 24,
   "id": "eea78ee8-9b95-48dc-8dc2-ae367a169e62",
   "metadata": {},
   "outputs": [
    {
     "data": {
      "text/plain": [
       "[[['Utkarsh'], 'Neeraj']]"
      ]
     },
     "execution_count": 24,
     "metadata": {},
     "output_type": "execute_result"
    }
   ],
   "source": [
    "x[0:1]"
   ]
  },
  {
   "cell_type": "code",
   "execution_count": null,
   "id": "f46949b9-a4fe-4fca-8867-028256203ebb",
   "metadata": {},
   "outputs": [],
   "source": [
    "x[:0]"
   ]
  },
  {
   "cell_type": "code",
   "execution_count": 27,
   "id": "d1028a1b-9497-4b6b-9173-fac847a4898b",
   "metadata": {},
   "outputs": [
    {
     "name": "stdout",
     "output_type": "stream",
     "text": [
      "[88, [40, [50, [60, ['Dheeraj']]], ['Dipti'], [[['Amita']], [[[10, ['Aditya']]]]], ['Manisha', [[10, [20, ['Anup']]]]]]]\n"
     ]
    }
   ],
   "source": [
    "print(x[3:5])"
   ]
  },
  {
   "cell_type": "code",
   "execution_count": 28,
   "id": "3879c3b0-8c44-4f8a-b2eb-94f28790c389",
   "metadata": {},
   "outputs": [
    {
     "data": {
      "text/plain": [
       "[True, False]"
      ]
     },
     "execution_count": 28,
     "metadata": {},
     "output_type": "execute_result"
    }
   ],
   "source": [
    "nlis[3:5]"
   ]
  },
  {
   "cell_type": "code",
   "execution_count": 29,
   "id": "e7ea096b-01f2-4a5d-a6ab-dafe67184a5d",
   "metadata": {},
   "outputs": [
    {
     "data": {
      "text/plain": [
       "[[['Utkarsh'], 'Neeraj'],\n",
       " 10,\n",
       " 50,\n",
       " 88,\n",
       " [40,\n",
       "  [50, [60, ['Dheeraj']]],\n",
       "  ['Dipti'],\n",
       "  [[['Amita']], [[[10, ['Aditya']]]]],\n",
       "  ['Manisha', [[10, [20, ['Anup']]]]]]]"
      ]
     },
     "execution_count": 29,
     "metadata": {},
     "output_type": "execute_result"
    }
   ],
   "source": [
    "x = [[['Utkarsh'],'Neeraj'],10,50,88,[40,[50,[60,['Dheeraj']]],['Dipti'],[[['Amita']],[[[10,['Aditya',]]]]],['Manisha',[[10,[20,['Anup']]]]]]]\n",
    "x"
   ]
  },
  {
   "cell_type": "code",
   "execution_count": 34,
   "id": "1d9d9cf7-c7e1-4023-97ee-573a7866d1c3",
   "metadata": {},
   "outputs": [
    {
     "data": {
      "text/plain": [
       "'Utkarsh'"
      ]
     },
     "execution_count": 34,
     "metadata": {},
     "output_type": "execute_result"
    }
   ],
   "source": [
    "x[0][0][0]"
   ]
  },
  {
   "cell_type": "code",
   "execution_count": null,
   "id": "b64e51ac-4f76-49a6-b5bd-f4affaa8f9cc",
   "metadata": {},
   "outputs": [],
   "source": []
  }
 ],
 "metadata": {
  "kernelspec": {
   "display_name": "Python 3 (ipykernel)",
   "language": "python",
   "name": "python3"
  },
  "language_info": {
   "codemirror_mode": {
    "name": "ipython",
    "version": 3
   },
   "file_extension": ".py",
   "mimetype": "text/x-python",
   "name": "python",
   "nbconvert_exporter": "python",
   "pygments_lexer": "ipython3",
   "version": "3.13.7"
  }
 },
 "nbformat": 4,
 "nbformat_minor": 5
}
