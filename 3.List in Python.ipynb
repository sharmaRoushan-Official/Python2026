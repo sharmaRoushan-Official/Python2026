{
 "cells": [
  {
   "cell_type": "markdown",
   "id": "9d0d7add-c440-4b5f-86d6-4e5ce528354c",
   "metadata": {},
   "source": [
    "# 3.Lists in Python\n",
    "\n",
    " * __Lists are ordered.__\n",
    " * __Lists can contains any value.__\n",
    " * __List elements can be accessed by Index value.__\n",
    " * __Lists are mutable.__\n",
    " * __Lists are dynamic.__"
   ]
  },
  {
   "cell_type": "code",
   "execution_count": 3,
   "id": "52d12137-b157-43ff-91da-e717fde0f2d1",
   "metadata": {},
   "outputs": [
    {
     "name": "stdout",
     "output_type": "stream",
     "text": [
      "['Python', 25, 2000.25]\n"
     ]
    }
   ],
   "source": [
    "# Creating a list\n",
    "\n",
    "x = ['Python',25,2000.25]\n",
    "print(x)"
   ]
  },
  {
   "cell_type": "code",
   "execution_count": 4,
   "id": "0421f633-81ce-4b6d-bef4-d016cc5617dd",
   "metadata": {},
   "outputs": [
    {
     "name": "stdout",
     "output_type": "stream",
     "text": [
      "<class 'list'>\n"
     ]
    }
   ],
   "source": [
    "print(type(x))"
   ]
  },
  {
   "cell_type": "code",
   "execution_count": 5,
   "id": "1a3e55a1-d9d6-4d9d-b21d-a9d035ebac65",
   "metadata": {},
   "outputs": [
    {
     "name": "stdout",
     "output_type": "stream",
     "text": [
      "[]\n",
      "<class 'list'>\n"
     ]
    }
   ],
   "source": [
    "# creating empty list\n",
    "\n",
    "x = []\n",
    "print(x)\n",
    "print(type(x))"
   ]
  },
  {
   "cell_type": "code",
   "execution_count": 7,
   "id": "9006f394-9bc5-4405-809a-cf11efa8c132",
   "metadata": {},
   "outputs": [
    {
     "name": "stdout",
     "output_type": "stream",
     "text": [
      "['Python', 25, 2000.25]\n"
     ]
    },
    {
     "data": {
      "text/plain": [
       "'Python'"
      ]
     },
     "execution_count": 7,
     "metadata": {},
     "output_type": "execute_result"
    }
   ],
   "source": [
    "x = ['Python',25,2000.25]\n",
    "print(x)\n",
    "\n",
    "# Accessing index value of lists\n",
    "\n",
    "x[0]"
   ]
  },
  {
   "cell_type": "code",
   "execution_count": 8,
   "id": "f3f92adf-6c8a-4c54-8736-1fc9aa0dfef3",
   "metadata": {},
   "outputs": [
    {
     "data": {
      "text/plain": [
       "25"
      ]
     },
     "execution_count": 8,
     "metadata": {},
     "output_type": "execute_result"
    }
   ],
   "source": [
    "x[1]"
   ]
  },
  {
   "cell_type": "code",
   "execution_count": 9,
   "id": "7fe3894c-1455-49f0-862d-f7fc14647e5a",
   "metadata": {},
   "outputs": [
    {
     "data": {
      "text/plain": [
       "2000.25"
      ]
     },
     "execution_count": 9,
     "metadata": {},
     "output_type": "execute_result"
    }
   ],
   "source": [
    "x[2]"
   ]
  },
  {
   "cell_type": "code",
   "execution_count": 10,
   "id": "315591f0-956d-41fe-ba74-ef9ceac50ac3",
   "metadata": {},
   "outputs": [
    {
     "ename": "IndexError",
     "evalue": "list index out of range",
     "output_type": "error",
     "traceback": [
      "\u001b[31m---------------------------------------------------------------------------\u001b[39m",
      "\u001b[31mIndexError\u001b[39m                                Traceback (most recent call last)",
      "\u001b[36mCell\u001b[39m\u001b[36m \u001b[39m\u001b[32mIn[10]\u001b[39m\u001b[32m, line 1\u001b[39m\n\u001b[32m----> \u001b[39m\u001b[32m1\u001b[39m \u001b[43mx\u001b[49m\u001b[43m[\u001b[49m\u001b[32;43m3\u001b[39;49m\u001b[43m]\u001b[49m\n",
      "\u001b[31mIndexError\u001b[39m: list index out of range"
     ]
    }
   ],
   "source": [
    "x[3]"
   ]
  },
  {
   "cell_type": "code",
   "execution_count": 11,
   "id": "52d02c47-60b6-4180-974f-2efe263e8cd1",
   "metadata": {},
   "outputs": [
    {
     "data": {
      "text/plain": [
       "2000.25"
      ]
     },
     "execution_count": 11,
     "metadata": {},
     "output_type": "execute_result"
    }
   ],
   "source": [
    "# Negative index value\n",
    "\n",
    "x[-1]"
   ]
  },
  {
   "cell_type": "code",
   "execution_count": 12,
   "id": "de8561e2-7900-48bc-9892-c3fd474aa8a1",
   "metadata": {},
   "outputs": [
    {
     "data": {
      "text/plain": [
       "25"
      ]
     },
     "execution_count": 12,
     "metadata": {},
     "output_type": "execute_result"
    }
   ],
   "source": [
    "x[-2]"
   ]
  },
  {
   "cell_type": "code",
   "execution_count": 13,
   "id": "d55d3a0c-f8bf-496a-a3bc-53b30b6eaefb",
   "metadata": {},
   "outputs": [
    {
     "data": {
      "text/plain": [
       "'Python'"
      ]
     },
     "execution_count": 13,
     "metadata": {},
     "output_type": "execute_result"
    }
   ],
   "source": [
    "x[-3]"
   ]
  },
  {
   "cell_type": "code",
   "execution_count": 14,
   "id": "04ace791-abae-4518-bdb4-5e397a215ffc",
   "metadata": {},
   "outputs": [
    {
     "ename": "IndexError",
     "evalue": "list index out of range",
     "output_type": "error",
     "traceback": [
      "\u001b[31m---------------------------------------------------------------------------\u001b[39m",
      "\u001b[31mIndexError\u001b[39m                                Traceback (most recent call last)",
      "\u001b[36mCell\u001b[39m\u001b[36m \u001b[39m\u001b[32mIn[14]\u001b[39m\u001b[32m, line 1\u001b[39m\n\u001b[32m----> \u001b[39m\u001b[32m1\u001b[39m \u001b[43mx\u001b[49m\u001b[43m[\u001b[49m\u001b[43m-\u001b[49m\u001b[32;43m4\u001b[39;49m\u001b[43m]\u001b[49m\n",
      "\u001b[31mIndexError\u001b[39m: list index out of range"
     ]
    }
   ],
   "source": [
    "x[-4]"
   ]
  },
  {
   "cell_type": "code",
   "execution_count": 15,
   "id": "7087827b-1f49-46b0-9394-00267e65b86c",
   "metadata": {},
   "outputs": [
    {
     "data": {
      "text/plain": [
       "['Python',\n",
       " 100,\n",
       " 45.55,\n",
       " True,\n",
       " False,\n",
       " ['Hello world', 55],\n",
       " ('Python', 'NOIDa', 'True'),\n",
       " {1, 2, 5, 45, 52},\n",
       " {'a': True, 'b': False}]"
      ]
     },
     "execution_count": 15,
     "metadata": {},
     "output_type": "execute_result"
    }
   ],
   "source": [
    "# lists \n",
    "\n",
    "nlis = ['Python',100,45.55,True,False,['Hello world',55],('Python','NOIDa',\"True\"),{1,1,1,2,52,45,5,5},{'a':True,'b':False}]\n",
    "nlis"
   ]
  },
  {
   "cell_type": "code",
   "execution_count": 16,
   "id": "186cdd41-e8ce-45d9-b9a0-a9b73ee5f7ad",
   "metadata": {},
   "outputs": [
    {
     "name": "stdout",
     "output_type": "stream",
     "text": [
      "['Python', 100, 45.55, True, False, ['Hello world', 55], ('Python', 'NOIDa', 'True'), {1, 2, 52, 5, 45}, {'a': True, 'b': False}]\n"
     ]
    }
   ],
   "source": [
    "print(nlis)"
   ]
  },
  {
   "cell_type": "markdown",
   "id": "ef1c7c24-96d2-45a2-9959-55380d5ef1b8",
   "metadata": {},
   "source": [
    "# slicing of value\n",
    "\n"
   ]
  },
  {
   "cell_type": "code",
   "execution_count": 23,
   "id": "49b942bc-2c7f-4c11-a63f-33625eadb1c2",
   "metadata": {},
   "outputs": [
    {
     "data": {
      "text/plain": [
       "[[['Utkarsh'], 'Neeraj'],\n",
       " 10,\n",
       " 50,\n",
       " 88,\n",
       " [40,\n",
       "  [50, [60, ['Dheeraj']]],\n",
       "  ['Dipti'],\n",
       "  [[['Amita']], [[[10, ['Aditya']]]]],\n",
       "  ['Manisha', [[10, [20, ['Anup']]]]]]]"
      ]
     },
     "execution_count": 23,
     "metadata": {},
     "output_type": "execute_result"
    }
   ],
   "source": [
    "x = [[['Utkarsh'],'Neeraj'],10,50,88,[40,[50,[60,['Dheeraj']]],['Dipti'],[[['Amita']],[[[10,['Aditya',]]]]],['Manisha',[[10,[20,['Anup']]]]]]]\n",
    "x"
   ]
  },
  {
   "cell_type": "code",
   "execution_count": 20,
   "id": "6b1daac6-446c-4ef4-acc1-7279ec37bc4f",
   "metadata": {},
   "outputs": [
    {
     "name": "stdout",
     "output_type": "stream",
     "text": [
      "[True, False]\n"
     ]
    }
   ],
   "source": [
    "print (nlis[3:5])"
   ]
  },
  {
   "cell_type": "code",
   "execution_count": 24,
   "id": "eea78ee8-9b95-48dc-8dc2-ae367a169e62",
   "metadata": {},
   "outputs": [
    {
     "data": {
      "text/plain": [
       "[[['Utkarsh'], 'Neeraj']]"
      ]
     },
     "execution_count": 24,
     "metadata": {},
     "output_type": "execute_result"
    }
   ],
   "source": [
    "x[0:1]"
   ]
  },
  {
   "cell_type": "code",
   "execution_count": null,
   "id": "f46949b9-a4fe-4fca-8867-028256203ebb",
   "metadata": {},
   "outputs": [],
   "source": [
    "x[:0]"
   ]
  },
  {
   "cell_type": "code",
   "execution_count": 27,
   "id": "d1028a1b-9497-4b6b-9173-fac847a4898b",
   "metadata": {},
   "outputs": [
    {
     "name": "stdout",
     "output_type": "stream",
     "text": [
      "[88, [40, [50, [60, ['Dheeraj']]], ['Dipti'], [[['Amita']], [[[10, ['Aditya']]]]], ['Manisha', [[10, [20, ['Anup']]]]]]]\n"
     ]
    }
   ],
   "source": [
    "print(x[3:5])"
   ]
  },
  {
   "cell_type": "code",
   "execution_count": 28,
   "id": "3879c3b0-8c44-4f8a-b2eb-94f28790c389",
   "metadata": {},
   "outputs": [
    {
     "data": {
      "text/plain": [
       "[True, False]"
      ]
     },
     "execution_count": 28,
     "metadata": {},
     "output_type": "execute_result"
    }
   ],
   "source": [
    "nlis[3:5]"
   ]
  },
  {
   "cell_type": "code",
   "execution_count": 2,
   "id": "e7ea096b-01f2-4a5d-a6ab-dafe67184a5d",
   "metadata": {},
   "outputs": [
    {
     "data": {
      "text/plain": [
       "[[['Utkarsh'], 'Neeraj'],\n",
       " 10,\n",
       " 50,\n",
       " 88,\n",
       " [40,\n",
       "  [50, [60, ['Dheeraj']]],\n",
       "  ['Dipti'],\n",
       "  [[['Amita']], [[[10, ['Aditya']]]]],\n",
       "  ['Manisha', [[10, [20, ['Anup']]]]]]]"
      ]
     },
     "execution_count": 2,
     "metadata": {},
     "output_type": "execute_result"
    }
   ],
   "source": [
    "x = [[['Utkarsh'],'Neeraj'],10,50,88,[40,[50,[60,['Dheeraj']]],['Dipti'],[[['Amita']],[[[10,['Aditya',]]]]],['Manisha',[[10,[20,['Anup']]]]]]]\n",
    "x"
   ]
  },
  {
   "cell_type": "code",
   "execution_count": 34,
   "id": "1d9d9cf7-c7e1-4023-97ee-573a7866d1c3",
   "metadata": {},
   "outputs": [
    {
     "data": {
      "text/plain": [
       "'Utkarsh'"
      ]
     },
     "execution_count": 34,
     "metadata": {},
     "output_type": "execute_result"
    }
   ],
   "source": [
    "x[0][0][0]"
   ]
  },
  {
   "cell_type": "code",
   "execution_count": 5,
   "id": "b64e51ac-4f76-49a6-b5bd-f4affaa8f9cc",
   "metadata": {},
   "outputs": [
    {
     "data": {
      "text/plain": [
       "'raj'"
      ]
     },
     "execution_count": 5,
     "metadata": {},
     "output_type": "execute_result"
    }
   ],
   "source": [
    "x[0][1][3:6]"
   ]
  },
  {
   "cell_type": "code",
   "execution_count": 6,
   "id": "78d001f9-ffcf-45bf-a1b8-a0b6c834123d",
   "metadata": {},
   "outputs": [
    {
     "data": {
      "text/plain": [
       "[40,\n",
       " [50, [60, ['Dheeraj']]],\n",
       " ['Dipti'],\n",
       " [[['Amita']], [[[10, ['Aditya']]]]],\n",
       " ['Manisha', [[10, [20, ['Anup']]]]]]"
      ]
     },
     "execution_count": 6,
     "metadata": {},
     "output_type": "execute_result"
    }
   ],
   "source": [
    "x[4]"
   ]
  },
  {
   "cell_type": "code",
   "execution_count": 11,
   "id": "2e3864d9-0509-447d-a163-d162cdd88ff2",
   "metadata": {},
   "outputs": [
    {
     "data": {
      "text/plain": [
       "'Dhee'"
      ]
     },
     "execution_count": 11,
     "metadata": {},
     "output_type": "execute_result"
    }
   ],
   "source": [
    "x[4][1][1][1][0][:4]"
   ]
  },
  {
   "cell_type": "code",
   "execution_count": 13,
   "id": "c543e9fa-57fa-4e15-b6d8-c739c32cbd94",
   "metadata": {},
   "outputs": [
    {
     "data": {
      "text/plain": [
       "[40,\n",
       " [50, [60, ['Dheeraj']]],\n",
       " ['Dipti'],\n",
       " [[['Amita']], [[[10, ['Aditya']]]]],\n",
       " ['Manisha', [[10, [20, ['Anup']]]]]]"
      ]
     },
     "execution_count": 13,
     "metadata": {},
     "output_type": "execute_result"
    }
   ],
   "source": [
    "x[4]"
   ]
  },
  {
   "cell_type": "code",
   "execution_count": 15,
   "id": "cac8ffeb-58a1-4fa8-a59b-9b3522a51a1c",
   "metadata": {},
   "outputs": [
    {
     "data": {
      "text/plain": [
       "'Dipti'"
      ]
     },
     "execution_count": 15,
     "metadata": {},
     "output_type": "execute_result"
    }
   ],
   "source": [
    "x[4][2][0]"
   ]
  },
  {
   "cell_type": "code",
   "execution_count": 20,
   "id": "e9f9937e-ff30-48e0-bbab-eefe29b77c0c",
   "metadata": {},
   "outputs": [
    {
     "data": {
      "text/plain": [
       "'Amita'"
      ]
     },
     "execution_count": 20,
     "metadata": {},
     "output_type": "execute_result"
    }
   ],
   "source": [
    "x[4][3][0][0][0]"
   ]
  },
  {
   "cell_type": "code",
   "execution_count": 23,
   "id": "081c63d4-a79e-47c8-8173-68952ab5a23f",
   "metadata": {},
   "outputs": [
    {
     "data": {
      "text/plain": [
       "'Manisha'"
      ]
     },
     "execution_count": 23,
     "metadata": {},
     "output_type": "execute_result"
    }
   ],
   "source": [
    "x[4][4][0]"
   ]
  },
  {
   "cell_type": "code",
   "execution_count": 33,
   "id": "fc6a28bf-70a6-4ed9-b112-46e55f5d452c",
   "metadata": {},
   "outputs": [
    {
     "data": {
      "text/plain": [
       "'Anup'"
      ]
     },
     "execution_count": 33,
     "metadata": {},
     "output_type": "execute_result"
    }
   ],
   "source": [
    "x[4][4][1][0][1][1][0]"
   ]
  },
  {
   "cell_type": "code",
   "execution_count": 34,
   "id": "20527e5c-412b-4b7a-a317-f85a069947f9",
   "metadata": {},
   "outputs": [
    {
     "data": {
      "text/plain": [
       "5"
      ]
     },
     "execution_count": 34,
     "metadata": {},
     "output_type": "execute_result"
    }
   ],
   "source": [
    "# length of the lsit\n",
    "\n",
    "len(x)"
   ]
  },
  {
   "cell_type": "markdown",
   "id": "393c5de9-51ff-49bf-8969-4bd40facb9fb",
   "metadata": {},
   "source": [
    "# Method of the list"
   ]
  },
  {
   "cell_type": "code",
   "execution_count": 35,
   "id": "16dba02a-4a7b-4c45-8b6a-f8bc9c3d55b1",
   "metadata": {},
   "outputs": [
    {
     "name": "stdout",
     "output_type": "stream",
     "text": [
      "['Python', 3.147, 200, True, False, [1, 2, 3, 4, 5, 6], (10, 20, 30, 40, 50), {10, 20, 50, 30}]\n"
     ]
    }
   ],
   "source": [
    "# CRUD - [Create, Read, update and Delete] --> Mutable data type\n",
    "\n",
    "list1 = ['Python',3.147,200, True, False,[1,2,3,4,5,6],(10,20,30,40,50),{10,20,30,10,50}]\n",
    "print(list1)"
   ]
  },
  {
   "cell_type": "code",
   "execution_count": 36,
   "id": "0376d022-9f92-4518-bbcf-00c40e713001",
   "metadata": {},
   "outputs": [],
   "source": [
    "# Adding elements in the list\n",
    "# append() Method\n",
    "# extend() method\n",
    "# insert() method\n"
   ]
  },
  {
   "cell_type": "code",
   "execution_count": 37,
   "id": "7f865111-3101-468e-aae0-0aaca6016b1a",
   "metadata": {},
   "outputs": [
    {
     "data": {
      "text/plain": [
       "['Python',\n",
       " 3.147,\n",
       " 200,\n",
       " True,\n",
       " False,\n",
       " [1, 2, 3, 4, 5, 6],\n",
       " (10, 20, 30, 40, 50),\n",
       " {10, 20, 30, 50}]"
      ]
     },
     "execution_count": 37,
     "metadata": {},
     "output_type": "execute_result"
    }
   ],
   "source": [
    "# append(): it takes one value at a time.\n",
    "\n",
    "list1"
   ]
  },
  {
   "cell_type": "code",
   "execution_count": 38,
   "id": "ef4ce3ab-195d-4eb6-94a0-e3beb75106e6",
   "metadata": {},
   "outputs": [],
   "source": [
    "list1.append('Neeraj')"
   ]
  },
  {
   "cell_type": "code",
   "execution_count": 39,
   "id": "a2a5de58-84f8-4d55-ad3f-97d917c5cf5a",
   "metadata": {},
   "outputs": [
    {
     "data": {
      "text/plain": [
       "['Python',\n",
       " 3.147,\n",
       " 200,\n",
       " True,\n",
       " False,\n",
       " [1, 2, 3, 4, 5, 6],\n",
       " (10, 20, 30, 40, 50),\n",
       " {10, 20, 30, 50},\n",
       " 'Neeraj']"
      ]
     },
     "execution_count": 39,
     "metadata": {},
     "output_type": "execute_result"
    }
   ],
   "source": [
    "list1"
   ]
  },
  {
   "cell_type": "code",
   "execution_count": 40,
   "id": "24e1bffe-a683-4fd2-8380-c7eed3b27441",
   "metadata": {},
   "outputs": [
    {
     "ename": "TypeError",
     "evalue": "list.append() takes exactly one argument (2 given)",
     "output_type": "error",
     "traceback": [
      "\u001b[31m---------------------------------------------------------------------------\u001b[39m",
      "\u001b[31mTypeError\u001b[39m                                 Traceback (most recent call last)",
      "\u001b[36mCell\u001b[39m\u001b[36m \u001b[39m\u001b[32mIn[40]\u001b[39m\u001b[32m, line 1\u001b[39m\n\u001b[32m----> \u001b[39m\u001b[32m1\u001b[39m \u001b[43mlist1\u001b[49m\u001b[43m.\u001b[49m\u001b[43mappend\u001b[49m\u001b[43m(\u001b[49m\u001b[33;43m'\u001b[39;49m\u001b[33;43mHello world\u001b[39;49m\u001b[33;43m'\u001b[39;49m\u001b[43m,\u001b[49m\u001b[33;43m\"\u001b[39;49m\u001b[33;43mDhiraj\u001b[39;49m\u001b[33;43m\"\u001b[39;49m\u001b[43m)\u001b[49m\n",
      "\u001b[31mTypeError\u001b[39m: list.append() takes exactly one argument (2 given)"
     ]
    }
   ],
   "source": [
    "list1.append('Hello world',\"Dhiraj\")"
   ]
  },
  {
   "cell_type": "code",
   "execution_count": 41,
   "id": "db6d0055-1ca4-4332-a84d-930d1e50c97c",
   "metadata": {},
   "outputs": [
    {
     "data": {
      "text/plain": [
       "['Python',\n",
       " 3.147,\n",
       " 200,\n",
       " True,\n",
       " False,\n",
       " [1, 2, 3, 4, 5, 6],\n",
       " (10, 20, 30, 40, 50),\n",
       " {10, 20, 30, 50},\n",
       " 'Neeraj']"
      ]
     },
     "execution_count": 41,
     "metadata": {},
     "output_type": "execute_result"
    }
   ],
   "source": [
    "# Extend() the list\n",
    "    # >> We use the extend() function to add a new element to the list.\n",
    "    # >> With this funciton, we add more than one elements to the list.\n",
    "\n",
    "\n",
    "list1"
   ]
  },
  {
   "cell_type": "code",
   "execution_count": 42,
   "id": "64714830-e84a-4c8b-a167-19199c518bb4",
   "metadata": {},
   "outputs": [
    {
     "data": {
      "text/plain": [
       "['Python',\n",
       " 3.147,\n",
       " 200,\n",
       " True,\n",
       " False,\n",
       " [1, 2, 3, 4, 5, 6],\n",
       " (10, 20, 30, 40, 50),\n",
       " {10, 20, 30, 50},\n",
       " 'Neeraj',\n",
       " 'Apple',\n",
       " 'banana']"
      ]
     },
     "execution_count": 42,
     "metadata": {},
     "output_type": "execute_result"
    }
   ],
   "source": [
    "list1.extend(['Apple',\"banana\"])\n",
    "list1"
   ]
  },
  {
   "cell_type": "code",
   "execution_count": 43,
   "id": "d7180763-19ff-4f1c-9bd8-a99173c10415",
   "metadata": {},
   "outputs": [
    {
     "data": {
      "text/plain": [
       "['Python',\n",
       " 3.147,\n",
       " 200,\n",
       " True,\n",
       " False,\n",
       " [1, 2, 3, 4, 5, 6],\n",
       " (10, 20, 30, 40, 50),\n",
       " {10, 20, 30, 50},\n",
       " 'Neeraj',\n",
       " 'Apple',\n",
       " 'banana',\n",
       " ['Apple', 'banana']]"
      ]
     },
     "execution_count": 43,
     "metadata": {},
     "output_type": "execute_result"
    }
   ],
   "source": [
    "list1.append(['Apple',\"banana\"])\n",
    "list1"
   ]
  },
  {
   "cell_type": "code",
   "execution_count": 44,
   "id": "d44e1e64-e89f-462f-82d7-55bbb5e52511",
   "metadata": {},
   "outputs": [
    {
     "data": {
      "text/plain": [
       "['Python',\n",
       " 3.147,\n",
       " 200,\n",
       " True,\n",
       " False,\n",
       " [1, 2, 3, 4, 5, 6],\n",
       " (10, 20, 30, 40, 50),\n",
       " {10, 20, 30, 50},\n",
       " 'Neeraj',\n",
       " 'Apple',\n",
       " 'banana',\n",
       " ['Apple', 'banana']]"
      ]
     },
     "execution_count": 44,
     "metadata": {},
     "output_type": "execute_result"
    }
   ],
   "source": [
    "# insert(): It takes exactly two parameters at one time.: First parameter is the position of element and second parameter is the value.\n",
    "\n",
    "list1"
   ]
  },
  {
   "cell_type": "code",
   "execution_count": 45,
   "id": "0cbb08fe-b580-4332-840f-ea2d9415fb0d",
   "metadata": {},
   "outputs": [
    {
     "data": {
      "text/plain": [
       "['Aditya',\n",
       " 'Python',\n",
       " 3.147,\n",
       " 200,\n",
       " True,\n",
       " False,\n",
       " [1, 2, 3, 4, 5, 6],\n",
       " (10, 20, 30, 40, 50),\n",
       " {10, 20, 30, 50},\n",
       " 'Neeraj',\n",
       " 'Apple',\n",
       " 'banana',\n",
       " ['Apple', 'banana']]"
      ]
     },
     "execution_count": 45,
     "metadata": {},
     "output_type": "execute_result"
    }
   ],
   "source": [
    "list1.insert(0,\"Aditya\")\n",
    "list1"
   ]
  },
  {
   "cell_type": "code",
   "execution_count": 46,
   "id": "9cc64677-a309-460a-b829-ee2091b805e4",
   "metadata": {},
   "outputs": [
    {
     "data": {
      "text/plain": [
       "['Aditya',\n",
       " 'Python',\n",
       " 3.147,\n",
       " 200,\n",
       " True,\n",
       " False,\n",
       " [1, 2, 3, 4, 5, 6],\n",
       " (10, 20, 30, 40, 50),\n",
       " {10, 20, 30, 50},\n",
       " 'Neeraj',\n",
       " 'Apple',\n",
       " 'banana',\n",
       " ['Apple', 'banana']]"
      ]
     },
     "execution_count": 46,
     "metadata": {},
     "output_type": "execute_result"
    }
   ],
   "source": [
    "# update the value in the list.\n",
    "\n",
    "list1"
   ]
  },
  {
   "cell_type": "code",
   "execution_count": 48,
   "id": "884691b4-b327-479a-9413-3354c41ff89a",
   "metadata": {},
   "outputs": [
    {
     "data": {
      "text/plain": [
       "['Aditya Patil',\n",
       " 'Python',\n",
       " 3.147,\n",
       " 200,\n",
       " True,\n",
       " False,\n",
       " [1, 2, 3, 4, 5, 6],\n",
       " (10, 20, 30, 40, 50),\n",
       " {10, 20, 30, 50},\n",
       " 'Neeraj',\n",
       " 'Apple',\n",
       " 'banana',\n",
       " ['Apple', 'banana']]"
      ]
     },
     "execution_count": 48,
     "metadata": {},
     "output_type": "execute_result"
    }
   ],
   "source": [
    "list1[0]= \"Aditya Patil\"\n",
    "list1"
   ]
  },
  {
   "cell_type": "code",
   "execution_count": 50,
   "id": "bbb62ea9-3491-4b5f-8cab-c1be3984c393",
   "metadata": {},
   "outputs": [
    {
     "data": {
      "text/plain": [
       "['Aditya Patil',\n",
       " 'Python',\n",
       " 3.147,\n",
       " 200,\n",
       " True,\n",
       " False,\n",
       " [1, 2, 3, 4, 5, 6],\n",
       " (10, 20, 30, 40, 50),\n",
       " {10, 20, 30, 50},\n",
       " 'Neeraj',\n",
       " 'Apple',\n",
       " 'Grapes',\n",
       " ['Apple', 'banana']]"
      ]
     },
     "execution_count": 50,
     "metadata": {},
     "output_type": "execute_result"
    }
   ],
   "source": [
    "list1[11] =\"Grapes\"\n",
    "list1"
   ]
  },
  {
   "cell_type": "code",
   "execution_count": 51,
   "id": "728a3748-8f6a-497a-9d06-2a292df58ba2",
   "metadata": {},
   "outputs": [],
   "source": [
    "list1[12]=\"Neeraj\""
   ]
  },
  {
   "cell_type": "code",
   "execution_count": 52,
   "id": "8ef32c5e-4948-49fe-9479-d0945528c87e",
   "metadata": {},
   "outputs": [
    {
     "data": {
      "text/plain": [
       "['Aditya Patil',\n",
       " 'Python',\n",
       " 3.147,\n",
       " 200,\n",
       " True,\n",
       " False,\n",
       " [1, 2, 3, 4, 5, 6],\n",
       " (10, 20, 30, 40, 50),\n",
       " {10, 20, 30, 50},\n",
       " 'Neeraj',\n",
       " 'Apple',\n",
       " 'Grapes',\n",
       " 'Neeraj']"
      ]
     },
     "execution_count": 52,
     "metadata": {},
     "output_type": "execute_result"
    }
   ],
   "source": [
    "list1"
   ]
  },
  {
   "cell_type": "code",
   "execution_count": 53,
   "id": "2e679840-3238-4eb8-a3c4-74a23d1af6a5",
   "metadata": {},
   "outputs": [
    {
     "data": {
      "text/plain": [
       "['Aditya Patil',\n",
       " 'Python',\n",
       " 3.147,\n",
       " 200,\n",
       " True,\n",
       " False,\n",
       " [1, 2, 3, 4, 5, 6],\n",
       " (10, 20, 30, 40, 50),\n",
       " {10, 20, 30, 50},\n",
       " 'Neeraj',\n",
       " 'Apple',\n",
       " 'Grapes',\n",
       " ['Apple', 'banana']]"
      ]
     },
     "execution_count": 53,
     "metadata": {},
     "output_type": "execute_result"
    }
   ],
   "source": [
    "x= ['Aditya Patil',\n",
    " 'Python',\n",
    " 3.147,\n",
    " 200,\n",
    " True,\n",
    " False,\n",
    " [1, 2, 3, 4, 5, 6],\n",
    " (10, 20, 30, 40, 50),\n",
    " {10, 20, 30, 50},\n",
    " 'Neeraj',\n",
    " 'Apple',\n",
    " 'Grapes',\n",
    " ['Apple', 'banana']]\n",
    "x"
   ]
  },
  {
   "cell_type": "code",
   "execution_count": 54,
   "id": "a97b59f1-611a-4cd6-8db3-1f8ca7b5b377",
   "metadata": {},
   "outputs": [
    {
     "data": {
      "text/plain": [
       "['Aditya Patil',\n",
       " 'Python',\n",
       " 3.147,\n",
       " 200,\n",
       " True,\n",
       " False,\n",
       " [1, 2, 3, 4, 5, 6],\n",
       " (10, 20, 30, 40, 50),\n",
       " {10, 20, 30, 50},\n",
       " 'Neeraj',\n",
       " 'Apple',\n",
       " 'Grapes',\n",
       " ['Apple', 'banana']]"
      ]
     },
     "execution_count": 54,
     "metadata": {},
     "output_type": "execute_result"
    }
   ],
   "source": [
    "x"
   ]
  },
  {
   "cell_type": "code",
   "execution_count": 58,
   "id": "9da21102-9e6b-4662-95b4-e66f5b9e0774",
   "metadata": {},
   "outputs": [
    {
     "ename": "TypeError",
     "evalue": "'tuple' object does not support item assignment",
     "output_type": "error",
     "traceback": [
      "\u001b[31m---------------------------------------------------------------------------\u001b[39m",
      "\u001b[31mTypeError\u001b[39m                                 Traceback (most recent call last)",
      "\u001b[36mCell\u001b[39m\u001b[36m \u001b[39m\u001b[32mIn[58]\u001b[39m\u001b[32m, line 1\u001b[39m\n\u001b[32m----> \u001b[39m\u001b[32m1\u001b[39m \u001b[43mx\u001b[49m\u001b[43m[\u001b[49m\u001b[32;43m7\u001b[39;49m\u001b[43m]\u001b[49m\u001b[43m[\u001b[49m\u001b[32;43m4\u001b[39;49m\u001b[43m]\u001b[49m = \u001b[32m60\u001b[39m\n\u001b[32m      2\u001b[39m x\n",
      "\u001b[31mTypeError\u001b[39m: 'tuple' object does not support item assignment"
     ]
    }
   ],
   "source": [
    "x[7][4] = 60\n",
    "x"
   ]
  },
  {
   "cell_type": "code",
   "execution_count": 61,
   "id": "181be1b6-7f18-4dd2-9f38-abe2a11ff36e",
   "metadata": {},
   "outputs": [
    {
     "data": {
      "text/plain": [
       "['Aditya Patil',\n",
       " 'Python',\n",
       " 3.147,\n",
       " 200,\n",
       " True,\n",
       " False,\n",
       " [1, 2, 3, 4, 5, 6],\n",
       " (10, 20, 30, 40, 50),\n",
       " {10, 20, 30, 50},\n",
       " 'Neeraj',\n",
       " 'Apple',\n",
       " 'Grapes',\n",
       " ['Apple', 'PineApple']]"
      ]
     },
     "execution_count": 61,
     "metadata": {},
     "output_type": "execute_result"
    }
   ],
   "source": [
    "x[12][1] = \"PineApple\"\n",
    "x"
   ]
  },
  {
   "cell_type": "code",
   "execution_count": 62,
   "id": "913f8e6c-3856-4104-bf60-38784e6e7667",
   "metadata": {},
   "outputs": [
    {
     "data": {
      "text/plain": [
       "['Aditya Patil',\n",
       " 'Python',\n",
       " 3.147,\n",
       " 200,\n",
       " True,\n",
       " False,\n",
       " [1, 2, 3, 4, 5, 6],\n",
       " (10, 20, 30, 40, 50),\n",
       " {10, 20, 30, 50},\n",
       " 'Neeraj',\n",
       " 'Apple',\n",
       " 'Grapes',\n",
       " ['Apple', 'PineApple']]"
      ]
     },
     "execution_count": 62,
     "metadata": {},
     "output_type": "execute_result"
    }
   ],
   "source": [
    "# Deleting an element in the list\n",
    "\n",
    "x"
   ]
  },
  {
   "cell_type": "code",
   "execution_count": 63,
   "id": "a5a619cb-1cbe-4e7b-b458-ef13fc4efbd3",
   "metadata": {},
   "outputs": [],
   "source": [
    "del(x[10])"
   ]
  },
  {
   "cell_type": "code",
   "execution_count": 64,
   "id": "0c622113-3bc4-49bf-842b-287354034d48",
   "metadata": {},
   "outputs": [
    {
     "data": {
      "text/plain": [
       "['Aditya Patil',\n",
       " 'Python',\n",
       " 3.147,\n",
       " 200,\n",
       " True,\n",
       " False,\n",
       " [1, 2, 3, 4, 5, 6],\n",
       " (10, 20, 30, 40, 50),\n",
       " {10, 20, 30, 50},\n",
       " 'Neeraj',\n",
       " 'Grapes',\n",
       " ['Apple', 'PineApple']]"
      ]
     },
     "execution_count": 64,
     "metadata": {},
     "output_type": "execute_result"
    }
   ],
   "source": [
    "x"
   ]
  },
  {
   "cell_type": "code",
   "execution_count": 65,
   "id": "f5d5c0f6-ec0c-406e-9b9c-9f9574927d58",
   "metadata": {},
   "outputs": [
    {
     "data": {
      "text/plain": [
       "['Aditya Patil',\n",
       " 'Python',\n",
       " 3.147,\n",
       " 200,\n",
       " True,\n",
       " False,\n",
       " [1, 2, 3, 4, 5, 6],\n",
       " (10, 20, 30, 40, 50),\n",
       " {10, 20, 30, 50},\n",
       " 'Neeraj',\n",
       " 'Grapes',\n",
       " ['Apple', 'PineApple']]"
      ]
     },
     "execution_count": 65,
     "metadata": {},
     "output_type": "execute_result"
    }
   ],
   "source": [
    "# pop()\n",
    "\n",
    "x"
   ]
  },
  {
   "cell_type": "code",
   "execution_count": 66,
   "id": "437c279b-cbc0-4ddf-9f7c-004733596259",
   "metadata": {},
   "outputs": [
    {
     "data": {
      "text/plain": [
       "['Apple', 'PineApple']"
      ]
     },
     "execution_count": 66,
     "metadata": {},
     "output_type": "execute_result"
    }
   ],
   "source": [
    "x.pop()"
   ]
  },
  {
   "cell_type": "code",
   "execution_count": 67,
   "id": "b621f145-0d1c-4d72-92d6-84bf697efdc3",
   "metadata": {},
   "outputs": [
    {
     "data": {
      "text/plain": [
       "['Aditya Patil',\n",
       " 'Python',\n",
       " 3.147,\n",
       " 200,\n",
       " True,\n",
       " False,\n",
       " [1, 2, 3, 4, 5, 6],\n",
       " (10, 20, 30, 40, 50),\n",
       " {10, 20, 30, 50},\n",
       " 'Neeraj',\n",
       " 'Grapes']"
      ]
     },
     "execution_count": 67,
     "metadata": {},
     "output_type": "execute_result"
    }
   ],
   "source": [
    "x"
   ]
  },
  {
   "cell_type": "code",
   "execution_count": 68,
   "id": "c3077a5d-af59-4832-af86-185d152011f4",
   "metadata": {},
   "outputs": [],
   "source": [
    "del(x[6])"
   ]
  },
  {
   "cell_type": "code",
   "execution_count": 69,
   "id": "0184a446-47c9-406d-b979-11c5505a4841",
   "metadata": {},
   "outputs": [
    {
     "data": {
      "text/plain": [
       "['Aditya Patil',\n",
       " 'Python',\n",
       " 3.147,\n",
       " 200,\n",
       " True,\n",
       " False,\n",
       " (10, 20, 30, 40, 50),\n",
       " {10, 20, 30, 50},\n",
       " 'Neeraj',\n",
       " 'Grapes']"
      ]
     },
     "execution_count": 69,
     "metadata": {},
     "output_type": "execute_result"
    }
   ],
   "source": [
    "x"
   ]
  },
  {
   "cell_type": "code",
   "execution_count": 70,
   "id": "259e27fb-a3f4-4d7f-9e92-8b69a5257884",
   "metadata": {},
   "outputs": [
    {
     "name": "stdout",
     "output_type": "stream",
     "text": [
      "Python is a programming language. <class 'str'>\n"
     ]
    }
   ],
   "source": [
    "# split() fucntion\n",
    "\n",
    "x =\"Python is a programming language.\"\n",
    "print(x,type(x))"
   ]
  },
  {
   "cell_type": "code",
   "execution_count": 71,
   "id": "5124098f-202f-472c-8361-84b1fe8243cc",
   "metadata": {},
   "outputs": [
    {
     "name": "stdout",
     "output_type": "stream",
     "text": [
      "['Python', 'is', 'a', 'programming', 'language.']\n"
     ]
    }
   ],
   "source": [
    "y = x.split()\n",
    "print(y)"
   ]
  },
  {
   "cell_type": "code",
   "execution_count": 73,
   "id": "ecb3acae-d488-4832-ba5d-263b7d30aebc",
   "metadata": {},
   "outputs": [
    {
     "name": "stdout",
     "output_type": "stream",
     "text": [
      "['p', 'y', 't', 'h', 'o', 'n']\n"
     ]
    }
   ],
   "source": [
    "x1 = \"p,y,t,h,o,n\"\n",
    "\n",
    "y1 = x1.split(\",\")\n",
    "print(y1)"
   ]
  },
  {
   "cell_type": "code",
   "execution_count": 74,
   "id": "0e9866df-639b-4fc0-b4ae-04f4b9317205",
   "metadata": {},
   "outputs": [
    {
     "name": "stdout",
     "output_type": "stream",
     "text": [
      "['Python', 3.147, 2.718, True, False]\n"
     ]
    }
   ],
   "source": [
    "# copy() the list\n",
    "\n",
    "\n",
    "x1 = ['Python',3.147,2.718,True,False]\n",
    "print(x1)"
   ]
  },
  {
   "cell_type": "code",
   "execution_count": 75,
   "id": "08cd5fee-1e27-46ed-9a0b-e028cc287767",
   "metadata": {},
   "outputs": [
    {
     "data": {
      "text/plain": [
       "2070297532736"
      ]
     },
     "execution_count": 75,
     "metadata": {},
     "output_type": "execute_result"
    }
   ],
   "source": [
    "id(x1)"
   ]
  },
  {
   "cell_type": "code",
   "execution_count": 76,
   "id": "4ac67103-59ea-468b-b9a9-b8698fcbcf2a",
   "metadata": {},
   "outputs": [
    {
     "name": "stdout",
     "output_type": "stream",
     "text": [
      "['Python', 3.147, 2.718, True, False]\n"
     ]
    }
   ],
   "source": [
    "# Deep() copy | sallow copy()\n",
    "\n",
    "y1 = x1\n",
    "print(y1)"
   ]
  },
  {
   "cell_type": "code",
   "execution_count": 77,
   "id": "b1a6f90d-ff33-475f-ad45-360e83c3c59c",
   "metadata": {},
   "outputs": [
    {
     "name": "stdout",
     "output_type": "stream",
     "text": [
      "['Python', 3.147, 2.718, True, False]\n",
      "['Python', 3.147, 2.718, True, False]\n"
     ]
    }
   ],
   "source": [
    "print(x1)\n",
    "print(y1)"
   ]
  },
  {
   "cell_type": "code",
   "execution_count": 78,
   "id": "b7370dc7-c2b4-405d-b31c-ce36ed1f8510",
   "metadata": {},
   "outputs": [
    {
     "name": "stdout",
     "output_type": "stream",
     "text": [
      "['Python', 3.147, 2.718, True, False, 'Dipti']\n"
     ]
    }
   ],
   "source": [
    "x1.append('Dipti')\n",
    "print(x1)"
   ]
  },
  {
   "cell_type": "code",
   "execution_count": 79,
   "id": "f907a75c-a190-4476-9a9e-36d6d6e38b23",
   "metadata": {},
   "outputs": [
    {
     "name": "stdout",
     "output_type": "stream",
     "text": [
      "['Python', 3.147, 2.718, True, False, 'Dipti']\n"
     ]
    }
   ],
   "source": [
    "print(y1)"
   ]
  },
  {
   "cell_type": "code",
   "execution_count": 80,
   "id": "5e824a83-e61d-4db4-8cda-40e7669c0abd",
   "metadata": {},
   "outputs": [
    {
     "data": {
      "text/plain": [
       "2070297532736"
      ]
     },
     "execution_count": 80,
     "metadata": {},
     "output_type": "execute_result"
    }
   ],
   "source": [
    "id(x1)"
   ]
  },
  {
   "cell_type": "code",
   "execution_count": 81,
   "id": "bf715a94-9dba-4010-b2cc-ae79a0063f8d",
   "metadata": {},
   "outputs": [
    {
     "data": {
      "text/plain": [
       "2070297532736"
      ]
     },
     "execution_count": 81,
     "metadata": {},
     "output_type": "execute_result"
    }
   ],
   "source": [
    "id(y1)"
   ]
  },
  {
   "cell_type": "code",
   "execution_count": 82,
   "id": "4581c277-ba00-4689-a95c-dfc86e31a8b4",
   "metadata": {},
   "outputs": [
    {
     "name": "stdout",
     "output_type": "stream",
     "text": [
      "['python', True, False]\n",
      "['python', True, False]\n"
     ]
    }
   ],
   "source": [
    "# sallow copy\n",
    "\n",
    "x1 = ['python',True,False]\n",
    "\n",
    "y1 = x1.copy()\n",
    "\n",
    "print(x1)\n",
    "print(y1)"
   ]
  },
  {
   "cell_type": "code",
   "execution_count": 83,
   "id": "281761b3-ee96-496b-be8a-e88ebff23c6c",
   "metadata": {},
   "outputs": [
    {
     "data": {
      "text/plain": [
       "2070297534400"
      ]
     },
     "execution_count": 83,
     "metadata": {},
     "output_type": "execute_result"
    }
   ],
   "source": [
    "id(x1)"
   ]
  },
  {
   "cell_type": "code",
   "execution_count": 84,
   "id": "bf302091-1139-4b06-bbc7-997178cad946",
   "metadata": {},
   "outputs": [
    {
     "data": {
      "text/plain": [
       "2070297272704"
      ]
     },
     "execution_count": 84,
     "metadata": {},
     "output_type": "execute_result"
    }
   ],
   "source": [
    "id(y1)"
   ]
  },
  {
   "cell_type": "code",
   "execution_count": 85,
   "id": "0e299cdd-ac74-4193-a8fc-f5457c6433bf",
   "metadata": {},
   "outputs": [
    {
     "name": "stdout",
     "output_type": "stream",
     "text": [
      "['python', True, False, 'Dheeraj']\n"
     ]
    }
   ],
   "source": [
    "x1.append('Dheeraj')\n",
    "print(x1)"
   ]
  },
  {
   "cell_type": "code",
   "execution_count": 86,
   "id": "03ea140b-5cc2-4fa2-abc0-90eb6314207d",
   "metadata": {},
   "outputs": [
    {
     "name": "stdout",
     "output_type": "stream",
     "text": [
      "['python', True, False]\n"
     ]
    }
   ],
   "source": [
    "print(y1)"
   ]
  },
  {
   "cell_type": "code",
   "execution_count": 87,
   "id": "f800d314-a8e6-4b09-b216-57740a216cca",
   "metadata": {},
   "outputs": [
    {
     "name": "stdout",
     "output_type": "stream",
     "text": [
      "['python', True, False, 1, 2, 3, 4, 5, 6, 7, 8, (10, 12), ['a', 'b']]\n"
     ]
    }
   ],
   "source": [
    "# concatenation the list.\n",
    "\n",
    "a_list = ['python',True,False]\n",
    "b_list = [1,2,3,4,5,6,7,8,(10,12),['a','b']]\n",
    "\n",
    "c = a_list+b_list\n",
    "print(c)"
   ]
  },
  {
   "cell_type": "code",
   "execution_count": 88,
   "id": "45a6e325-46bb-4b35-9746-ac453515c668",
   "metadata": {},
   "outputs": [],
   "source": [
    "# input() function\n",
    "#     >> input() funciton in python provides a user of a program to supply inputs to the running program."
   ]
  },
  {
   "cell_type": "code",
   "execution_count": 90,
   "id": "d9d8f1ae-0b21-4f5a-864d-921f46d62bca",
   "metadata": {},
   "outputs": [
    {
     "name": "stdin",
     "output_type": "stream",
     "text": [
      " 10\n"
     ]
    },
    {
     "name": "stdout",
     "output_type": "stream",
     "text": [
      "10 <class 'str'>\n"
     ]
    }
   ],
   "source": [
    "txt = input()\n",
    "\n",
    "print(txt,type(txt))"
   ]
  },
  {
   "cell_type": "code",
   "execution_count": 96,
   "id": "16284f14-b6c5-44d9-9181-d72f61f0ec75",
   "metadata": {},
   "outputs": [
    {
     "name": "stdin",
     "output_type": "stream",
     "text": [
      "Enter any value:  1000\n"
     ]
    },
    {
     "name": "stdout",
     "output_type": "stream",
     "text": [
      "1000 <class 'int'>\n"
     ]
    }
   ],
   "source": [
    "txt1 = int(input(\"Enter any value: \"))\n",
    "print(txt1,type(txt1))"
   ]
  },
  {
   "cell_type": "code",
   "execution_count": 98,
   "id": "cbb8abf7-8b71-408b-befa-63baa2ddf688",
   "metadata": {},
   "outputs": [
    {
     "name": "stdin",
     "output_type": "stream",
     "text": [
      "Enter any value:  10\n"
     ]
    },
    {
     "name": "stdout",
     "output_type": "stream",
     "text": [
      "10.0 <class 'float'>\n"
     ]
    }
   ],
   "source": [
    "txt2 = float(input(\"Enter any value: \"))\n",
    "print(txt2,type(txt2))"
   ]
  },
  {
   "cell_type": "code",
   "execution_count": 99,
   "id": "19597010-18ed-472d-9175-907f19f7fe18",
   "metadata": {},
   "outputs": [
    {
     "name": "stdin",
     "output_type": "stream",
     "text": [
      "Enter any value:  True\n"
     ]
    },
    {
     "ename": "ValueError",
     "evalue": "could not convert string to float: 'True'",
     "output_type": "error",
     "traceback": [
      "\u001b[31m---------------------------------------------------------------------------\u001b[39m",
      "\u001b[31mValueError\u001b[39m                                Traceback (most recent call last)",
      "\u001b[36mCell\u001b[39m\u001b[36m \u001b[39m\u001b[32mIn[99]\u001b[39m\u001b[32m, line 1\u001b[39m\n\u001b[32m----> \u001b[39m\u001b[32m1\u001b[39m bool1 = \u001b[38;5;28;43mfloat\u001b[39;49m\u001b[43m(\u001b[49m\u001b[38;5;28;43minput\u001b[39;49m\u001b[43m(\u001b[49m\u001b[33;43m\"\u001b[39;49m\u001b[33;43mEnter any value: \u001b[39;49m\u001b[33;43m\"\u001b[39;49m\u001b[43m)\u001b[49m\u001b[43m)\u001b[49m\n\u001b[32m      2\u001b[39m \u001b[38;5;28mprint\u001b[39m(bool1,\u001b[38;5;28mtype\u001b[39m(bool1))\n",
      "\u001b[31mValueError\u001b[39m: could not convert string to float: 'True'"
     ]
    }
   ],
   "source": [
    "bool1 = float(input(\"Enter any value: \"))\n",
    "print(bool1,type(bool1))"
   ]
  },
  {
   "cell_type": "code",
   "execution_count": 100,
   "id": "e38e23c9-cccf-42b9-b6ce-3616d307e509",
   "metadata": {},
   "outputs": [
    {
     "data": {
      "text/plain": [
       "1.0"
      ]
     },
     "execution_count": 100,
     "metadata": {},
     "output_type": "execute_result"
    }
   ],
   "source": [
    "float(True)"
   ]
  },
  {
   "cell_type": "code",
   "execution_count": 101,
   "id": "e7fe5ed8-29e8-4fd0-b546-53834d153aaf",
   "metadata": {},
   "outputs": [
    {
     "data": {
      "text/plain": [
       "0"
      ]
     },
     "execution_count": 101,
     "metadata": {},
     "output_type": "execute_result"
    }
   ],
   "source": [
    "int(False)"
   ]
  },
  {
   "cell_type": "code",
   "execution_count": 110,
   "id": "302c1e3c-421a-47c4-b440-5f07d161a5da",
   "metadata": {},
   "outputs": [
    {
     "name": "stdout",
     "output_type": "stream",
     "text": [
      "20 <class 'str'>\n",
      "20 <class 'int'>\n"
     ]
    }
   ],
   "source": [
    "# eval\n",
    "\n",
    "x = \"20\"\n",
    "print(x,type(x))\n",
    "\n",
    "\n",
    "y = eval(x)\n",
    "print(y,type(y))"
   ]
  },
  {
   "cell_type": "code",
   "execution_count": 113,
   "id": "c29e1418-1565-4903-ae30-a60d788ef7ca",
   "metadata": {},
   "outputs": [
    {
     "name": "stdout",
     "output_type": "stream",
     "text": [
      "True\n",
      "False\n",
      "True\n"
     ]
    }
   ],
   "source": [
    "# Relation operator: [<,>,<=,>=,==,!=]\n",
    "# boolean\n",
    "\n",
    "x = 3.147\n",
    "y = 1.618\n",
    "\n",
    "print(x>y)\n",
    "print(y>=x)\n",
    "print(y!=x)"
   ]
  },
  {
   "cell_type": "code",
   "execution_count": 116,
   "id": "3d501fea-a27b-4cc2-9c77-e8dafa6bae9e",
   "metadata": {},
   "outputs": [
    {
     "name": "stdout",
     "output_type": "stream",
     "text": [
      "True\n"
     ]
    }
   ],
   "source": [
    "# identity operator\n",
    "\n",
    "x = 10\n",
    "y = 20\n",
    "z = 10\n",
    "\n",
    "print(x!=y)"
   ]
  },
  {
   "cell_type": "code",
   "execution_count": 115,
   "id": "b8c65fc3-f3bc-4cec-85e6-6fc7b5fc59a9",
   "metadata": {},
   "outputs": [
    {
     "name": "stdout",
     "output_type": "stream",
     "text": [
      "True\n"
     ]
    }
   ],
   "source": [
    "print(x<y)"
   ]
  },
  {
   "cell_type": "code",
   "execution_count": 117,
   "id": "fcfbf223-43de-4aae-b632-328551ca7440",
   "metadata": {},
   "outputs": [
    {
     "name": "stdout",
     "output_type": "stream",
     "text": [
      "True\n"
     ]
    }
   ],
   "source": [
    "print(x == z)"
   ]
  },
  {
   "cell_type": "code",
   "execution_count": 118,
   "id": "f924af6c-ea3c-4263-a76c-10263dd0e167",
   "metadata": {},
   "outputs": [
    {
     "name": "stdout",
     "output_type": "stream",
     "text": [
      "False\n"
     ]
    }
   ],
   "source": [
    "# membership operator\n",
    "\n",
    "x = ['python',True, False]\n",
    "\n",
    "print('Hello' in x)"
   ]
  },
  {
   "cell_type": "code",
   "execution_count": 119,
   "id": "f31d2ee6-4e8d-41ac-8fea-152d59232e1d",
   "metadata": {},
   "outputs": [
    {
     "name": "stdout",
     "output_type": "stream",
     "text": [
      "True\n"
     ]
    }
   ],
   "source": [
    "print('Python' not in x)"
   ]
  },
  {
   "cell_type": "code",
   "execution_count": 120,
   "id": "f6e5fe03-9d22-46fb-b895-3d18ff5573ba",
   "metadata": {},
   "outputs": [
    {
     "name": "stdout",
     "output_type": "stream",
     "text": [
      "False\n"
     ]
    }
   ],
   "source": [
    "print('True' in x)"
   ]
  },
  {
   "cell_type": "code",
   "execution_count": 121,
   "id": "5e854777-f529-4496-b61c-4156b2efd0f3",
   "metadata": {},
   "outputs": [
    {
     "name": "stdout",
     "output_type": "stream",
     "text": [
      "True\n"
     ]
    }
   ],
   "source": [
    "print(True in x)"
   ]
  },
  {
   "cell_type": "code",
   "execution_count": null,
   "id": "e420e82a-2c12-429d-980c-7636ac9b8878",
   "metadata": {},
   "outputs": [],
   "source": []
  }
 ],
 "metadata": {
  "kernelspec": {
   "display_name": "Python 3 (ipykernel)",
   "language": "python",
   "name": "python3"
  },
  "language_info": {
   "codemirror_mode": {
    "name": "ipython",
    "version": 3
   },
   "file_extension": ".py",
   "mimetype": "text/x-python",
   "name": "python",
   "nbconvert_exporter": "python",
   "pygments_lexer": "ipython3",
   "version": "3.13.7"
  }
 },
 "nbformat": 4,
 "nbformat_minor": 5
}
