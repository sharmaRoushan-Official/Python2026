{
 "cells": [
  {
   "cell_type": "markdown",
   "id": "4aaa80ab-c710-4b30-ab32-f6c08689b963",
   "metadata": {},
   "source": [
    "# 7. Branching (if,elif,else) \n",
    "***\n",
    " * __Decision making is required when we want to execute a code only if a certain condition is satisfied.__\n",
    " * __The if/elif/else statement is used in Python for dicision making.__\n",
    " * __An else statement can be combined with an if statment.__\n",
    " * __An else statement contains the blcok of code that executes if the conditional expression in the if statement resolves to 0 or False value.__\n",
    " * __The else statement is optional statement and their could be at most only one else statement following if.__\n",
    " * __The elif statement allows you to check multiple expressions for True and execute a blcok of code as soon as one of the condtion evaluates to True.__\n",
    " * __Similar to the else, elif statement is optional.__\n",
    " * __However, unlike else, for which there can be most one statement, there can be many number of elif statement following an if.__"
   ]
  },
  {
   "cell_type": "code",
   "execution_count": 1,
   "id": "34d72131-de36-4fb8-b591-44c1bc588022",
   "metadata": {},
   "outputs": [
    {
     "name": "stdout",
     "output_type": "stream",
     "text": [
      "True\n"
     ]
    }
   ],
   "source": [
    "# Relationship Opertor: 6\n",
    "\n",
    "num = 1.618\n",
    "\n",
    "print(num<2)   # "
   ]
  },
  {
   "cell_type": "code",
   "execution_count": 2,
   "id": "0e0b5d10-055e-4184-a015-ffa8757fb9fa",
   "metadata": {},
   "outputs": [
    {
     "name": "stdout",
     "output_type": "stream",
     "text": [
      "True\n"
     ]
    }
   ],
   "source": [
    "print(num<=2)"
   ]
  },
  {
   "cell_type": "code",
   "execution_count": 3,
   "id": "912b2a3d-607c-4548-b837-4a2b188d0862",
   "metadata": {},
   "outputs": [
    {
     "name": "stdout",
     "output_type": "stream",
     "text": [
      "True\n"
     ]
    }
   ],
   "source": [
    "print(10>num)"
   ]
  },
  {
   "cell_type": "code",
   "execution_count": 5,
   "id": "6ee41040-e08c-4894-9d8e-55ce39f49f48",
   "metadata": {},
   "outputs": [
    {
     "name": "stdout",
     "output_type": "stream",
     "text": [
      "True\n"
     ]
    }
   ],
   "source": [
    "print(1.618<=num)"
   ]
  },
  {
   "cell_type": "code",
   "execution_count": 15,
   "id": "42a9d831-b4a7-4459-bc26-f412b3c5b0b8",
   "metadata": {},
   "outputs": [
    {
     "name": "stdout",
     "output_type": "stream",
     "text": [
      "You are a Baby\n"
     ]
    }
   ],
   "source": [
    "age = 5\n",
    "# print(age,type(age))\n",
    "\n",
    "\n",
    "if age>6:\n",
    "    print(\"You Can go to Primary School\")\n",
    "else:\n",
    "    print(\"You are a Baby\")"
   ]
  },
  {
   "cell_type": "code",
   "execution_count": 9,
   "id": "16080df6-b76c-4bcc-9b40-ef947396377e",
   "metadata": {},
   "outputs": [
    {
     "data": {
      "text/plain": [
       "False"
      ]
     },
     "execution_count": 9,
     "metadata": {},
     "output_type": "execute_result"
    }
   ],
   "source": [
    "age>6"
   ]
  },
  {
   "cell_type": "code",
   "execution_count": 17,
   "id": "9b1a6235-dd83-45e0-9b8a-77798635ae76",
   "metadata": {},
   "outputs": [
    {
     "name": "stdout",
     "output_type": "stream",
     "text": [
      "You can go to kindergarten.\n"
     ]
    }
   ],
   "source": [
    "age = 5\n",
    "# print(age,type(age))\n",
    "\n",
    "\n",
    "if age>6:\n",
    "    print(\"You Can go to Primary School\")\n",
    "\n",
    "elif age == 5:\n",
    "    print(\"You can go to kindergarten.\")\n",
    "    \n",
    "else:\n",
    "    print(\"You are a Baby\")\n"
   ]
  },
  {
   "cell_type": "code",
   "execution_count": 18,
   "id": "3e7947e6-a4ec-4c1b-97d4-7f65141b7e87",
   "metadata": {},
   "outputs": [
    {
     "name": "stdin",
     "output_type": "stream",
     "text": [
      "Enter your age here:  15\n"
     ]
    }
   ],
   "source": [
    "# write a program to check user caste a vote or not.\n",
    "# \n",
    "\n",
    "age = int(input(\"Enter your age here: \"))"
   ]
  },
  {
   "cell_type": "code",
   "execution_count": 19,
   "id": "22effead-533b-490a-8825-c1cd869caaca",
   "metadata": {},
   "outputs": [
    {
     "name": "stdout",
     "output_type": "stream",
     "text": [
      "you are eligible for voting\n"
     ]
    }
   ],
   "source": [
    "age=18\n",
    "if age>=18:\n",
    "    print(\"you are eligible for voting\")\n",
    "else:\n",
    "    print(\"you are not eligible\")"
   ]
  },
  {
   "cell_type": "code",
   "execution_count": 21,
   "id": "faf1589d-44f2-460b-8f40-a9f80f9356ae",
   "metadata": {},
   "outputs": [
    {
     "name": "stdin",
     "output_type": "stream",
     "text": [
      "Enter your age :  18\n"
     ]
    },
    {
     "name": "stdout",
     "output_type": "stream",
     "text": [
      "You are able to vote\n"
     ]
    }
   ],
   "source": [
    "age = int(input(\"Enter your age : \" ))\n",
    "if age >=18:\n",
    "    print('You are able to vote')\n",
    "    \n",
    "else:\n",
    "    print('you are not eligible for voting')"
   ]
  },
  {
   "cell_type": "code",
   "execution_count": 28,
   "id": "eb8dfe39-e26f-48f8-baeb-99a3f96db7e6",
   "metadata": {},
   "outputs": [
    {
     "name": "stdin",
     "output_type": "stream",
     "text": [
      "Enter any number 0-6:  8\n"
     ]
    },
    {
     "name": "stdout",
     "output_type": "stream",
     "text": [
      "Invalid value/No Weekday Found\n"
     ]
    }
   ],
   "source": [
    "# write a program to display weeks name- 0-Sunday, 1-Monday, 2-Tuesday, 3-Wednesday, 4-Thursday, \n",
    "# 5-Friday, 6-Saturday. 7- Invalid weekday value.\n",
    "\n",
    "\n",
    "week = int(input(\"Enter any number 0-6: \"))\n",
    "\n",
    "if week == 0:\n",
    "    print(\"Weekday is Sunday\")\n",
    "\n",
    "elif week  == 1:\n",
    "    print(\"Weekday is Monday\")\n",
    "\n",
    "elif week  == 2:\n",
    "    print(\"Weekday is Tuesday\")\n",
    "elif week  == 3:\n",
    "    print(\"Weekday is Wednesday\")\n",
    "\n",
    "elif week  == 4:\n",
    "    print(\"Weekday is Thursday\")\n",
    "elif week == 5:\n",
    "    print(\"Weekday is Friday\")\n",
    "\n",
    "elif week == 6:\n",
    "    print(\"Weekday is Saturday\")\n",
    "\n",
    "else:\n",
    "    print(\"Invalid value/No Weekday Found\")"
   ]
  },
  {
   "cell_type": "code",
   "execution_count": 23,
   "id": "c23ac1d4-0fe0-4eaa-ad8e-bd338eb0f2ab",
   "metadata": {},
   "outputs": [
    {
     "data": {
      "text/plain": [
       "True"
      ]
     },
     "execution_count": 23,
     "metadata": {},
     "output_type": "execute_result"
    }
   ],
   "source": [
    "week == 0"
   ]
  },
  {
   "cell_type": "code",
   "execution_count": 35,
   "id": "ae3f19fd-ad9a-4820-92f0-70c80e130a3d",
   "metadata": {},
   "outputs": [
    {
     "name": "stdin",
     "output_type": "stream",
     "text": [
      "Enter any number :  3\n"
     ]
    },
    {
     "name": "stdout",
     "output_type": "stream",
     "text": [
      "3 is odd Number\n"
     ]
    }
   ],
   "source": [
    "# write a program to check user input value is even or odd.\n",
    "\n",
    "\n",
    "num = int(input(\"Enter any number : \"))\n",
    "if num%2 == 0:\n",
    "    print(f\"{num} Number is even\")   # f-string \n",
    "else:\n",
    "    print(f\"{num} is odd Number\")"
   ]
  },
  {
   "cell_type": "code",
   "execution_count": 36,
   "id": "bce69b5c-c811-4e17-b066-41e9d8b7e2b3",
   "metadata": {},
   "outputs": [
    {
     "name": "stdin",
     "output_type": "stream",
     "text": [
      "enter number :  45\n"
     ]
    },
    {
     "name": "stdout",
     "output_type": "stream",
     "text": [
      "odd\n"
     ]
    }
   ],
   "source": [
    "number = int(input(\"enter number : \"))\n",
    "if number%2 ==0:\n",
    "    print(\"even\")\n",
    "else :\n",
    "    print(\"odd\")"
   ]
  },
  {
   "cell_type": "code",
   "execution_count": 37,
   "id": "dd9c3cc0-2e4b-4543-9dd9-6e150d126f33",
   "metadata": {},
   "outputs": [
    {
     "ename": "SyntaxError",
     "evalue": "invalid syntax (1442292811.py, line 1)",
     "output_type": "error",
     "traceback": [
      "  \u001b[36mCell\u001b[39m\u001b[36m \u001b[39m\u001b[32mIn[37]\u001b[39m\u001b[32m, line 1\u001b[39m\n\u001b[31m    \u001b[39m\u001b[31mand\u001b[39m\n    ^\n\u001b[31mSyntaxError\u001b[39m\u001b[31m:\u001b[39m invalid syntax\n"
     ]
    }
   ],
   "source": [
    "and \n",
    "or\n",
    "not"
   ]
  },
  {
   "cell_type": "code",
   "execution_count": 52,
   "id": "fc8cb665-6e1b-4985-b1f8-4cefd37c1176",
   "metadata": {},
   "outputs": [
    {
     "name": "stdin",
     "output_type": "stream",
     "text": [
      "Enter any value:  7984896458744\n"
     ]
    },
    {
     "name": "stdout",
     "output_type": "stream",
     "text": [
      "7984896458744 is divisible by only 2 not 3\n"
     ]
    }
   ],
   "source": [
    "# ||\n",
    "\n",
    "\n",
    "# write a program to check user value is divisible 2, 3 \n",
    "\n",
    "userNum = int(input(\"Enter any value: \"))\n",
    "\n",
    "\n",
    "if userNum%2 == 0 and userNum%3 == 0:\n",
    "    print(f\"{userNum} is divisible by both 2 and 3\")\n",
    "\n",
    "elif userNum%2 == 0 and userNum%3!=0:  # 4\n",
    "    print(f\"{userNum} is divisible by only 2 not 3\")\n",
    "    \n",
    "\n",
    "elif userNum%2!=0 and userNum%3==0:\n",
    "    print(f\"{userNum} is divisible by only 3 not 2\")\n",
    "\n",
    "elif userNum%2!=0 and userNum%3!=0:\n",
    "    print(f\"{userNum} is not divisible by both 2 and 3\")"
   ]
  },
  {
   "cell_type": "code",
   "execution_count": 44,
   "id": "c1daaf0d-a31f-45c9-9bd9-ddc928f3c06e",
   "metadata": {},
   "outputs": [
    {
     "data": {
      "text/plain": [
       "True"
      ]
     },
     "execution_count": 44,
     "metadata": {},
     "output_type": "execute_result"
    }
   ],
   "source": [
    "userNum%2 == 0 and userNum%3!=0"
   ]
  },
  {
   "cell_type": "code",
   "execution_count": 24,
   "id": "c745841c-cbb8-4ab0-9e62-48767bcc7f9d",
   "metadata": {},
   "outputs": [
    {
     "name": "stdout",
     "output_type": "stream",
     "text": [
      "City is:\n",
      "'Delhi','Agra','Jaipur','Amritsar','Madurai','Mysore','Mumbai','Sanchi','Hydrabad','Gujarat'\n"
     ]
    },
    {
     "name": "stdin",
     "output_type": "stream",
     "text": [
      "Choose any city from above:  Pune\n"
     ]
    },
    {
     "name": "stdout",
     "output_type": "stream",
     "text": [
      "Invalid city \n",
      "Choose city from the List\n"
     ]
    }
   ],
   "source": [
    "# 1. Accepts any city and display their Monuments.\n",
    "\n",
    "#cityName-------------------> Monument\n",
    "\n",
    "# \"Delhi\"--------------------> ['Redfort','QutubMinar','LotusTemple']\n",
    "# Agra-----------------------> \"TajMahal\"\n",
    "# Jaipur---------------------> \"HawaMahal/JalMahal\"\n",
    "# Amritsar-------------------> \"GoldenTemple,Jalliawalabagh\"\n",
    "# Madurai--------------------> \"Meenakshi Temple\"\n",
    "# Mysore---------------------> \"Mysore palace\"\n",
    "# Mumbai --------------------> \"Gateway of India\"\n",
    "# Sanchi---------------------> \"Sanchi Stupa\"\n",
    "# Hydrabad-------------------> \"Charminar\"\n",
    "# Gujarat -------------------> \"Statue of Unity\"\n",
    "\n",
    "print(\"City is:\\n'Delhi','Agra','Jaipur','Amritsar','Madurai','Mysore','Mumbai','Sanchi','Hydrabad','Gujarat'\")\n",
    "city1 = input(\"Choose any city from above: \")\n",
    "city = city1.title()\n",
    "\n",
    "if city.isalpha():\n",
    "    if city == \"Delhi\":\n",
    "        print(\"Monument is: Redfort,Qutubminar,LotusTemple\")\n",
    "    elif city == \"Agra\":\n",
    "        print(\"Monument is: TajMahal\")\n",
    "    elif city == \"Jaipur\":\n",
    "        print('Monument is: 1.HawaMahal 2.JalMahal')\n",
    "    elif city == \"Amritsar\":\n",
    "        print(\"Monument is: Golden Temple\")\n",
    "    elif city == \"Madurai\":\n",
    "        print(\"MOnument is:Meenakshi Temple\")\n",
    "    elif city == \"Mysore\":\n",
    "        print(\"Monument is:Mysore Palace\")\n",
    "    elif city == 'Mumbai':\n",
    "        print('Monuement is:Gateway of India')\n",
    "    elif city == \"Sanchi\":\n",
    "        print(\"Monument is:Sanchi Stupa\")\n",
    "    elif city == \"Hydrabad\":\n",
    "        print('Monument is: CharMinar')\n",
    "    elif city == \"Gujarat\":\n",
    "        print(\"Monument is:Satue of Unity\")\n",
    "    else:\n",
    "        print(\"Invalid city \\nChoose city from the List\")\n",
    "else:\n",
    "    print(\"Invalid city Name\")"
   ]
  },
  {
   "cell_type": "code",
   "execution_count": 35,
   "id": "3f78ede8-d183-4025-a00a-a066d7296619",
   "metadata": {},
   "outputs": [
    {
     "name": "stdin",
     "output_type": "stream",
     "text": [
      "Enter shopping Amount:  2001\n"
     ]
    },
    {
     "name": "stdout",
     "output_type": "stream",
     "text": [
      "---------------------------------------------\n",
      "Total Shopping Amount ₹:2001\n",
      "Total Discount ₹:20%\n",
      "Discount Amount ₹:400.2\n",
      "Total Amount to Pay:1600.8\n"
     ]
    }
   ],
   "source": [
    "# A shop wil give you discount of 20%, if the cost of purchased is more than 2000, and if \n",
    "# purchased amount will be 1000 more than then it will discount 10%, And if purchased amout \n",
    "# is less than 1000- \"No discount\" as well print how much need more shopping \n",
    "# amount will to get minimum discount.\n",
    "\n",
    "\n",
    "amount = int(input(\"Enter shopping Amount: \"))\n",
    "print(\"---------------------------------------------\")\n",
    "\n",
    "if amount>=2000:\n",
    "    dis = \"20%\"\n",
    "    discountAmount = (amount*20)/100\n",
    "    # print(discountAmount)\n",
    "    totalAmount = amount-discountAmount\n",
    "    print(f\"Total Shopping Amount ₹:{amount}\\nTotal Discount ₹:{dis}\\nDiscount Amount ₹:{discountAmount}\\nTotal Amount to Pay:{totalAmount}\")\n",
    "elif amount>=1000 and amount<2000:\n",
    "    dis = \"10%\"\n",
    "    discountAmount = (amount*10)/100\n",
    "    # print(discountAmount)\n",
    "    totalAmount = amount-discountAmount\n",
    "    print(f\"Total Shopping Amount ₹:{amount}\\nTotal Discount ₹:{dis}\\nDiscount Amount ₹:{discountAmount}\\nTotal Amount to Pay:{totalAmount}\")\n",
    "elif amount<1000:\n",
    "    dis = \"No Discount\"\n",
    "    discountAmount = (amount*0)/100\n",
    "    # print(discountAmount)\n",
    "    totalAmount = amount-discountAmount\n",
    "    needAmount = 1000 - amount\n",
    "    print(f\"Total Shopping Amount ₹:{amount}\\nTotal Discount ₹:{dis}\\nDiscount Amount ₹:{discountAmount}\\nTotal Amount to Pay:{totalAmount}\")\n",
    "    print(f\"If you wanto to get 10% Discount then You need to shopping more amount ₹:{needAmount}\")"
   ]
  },
  {
   "cell_type": "code",
   "execution_count": 34,
   "id": "4b5bc6fd-8a66-4b45-b7ec-e3d9aa23354f",
   "metadata": {},
   "outputs": [
    {
     "name": "stdin",
     "output_type": "stream",
     "text": [
      "enter amount_spent:  2001\n"
     ]
    },
    {
     "name": "stdout",
     "output_type": "stream",
     "text": [
      "2001 is the amount spent, 20% discount applied, and 1600.8 is the cost after discount.\n"
     ]
    }
   ],
   "source": [
    "amount_spent = int(input(\"enter amount_spent: \"))\n",
    "\n",
    "if amount_spent > 2000 :\n",
    "    discount_percent = 20\n",
    "elif amount_spent > 1000:\n",
    "    discount_percent = 10\n",
    "else:\n",
    "    discount_percent = 0\n",
    "    \n",
    "if discount_percent > 0:\n",
    "    discount = (discount_percent * amount_spent) / 100\n",
    "    cost_after_discount = amount_spent - discount\n",
    "    print(f\"{amount_spent} is the amount spent, {discount_percent}% discount applied, and {cost_after_discount} is the cost after discount.\")\n",
    "else:\n",
    "    print(f\"{amount_spent} is the amount spent, discount valid on amount spent more than ₹1000.\")\n"
   ]
  },
  {
   "cell_type": "code",
   "execution_count": 41,
   "id": "4619d54e-21fa-467a-a58a-97a90a8fc7b2",
   "metadata": {},
   "outputs": [
    {
     "name": "stdin",
     "output_type": "stream",
     "text": [
      "Enter current salary :  amita\n"
     ]
    },
    {
     "name": "stdout",
     "output_type": "stream",
     "text": [
      "Enter only a Numeric Value\n"
     ]
    }
   ],
   "source": [
    "# A compay will decided to give bonus to the employee according to the following criteria:\n",
    "# Time period of the service -------------------> Bonus\n",
    "# More then 10 Years ---------------------------> 10%\n",
    "# >=6 and <=10 ---------------------------------> 8%\n",
    "# <6 -------------------------------------------> 5%\n",
    "# Ask the user for their salary and yers of service and then calcualte the bonus amount is, \n",
    "# and display the total salary after increment of bonus.\n",
    "\n",
    "\n",
    "\n",
    "\n",
    "try:\n",
    "    current_salary = int(input(\"Enter current salary : \"))\n",
    "    years_of_service = int(input(\"Enter years of service : \"))\n",
    "    if years_of_service > 10 :\n",
    "        bonus_percent = 10\n",
    "    elif years_of_service >=6 and years_of_service <=10 :\n",
    "        bonus_percent = 8\n",
    "    elif years_of_service < 6 :\n",
    "        bonus_percent = 5\n",
    "except ValueError:\n",
    "    print(\"Enter only a Numeric Value\")\n",
    "else:\n",
    "    bonus = (current_salary * bonus_percent) /100\n",
    "    salary_after_bonus = current_salary + bonus \n",
    "     \n",
    "    print(f\"years_of_service : {years_of_service} \\ncurrent_salary : {current_salary}\\nbonus : {bonus}\\nsalary_after_bonus : {salary_after_bonus} \")"
   ]
  },
  {
   "cell_type": "code",
   "execution_count": 53,
   "id": "ea33d63c-fbc9-4d74-ae6e-025c478c04c8",
   "metadata": {},
   "outputs": [
    {
     "name": "stdin",
     "output_type": "stream",
     "text": [
      "Enter current salary :  100\n",
      "Enter years of service :  12\n"
     ]
    },
    {
     "name": "stdout",
     "output_type": "stream",
     "text": [
      "years_of_service : 12 \n",
      "current_salary : 100\n",
      "bonus : 10.0\n",
      "salary_after_bonus : 110.0 \n"
     ]
    }
   ],
   "source": [
    "current_salary1 = input(\"Enter current salary : \")\n",
    "\n",
    "if current_salary1.isnumeric():\n",
    "    years_of_service1 = input(\"Enter years of service : \")\n",
    "    if years_of_service1.isnumeric():\n",
    "        current_salary = eval(current_salary1)\n",
    "        if current_salary>0:\n",
    "            years_of_service = eval(years_of_service1)\n",
    "            if years_of_service > 10 :\n",
    "                bonus_percent = 10\n",
    "            elif years_of_service >=6 and years_of_service <=10 :\n",
    "                bonus_percent = 8\n",
    "            elif years_of_service < 6 :\n",
    "                bonus_percent = 5\n",
    "            bonus = (current_salary * bonus_percent) /100\n",
    "            salary_after_bonus = current_salary + bonus \n",
    "            print(f\"years_of_service : {years_of_service} \\ncurrent_salary : {current_salary}\\nbonus : {bonus}\\nsalary_after_bonus : {salary_after_bonus} \")\n",
    "        else:\n",
    "            print(\"Salary can't be in Zero or Negative\")\n",
    "    else:\n",
    "        print(\"Year of services is in numeric value\")\n",
    "else:\n",
    "    print(\"Current Salary is in Numeric Value\")"
   ]
  },
  {
   "cell_type": "code",
   "execution_count": 49,
   "id": "e1b09600-f57f-401c-a799-a1e03b08cdb9",
   "metadata": {},
   "outputs": [
    {
     "name": "stdin",
     "output_type": "stream",
     "text": [
      "Enter salary =  1200\n",
      "Enter years of service you done =  11\n"
     ]
    },
    {
     "name": "stdout",
     "output_type": "stream",
     "text": [
      "Bonus: 120.0 Total Salary= 1320.0\n"
     ]
    }
   ],
   "source": [
    "x = float(input(\"Enter salary = \"))\n",
    "y = int(input(\"Enter years of service you done = \"))\n",
    "if y > 10:\n",
    "    bonus = x * 10/100\n",
    "elif y>= 6:\n",
    "    bonus = x * 8/100\n",
    "else:\n",
    "    bonus = x* 5/100\n",
    "print(\"Bonus:\", bonus, \"Total Salary=\", x + bonus)"
   ]
  },
  {
   "cell_type": "code",
   "execution_count": 50,
   "id": "1e8e5125-c27f-4a43-aa68-83d2fabda51a",
   "metadata": {},
   "outputs": [
    {
     "name": "stdin",
     "output_type": "stream",
     "text": [
      "Enter year of services = : 1200\n",
      "Enter the salary amount : -11\n"
     ]
    },
    {
     "name": "stdout",
     "output_type": "stream",
     "text": [
      "Total salary after increment :  -12.1\n"
     ]
    }
   ],
   "source": [
    "year_of_services = float(input(\"Enter year of services = :\" ))\n",
    "salary = float(input(\"Enter the salary amount :\" ))\n",
    "\n",
    "if year_of_services > 10:\n",
    "    Bonus_amount = salary * (10/100)\n",
    "elif year_of_services >= 6 and year_of_services <= 10:\n",
    "    Bonus_amount = salary * (8/100) \n",
    "elif year_of_services < 6:\n",
    "    Bonus_amount = salary * (5/100)\n",
    "    \n",
    "total_salary = salary + Bonus_amount    \n",
    "\n",
    "print(\"Total salary after increment : \", total_salary)"
   ]
  },
  {
   "cell_type": "code",
   "execution_count": 55,
   "id": "64b0df20-c99f-4369-80ee-a967f327df3c",
   "metadata": {},
   "outputs": [
    {
     "data": {
      "text/plain": [
       "True"
      ]
     },
     "execution_count": 55,
     "metadata": {},
     "output_type": "execute_result"
    }
   ],
   "source": [
    "x = \"10\"\n",
    "\n",
    "x.isnumeric()"
   ]
  },
  {
   "cell_type": "code",
   "execution_count": 56,
   "id": "808a696c-1c7f-4a8e-838e-0d141de6651a",
   "metadata": {},
   "outputs": [
    {
     "name": "stdin",
     "output_type": "stream",
     "text": [
      "Enter year of services = : 12\n",
      "Enter the salary amount : -20\n"
     ]
    },
    {
     "name": "stdout",
     "output_type": "stream",
     "text": [
      "Total salary after increment :  -22.0\n"
     ]
    }
   ],
   "source": [
    "year_of_services = float(input(\"Enter year of services = :\" ))\n",
    "salary = float(input(\"Enter the salary amount :\" ))\n",
    "\n",
    "if year_of_services > 10:\n",
    "    Bonus_amount = salary * (10/100)\n",
    "elif year_of_services >= 6 and year_of_services <= 10:\n",
    "    Bonus_amount = salary * (8/100) \n",
    "elif year_of_services < 6:\n",
    "    Bonus_amount = salary * (5/100)\n",
    "    \n",
    "total_salary = salary + Bonus_amount    \n",
    "\n",
    "print(\"Total salary after increment : \", total_salary)"
   ]
  },
  {
   "cell_type": "code",
   "execution_count": null,
   "id": "fcda5ccd-0910-43df-8030-773cd71fca0f",
   "metadata": {},
   "outputs": [],
   "source": [
    "# 4. Write a program to accept the cost price of a bike and display the road tax to be paid \n",
    "# according to the following criteria:\n",
    "# Cost price of bike (in RS) ------------ Tax:\n",
    "# >100000 -------------------------------> 15%\n",
    "# >50000 and <=100000---------------------> 10%\n",
    "# <50000 --------------------------------> 8%\n",
    "\n",
    "cp_bike = float(input(\"Enter cost price of bike : \"))\n",
    "\n",
    "if cp_bike > 100000 :\n",
    "    tax_percent = 15\n",
    "elif cp_bike >50000 and cp_bike <=100000 :\n",
    "    tax_percent = 10\n",
    "elif cp_bike < 50000 :\n",
    "    tax_percent = 8\n",
    "    \n",
    "tax = (cp_bike * tax_percent) /100\n",
    "print(f\"cp_bike : {cp_bike}\\ntax :{tax}\")\n",
    "\n",
    "\n"
   ]
  },
  {
   "cell_type": "code",
   "execution_count": 57,
   "id": "c7b093e4-a9f2-4284-bc52-a14cfe059ff7",
   "metadata": {},
   "outputs": [
    {
     "name": "stdin",
     "output_type": "stream",
     "text": [
      "enter your bike purchase amount:- 1000000\n"
     ]
    },
    {
     "name": "stdout",
     "output_type": "stream",
     "text": [
      "you have to pay 15% tax and the total amount is:- 1150000.0\n"
     ]
    }
   ],
   "source": [
    "amount=int(input(\"enter your bike purchase amount:-\"))\n",
    "if amount >= 100000:\n",
    "    tax= amount * 15/100\n",
    "    print(\"you have to pay 15% tax and the total amount is:-\",tax+amount)\n",
    "elif amount >50000 :\n",
    "    tax= amount * 10/100\n",
    "    print(\"you have to pay 10% tax and the total amount is:-\",tax+amount)\n",
    "else :\n",
    "    tax= amount * 8/100\n",
    "    print(\"you have to pay 8% tax and the total amount is:-\",tax+amount)"
   ]
  },
  {
   "cell_type": "code",
   "execution_count": null,
   "id": "1a883264-d16d-4974-8c46-6e88904bee2d",
   "metadata": {},
   "outputs": [],
   "source": [
    "price = float (input(\"Enter cost price of bike:\"))\n",
    "\n",
    "if  price>100000:\n",
    "    tax=price*0.15\n",
    "    print(\"Tax to be paid:\",tax)\n",
    "\n",
    "elif price>50000:\n",
    "    Tax=price*0.10\n",
    "    print(\"Tax to be paid:\",Tax)\n",
    "else:\n",
    "    Tax=price*0.08\n",
    "    print(\"Tax to be paid:\",Tax)"
   ]
  },
  {
   "cell_type": "code",
   "execution_count": null,
   "id": "bad780a9-c3c7-4d55-97db-ebbc4695a312",
   "metadata": {},
   "outputs": [],
   "source": [
    "# Apply discount based on purchase amount. If over $100 first show in rupees 1\"₹ 86.99\" then 15% discount \n",
    "# if over $50, 5% discount, otherwise no discount."
   ]
  },
  {
   "cell_type": "code",
   "execution_count": 58,
   "id": "bc4fa627-2fe9-4a33-8878-0130552e9b51",
   "metadata": {},
   "outputs": [
    {
     "data": {
      "text/plain": [
       "8699.0"
      ]
     },
     "execution_count": 58,
     "metadata": {},
     "output_type": "execute_result"
    }
   ],
   "source": [
    "100 * 86.99"
   ]
  },
  {
   "cell_type": "code",
   "execution_count": 59,
   "id": "876f8e36-3b72-4cf3-8c80-55404072da99",
   "metadata": {},
   "outputs": [
    {
     "data": {
      "text/plain": [
       "4349.5"
      ]
     },
     "execution_count": 59,
     "metadata": {},
     "output_type": "execute_result"
    }
   ],
   "source": [
    "50 * 86.99"
   ]
  },
  {
   "cell_type": "code",
   "execution_count": 60,
   "id": "3b9a9798-9352-43a8-b888-9bde4dfe9886",
   "metadata": {},
   "outputs": [
    {
     "name": "stdin",
     "output_type": "stream",
     "text": [
      "enter your bike purchase amount:- 50000\n"
     ]
    },
    {
     "name": "stdout",
     "output_type": "stream",
     "text": [
      "you have to pay 8% tax and the total amount is:- 54000.0\n",
      "your tax amount is:- 4000.0\n"
     ]
    }
   ],
   "source": [
    "amount=int(input(\"enter your bike purchase amount:-\"))\n",
    "if amount >= 100000:\n",
    "    tax= amount * 15/100\n",
    "    print(\"you have to pay 15% tax and the total amount is:-\",tax+amount)\n",
    "    print(\"your tax amount is:-\",tax)\n",
    "elif amount >50000 :\n",
    "    tax= amount * 10/100\n",
    "    print(\"you have to pay 10% tax and the total amount is:-\",tax+amount)\n",
    "    print(\"your tax amount is:-\",tax)\n",
    "else :\n",
    "    tax= amount * 8/100\n",
    "    print(\"you have to pay 8% tax and the total amount is:-\",tax+amount)\n",
    "    print(\"your tax amount is:-\",tax)"
   ]
  },
  {
   "cell_type": "code",
   "execution_count": 65,
   "id": "48a26308-8b6c-4172-a450-46b3fb3f2ea8",
   "metadata": {},
   "outputs": [
    {
     "name": "stdin",
     "output_type": "stream",
     "text": [
      "Enter your amount in $ :  101\n"
     ]
    },
    {
     "name": "stdout",
     "output_type": "stream",
     "text": [
      "Total Amount to pay in $: 90.9\n",
      "Total Amount to pay in ₹: 7907.391\n"
     ]
    }
   ],
   "source": [
    "# Apply discount based on purchase amount. If over $100 first show in rupees 1\"₹ 86.99\" then 15% discount \n",
    "# if over $50, 5% discount, otherwise no discount.\n",
    "\n",
    "\n",
    "amount = int(input(\"Enter your amount in $ : \"))\n",
    "indRupees = amount*86.99\n",
    "# print(indRupees)\n",
    "\n",
    "\n",
    "if amount>100:\n",
    "    dis = \"10%\"\n",
    "    disAmount = (amount*10)/100\n",
    "    # print(disAmount)\n",
    "    rupees = disAmount*86.99\n",
    "    # print(rupees)\n",
    "\n",
    "    payAmountDollar = amount - disAmount\n",
    "    payAmontInd = indRupees - rupees\n",
    "    print(\"Total Amount to pay in $:\",payAmountDollar)\n",
    "    print(\"Total Amount to pay in ₹:\",payAmontInd)"
   ]
  },
  {
   "cell_type": "code",
   "execution_count": null,
   "id": "8d6cae80-3184-4845-80c9-46429e74a301",
   "metadata": {},
   "outputs": [],
   "source": [
    "*\n",
    "**\n",
    "****\n",
    "*****"
   ]
  },
  {
   "cell_type": "code",
   "execution_count": 66,
   "id": "18219780-46ff-4b99-92b8-06a7195b8075",
   "metadata": {},
   "outputs": [
    {
     "name": "stdout",
     "output_type": "stream",
     "text": [
      "*\n",
      "**\n",
      "****\n",
      "*****\n",
      "******\n"
     ]
    }
   ],
   "source": [
    "print(\"*\")\n",
    "print(\"**\")\n",
    "print(\"****\")\n",
    "print(\"*****\")\n",
    "print(\"******\")"
   ]
  },
  {
   "cell_type": "code",
   "execution_count": 69,
   "id": "bc8f2345-bc51-4e18-8adb-d7a74ee76cbe",
   "metadata": {},
   "outputs": [
    {
     "name": "stdin",
     "output_type": "stream",
     "text": [
      "Enter the  purchase amount in $:  101\n"
     ]
    },
    {
     "name": "stdout",
     "output_type": "stream",
     "text": [
      "Purchase Amount in Rupees: 8785.99\n",
      "15% Discount Applied 85.85\n"
     ]
    }
   ],
   "source": [
    "usd_to_inr = 86.99 #assign value\n",
    "\n",
    "purchase = float(input(\"Enter the  purchase amount in $: \"))\n",
    "\n",
    "if purchase > 100:\n",
    "    amount_in_inr = purchase * usd_to_inr\n",
    "    discount = purchase * 0.15\n",
    "    fin_amount = purchase - discount\n",
    "    print(\"Purchase Amount in Rupees:\" , amount_in_inr)\n",
    "    print(\"15% Discount Applied\",fin_amount)\n",
    "elif purchase > 50:\n",
    "    discount = purchase * 0.05\n",
    "    fin_amount = purchase - discount\n",
    "    print(\"5% Discount Applied\",fin_amount)\n",
    "else:\n",
    "    discount = 0\n",
    "    fin_amount = purchase\n",
    "    print(\"No Discount Applied\",fin_amount)"
   ]
  },
  {
   "cell_type": "code",
   "execution_count": 1,
   "id": "f16cee1c-c4bf-4029-bd34-1b7c7a292bcb",
   "metadata": {},
   "outputs": [],
   "source": [
    "# 5. Write a program to check person is sernior citizen or not?\n",
    "\n",
    "# 6. Write a program to check whether a number (accepted from the user) is positive or negative.\n",
    "\n",
    "# 7. Accept the following from the user and calculate the percentage of the class attendence.\n",
    "# Total number of working days.\n",
    "# Total number of absent.\n",
    "# if percentage is less than 75%, then student will not sit the exam.\n",
    "\n",
    "#8. Calculate letters grades (A,B,C,D,E) based on score ranges (eg.-90-100:A,80-89:B,70-79:C,\n",
    "#60-69:D,50-59:E)\n",
    "\n",
    "# 9. Simulate a traffic light, if the light is \"Green\", print \"Go\", If yellow, print \"Caution\",\n",
    "# if red \"Stop!\"\n",
    "\n",
    "\n",
    "# 10. Check user roles, if \"admin\",print \"Access granted\", if \"Editor\",print \"Can edit\". If viewer\n",
    "# print \"Unknown role\"\n",
    "\n",
    "# 11. Apply discount based on purchase amount. If over $100 first show in rupees \"₹ 86.99\" then 15% discount \n",
    "# if over $50, 5% discount, otherwise no discount.\n",
    "\n",
    "# 12. Determine if a character is uppercase, lowercase, a digit or a special character.\n",
    "\n",
    "# 13. Based on the number of sides entered (3,5,7 etc), Identify Triangle shape\n",
    "# (trianlge,pentagon, septagon etc)\n",
    "\n",
    "# 14. Write a program to determine if a character is a vowel or consonent.\n",
    "\n",
    "# 15. Crete a simple calulator that performs basic arithmetic operations based on two user input.\n",
    "# (^,*,/,-,+)"
   ]
  },
  {
   "cell_type": "code",
   "execution_count": 6,
   "id": "b519e30d-3187-4349-91ef-680ae7bcd34a",
   "metadata": {},
   "outputs": [
    {
     "name": "stdin",
     "output_type": "stream",
     "text": [
      "Enter any character:  a\n"
     ]
    },
    {
     "name": "stdout",
     "output_type": "stream",
     "text": [
      "You entered vowel character: a\n"
     ]
    }
   ],
   "source": [
    "# 14. Write a program to determine if a character is a vowel or consonent.\n",
    "\n",
    "char1 = input(\"Enter any character: \")  # a,b\n",
    "\n",
    "char = char1.lower()\n",
    "vow = 'aeiou'\n",
    "\n",
    "if char in vow:\n",
    "    \n",
    "    print(f\"You entered vowel character: {char1}\")\n",
    "    \n",
    "else:\n",
    "    print(f\"You entered consonent character: {char1}\")"
   ]
  },
  {
   "cell_type": "code",
   "execution_count": 8,
   "id": "933acb66-b802-4f4b-88b8-967b934e6071",
   "metadata": {},
   "outputs": [
    {
     "name": "stdin",
     "output_type": "stream",
     "text": [
      "Enter any character:  A\n"
     ]
    },
    {
     "name": "stdout",
     "output_type": "stream",
     "text": [
      "You entered vowel character: A\n"
     ]
    }
   ],
   "source": [
    "char1 = input(\"Enter any character: \")  # a,b\n",
    "\n",
    "char = char1.lower()\n",
    "vow = ['a','e',\"i\",'o','u']\n",
    "\n",
    "if char in vow:\n",
    "    print(f\"You entered vowel character: {char1}\")\n",
    "    \n",
    "else:\n",
    "    print(f\"You entered consonent character: {char1}\")"
   ]
  },
  {
   "cell_type": "code",
   "execution_count": 10,
   "id": "ac9c2497-a3bd-411b-9b03-3cfc5aee8b00",
   "metadata": {},
   "outputs": [],
   "source": [
    "# 12. Determine if a character is uppercase, lowercase, a digit or a special character.\n",
    "\n",
    "# A = You entered uppercase character\n",
    "\n",
    "# a = you entered lower case character\n",
    "\n",
    "# a1 = you entered alphabet and number characater\n",
    "\n",
    "\n",
    "# 123 = you entered a numeric value.\n",
    "\n",
    "\n",
    "# \"@\" = you entered special character\n",
    "\n",
    "\n"
   ]
  },
  {
   "cell_type": "code",
   "execution_count": 11,
   "id": "740b9544-b8aa-4587-bcb9-d807bfe76243",
   "metadata": {},
   "outputs": [],
   "source": [
    "# ASCII - \n",
    "\n",
    "import string"
   ]
  },
  {
   "cell_type": "code",
   "execution_count": 12,
   "id": "257df832-81be-4915-a2ba-b4b42249476e",
   "metadata": {},
   "outputs": [
    {
     "name": "stdout",
     "output_type": "stream",
     "text": [
      "Help on module string:\n",
      "\n",
      "NAME\n",
      "    string - A collection of string constants.\n",
      "\n",
      "MODULE REFERENCE\n",
      "    https://docs.python.org/3.13/library/string.html\n",
      "\n",
      "    The following documentation is automatically generated from the Python\n",
      "    source files.  It may be incomplete, incorrect or include features that\n",
      "    are considered implementation detail and may vary between Python\n",
      "    implementations.  When in doubt, consult the module reference at the\n",
      "    location listed above.\n",
      "\n",
      "DESCRIPTION\n",
      "    Public module variables:\n",
      "\n",
      "    whitespace -- a string containing all ASCII whitespace\n",
      "    ascii_lowercase -- a string containing all ASCII lowercase letters\n",
      "    ascii_uppercase -- a string containing all ASCII uppercase letters\n",
      "    ascii_letters -- a string containing all ASCII letters\n",
      "    digits -- a string containing all ASCII decimal digits\n",
      "    hexdigits -- a string containing all ASCII hexadecimal digits\n",
      "    octdigits -- a string containing all ASCII octal digits\n",
      "    punctuation -- a string containing all ASCII punctuation characters\n",
      "    printable -- a string containing all ASCII characters considered printable\n",
      "\n",
      "CLASSES\n",
      "    builtins.object\n",
      "        Formatter\n",
      "        Template\n",
      "\n",
      "    class Formatter(builtins.object)\n",
      "     |  Methods defined here:\n",
      "     |\n",
      "     |  check_unused_args(self, used_args, args, kwargs)\n",
      "     |\n",
      "     |  convert_field(self, value, conversion)\n",
      "     |\n",
      "     |  format(self, format_string, /, *args, **kwargs)\n",
      "     |\n",
      "     |  format_field(self, value, format_spec)\n",
      "     |\n",
      "     |  get_field(self, field_name, args, kwargs)\n",
      "     |      # given a field_name, find the object it references.\n",
      "     |      #  field_name:   the field being looked up, e.g. \"0.name\"\n",
      "     |      #                 or \"lookup[3]\"\n",
      "     |      #  used_args:    a set of which args have been used\n",
      "     |      #  args, kwargs: as passed in to vformat\n",
      "     |\n",
      "     |  get_value(self, key, args, kwargs)\n",
      "     |\n",
      "     |  parse(self, format_string)\n",
      "     |      # returns an iterable that contains tuples of the form:\n",
      "     |      # (literal_text, field_name, format_spec, conversion)\n",
      "     |      # literal_text can be zero length\n",
      "     |      # field_name can be None, in which case there's no\n",
      "     |      #  object to format and output\n",
      "     |      # if field_name is not None, it is looked up, formatted\n",
      "     |      #  with format_spec and conversion and then used\n",
      "     |\n",
      "     |  vformat(self, format_string, args, kwargs)\n",
      "     |\n",
      "     |  ----------------------------------------------------------------------\n",
      "     |  Data descriptors defined here:\n",
      "     |\n",
      "     |  __dict__\n",
      "     |      dictionary for instance variables\n",
      "     |\n",
      "     |  __weakref__\n",
      "     |      list of weak references to the object\n",
      "\n",
      "    class Template(builtins.object)\n",
      "     |  Template(template)\n",
      "     |\n",
      "     |  A string class for supporting $-substitutions.\n",
      "     |\n",
      "     |  Methods defined here:\n",
      "     |\n",
      "     |  __init__(self, template)\n",
      "     |      Initialize self.  See help(type(self)) for accurate signature.\n",
      "     |\n",
      "     |  get_identifiers(self)\n",
      "     |\n",
      "     |  is_valid(self)\n",
      "     |\n",
      "     |  safe_substitute(self, mapping={}, /, **kws)\n",
      "     |\n",
      "     |  substitute(self, mapping={}, /, **kws)\n",
      "     |\n",
      "     |  ----------------------------------------------------------------------\n",
      "     |  Class methods defined here:\n",
      "     |\n",
      "     |  __init_subclass__()\n",
      "     |      This method is called when a class is subclassed.\n",
      "     |\n",
      "     |      The default implementation does nothing. It may be\n",
      "     |      overridden to extend subclasses.\n",
      "     |\n",
      "     |  ----------------------------------------------------------------------\n",
      "     |  Data descriptors defined here:\n",
      "     |\n",
      "     |  __dict__\n",
      "     |      dictionary for instance variables\n",
      "     |\n",
      "     |  __weakref__\n",
      "     |      list of weak references to the object\n",
      "     |\n",
      "     |  ----------------------------------------------------------------------\n",
      "     |  Data and other attributes defined here:\n",
      "     |\n",
      "     |  braceidpattern = None\n",
      "     |\n",
      "     |  delimiter = '$'\n",
      "     |\n",
      "     |  flags = re.IGNORECASE\n",
      "     |\n",
      "     |  idpattern = '(?a:[_a-z][_a-z0-9]*)'\n",
      "     |\n",
      "     |  pattern = re.compile('\\n            \\\\$(?:\\n              ...identifie...\n",
      "\n",
      "FUNCTIONS\n",
      "    capwords(s, sep=None)\n",
      "        capwords(s [,sep]) -> string\n",
      "\n",
      "        Split the argument into words using split, capitalize each\n",
      "        word using capitalize, and join the capitalized words using\n",
      "        join.  If the optional second argument sep is absent or None,\n",
      "        runs of whitespace characters are replaced by a single space\n",
      "        and leading and trailing whitespace are removed, otherwise\n",
      "        sep is used to split and join the words.\n",
      "\n",
      "DATA\n",
      "    __all__ = ['ascii_letters', 'ascii_lowercase', 'ascii_uppercase', 'cap...\n",
      "    ascii_letters = 'abcdefghijklmnopqrstuvwxyzABCDEFGHIJKLMNOPQRSTUVWXYZ'\n",
      "    ascii_lowercase = 'abcdefghijklmnopqrstuvwxyz'\n",
      "    ascii_uppercase = 'ABCDEFGHIJKLMNOPQRSTUVWXYZ'\n",
      "    digits = '0123456789'\n",
      "    hexdigits = '0123456789abcdefABCDEF'\n",
      "    octdigits = '01234567'\n",
      "    printable = '0123456789abcdefghijklmnopqrstuvwxyzABCDEFGHIJKLMNOPQRSTU...\n",
      "    punctuation = '!\"#$%&\\'()*+,-./:;<=>?@[\\\\]^_`{|}~'\n",
      "    whitespace = ' \\t\\n\\r\\x0b\\x0c'\n",
      "\n",
      "FILE\n",
      "    c:\\users\\user\\appdata\\local\\programs\\python\\python313\\lib\\string.py\n",
      "\n",
      "\n"
     ]
    }
   ],
   "source": [
    "help(string)"
   ]
  },
  {
   "cell_type": "code",
   "execution_count": 35,
   "id": "7521c31f-6620-4ce9-a622-19b496c3c6a1",
   "metadata": {},
   "outputs": [
    {
     "name": "stdin",
     "output_type": "stream",
     "text": [
      "Enter a character:  a1\n"
     ]
    },
    {
     "name": "stdout",
     "output_type": "stream",
     "text": [
      "a1 is a special character \n"
     ]
    }
   ],
   "source": [
    "char = input(\"Enter a character: \")\n",
    "\n",
    "char_upper = 'ABCDEFGHIJKLMNOPQRSTUVWXYZ'\n",
    "char_lower = 'abcdefghijklmnopqrstuvwxyz'\n",
    "digits = '0123456789'\n",
    "\n",
    "\n",
    "if char in char_upper :\n",
    "    print(f\"{char} is uppercase\")\n",
    "elif char in char_lower :\n",
    "    print(f\"{char} is lowercase\")\n",
    "elif char in digits:\n",
    "    print(f\"{char} is a digit\")\n",
    "    \n",
    "else:\n",
    "    print(f\"{char} is a special character \")"
   ]
  },
  {
   "cell_type": "code",
   "execution_count": 47,
   "id": "a58f81c8-a8c0-4161-9171-8d3b473006f4",
   "metadata": {},
   "outputs": [
    {
     "name": "stdin",
     "output_type": "stream",
     "text": [
      "Enter any value 5\n"
     ]
    },
    {
     "name": "stdout",
     "output_type": "stream",
     "text": [
      "Character is in digits: 5\n"
     ]
    }
   ],
   "source": [
    "# printable = \"0123456789abcdefghijklmnopqrstuvwxyzABCDEFGHIJKLMNOPQRSTUVWXYZ\"\n",
    "\n",
    "\n",
    "char = input(\"Enter any value\")\n",
    "\n",
    "val = ord(char)\n",
    "\n",
    "# print(val)\n",
    "\n",
    "if 65 <= val <= 90:\n",
    "    print(f\"Character is in Upper Case: {char}\")\n",
    "\n",
    "elif 97<= val <= 122:\n",
    "    print(f\"Chracter is in Lower Case: {char}\")\n",
    "\n",
    "elif 58 <= val <= 64:\n",
    "    print(f\"Character is Special: {char}\")\n",
    "\n",
    "elif 48 <= val <= 57:\n",
    "    print(f\"Character is in digits: {char}\")\n",
    "else:\n",
    "    print(\"Character Case Not Found\")"
   ]
  },
  {
   "cell_type": "code",
   "execution_count": null,
   "id": "eb144834-b5a9-4acd-b224-14d0c3a9092c",
   "metadata": {},
   "outputs": [],
   "source": [
    "# 1. Take the cost price and selling price, then check if the seller has profit, loss or no gain with profit percent and loss percent.\n",
    "\n",
    "# 2.Input a string and check if it a palindrome.\n",
    "# Madam\n",
    "# kayak\n",
    "# did\n",
    "# mom\n",
    "# dad\n",
    "# anna\n",
    "\n",
    "# 3.write a program to accept quadrant coordinates (x,y) and check in which quadrant the points lies. \n",
    "# first quadrant- [+,+]\n",
    "# second - [-,+]\n",
    "# third - [-,-]\n",
    "# fourth - [+,-]\n",
    "\n",
    "# 4. Input electricty unit and calculate the bill as per rules:\n",
    "    # up to 100 ----> \"No Charge\"\n",
    "    # 101-200 ------> \"₹ 5 per unit\"\n",
    "    # Above 200 ----> \"₹ 10 per unit\"\n",
    "\n",
    "# 5. Write a program to check if three sides can form a triangle.\n",
    "#  a,b,c\n",
    "# a+b>c\n",
    "# a+c>b\n",
    "# b+c>a\n",
    "\n",
    "# 6. Write a program to find whether the last digit of a number is divisible by 3.\n",
    "    # 123458968552 ------------- 2\n",
    "\n",
    "\n",
    "# 7. Input a number and check whether it ends with digit 5 or not.\n",
    "\n",
    "\n",
    "# 8. Check if someone qualifies  for a loan:\n",
    "    # age>= 21\n",
    "    # salary>= 20,000\n",
    "\n",
    "\n",
    "# 9. Take marks of 3 subjects, check if student passed each ( marks>=33)\n",
    "    # if passed in all subject - Calculate percentage --> print result (First/second/third)\n",
    "    # else - fail\n",
    "\n",
    "# 10. classify triangle by angles:\n",
    "    # Right-angled triangle\n",
    "    # Acute-angled triangle\n",
    "    # Obtuse-angled triangle\n",
    "\n",
    "# 11. if username = \"admin\" and password = \"1234\" \"Login Successful\" Else- \"Login Failed.\"\n",
    "\n"
   ]
  },
  {
   "cell_type": "code",
   "execution_count": 49,
   "id": "a6d7b71a-ec65-4549-a918-82cb7c541fde",
   "metadata": {},
   "outputs": [
    {
     "name": "stdin",
     "output_type": "stream",
     "text": [
      "Enter cost price:  100\n",
      "Enter selling price:  102\n"
     ]
    },
    {
     "name": "stdout",
     "output_type": "stream",
     "text": [
      "profit percent of 2.0\n"
     ]
    }
   ],
   "source": [
    "cp = float(input(\"Enter cost price: \"))\n",
    "sp = float(input(\"Enter selling price: \"))\n",
    "if sp > cp :\n",
    "    profit = sp - cp\n",
    "    pp = (profit/cp)*100\n",
    "    print(f\"profit percent of {pp}\")\n",
    "elif cp > sp :\n",
    "    loss = cp - sp \n",
    "    lp = (loss/cp)*100\n",
    "    print(f\"loss percent of {lp}\")\n",
    "else:\n",
    "    print(\"no profit, no loss \")"
   ]
  },
  {
   "cell_type": "code",
   "execution_count": 4,
   "id": "c9ced213-b134-4114-9227-054a37861c1f",
   "metadata": {},
   "outputs": [
    {
     "name": "stdin",
     "output_type": "stream",
     "text": [
      "Enter first angle of triangle:  90\n",
      "Enter second angle of triangle:  45\n",
      "Enter third angle of triangle:  45\n"
     ]
    },
    {
     "name": "stdout",
     "output_type": "stream",
     "text": [
      "90,45 and 45 is Right Angle Triangle.\n"
     ]
    }
   ],
   "source": [
    "# classify a triangle by angles:\n",
    "    # >> acute\n",
    "    # >> right-angle triangle\n",
    "    # >> obtuse\n",
    "\n",
    "\n",
    "# a+b+c = 180\n",
    "\n",
    "# a+b>c\n",
    "# a+c>b\n",
    "# b+c>a\n",
    "\n",
    "a1 = int(input(\"Enter first angle of triangle: \"))  # 120\n",
    "b1 = int(input(\"Enter second angle of triangle: \")) # 30\n",
    "c1 = int(input(\"Enter third angle of triangle: \"))  # 30\n",
    "\n",
    "if a1+b1+c1 == 180 and a1>0 and b1>0 and c1>0:\n",
    "    if a1<90 and b1<90 and c1<90:\n",
    "        print(f\"{a1},{b1} and {c1} is Acute Angle Triangle.\")\n",
    "        \n",
    "    elif a1 == 90 or b1==90 or c1 == 90:\n",
    "        print(f\"{a1},{b1} and {c1} is Right Angle Triangle.\")\n",
    "    elif  a1 > 90 or b1>90 or c1 > 90:\n",
    "        print(f\"{a1},{b1} and {c1} is Obtuse Angle Triangle.\")\n",
    "    # else:\n",
    "    #     print(\"\")\n",
    "else:\n",
    "    print(\"Triangle is not valid.\")"
   ]
  },
  {
   "cell_type": "code",
   "execution_count": 6,
   "id": "29334eaf-b9c2-497e-af00-7e99c80fc566",
   "metadata": {},
   "outputs": [
    {
     "name": "stdin",
     "output_type": "stream",
     "text": [
      "Enter your username admin\n",
      "Enter the password:  1234\n"
     ]
    },
    {
     "name": "stdout",
     "output_type": "stream",
     "text": [
      "Login Success\n"
     ]
    }
   ],
   "source": [
    "user = str(input(\"Enter your username\"))\n",
    "pw= int(input(\"Enter the password: \"))\n",
    "\n",
    "if user == \"admin\" and pw == 1234:\n",
    "    print(\"Login Success\")\n",
    "else:\n",
    "    print('Login failed')"
   ]
  },
  {
   "cell_type": "code",
   "execution_count": 7,
   "id": "1c0545b7-37e9-4759-bf83-5cdfc47b6891",
   "metadata": {},
   "outputs": [],
   "source": [
    "# # wap to check if three sides can form a tringle:\n",
    "#     >> \n",
    "\n"
   ]
  },
  {
   "cell_type": "code",
   "execution_count": null,
   "id": "2d6163d4-7cff-440e-8bd7-86791961b828",
   "metadata": {},
   "outputs": [],
   "source": [
    "angle1 = int(input(\"Enter the first angle : \"))\n",
    "angle2 = int(input(\"Enter the second angle\"))\n",
    "angle3 = int(input(\"Enter the third angle\"))\n",
    "\n",
    "if angle1 + angle2 + angle3 == 180 and angle1 > 0 and angle2 > 0 and angle3 > 0:\n",
    "    \n",
    "    if angle1 == 90 or angle2 == 90 or angle3 == 90:\n",
    "        print(\"It is an Right-angled Triangle \")\n",
    "    elif angle1 < 90 and angle2 < 90 and angle3 < 90:\n",
    "        print(\"It is an Acute-angled Triangle \")\n",
    "    else:\n",
    "        print(\"It is an Obtuse-angled Triangle \")\n",
    "else:\n",
    "    print(\"Invalid Triangle\")"
   ]
  }
 ],
 "metadata": {
  "kernelspec": {
   "display_name": "Python 3 (ipykernel)",
   "language": "python",
   "name": "python3"
  },
  "language_info": {
   "codemirror_mode": {
    "name": "ipython",
    "version": 3
   },
   "file_extension": ".py",
   "mimetype": "text/x-python",
   "name": "python",
   "nbconvert_exporter": "python",
   "pygments_lexer": "ipython3",
   "version": "3.13.7"
  }
 },
 "nbformat": 4,
 "nbformat_minor": 5
}
