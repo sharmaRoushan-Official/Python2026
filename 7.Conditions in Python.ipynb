{
 "cells": [
  {
   "cell_type": "markdown",
   "id": "4aaa80ab-c710-4b30-ab32-f6c08689b963",
   "metadata": {},
   "source": [
    "# 7. Branching (if,elif,else) \n",
    "***\n",
    " * __Decision making is required when we want to execute a code only if a certain condition is satisfied.__\n",
    " * __The if/elif/else statement is used in Python for dicision making.__\n",
    " * __An else statement can be combined with an if statment.__\n",
    " * __An else statement contains the blcok of code that executes if the conditional expression in the if statement resolves to 0 or False value.__\n",
    " * __The else statement is optional statement and their could be at most only one else statement following if.__\n",
    " * __The elif statement allows you to check multiple expressions for True and execute a blcok of code as soon as one of the condtion evaluates to True.__\n",
    " * __Similar to the else, elif statement is optional.__\n",
    " * __However, unlike else, for which there can be most one statement, there can be many number of elif statement following an if.__"
   ]
  },
  {
   "cell_type": "code",
   "execution_count": 1,
   "id": "34d72131-de36-4fb8-b591-44c1bc588022",
   "metadata": {},
   "outputs": [
    {
     "name": "stdout",
     "output_type": "stream",
     "text": [
      "True\n"
     ]
    }
   ],
   "source": [
    "# Relationship Opertor: 6\n",
    "\n",
    "num = 1.618\n",
    "\n",
    "print(num<2)   # "
   ]
  },
  {
   "cell_type": "code",
   "execution_count": 2,
   "id": "0e0b5d10-055e-4184-a015-ffa8757fb9fa",
   "metadata": {},
   "outputs": [
    {
     "name": "stdout",
     "output_type": "stream",
     "text": [
      "True\n"
     ]
    }
   ],
   "source": [
    "print(num<=2)"
   ]
  },
  {
   "cell_type": "code",
   "execution_count": 3,
   "id": "912b2a3d-607c-4548-b837-4a2b188d0862",
   "metadata": {},
   "outputs": [
    {
     "name": "stdout",
     "output_type": "stream",
     "text": [
      "True\n"
     ]
    }
   ],
   "source": [
    "print(10>num)"
   ]
  },
  {
   "cell_type": "code",
   "execution_count": 5,
   "id": "6ee41040-e08c-4894-9d8e-55ce39f49f48",
   "metadata": {},
   "outputs": [
    {
     "name": "stdout",
     "output_type": "stream",
     "text": [
      "True\n"
     ]
    }
   ],
   "source": [
    "print(1.618<=num)"
   ]
  },
  {
   "cell_type": "code",
   "execution_count": 15,
   "id": "42a9d831-b4a7-4459-bc26-f412b3c5b0b8",
   "metadata": {},
   "outputs": [
    {
     "name": "stdout",
     "output_type": "stream",
     "text": [
      "You are a Baby\n"
     ]
    }
   ],
   "source": [
    "age = 5\n",
    "# print(age,type(age))\n",
    "\n",
    "\n",
    "if age>6:\n",
    "    print(\"You Can go to Primary School\")\n",
    "else:\n",
    "    print(\"You are a Baby\")"
   ]
  },
  {
   "cell_type": "code",
   "execution_count": 9,
   "id": "16080df6-b76c-4bcc-9b40-ef947396377e",
   "metadata": {},
   "outputs": [
    {
     "data": {
      "text/plain": [
       "False"
      ]
     },
     "execution_count": 9,
     "metadata": {},
     "output_type": "execute_result"
    }
   ],
   "source": [
    "age>6"
   ]
  },
  {
   "cell_type": "code",
   "execution_count": 17,
   "id": "9b1a6235-dd83-45e0-9b8a-77798635ae76",
   "metadata": {},
   "outputs": [
    {
     "name": "stdout",
     "output_type": "stream",
     "text": [
      "You can go to kindergarten.\n"
     ]
    }
   ],
   "source": [
    "age = 5\n",
    "# print(age,type(age))\n",
    "\n",
    "\n",
    "if age>6:\n",
    "    print(\"You Can go to Primary School\")\n",
    "\n",
    "elif age == 5:\n",
    "    print(\"You can go to kindergarten.\")\n",
    "    \n",
    "else:\n",
    "    print(\"You are a Baby\")\n"
   ]
  },
  {
   "cell_type": "code",
   "execution_count": 18,
   "id": "3e7947e6-a4ec-4c1b-97d4-7f65141b7e87",
   "metadata": {},
   "outputs": [
    {
     "name": "stdin",
     "output_type": "stream",
     "text": [
      "Enter your age here:  15\n"
     ]
    }
   ],
   "source": [
    "# write a program to check user caste a vote or not.\n",
    "# \n",
    "\n",
    "age = int(input(\"Enter your age here: \"))"
   ]
  },
  {
   "cell_type": "code",
   "execution_count": 19,
   "id": "22effead-533b-490a-8825-c1cd869caaca",
   "metadata": {},
   "outputs": [
    {
     "name": "stdout",
     "output_type": "stream",
     "text": [
      "you are eligible for voting\n"
     ]
    }
   ],
   "source": [
    "age=18\n",
    "if age>=18:\n",
    "    print(\"you are eligible for voting\")\n",
    "else:\n",
    "    print(\"you are not eligible\")"
   ]
  },
  {
   "cell_type": "code",
   "execution_count": 21,
   "id": "faf1589d-44f2-460b-8f40-a9f80f9356ae",
   "metadata": {},
   "outputs": [
    {
     "name": "stdin",
     "output_type": "stream",
     "text": [
      "Enter your age :  18\n"
     ]
    },
    {
     "name": "stdout",
     "output_type": "stream",
     "text": [
      "You are able to vote\n"
     ]
    }
   ],
   "source": [
    "age = int(input(\"Enter your age : \" ))\n",
    "if age >=18:\n",
    "    print('You are able to vote')\n",
    "    \n",
    "else:\n",
    "    print('you are not eligible for voting')"
   ]
  },
  {
   "cell_type": "code",
   "execution_count": 28,
   "id": "eb8dfe39-e26f-48f8-baeb-99a3f96db7e6",
   "metadata": {},
   "outputs": [
    {
     "name": "stdin",
     "output_type": "stream",
     "text": [
      "Enter any number 0-6:  8\n"
     ]
    },
    {
     "name": "stdout",
     "output_type": "stream",
     "text": [
      "Invalid value/No Weekday Found\n"
     ]
    }
   ],
   "source": [
    "# write a program to display weeks name- 0-Sunday, 1-Monday, 2-Tuesday, 3-Wednesday, 4-Thursday, \n",
    "# 5-Friday, 6-Saturday. 7- Invalid weekday value.\n",
    "\n",
    "\n",
    "week = int(input(\"Enter any number 0-6: \"))\n",
    "\n",
    "if week == 0:\n",
    "    print(\"Weekday is Sunday\")\n",
    "\n",
    "elif week  == 1:\n",
    "    print(\"Weekday is Monday\")\n",
    "\n",
    "elif week  == 2:\n",
    "    print(\"Weekday is Tuesday\")\n",
    "elif week  == 3:\n",
    "    print(\"Weekday is Wednesday\")\n",
    "\n",
    "elif week  == 4:\n",
    "    print(\"Weekday is Thursday\")\n",
    "elif week == 5:\n",
    "    print(\"Weekday is Friday\")\n",
    "\n",
    "elif week == 6:\n",
    "    print(\"Weekday is Saturday\")\n",
    "\n",
    "else:\n",
    "    print(\"Invalid value/No Weekday Found\")"
   ]
  },
  {
   "cell_type": "code",
   "execution_count": 23,
   "id": "c23ac1d4-0fe0-4eaa-ad8e-bd338eb0f2ab",
   "metadata": {},
   "outputs": [
    {
     "data": {
      "text/plain": [
       "True"
      ]
     },
     "execution_count": 23,
     "metadata": {},
     "output_type": "execute_result"
    }
   ],
   "source": [
    "week == 0"
   ]
  },
  {
   "cell_type": "code",
   "execution_count": 35,
   "id": "ae3f19fd-ad9a-4820-92f0-70c80e130a3d",
   "metadata": {},
   "outputs": [
    {
     "name": "stdin",
     "output_type": "stream",
     "text": [
      "Enter any number :  3\n"
     ]
    },
    {
     "name": "stdout",
     "output_type": "stream",
     "text": [
      "3 is odd Number\n"
     ]
    }
   ],
   "source": [
    "# write a program to check user input value is even or odd.\n",
    "\n",
    "\n",
    "num = int(input(\"Enter any number : \"))\n",
    "if num%2 == 0:\n",
    "    print(f\"{num} Number is even\")   # f-string \n",
    "else:\n",
    "    print(f\"{num} is odd Number\")"
   ]
  },
  {
   "cell_type": "code",
   "execution_count": 36,
   "id": "bce69b5c-c811-4e17-b066-41e9d8b7e2b3",
   "metadata": {},
   "outputs": [
    {
     "name": "stdin",
     "output_type": "stream",
     "text": [
      "enter number :  45\n"
     ]
    },
    {
     "name": "stdout",
     "output_type": "stream",
     "text": [
      "odd\n"
     ]
    }
   ],
   "source": [
    "number = int(input(\"enter number : \"))\n",
    "if number%2 ==0:\n",
    "    print(\"even\")\n",
    "else :\n",
    "    print(\"odd\")"
   ]
  },
  {
   "cell_type": "code",
   "execution_count": 37,
   "id": "dd9c3cc0-2e4b-4543-9dd9-6e150d126f33",
   "metadata": {},
   "outputs": [
    {
     "ename": "SyntaxError",
     "evalue": "invalid syntax (1442292811.py, line 1)",
     "output_type": "error",
     "traceback": [
      "  \u001b[36mCell\u001b[39m\u001b[36m \u001b[39m\u001b[32mIn[37]\u001b[39m\u001b[32m, line 1\u001b[39m\n\u001b[31m    \u001b[39m\u001b[31mand\u001b[39m\n    ^\n\u001b[31mSyntaxError\u001b[39m\u001b[31m:\u001b[39m invalid syntax\n"
     ]
    }
   ],
   "source": [
    "and \n",
    "or\n",
    "not"
   ]
  },
  {
   "cell_type": "code",
   "execution_count": 52,
   "id": "fc8cb665-6e1b-4985-b1f8-4cefd37c1176",
   "metadata": {},
   "outputs": [
    {
     "name": "stdin",
     "output_type": "stream",
     "text": [
      "Enter any value:  7984896458744\n"
     ]
    },
    {
     "name": "stdout",
     "output_type": "stream",
     "text": [
      "7984896458744 is divisible by only 2 not 3\n"
     ]
    }
   ],
   "source": [
    "# ||\n",
    "\n",
    "\n",
    "# write a program to check user value is divisible 2, 3 \n",
    "\n",
    "userNum = int(input(\"Enter any value: \"))\n",
    "\n",
    "\n",
    "if userNum%2 == 0 and userNum%3 == 0:\n",
    "    print(f\"{userNum} is divisible by both 2 and 3\")\n",
    "\n",
    "elif userNum%2 == 0 and userNum%3!=0:  # 4\n",
    "    print(f\"{userNum} is divisible by only 2 not 3\")\n",
    "    \n",
    "\n",
    "elif userNum%2!=0 and userNum%3==0:\n",
    "    print(f\"{userNum} is divisible by only 3 not 2\")\n",
    "\n",
    "elif userNum%2!=0 and userNum%3!=0:\n",
    "    print(f\"{userNum} is not divisible by both 2 and 3\")"
   ]
  },
  {
   "cell_type": "code",
   "execution_count": 44,
   "id": "c1daaf0d-a31f-45c9-9bd9-ddc928f3c06e",
   "metadata": {},
   "outputs": [
    {
     "data": {
      "text/plain": [
       "True"
      ]
     },
     "execution_count": 44,
     "metadata": {},
     "output_type": "execute_result"
    }
   ],
   "source": [
    "userNum%2 == 0 and userNum%3!=0"
   ]
  },
  {
   "cell_type": "code",
   "execution_count": null,
   "id": "c745841c-cbb8-4ab0-9e62-48767bcc7f9d",
   "metadata": {},
   "outputs": [],
   "source": []
  }
 ],
 "metadata": {
  "kernelspec": {
   "display_name": "Python 3 (ipykernel)",
   "language": "python",
   "name": "python3"
  },
  "language_info": {
   "codemirror_mode": {
    "name": "ipython",
    "version": 3
   },
   "file_extension": ".py",
   "mimetype": "text/x-python",
   "name": "python",
   "nbconvert_exporter": "python",
   "pygments_lexer": "ipython3",
   "version": "3.13.7"
  }
 },
 "nbformat": 4,
 "nbformat_minor": 5
}
