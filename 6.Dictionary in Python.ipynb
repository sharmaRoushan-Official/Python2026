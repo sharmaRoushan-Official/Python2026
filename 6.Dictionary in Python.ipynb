{
 "cells": [
  {
   "cell_type": "markdown",
   "id": "4f69167b-801f-48f0-93b0-476b3dc57366",
   "metadata": {},
   "source": [
    "# 6. Dictionary in Python\n",
    "\n",
    " * __Dictionary are used to store data values in key:value pairs.__\n",
    " * __A dictonary is a collection which is ordered, changeable or mutable and do not allow duplicates.__\n",
    " * __Dictionary items are presented in key:values pairs, and can be referred to by using key name.__\n",
    " * __Dictionary are changeable, meaning that we can change, add or remove items after the dictionary has been created.__\n",
    " * __Dictionaries cannot have two items with the same key.__\n",
    " * __A dictionary can nested and contains another dictionary.__\n",
    "\n",
    "***\n",
    "\n",
    "| Keys | Values |\n",
    "|----------|----------|\n",
    "| name | Bob  | \n",
    "| age  | 25  | \n",
    "| job  |DevOps | \n",
    "| city  |Texas | \n",
    "| email  |bob@gmail.com | \n"
   ]
  },
  {
   "cell_type": "code",
   "execution_count": 59,
   "id": "0c4fca5b-9f58-4f91-8eb7-fad1041eade2",
   "metadata": {},
   "outputs": [
    {
     "data": {
      "text/plain": [
       "{'array': [1, 2, 3],\n",
       " 'boolean': True,\n",
       " 'color': 'gold',\n",
       " 'null': None,\n",
       " 'number': 123,\n",
       " 'object': {'a': 'b', 'c': 'd'},\n",
       " 'string': 'Hello World'}"
      ]
     },
     "execution_count": 59,
     "metadata": {},
     "output_type": "execute_result"
    }
   ],
   "source": [
    "x ={\n",
    "  \"array\": [\n",
    "    1,\n",
    "    2,\n",
    "    3\n",
    "  ],\n",
    "  \"boolean\": True,\n",
    "  \"color\": \"gold\",\n",
    "  \"null\": None,\n",
    "  \"number\": 123,\n",
    "  \"object\": {\n",
    "    \"a\": \"b\",\n",
    "    \"c\": \"d\"\n",
    "  },\n",
    "  \"string\": \"Hello World\"\n",
    "}\n",
    "\n",
    "x"
   ]
  },
  {
   "cell_type": "code",
   "execution_count": 21,
   "id": "2eb8178d-1979-466f-b9f4-646e3c5b0ead",
   "metadata": {},
   "outputs": [
    {
     "name": "stdout",
     "output_type": "stream",
     "text": [
      "{} <class 'dict'>\n"
     ]
    }
   ],
   "source": [
    "x1 = {}\n",
    "print(x1,type(x1))"
   ]
  },
  {
   "cell_type": "code",
   "execution_count": 4,
   "id": "1bb12410-8b30-4976-99d2-2f3166a97a94",
   "metadata": {},
   "outputs": [
    {
     "name": "stdout",
     "output_type": "stream",
     "text": [
      "{1} <class 'set'>\n"
     ]
    }
   ],
   "source": [
    "x1 = {1}\n",
    "print(x1,type(x1))"
   ]
  },
  {
   "cell_type": "code",
   "execution_count": 5,
   "id": "32ee5907-6f75-46b6-a4af-90d00d82147f",
   "metadata": {},
   "outputs": [
    {
     "data": {
      "text/plain": [
       "{'name': 'Utkarsh'}"
      ]
     },
     "execution_count": 5,
     "metadata": {},
     "output_type": "execute_result"
    }
   ],
   "source": [
    "x1 = {\n",
    "    'name':\"Utkarsh\"\n",
    "}\n",
    "x1"
   ]
  },
  {
   "cell_type": "code",
   "execution_count": 6,
   "id": "322a8af5-f545-4aaa-b703-9b4e98dac429",
   "metadata": {},
   "outputs": [
    {
     "name": "stdout",
     "output_type": "stream",
     "text": [
      "<class 'dict'>\n"
     ]
    }
   ],
   "source": [
    "print(type(x1))"
   ]
  },
  {
   "cell_type": "code",
   "execution_count": 7,
   "id": "e9ad9eec-4a20-473e-b9bb-b1d956915189",
   "metadata": {},
   "outputs": [
    {
     "data": {
      "text/plain": [
       "{'name': 'Utkarsh',\n",
       " 'age': 25,\n",
       " 'city': 'Texas',\n",
       " 'job': 'backend',\n",
       " 'email': 'utkarsh@gmial.com'}"
      ]
     },
     "execution_count": 7,
     "metadata": {},
     "output_type": "execute_result"
    }
   ],
   "source": [
    "x1 = {\n",
    "    'name':\"Utkarsh\",\n",
    "    'age':25,\n",
    "    'city':\"Texas\",\n",
    "    'job':\"backend\",\n",
    "    \"email\":\"utkarsh@gmial.com\"\n",
    "}\n",
    "x1"
   ]
  },
  {
   "cell_type": "code",
   "execution_count": 23,
   "id": "0ff10fde-b1ad-4a80-afc9-0edbfa6645f2",
   "metadata": {},
   "outputs": [
    {
     "data": {
      "text/plain": [
       "{'name': 'Utkarsh',\n",
       " 'age': 25,\n",
       " 'city': 'Texas',\n",
       " 'job': 'backend',\n",
       " 'email': 'utkarsh@gmial.com'}"
      ]
     },
     "execution_count": 23,
     "metadata": {},
     "output_type": "execute_result"
    }
   ],
   "source": [
    "x1 = {'name':\"Utkarsh\",'age':25,'city':\"Texas\",'job':\"backend\",\"email\":\"utkarsh@gmial.com\"}\n",
    "x1"
   ]
  },
  {
   "cell_type": "code",
   "execution_count": 9,
   "id": "01be8707-dc11-4fb1-a3cf-82e48239c092",
   "metadata": {},
   "outputs": [
    {
     "ename": "KeyError",
     "evalue": "0",
     "output_type": "error",
     "traceback": [
      "\u001b[31m---------------------------------------------------------------------------\u001b[39m",
      "\u001b[31mKeyError\u001b[39m                                  Traceback (most recent call last)",
      "\u001b[36mCell\u001b[39m\u001b[36m \u001b[39m\u001b[32mIn[9]\u001b[39m\u001b[32m, line 3\u001b[39m\n\u001b[32m      1\u001b[39m \u001b[38;5;66;03m# Accessing their value with keys \u001b[39;00m\n\u001b[32m----> \u001b[39m\u001b[32m3\u001b[39m \u001b[43mx1\u001b[49m\u001b[43m[\u001b[49m\u001b[32;43m0\u001b[39;49m\u001b[43m]\u001b[49m\n",
      "\u001b[31mKeyError\u001b[39m: 0"
     ]
    }
   ],
   "source": [
    "# Accessing their value with keys \n",
    "\n",
    "x1[0]"
   ]
  },
  {
   "cell_type": "code",
   "execution_count": 10,
   "id": "b952d0fb-d023-4c0f-9678-a074c1a56de3",
   "metadata": {},
   "outputs": [
    {
     "data": {
      "text/plain": [
       "'Utkarsh'"
      ]
     },
     "execution_count": 10,
     "metadata": {},
     "output_type": "execute_result"
    }
   ],
   "source": [
    "x1['name']"
   ]
  },
  {
   "cell_type": "code",
   "execution_count": 11,
   "id": "ca32fced-27c1-424a-83de-cd8b6458412d",
   "metadata": {},
   "outputs": [
    {
     "data": {
      "text/plain": [
       "25"
      ]
     },
     "execution_count": 11,
     "metadata": {},
     "output_type": "execute_result"
    }
   ],
   "source": [
    "x1['age']"
   ]
  },
  {
   "cell_type": "code",
   "execution_count": 12,
   "id": "5548ee60-2c87-43ba-94d2-43d00c46fc9d",
   "metadata": {},
   "outputs": [
    {
     "data": {
      "text/plain": [
       "'backend'"
      ]
     },
     "execution_count": 12,
     "metadata": {},
     "output_type": "execute_result"
    }
   ],
   "source": [
    "x1['job']"
   ]
  },
  {
   "cell_type": "code",
   "execution_count": 13,
   "id": "6311ba12-19ca-46ad-be33-e9f14d7d0a9e",
   "metadata": {},
   "outputs": [
    {
     "data": {
      "text/plain": [
       "'utkarsh@gmial.com'"
      ]
     },
     "execution_count": 13,
     "metadata": {},
     "output_type": "execute_result"
    }
   ],
   "source": [
    "x1['email']"
   ]
  },
  {
   "cell_type": "code",
   "execution_count": 14,
   "id": "87d54a1d-741f-4c91-9456-33dbe9f1e01d",
   "metadata": {},
   "outputs": [
    {
     "data": {
      "text/plain": [
       "'Texas'"
      ]
     },
     "execution_count": 14,
     "metadata": {},
     "output_type": "execute_result"
    }
   ],
   "source": [
    "x1['city']"
   ]
  },
  {
   "cell_type": "code",
   "execution_count": 15,
   "id": "e5fdeddf-eaeb-4e13-a39e-9f9924193daa",
   "metadata": {},
   "outputs": [
    {
     "data": {
      "text/plain": [
       "dict_keys(['name', 'age', 'city', 'job', 'email'])"
      ]
     },
     "execution_count": 15,
     "metadata": {},
     "output_type": "execute_result"
    }
   ],
   "source": [
    "# keys\n",
    "\n",
    "x1.keys()"
   ]
  },
  {
   "cell_type": "code",
   "execution_count": 16,
   "id": "a858f686-f095-48c5-8497-d13ac8ff714c",
   "metadata": {},
   "outputs": [
    {
     "data": {
      "text/plain": [
       "dict_values(['Utkarsh', 25, 'Texas', 'backend', 'utkarsh@gmial.com'])"
      ]
     },
     "execution_count": 16,
     "metadata": {},
     "output_type": "execute_result"
    }
   ],
   "source": [
    "x1.values()"
   ]
  },
  {
   "cell_type": "code",
   "execution_count": 18,
   "id": "abb5f7b5-8ad4-408a-9ef0-2786295289c1",
   "metadata": {},
   "outputs": [
    {
     "data": {
      "text/plain": [
       "dict_items([('name', 'Utkarsh'), ('age', 25), ('city', 'Texas'), ('job', 'backend'), ('email', 'utkarsh@gmial.com')])"
      ]
     },
     "execution_count": 18,
     "metadata": {},
     "output_type": "execute_result"
    }
   ],
   "source": [
    "y = x1.items()\n",
    "y"
   ]
  },
  {
   "cell_type": "code",
   "execution_count": 20,
   "id": "44de7dfa-643c-4625-9ea4-e7a3638a04ca",
   "metadata": {},
   "outputs": [
    {
     "ename": "AttributeError",
     "evalue": "'dict_items' object has no attribute 'name'",
     "output_type": "error",
     "traceback": [
      "\u001b[31m---------------------------------------------------------------------------\u001b[39m",
      "\u001b[31mAttributeError\u001b[39m                            Traceback (most recent call last)",
      "\u001b[36mCell\u001b[39m\u001b[36m \u001b[39m\u001b[32mIn[20]\u001b[39m\u001b[32m, line 1\u001b[39m\n\u001b[32m----> \u001b[39m\u001b[32m1\u001b[39m \u001b[43my\u001b[49m\u001b[43m.\u001b[49m\u001b[43mname\u001b[49m\n",
      "\u001b[31mAttributeError\u001b[39m: 'dict_items' object has no attribute 'name'"
     ]
    }
   ],
   "source": [
    "y.name"
   ]
  },
  {
   "cell_type": "code",
   "execution_count": 24,
   "id": "856e01db-6a06-4e0a-ba7a-2619c5892d2a",
   "metadata": {},
   "outputs": [
    {
     "data": {
      "text/plain": [
       "'Utkarsh'"
      ]
     },
     "execution_count": 24,
     "metadata": {},
     "output_type": "execute_result"
    }
   ],
   "source": [
    "x1['name']"
   ]
  },
  {
   "cell_type": "code",
   "execution_count": 25,
   "id": "8876c11f-4faa-4baa-871f-9c758400748d",
   "metadata": {},
   "outputs": [
    {
     "data": {
      "text/plain": [
       "25"
      ]
     },
     "execution_count": 25,
     "metadata": {},
     "output_type": "execute_result"
    }
   ],
   "source": [
    "x1['age']"
   ]
  },
  {
   "cell_type": "code",
   "execution_count": 26,
   "id": "6b2623c5-e298-4132-8692-60115c942424",
   "metadata": {},
   "outputs": [
    {
     "data": {
      "text/plain": [
       "{'name': 'Utkarsh',\n",
       " 'age': 25,\n",
       " 'city': 'Texas',\n",
       " 'job': 'backend',\n",
       " 'email': 'utkarsh@gmial.com'}"
      ]
     },
     "execution_count": 26,
     "metadata": {},
     "output_type": "execute_result"
    }
   ],
   "source": [
    "# Mutable: Changeable\n",
    "\n",
    "x1"
   ]
  },
  {
   "cell_type": "code",
   "execution_count": 27,
   "id": "2feeab43-4e36-4c43-9bff-7da44d4957d2",
   "metadata": {},
   "outputs": [
    {
     "data": {
      "text/plain": [
       "{'name': 'Utkarsh',\n",
       " 'age': 25,\n",
       " 'city': 'Texas',\n",
       " 'job': 'backend',\n",
       " 'email': 'utkarsh@gmial.com',\n",
       " 'address': 'Ramgarh'}"
      ]
     },
     "execution_count": 27,
     "metadata": {},
     "output_type": "execute_result"
    }
   ],
   "source": [
    "# adding new values\n",
    "\n",
    "x1['address'] = \"Ramgarh\"\n",
    "x1"
   ]
  },
  {
   "cell_type": "code",
   "execution_count": 28,
   "id": "e2e5d36f-c1ce-4a5c-9e9d-3a030e7a5b5b",
   "metadata": {},
   "outputs": [],
   "source": [
    "x1['mob'] = \"91xxxxx089\""
   ]
  },
  {
   "cell_type": "code",
   "execution_count": 29,
   "id": "24a148cd-b494-483d-9520-670c4ca02adc",
   "metadata": {},
   "outputs": [
    {
     "data": {
      "text/plain": [
       "{'name': 'Utkarsh',\n",
       " 'age': 25,\n",
       " 'city': 'Texas',\n",
       " 'job': 'backend',\n",
       " 'email': 'utkarsh@gmial.com',\n",
       " 'address': 'Ramgarh',\n",
       " 'mob': '91xxxxx089'}"
      ]
     },
     "execution_count": 29,
     "metadata": {},
     "output_type": "execute_result"
    }
   ],
   "source": [
    "x1"
   ]
  },
  {
   "cell_type": "code",
   "execution_count": 30,
   "id": "6f4398d9-d275-465d-9ca0-6be45705d279",
   "metadata": {},
   "outputs": [
    {
     "data": {
      "text/plain": [
       "{'name': 'Utkarsh',\n",
       " 'age': 25,\n",
       " 'city': 'Texas',\n",
       " 'job': 'backend',\n",
       " 'email': 'utkarsh@gmial.com',\n",
       " 'address': 'Ramgarh',\n",
       " 'mob': '12133545656'}"
      ]
     },
     "execution_count": 30,
     "metadata": {},
     "output_type": "execute_result"
    }
   ],
   "source": [
    "# updating their value:\n",
    "\n",
    "x1['mob'] = \"12133545656\"\n",
    "x1"
   ]
  },
  {
   "cell_type": "code",
   "execution_count": 31,
   "id": "21fee483-0f80-4d8c-a500-065e6a4014d0",
   "metadata": {},
   "outputs": [
    {
     "data": {
      "text/plain": [
       "{'name': 'Utkarsh',\n",
       " 'age': 25,\n",
       " 'city': 'Ramgrah',\n",
       " 'job': 'backend',\n",
       " 'email': 'utkarsh@gmial.com',\n",
       " 'address': 'Ramgarh',\n",
       " 'mob': '12133545656'}"
      ]
     },
     "execution_count": 31,
     "metadata": {},
     "output_type": "execute_result"
    }
   ],
   "source": [
    "x1['city'] = \"Ramgrah\"\n",
    "x1"
   ]
  },
  {
   "cell_type": "code",
   "execution_count": 32,
   "id": "2f604a05-ec59-4990-84c1-f20caa61f969",
   "metadata": {},
   "outputs": [],
   "source": [
    "# delete their value\n",
    "\n",
    "del(x1['mob'])"
   ]
  },
  {
   "cell_type": "code",
   "execution_count": 33,
   "id": "92f9bce0-9740-4cce-9047-18d2440ba9a1",
   "metadata": {},
   "outputs": [
    {
     "data": {
      "text/plain": [
       "{'name': 'Utkarsh',\n",
       " 'age': 25,\n",
       " 'city': 'Ramgrah',\n",
       " 'job': 'backend',\n",
       " 'email': 'utkarsh@gmial.com',\n",
       " 'address': 'Ramgarh'}"
      ]
     },
     "execution_count": 33,
     "metadata": {},
     "output_type": "execute_result"
    }
   ],
   "source": [
    "x1"
   ]
  },
  {
   "cell_type": "code",
   "execution_count": 35,
   "id": "dd6940ba-c54e-4fb7-9cc0-63ee172afcc3",
   "metadata": {},
   "outputs": [
    {
     "data": {
      "text/plain": [
       "'Ramgarh'"
      ]
     },
     "execution_count": 35,
     "metadata": {},
     "output_type": "execute_result"
    }
   ],
   "source": [
    "# pop()\n",
    "\n",
    "x1.pop(\"address\")"
   ]
  },
  {
   "cell_type": "code",
   "execution_count": 36,
   "id": "549276aa-82d6-4709-9ed8-367a53cd83c8",
   "metadata": {},
   "outputs": [
    {
     "data": {
      "text/plain": [
       "{'name': 'Utkarsh',\n",
       " 'age': 25,\n",
       " 'city': 'Ramgrah',\n",
       " 'job': 'backend',\n",
       " 'email': 'utkarsh@gmial.com'}"
      ]
     },
     "execution_count": 36,
     "metadata": {},
     "output_type": "execute_result"
    }
   ],
   "source": [
    "x1"
   ]
  },
  {
   "cell_type": "code",
   "execution_count": 40,
   "id": "e9f59a8a-c5fd-47f5-ab08-6a79e8fd7e30",
   "metadata": {},
   "outputs": [
    {
     "data": {
      "text/plain": [
       "{'name': 'Utkarsh', 'age': 25, 'city': 'Ramgrah', 'job': 'backend'}"
      ]
     },
     "execution_count": 40,
     "metadata": {},
     "output_type": "execute_result"
    }
   ],
   "source": [
    "# popitem()\n",
    "x1"
   ]
  },
  {
   "cell_type": "code",
   "execution_count": 39,
   "id": "0bf95c9f-c512-4fe9-bba7-6092b3e92a8d",
   "metadata": {},
   "outputs": [
    {
     "data": {
      "text/plain": [
       "('email', 'utkarsh@gmial.com')"
      ]
     },
     "execution_count": 39,
     "metadata": {},
     "output_type": "execute_result"
    }
   ],
   "source": [
    "x1.popitem()"
   ]
  },
  {
   "cell_type": "code",
   "execution_count": 41,
   "id": "c21bee9c-e3fa-4880-a003-eb2d34e2797f",
   "metadata": {},
   "outputs": [
    {
     "data": {
      "text/plain": [
       "{'name': 'Utkarsh', 'age': 25, 'city': 'Ramgrah', 'job': 'backend'}"
      ]
     },
     "execution_count": 41,
     "metadata": {},
     "output_type": "execute_result"
    }
   ],
   "source": [
    "x1"
   ]
  },
  {
   "cell_type": "code",
   "execution_count": 42,
   "id": "4c38328d-400b-4dbf-86ef-21b6a20fdf28",
   "metadata": {},
   "outputs": [
    {
     "data": {
      "text/plain": [
       "{'name': 'Utkarsh', 'age': 25, 'city': 'Ramgrah', 'job': 'backend'}"
      ]
     },
     "execution_count": 42,
     "metadata": {},
     "output_type": "execute_result"
    }
   ],
   "source": [
    "# Verifiction using in or not in\n",
    "\n",
    "x1"
   ]
  },
  {
   "cell_type": "code",
   "execution_count": 44,
   "id": "bb022e1c-994e-4c43-8312-8698454c8e44",
   "metadata": {},
   "outputs": [
    {
     "data": {
      "text/plain": [
       "True"
      ]
     },
     "execution_count": 44,
     "metadata": {},
     "output_type": "execute_result"
    }
   ],
   "source": [
    "'name' in x1"
   ]
  },
  {
   "cell_type": "code",
   "execution_count": 45,
   "id": "69116fe8-2c39-406f-aa30-aad6f32ccce5",
   "metadata": {},
   "outputs": [
    {
     "data": {
      "text/plain": [
       "False"
      ]
     },
     "execution_count": 45,
     "metadata": {},
     "output_type": "execute_result"
    }
   ],
   "source": [
    "'Utkarsh' in x1"
   ]
  },
  {
   "cell_type": "code",
   "execution_count": 46,
   "id": "cb0639be-e953-4a49-9a2c-e8574111eac1",
   "metadata": {},
   "outputs": [
    {
     "data": {
      "text/plain": [
       "False"
      ]
     },
     "execution_count": 46,
     "metadata": {},
     "output_type": "execute_result"
    }
   ],
   "source": [
    "'city' not in x1"
   ]
  },
  {
   "cell_type": "code",
   "execution_count": 47,
   "id": "1c4f9fec-d92c-40c7-a211-870189f95d56",
   "metadata": {},
   "outputs": [
    {
     "data": {
      "text/plain": [
       "{'name': 'Utkarsh',\n",
       " 'age': 25,\n",
       " 'city': 'Texas',\n",
       " 'job': 'backend',\n",
       " 'email': 'utkarsh@gmial.com',\n",
       " 1: 100}"
      ]
     },
     "execution_count": 47,
     "metadata": {},
     "output_type": "execute_result"
    }
   ],
   "source": [
    "x1 = {'name':\"Utkarsh\",'age':25,'city':\"Texas\",'job':\"backend\",\"email\":\"utkarsh@gmial.com\",1:100}\n",
    "x1"
   ]
  },
  {
   "cell_type": "code",
   "execution_count": 48,
   "id": "6df4b412-d8fa-4943-82f0-cd6c9c9ab3c9",
   "metadata": {},
   "outputs": [
    {
     "ename": "SyntaxError",
     "evalue": "cannot assign to literal here. Maybe you meant '==' instead of '='? (1911866614.py, line 1)",
     "output_type": "error",
     "traceback": [
      "  \u001b[36mCell\u001b[39m\u001b[36m \u001b[39m\u001b[32mIn[48]\u001b[39m\u001b[32m, line 1\u001b[39m\n\u001b[31m    \u001b[39m\u001b[31m1 = 100\u001b[39m\n    ^\n\u001b[31mSyntaxError\u001b[39m\u001b[31m:\u001b[39m cannot assign to literal here. Maybe you meant '==' instead of '='?\n"
     ]
    }
   ],
   "source": [
    "1 = 100\n"
   ]
  },
  {
   "cell_type": "code",
   "execution_count": null,
   "id": "8c6e68c0-13bd-4476-84dd-ca6887d9f407",
   "metadata": {},
   "outputs": [],
   "source": []
  },
  {
   "cell_type": "code",
   "execution_count": 54,
   "id": "dd4c2706-5632-4796-86b8-f4aedd77825b",
   "metadata": {},
   "outputs": [
    {
     "data": {
      "text/plain": [
       "{'name': 'Neeraj', 'age': 30, 'address': 'Ashok Nagar'}"
      ]
     },
     "execution_count": 54,
     "metadata": {},
     "output_type": "execute_result"
    }
   ],
   "source": [
    "# dict() function \n",
    "\n",
    "dict_sample = dict(name=\"Neeraj\",age=30,address=\"Ashok Nagar\")\n",
    "dict_sample"
   ]
  },
  {
   "cell_type": "code",
   "execution_count": 55,
   "id": "11521daa-7360-43f1-a946-9b575642f150",
   "metadata": {},
   "outputs": [
    {
     "data": {
      "text/plain": [
       "{'array': [1, 2, 3],\n",
       " 'boolean': True,\n",
       " 'color': 'gold',\n",
       " 'null': None,\n",
       " 'number': 123,\n",
       " 'object': {'a': 'b', 'c': 'd'},\n",
       " 'string': 'Hello World'}"
      ]
     },
     "execution_count": 55,
     "metadata": {},
     "output_type": "execute_result"
    }
   ],
   "source": [
    "# clear()\n",
    "\n",
    "x"
   ]
  },
  {
   "cell_type": "code",
   "execution_count": 56,
   "id": "0fca5470-b683-4ece-a986-ca04e9488013",
   "metadata": {},
   "outputs": [],
   "source": [
    "x.clear()"
   ]
  },
  {
   "cell_type": "code",
   "execution_count": 57,
   "id": "761a52fb-3744-4834-bb8b-e1986022014c",
   "metadata": {},
   "outputs": [
    {
     "data": {
      "text/plain": [
       "{}"
      ]
     },
     "execution_count": 57,
     "metadata": {},
     "output_type": "execute_result"
    }
   ],
   "source": [
    "x"
   ]
  },
  {
   "cell_type": "code",
   "execution_count": 60,
   "id": "f9955c21-daa0-42cb-9a27-08dc3281e9f9",
   "metadata": {},
   "outputs": [
    {
     "data": {
      "text/plain": [
       "{'a': 'b', 'c': 'd'}"
      ]
     },
     "execution_count": 60,
     "metadata": {},
     "output_type": "execute_result"
    }
   ],
   "source": [
    "# get() fucntion\n",
    "\n",
    "x.get('object')"
   ]
  },
  {
   "cell_type": "code",
   "execution_count": 61,
   "id": "6f1eb79d-a5a4-4453-a956-1c518b15f738",
   "metadata": {},
   "outputs": [
    {
     "data": {
      "text/plain": [
       "'Hello World'"
      ]
     },
     "execution_count": 61,
     "metadata": {},
     "output_type": "execute_result"
    }
   ],
   "source": [
    "x.get('string')"
   ]
  },
  {
   "cell_type": "code",
   "execution_count": 62,
   "id": "579907d3-9912-44bd-89ff-af6c6fef66db",
   "metadata": {},
   "outputs": [
    {
     "data": {
      "text/plain": [
       "'Hello World'"
      ]
     },
     "execution_count": 62,
     "metadata": {},
     "output_type": "execute_result"
    }
   ],
   "source": [
    "x['string']"
   ]
  },
  {
   "cell_type": "code",
   "execution_count": 63,
   "id": "4d516b77-c91b-4c86-9667-35851b856dc1",
   "metadata": {},
   "outputs": [
    {
     "data": {
      "text/plain": [
       "{'array': [1, 2, 3],\n",
       " 'boolean': True,\n",
       " 'color': 'gold',\n",
       " 'null': None,\n",
       " 'number': 123,\n",
       " 'object': {'a': 'b', 'c': 'd'},\n",
       " 'string': 'Hello World'}"
      ]
     },
     "execution_count": 63,
     "metadata": {},
     "output_type": "execute_result"
    }
   ],
   "source": [
    "x"
   ]
  },
  {
   "cell_type": "code",
   "execution_count": 64,
   "id": "ed437817-2abb-4628-9d18-e4a06ca381f5",
   "metadata": {},
   "outputs": [
    {
     "data": {
      "text/plain": [
       "{'array': 'array',\n",
       " 'boolean': True,\n",
       " 'color': 'gold',\n",
       " 'null': None,\n",
       " 'number': 123,\n",
       " 'object': {'a': 'b', 'c': 'd'},\n",
       " 'string': 'Hello World'}"
      ]
     },
     "execution_count": 64,
     "metadata": {},
     "output_type": "execute_result"
    }
   ],
   "source": [
    "x['array'] = \"array\"\n",
    "x"
   ]
  },
  {
   "cell_type": "code",
   "execution_count": null,
   "id": "bd17e150-c4c6-49a0-ae6f-b363487ea974",
   "metadata": {},
   "outputs": [],
   "source": [
    "# fromkeys() function"
   ]
  }
 ],
 "metadata": {
  "kernelspec": {
   "display_name": "Python 3 (ipykernel)",
   "language": "python",
   "name": "python3"
  },
  "language_info": {
   "codemirror_mode": {
    "name": "ipython",
    "version": 3
   },
   "file_extension": ".py",
   "mimetype": "text/x-python",
   "name": "python",
   "nbconvert_exporter": "python",
   "pygments_lexer": "ipython3",
   "version": "3.13.7"
  }
 },
 "nbformat": 4,
 "nbformat_minor": 5
}
