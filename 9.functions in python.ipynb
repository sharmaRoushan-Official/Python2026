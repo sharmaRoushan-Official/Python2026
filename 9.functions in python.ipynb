{
 "cells": [
  {
   "cell_type": "markdown",
   "id": "b055a034-717f-46c9-bc3b-ced1387d0aae",
   "metadata": {},
   "source": [
    "# 9. Functions in python\n",
    "\n",
    " * __In Python, a function is a group of related statemnts that perform a specific task.__\n",
    " * __Functions help break program into smaller and modular chunks.__\n",
    " * __As our program grows larger and larger, functions make it more organized and manageable.__\n",
    " * __Furhtermore, it avoids repetition and makes the code reusable.__\n",
    " * __There are two types of functions.__\n",
    " * __In-Build (Pre-defined) functions.__\n",
    " * __User-defined(Derived) functions.__\n",
    " * __In Python a function is defined using the def keyword followed by the function name and parentheses().__\n",
    " * __Keyword def that marks to start the funtion.__\n",
    " * __Function naming follows the same rules of writing identifiers in Python.__\n",
    " * __Parameters(arugments) through which we pass values to a function. They are optional.__\n",
    " * __A colon(:) to mark the end of the functions header.__\n",
    " * __One or more valid python statemnets that make up the function body.__\n",
    " * __Statements must have the same indentation level(usually 4 spaces).__\n",
    " * __An optional return statements to return a value from the function.__"
   ]
  },
  {
   "cell_type": "code",
   "execution_count": 4,
   "id": "e3bced1e-ef5a-42b3-be7c-0aa52b434ee6",
   "metadata": {},
   "outputs": [
    {
     "data": {
      "text/plain": [
       "60"
      ]
     },
     "execution_count": 4,
     "metadata": {},
     "output_type": "execute_result"
    }
   ],
   "source": [
    "sum([10,20,30])"
   ]
  },
  {
   "cell_type": "code",
   "execution_count": 19,
   "id": "2db33747-a3f7-49c3-9adf-10d255fb126b",
   "metadata": {},
   "outputs": [
    {
     "name": "stdout",
     "output_type": "stream",
     "text": [
      "5 10\n"
     ]
    },
    {
     "data": {
      "text/plain": [
       "'Myself utkarsh'"
      ]
     },
     "execution_count": 19,
     "metadata": {},
     "output_type": "execute_result"
    }
   ],
   "source": [
    "# utkarsh()\n",
    "# congratulations utkarsh\n",
    "\n",
    "\n",
    "def utkarsh1(a,b): # parameter\n",
    "    print(a,b)\n",
    "    return f\"Myself utkarsh\"\n",
    "\n",
    "utkarsh1(5,10)   # arugments"
   ]
  },
  {
   "cell_type": "code",
   "execution_count": 6,
   "id": "4f782827-5885-420d-b827-3c258653bd0e",
   "metadata": {},
   "outputs": [
    {
     "data": {
      "text/plain": [
       "'Myself utkarsh'"
      ]
     },
     "execution_count": 6,
     "metadata": {},
     "output_type": "execute_result"
    }
   ],
   "source": [
    "utkarsh()"
   ]
  },
  {
   "cell_type": "code",
   "execution_count": 7,
   "id": "b4d095cc-8d18-4ebb-87cc-a098cf65d89c",
   "metadata": {},
   "outputs": [
    {
     "data": {
      "text/plain": [
       "'Myself utkarsh'"
      ]
     },
     "execution_count": 7,
     "metadata": {},
     "output_type": "execute_result"
    }
   ],
   "source": [
    "utkarsh()"
   ]
  },
  {
   "cell_type": "code",
   "execution_count": 8,
   "id": "24047ce5-b372-4fa6-be14-f31ca237db42",
   "metadata": {},
   "outputs": [
    {
     "data": {
      "text/plain": [
       "'UTKARSH'"
      ]
     },
     "execution_count": 8,
     "metadata": {},
     "output_type": "execute_result"
    }
   ],
   "source": [
    "\"utkarsh\".upper()"
   ]
  },
  {
   "cell_type": "code",
   "execution_count": null,
   "id": "b6de207b-ae68-4e7d-bf30-5388718bdaf1",
   "metadata": {},
   "outputs": [],
   "source": []
  },
  {
   "cell_type": "code",
   "execution_count": 10,
   "id": "4ecac815-55b7-4e83-92d0-838957cf4282",
   "metadata": {},
   "outputs": [
    {
     "data": {
      "text/plain": [
       "15"
      ]
     },
     "execution_count": 10,
     "metadata": {},
     "output_type": "execute_result"
    }
   ],
   "source": [
    "utkarsh()"
   ]
  },
  {
   "cell_type": "code",
   "execution_count": 13,
   "id": "5328e753-b551-4931-b4bf-e2bae241ebaf",
   "metadata": {},
   "outputs": [
    {
     "data": {
      "text/plain": [
       "'Myself utkarsh'"
      ]
     },
     "execution_count": 13,
     "metadata": {},
     "output_type": "execute_result"
    }
   ],
   "source": [
    "utkarsh1()"
   ]
  },
  {
   "cell_type": "code",
   "execution_count": 14,
   "id": "c99a840a-be2c-44da-8915-53074bdb265a",
   "metadata": {},
   "outputs": [
    {
     "data": {
      "text/plain": [
       "15"
      ]
     },
     "execution_count": 14,
     "metadata": {},
     "output_type": "execute_result"
    }
   ],
   "source": [
    "utkarsh2()"
   ]
  },
  {
   "cell_type": "code",
   "execution_count": 20,
   "id": "3242df03-9c8b-4ec0-8bb5-d583f99d6290",
   "metadata": {},
   "outputs": [
    {
     "name": "stdout",
     "output_type": "stream",
     "text": [
      "Hello world\n"
     ]
    }
   ],
   "source": [
    "print(\"Hello world\")"
   ]
  },
  {
   "cell_type": "code",
   "execution_count": null,
   "id": "8ca2c203-9b06-49cb-9973-36c12455a4ac",
   "metadata": {},
   "outputs": [],
   "source": []
  },
  {
   "cell_type": "code",
   "execution_count": null,
   "id": "6f0212bf-1092-461f-94a4-7f6a46691d3c",
   "metadata": {},
   "outputs": [],
   "source": []
  },
  {
   "cell_type": "code",
   "execution_count": 55,
   "id": "b628a265-139e-4fe7-b229-a595f4e98855",
   "metadata": {},
   "outputs": [],
   "source": [
    "def process(x,y):\n",
    "    y1 = x+8\n",
    "    y2 = x-8\n",
    "    y3 = x*8\n",
    "    y4 = x/8\n",
    "    return y1,y2,y3,y4\n"
   ]
  },
  {
   "cell_type": "code",
   "execution_count": 47,
   "id": "f3332660-985e-4934-96e6-303072de1f5d",
   "metadata": {},
   "outputs": [
    {
     "data": {
      "text/plain": [
       "1871434737088"
      ]
     },
     "execution_count": 47,
     "metadata": {},
     "output_type": "execute_result"
    }
   ],
   "source": [
    "id(process)"
   ]
  },
  {
   "cell_type": "code",
   "execution_count": 48,
   "id": "8043014e-31fd-4339-9fcb-f7092185e517",
   "metadata": {},
   "outputs": [
    {
     "data": {
      "text/plain": [
       "(18, 2, 80, 1.25)"
      ]
     },
     "execution_count": 48,
     "metadata": {},
     "output_type": "execute_result"
    }
   ],
   "source": [
    "process(10)"
   ]
  },
  {
   "cell_type": "code",
   "execution_count": 49,
   "id": "f4369eac-2ab1-4fe8-8114-74ae6293d0e2",
   "metadata": {},
   "outputs": [
    {
     "data": {
      "text/plain": [
       "(58, 42, 400, 6.25)"
      ]
     },
     "execution_count": 49,
     "metadata": {},
     "output_type": "execute_result"
    }
   ],
   "source": [
    "process(50)"
   ]
  },
  {
   "cell_type": "code",
   "execution_count": 50,
   "id": "4db49519-0820-4e93-8cd1-d93680813a7d",
   "metadata": {},
   "outputs": [
    {
     "data": {
      "text/plain": [
       "(-2, -18, -80, -1.25)"
      ]
     },
     "execution_count": 50,
     "metadata": {},
     "output_type": "execute_result"
    }
   ],
   "source": [
    "process(-10)"
   ]
  },
  {
   "cell_type": "code",
   "execution_count": 51,
   "id": "9b76a643-4ef6-49d0-99e2-a1d23e1f4ec8",
   "metadata": {},
   "outputs": [
    {
     "data": {
      "text/plain": [
       "(-72, -88, -640, -10.0)"
      ]
     },
     "execution_count": 51,
     "metadata": {},
     "output_type": "execute_result"
    }
   ],
   "source": [
    "process(-80)"
   ]
  },
  {
   "cell_type": "code",
   "execution_count": 52,
   "id": "683263de-7737-4625-91a1-b81aed119147",
   "metadata": {},
   "outputs": [
    {
     "name": "stdout",
     "output_type": "stream",
     "text": [
      "Hello world\n"
     ]
    }
   ],
   "source": [
    "print(\"Hello world\")"
   ]
  },
  {
   "cell_type": "code",
   "execution_count": 53,
   "id": "46cdadac-56ed-4945-9b46-257bc61346f5",
   "metadata": {},
   "outputs": [
    {
     "name": "stdout",
     "output_type": "stream",
     "text": [
      "\n"
     ]
    }
   ],
   "source": [
    "print()"
   ]
  },
  {
   "cell_type": "code",
   "execution_count": 57,
   "id": "eb94b3a6-a30e-4bc7-bb91-36f763c5b1c9",
   "metadata": {},
   "outputs": [
    {
     "data": {
      "text/plain": [
       "(16, 0, 64, 1.0)"
      ]
     },
     "execution_count": 57,
     "metadata": {},
     "output_type": "execute_result"
    }
   ],
   "source": [
    "process(8,2)"
   ]
  },
  {
   "cell_type": "code",
   "execution_count": null,
   "id": "2f1ab932-381b-4c02-8549-9b53a36718fc",
   "metadata": {},
   "outputs": [],
   "source": [
    "process()"
   ]
  }
 ],
 "metadata": {
  "kernelspec": {
   "display_name": "Python 3 (ipykernel)",
   "language": "python",
   "name": "python3"
  },
  "language_info": {
   "codemirror_mode": {
    "name": "ipython",
    "version": 3
   },
   "file_extension": ".py",
   "mimetype": "text/x-python",
   "name": "python",
   "nbconvert_exporter": "python",
   "pygments_lexer": "ipython3",
   "version": "3.13.7"
  }
 },
 "nbformat": 4,
 "nbformat_minor": 5
}
