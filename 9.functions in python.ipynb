{
 "cells": [
  {
   "cell_type": "markdown",
   "id": "b055a034-717f-46c9-bc3b-ced1387d0aae",
   "metadata": {},
   "source": [
    "# 9. Functions in python\n",
    "\n",
    " * __In Python, a function is a group of related statemnts that perform a specific task.__\n",
    " * __Functions help break program into smaller and modular chunks.__\n",
    " * __As our program grows larger and larger, functions make it more organized and manageable.__\n",
    " * __Furhtermore, it avoids repetition and makes the code reusable.__\n",
    " * __There are two types of functions.__\n",
    " * __In-Build (Pre-defined) functions.__\n",
    " * __User-defined(Derived) functions.__\n",
    " * __In Python a function is defined using the def keyword followed by the function name and parentheses().__\n",
    " * __Keyword def that marks to start the funtion.__\n",
    " * __Function naming follows the same rules of writing identifiers in Python.__\n",
    " * __Parameters(arugments) through which we pass values to a function. They are optional.__\n",
    " * __A colon(:) to mark the end of the functions header.__\n",
    " * __One or more valid python statemnets that make up the function body.__\n",
    " * __Statements must have the same indentation level(usually 4 spaces).__\n",
    " * __An optional return statements to return a value from the function.__"
   ]
  },
  {
   "cell_type": "code",
   "execution_count": 4,
   "id": "e3bced1e-ef5a-42b3-be7c-0aa52b434ee6",
   "metadata": {},
   "outputs": [
    {
     "data": {
      "text/plain": [
       "60"
      ]
     },
     "execution_count": 4,
     "metadata": {},
     "output_type": "execute_result"
    }
   ],
   "source": [
    "sum([10,20,30])"
   ]
  },
  {
   "cell_type": "code",
   "execution_count": 19,
   "id": "2db33747-a3f7-49c3-9adf-10d255fb126b",
   "metadata": {},
   "outputs": [
    {
     "name": "stdout",
     "output_type": "stream",
     "text": [
      "5 10\n"
     ]
    },
    {
     "data": {
      "text/plain": [
       "'Myself utkarsh'"
      ]
     },
     "execution_count": 19,
     "metadata": {},
     "output_type": "execute_result"
    }
   ],
   "source": [
    "# utkarsh()\n",
    "# congratulations utkarsh\n",
    "\n",
    "\n",
    "def utkarsh1(a,b): # parameter\n",
    "    print(a,b)\n",
    "    return f\"Myself utkarsh\"\n",
    "\n",
    "utkarsh1(5,10)   # arugments"
   ]
  },
  {
   "cell_type": "code",
   "execution_count": 6,
   "id": "4f782827-5885-420d-b827-3c258653bd0e",
   "metadata": {},
   "outputs": [
    {
     "data": {
      "text/plain": [
       "'Myself utkarsh'"
      ]
     },
     "execution_count": 6,
     "metadata": {},
     "output_type": "execute_result"
    }
   ],
   "source": [
    "utkarsh()"
   ]
  },
  {
   "cell_type": "code",
   "execution_count": 7,
   "id": "b4d095cc-8d18-4ebb-87cc-a098cf65d89c",
   "metadata": {},
   "outputs": [
    {
     "data": {
      "text/plain": [
       "'Myself utkarsh'"
      ]
     },
     "execution_count": 7,
     "metadata": {},
     "output_type": "execute_result"
    }
   ],
   "source": [
    "utkarsh()"
   ]
  },
  {
   "cell_type": "code",
   "execution_count": 8,
   "id": "24047ce5-b372-4fa6-be14-f31ca237db42",
   "metadata": {},
   "outputs": [
    {
     "data": {
      "text/plain": [
       "'UTKARSH'"
      ]
     },
     "execution_count": 8,
     "metadata": {},
     "output_type": "execute_result"
    }
   ],
   "source": [
    "\"utkarsh\".upper()"
   ]
  },
  {
   "cell_type": "code",
   "execution_count": null,
   "id": "b6de207b-ae68-4e7d-bf30-5388718bdaf1",
   "metadata": {},
   "outputs": [],
   "source": []
  },
  {
   "cell_type": "code",
   "execution_count": 10,
   "id": "4ecac815-55b7-4e83-92d0-838957cf4282",
   "metadata": {},
   "outputs": [
    {
     "data": {
      "text/plain": [
       "15"
      ]
     },
     "execution_count": 10,
     "metadata": {},
     "output_type": "execute_result"
    }
   ],
   "source": [
    "utkarsh()"
   ]
  },
  {
   "cell_type": "code",
   "execution_count": 13,
   "id": "5328e753-b551-4931-b4bf-e2bae241ebaf",
   "metadata": {},
   "outputs": [
    {
     "data": {
      "text/plain": [
       "'Myself utkarsh'"
      ]
     },
     "execution_count": 13,
     "metadata": {},
     "output_type": "execute_result"
    }
   ],
   "source": [
    "utkarsh1()"
   ]
  },
  {
   "cell_type": "code",
   "execution_count": 14,
   "id": "c99a840a-be2c-44da-8915-53074bdb265a",
   "metadata": {},
   "outputs": [
    {
     "data": {
      "text/plain": [
       "15"
      ]
     },
     "execution_count": 14,
     "metadata": {},
     "output_type": "execute_result"
    }
   ],
   "source": [
    "utkarsh2()"
   ]
  },
  {
   "cell_type": "code",
   "execution_count": 20,
   "id": "3242df03-9c8b-4ec0-8bb5-d583f99d6290",
   "metadata": {},
   "outputs": [
    {
     "name": "stdout",
     "output_type": "stream",
     "text": [
      "Hello world\n"
     ]
    }
   ],
   "source": [
    "print(\"Hello world\")"
   ]
  },
  {
   "cell_type": "code",
   "execution_count": null,
   "id": "8ca2c203-9b06-49cb-9973-36c12455a4ac",
   "metadata": {},
   "outputs": [],
   "source": []
  },
  {
   "cell_type": "code",
   "execution_count": null,
   "id": "6f0212bf-1092-461f-94a4-7f6a46691d3c",
   "metadata": {},
   "outputs": [],
   "source": []
  },
  {
   "cell_type": "code",
   "execution_count": 2,
   "id": "b628a265-139e-4fe7-b229-a595f4e98855",
   "metadata": {},
   "outputs": [],
   "source": [
    "def process(x,y):\n",
    "    y1 = x+8\n",
    "    y2 = x-8\n",
    "    y3 = x*8\n",
    "    y4 = x/8\n",
    "    return y1,y2,y3,y4\n"
   ]
  },
  {
   "cell_type": "code",
   "execution_count": 47,
   "id": "f3332660-985e-4934-96e6-303072de1f5d",
   "metadata": {},
   "outputs": [
    {
     "data": {
      "text/plain": [
       "1871434737088"
      ]
     },
     "execution_count": 47,
     "metadata": {},
     "output_type": "execute_result"
    }
   ],
   "source": [
    "id(process)"
   ]
  },
  {
   "cell_type": "code",
   "execution_count": 48,
   "id": "8043014e-31fd-4339-9fcb-f7092185e517",
   "metadata": {},
   "outputs": [
    {
     "data": {
      "text/plain": [
       "(18, 2, 80, 1.25)"
      ]
     },
     "execution_count": 48,
     "metadata": {},
     "output_type": "execute_result"
    }
   ],
   "source": [
    "process(10)"
   ]
  },
  {
   "cell_type": "code",
   "execution_count": 49,
   "id": "f4369eac-2ab1-4fe8-8114-74ae6293d0e2",
   "metadata": {},
   "outputs": [
    {
     "data": {
      "text/plain": [
       "(58, 42, 400, 6.25)"
      ]
     },
     "execution_count": 49,
     "metadata": {},
     "output_type": "execute_result"
    }
   ],
   "source": [
    "process(50)"
   ]
  },
  {
   "cell_type": "code",
   "execution_count": 50,
   "id": "4db49519-0820-4e93-8cd1-d93680813a7d",
   "metadata": {},
   "outputs": [
    {
     "data": {
      "text/plain": [
       "(-2, -18, -80, -1.25)"
      ]
     },
     "execution_count": 50,
     "metadata": {},
     "output_type": "execute_result"
    }
   ],
   "source": [
    "process(-10)"
   ]
  },
  {
   "cell_type": "code",
   "execution_count": 51,
   "id": "9b76a643-4ef6-49d0-99e2-a1d23e1f4ec8",
   "metadata": {},
   "outputs": [
    {
     "data": {
      "text/plain": [
       "(-72, -88, -640, -10.0)"
      ]
     },
     "execution_count": 51,
     "metadata": {},
     "output_type": "execute_result"
    }
   ],
   "source": [
    "process(-80)"
   ]
  },
  {
   "cell_type": "code",
   "execution_count": 52,
   "id": "683263de-7737-4625-91a1-b81aed119147",
   "metadata": {},
   "outputs": [
    {
     "name": "stdout",
     "output_type": "stream",
     "text": [
      "Hello world\n"
     ]
    }
   ],
   "source": [
    "print(\"Hello world\")"
   ]
  },
  {
   "cell_type": "code",
   "execution_count": 53,
   "id": "46cdadac-56ed-4945-9b46-257bc61346f5",
   "metadata": {},
   "outputs": [
    {
     "name": "stdout",
     "output_type": "stream",
     "text": [
      "\n"
     ]
    }
   ],
   "source": [
    "print()"
   ]
  },
  {
   "cell_type": "code",
   "execution_count": 57,
   "id": "eb94b3a6-a30e-4bc7-bb91-36f763c5b1c9",
   "metadata": {},
   "outputs": [
    {
     "data": {
      "text/plain": [
       "(16, 0, 64, 1.0)"
      ]
     },
     "execution_count": 57,
     "metadata": {},
     "output_type": "execute_result"
    }
   ],
   "source": [
    "process(8,2)"
   ]
  },
  {
   "cell_type": "code",
   "execution_count": 4,
   "id": "2f1ab932-381b-4c02-8549-9b53a36718fc",
   "metadata": {},
   "outputs": [
    {
     "data": {
      "text/plain": [
       "(18, 2, 80, 1.25)"
      ]
     },
     "execution_count": 4,
     "metadata": {},
     "output_type": "execute_result"
    }
   ],
   "source": [
    "process(10,20)"
   ]
  },
  {
   "cell_type": "code",
   "execution_count": 6,
   "id": "06bb839b-3183-4306-aaf6-af86d44ab161",
   "metadata": {},
   "outputs": [
    {
     "data": {
      "text/plain": [
       "'congratulations! utkarsh'"
      ]
     },
     "execution_count": 6,
     "metadata": {},
     "output_type": "execute_result"
    }
   ],
   "source": [
    "def hello(n):   # n is a prameter\n",
    "    greet = \"congratulations! \"+ n\n",
    "    return greet\n",
    "\n",
    "hello('utkarsh')"
   ]
  },
  {
   "cell_type": "code",
   "execution_count": 8,
   "id": "56c7d31a-a15a-43a8-9939-5a67061240e6",
   "metadata": {},
   "outputs": [
    {
     "data": {
      "text/plain": [
       "'congratulations! Neeraj'"
      ]
     },
     "execution_count": 8,
     "metadata": {},
     "output_type": "execute_result"
    }
   ],
   "source": [
    "hello('Neeraj')"
   ]
  },
  {
   "cell_type": "code",
   "execution_count": 9,
   "id": "52916027-ec4d-4549-bc2c-07df7e18fdc5",
   "metadata": {},
   "outputs": [
    {
     "data": {
      "text/plain": [
       "'congratulations! Dhiraj'"
      ]
     },
     "execution_count": 9,
     "metadata": {},
     "output_type": "execute_result"
    }
   ],
   "source": [
    "hello('Dhiraj')"
   ]
  },
  {
   "cell_type": "code",
   "execution_count": 10,
   "id": "cd7db09e-0aed-4772-a452-204c0720b8e3",
   "metadata": {},
   "outputs": [
    {
     "data": {
      "text/plain": [
       "'The sum of the value is:420'"
      ]
     },
     "execution_count": 10,
     "metadata": {},
     "output_type": "execute_result"
    }
   ],
   "source": [
    "# function with parameter and  return value\n",
    "\n",
    "def process(num):\n",
    "    sum1 = 10+num\n",
    "    return f\"The sum of the value is:{sum1}\"\n",
    "\n",
    "process(410)"
   ]
  },
  {
   "cell_type": "code",
   "execution_count": 11,
   "id": "1bfc8c4e-e60c-457e-8c20-c133d32cc2f5",
   "metadata": {},
   "outputs": [
    {
     "name": "stdin",
     "output_type": "stream",
     "text": [
      "Enter any value:  10\n",
      "Enter second value:  20\n"
     ]
    },
    {
     "data": {
      "text/plain": [
       "'The of two values 10 and 20 is 30'"
      ]
     },
     "execution_count": 11,
     "metadata": {},
     "output_type": "execute_result"
    }
   ],
   "source": [
    "# funtion without parameter and return value \n",
    "\n",
    "def process1():\n",
    "    num1 = int(input(\"Enter any value: \"))\n",
    "    num2 = int(input(\"Enter second value: \"))\n",
    "    sum1 = num1+num2\n",
    "    return f\"The of two values {num1} and {num2} is {sum1}\"\n",
    "\n",
    "\n",
    "process1()"
   ]
  },
  {
   "cell_type": "code",
   "execution_count": 12,
   "id": "ea61725b-665c-44c2-bc7d-cdd533838788",
   "metadata": {},
   "outputs": [
    {
     "name": "stdin",
     "output_type": "stream",
     "text": [
      "Enter any value:  50\n",
      "Enter second value:  -20\n"
     ]
    },
    {
     "data": {
      "text/plain": [
       "'The of two values 50 and -20 is 30'"
      ]
     },
     "execution_count": 12,
     "metadata": {},
     "output_type": "execute_result"
    }
   ],
   "source": [
    "process1()"
   ]
  },
  {
   "cell_type": "code",
   "execution_count": 14,
   "id": "4af442cc-25b4-445c-82f6-8f74062279b9",
   "metadata": {},
   "outputs": [
    {
     "name": "stdin",
     "output_type": "stream",
     "text": [
      "Enter any value:  10\n",
      "Enter second value:  20\n"
     ]
    },
    {
     "name": "stdout",
     "output_type": "stream",
     "text": [
      "The of two values 10 and 20 is 30\n"
     ]
    }
   ],
   "source": [
    "# funciton with parameter without return value\n",
    "\n",
    "def process1(a,b):\n",
    "    # num1 = int(input(\"Enter any value: \"))\n",
    "    # num2 = int(input(\"Enter second value: \"))\n",
    "    sum1 = a+b\n",
    "    # return f\"The of two values {num1} and {num2} is {sum1}\"\n",
    "    print(f\"The of two values {a} and {b} is {sum1}\")\n",
    "\n",
    "num1 = int(input(\"Enter any value: \"))\n",
    "num2 = int(input(\"Enter second value: \"))\n",
    "process1(num1,num2)"
   ]
  },
  {
   "cell_type": "code",
   "execution_count": 15,
   "id": "c4d33d46-ef09-453d-9c05-5bcbe64f2016",
   "metadata": {},
   "outputs": [
    {
     "name": "stdin",
     "output_type": "stream",
     "text": [
      "Enter any value:  10\n",
      "Enter second value:  20\n"
     ]
    },
    {
     "name": "stdout",
     "output_type": "stream",
     "text": [
      "The of two values 10 and 20 is 30\n"
     ]
    }
   ],
   "source": [
    "# funciton without parameter without return value\n",
    "\n",
    "def process1():\n",
    "    num1 = int(input(\"Enter any value: \"))\n",
    "    num2 = int(input(\"Enter second value: \"))\n",
    "    sum1 = num1+num2\n",
    "    print(f\"The of two values {num1} and {num2} is {sum1}\")\n",
    "\n",
    "\n",
    "process1()"
   ]
  },
  {
   "cell_type": "markdown",
   "id": "19d7cb0e-4786-44fd-b9c5-bfb0feceda55",
   "metadata": {},
   "source": [
    "# 1. Formal Parameter\n",
    " * __These are the variable defined the function inside the parentheses.__\n",
    " * __They exist only inside the function.__\n",
    " * __When you call the function, the values you passed are assigned to these parameters.__\n"
   ]
  },
  {
   "cell_type": "code",
   "execution_count": 16,
   "id": "46cb35aa-7696-479b-98db-c7c4a63a3a89",
   "metadata": {},
   "outputs": [
    {
     "data": {
      "text/plain": [
       "30"
      ]
     },
     "execution_count": 16,
     "metadata": {},
     "output_type": "execute_result"
    }
   ],
   "source": [
    "def add(x,y):\n",
    "    return x+y\n",
    "add(10,20)"
   ]
  },
  {
   "cell_type": "markdown",
   "id": "c260bd64-78ce-4ab3-9f0f-4c553f7ccac9",
   "metadata": {},
   "source": [
    "# 2. Local Variable\n",
    " * __Varibale defined inside a function.__\n",
    " * __They are accessible only within that function.__\n",
    " * __Once the function finished execution, local variable are destoryed.__"
   ]
  },
  {
   "cell_type": "code",
   "execution_count": 26,
   "id": "8dfd3f9c-7b1a-4c9b-9ee8-a00068d9f2aa",
   "metadata": {},
   "outputs": [
    {
     "name": "stdout",
     "output_type": "stream",
     "text": [
      "Local Varibale is: 10\n"
     ]
    }
   ],
   "source": [
    "# a = 10 # a is local variable\n",
    "def func():\n",
    "    a1 = 10 # a is local variable\n",
    "    print(\"Local Varibale is:\",a)\n",
    "\n",
    "func()"
   ]
  },
  {
   "cell_type": "code",
   "execution_count": 27,
   "id": "dedd2b37-44da-4e52-874c-fa4e88fd073e",
   "metadata": {},
   "outputs": [
    {
     "ename": "NameError",
     "evalue": "name 'a1' is not defined",
     "output_type": "error",
     "traceback": [
      "\u001b[31m---------------------------------------------------------------------------\u001b[39m",
      "\u001b[31mNameError\u001b[39m                                 Traceback (most recent call last)",
      "\u001b[36mCell\u001b[39m\u001b[36m \u001b[39m\u001b[32mIn[27]\u001b[39m\u001b[32m, line 1\u001b[39m\n\u001b[32m----> \u001b[39m\u001b[32m1\u001b[39m \u001b[43ma1\u001b[49m\n",
      "\u001b[31mNameError\u001b[39m: name 'a1' is not defined"
     ]
    }
   ],
   "source": [
    "a1"
   ]
  },
  {
   "cell_type": "markdown",
   "id": "e359732f-25b0-463f-9744-c723b2ad9bb2",
   "metadata": {},
   "source": [
    "# 3. Global Varibales\n",
    "\n",
    " * __Variables defined outside all functions.__\n",
    " * __Accessible from anywhere in the program, inclding inside function.__\n",
    " * __To modify a golbal varibable inside a funciton, you need the global keyword.__"
   ]
  },
  {
   "cell_type": "code",
   "execution_count": 39,
   "id": "1f00cbeb-36b0-4bc8-9b8f-d7426289db5f",
   "metadata": {},
   "outputs": [
    {
     "name": "stdout",
     "output_type": "stream",
     "text": [
      "Global Varibale: 100\n",
      "Inside function: 101\n",
      "Hello world\n"
     ]
    }
   ],
   "source": [
    "x = 100  # global variable\n",
    "print('Global Varibale:',x)\n",
    "def func():\n",
    "    a1 = x+1  # a1 is a local varibale\n",
    "    print(\"Inside function:\",a1)\n",
    "    global b1\n",
    "    b1 = \"Hello world\"\n",
    "    print(b1)\n",
    "func()"
   ]
  },
  {
   "cell_type": "code",
   "execution_count": 35,
   "id": "44ccfba6-a5e9-4427-bdb5-9af445c374ae",
   "metadata": {},
   "outputs": [
    {
     "ename": "NameError",
     "evalue": "name 'a1' is not defined",
     "output_type": "error",
     "traceback": [
      "\u001b[31m---------------------------------------------------------------------------\u001b[39m",
      "\u001b[31mNameError\u001b[39m                                 Traceback (most recent call last)",
      "\u001b[36mCell\u001b[39m\u001b[36m \u001b[39m\u001b[32mIn[35]\u001b[39m\u001b[32m, line 1\u001b[39m\n\u001b[32m----> \u001b[39m\u001b[32m1\u001b[39m \u001b[43ma1\u001b[49m\n",
      "\u001b[31mNameError\u001b[39m: name 'a1' is not defined"
     ]
    }
   ],
   "source": [
    "a1"
   ]
  },
  {
   "cell_type": "code",
   "execution_count": 36,
   "id": "4fe247dc-c049-4e39-8eed-bc905daf969e",
   "metadata": {},
   "outputs": [
    {
     "data": {
      "text/plain": [
       "100"
      ]
     },
     "execution_count": 36,
     "metadata": {},
     "output_type": "execute_result"
    }
   ],
   "source": [
    "x"
   ]
  },
  {
   "cell_type": "code",
   "execution_count": 40,
   "id": "5815dee6-b902-4626-9e93-ed1af4f0284d",
   "metadata": {},
   "outputs": [
    {
     "data": {
      "text/plain": [
       "'Hello world'"
      ]
     },
     "execution_count": 40,
     "metadata": {},
     "output_type": "execute_result"
    }
   ],
   "source": [
    "b1"
   ]
  },
  {
   "cell_type": "code",
   "execution_count": 47,
   "id": "856ff8a1-ac5f-4062-8f11-2c972b4284dd",
   "metadata": {},
   "outputs": [
    {
     "name": "stdout",
     "output_type": "stream",
     "text": [
      "20\n"
     ]
    },
    {
     "data": {
      "text/plain": [
       "40"
      ]
     },
     "execution_count": 47,
     "metadata": {},
     "output_type": "execute_result"
    }
   ],
   "source": [
    "def add(x=20):  # x is default value: \n",
    "    print(x)\n",
    "    y=20\n",
    "    return x+y\n",
    "add()"
   ]
  },
  {
   "cell_type": "code",
   "execution_count": 67,
   "id": "aa2c984e-a4b2-4664-8d90-42ee8f2ed92e",
   "metadata": {},
   "outputs": [
    {
     "name": "stdin",
     "output_type": "stream",
     "text": [
      "Enter your name here:  apple banana\n"
     ]
    },
    {
     "name": "stdout",
     "output_type": "stream",
     "text": [
      "User name is: apple banana\n",
      "Total Characters in your text is: 11\n",
      "Vowel Characters is: ['a', 'e', 'a', 'a', 'a'] = 5\n",
      "Consonent Characters is: ['p', 'p', 'l', 'b', 'n', 'n'] = 6\n"
     ]
    }
   ],
   "source": [
    "# wap function to count total number of vowels and consonent in your name.\n",
    "\n",
    "\n",
    "def countVowel():\n",
    "    userName = input(\"Enter your name here: \")\n",
    "    print(\"User name is:\",userName)\n",
    "    vowel = \"AEIOUaeiou\"\n",
    "    vowelChar = []\n",
    "    vowCount = 0\n",
    "    consChar = []\n",
    "    consCount =0\n",
    "    totalCount=0\n",
    "    countSpace = 0\n",
    "    for i in userName:\n",
    "        if ' ' in i:\n",
    "            countSpace = countSpace+1\n",
    "            continue\n",
    "        if i in vowel:\n",
    "            vowelChar.append(i)\n",
    "            vowCount +=1\n",
    "        else:\n",
    "            consChar.append(i)\n",
    "            consCount+=1            \n",
    "        \n",
    "        totalCount +=1\n",
    "    print('Total Characters in your text is:',totalCount)\n",
    "    print('Vowel Characters is:',vowelChar,'=',vowCount)\n",
    "    print('Consonent Characters is:',consChar,\"=\",consCount)\n",
    "\n",
    "countVowel()"
   ]
  },
  {
   "cell_type": "code",
   "execution_count": 58,
   "id": "f44aa51f-c6c8-44ce-b3e5-f5982881a2c5",
   "metadata": {},
   "outputs": [
    {
     "name": "stdin",
     "output_type": "stream",
     "text": [
      "Enter your name here:  Omkar Pingle\n"
     ]
    },
    {
     "name": "stdout",
     "output_type": "stream",
     "text": [
      "User name is: Omkar Pingle\n",
      "Vowel Characters is: ['O', 'a', 'i', 'e']\n",
      "Consonent Characters is: ['m', 'k', 'r', ' ', 'P', 'n', 'g', 'l']\n"
     ]
    }
   ],
   "source": [
    "countVowel()"
   ]
  },
  {
   "cell_type": "code",
   "execution_count": 68,
   "id": "e3c374ba-7715-4033-a297-0034de63cc8d",
   "metadata": {},
   "outputs": [
    {
     "name": "stdin",
     "output_type": "stream",
     "text": [
      "Enter your name here:  Omkar Pingle\n"
     ]
    },
    {
     "name": "stdout",
     "output_type": "stream",
     "text": [
      "User name is: Omkar Pingle\n",
      "Total Characters in your text is: 11\n",
      "Vowel Characters is: ['O', 'a', 'i', 'e'] = 4\n",
      "Consonent Characters is: ['m', 'k', 'r', 'P', 'n', 'g', 'l'] = 7\n"
     ]
    }
   ],
   "source": [
    "countVowel()"
   ]
  },
  {
   "cell_type": "code",
   "execution_count": 71,
   "id": "5a325bae-b6e4-4b7c-aee6-96bbf17911a4",
   "metadata": {},
   "outputs": [
    {
     "name": "stdout",
     "output_type": "stream",
     "text": [
      "Even numbers are :  [2, 4, 6, 8, 10, 12, 14, 16, 18, 20, 22, 24, 26, 28, 30]\n",
      "Sum of even numbers: 240\n",
      "Odd numbers are:  [1, 3, 5, 7, 9, 11, 13, 15, 17, 19, 21, 23, 25, 27, 29]\n",
      "Sum of odd numbers: 225\n",
      "Total sum of numbers from 1 to 30 :  465\n"
     ]
    }
   ],
   "source": [
    "# 1. wap to print even number and oddnumber and their of as well total sum of the value from 1 to 30.\n",
    "\n",
    "def even_odd(n):\n",
    "    even_sum = 0\n",
    "    odd_sum = 0\n",
    "    even_num =[]\n",
    "    odd_num = []\n",
    "    total_sum = 0\n",
    "    for i in range(1,31):\n",
    "        total_sum+=i\n",
    "        if i%2 == 0:\n",
    "            even_num.append(i)\n",
    "            even_sum += i\n",
    "        else:\n",
    "            odd_num.append(i)\n",
    "            odd_sum += i\n",
    "            \n",
    "    print(\"Even numbers are : \", even_num)\n",
    "    print(\"Sum of even numbers:\", even_sum)\n",
    "\n",
    "    print(\"Odd numbers are: \", odd_num)\n",
    "    print(\"Sum of odd numbers:\", odd_sum)\n",
    "\n",
    "    print(\"Total sum of numbers from 1 to 30 : \", total_sum)\n",
    "\n",
    "even_odd(30)"
   ]
  },
  {
   "cell_type": "code",
   "execution_count": null,
   "id": "1c146b53-00e4-45ec-889b-235629e12199",
   "metadata": {},
   "outputs": [],
   "source": []
  }
 ],
 "metadata": {
  "kernelspec": {
   "display_name": "Python 3 (ipykernel)",
   "language": "python",
   "name": "python3"
  },
  "language_info": {
   "codemirror_mode": {
    "name": "ipython",
    "version": 3
   },
   "file_extension": ".py",
   "mimetype": "text/x-python",
   "name": "python",
   "nbconvert_exporter": "python",
   "pygments_lexer": "ipython3",
   "version": "3.13.7"
  }
 },
 "nbformat": 4,
 "nbformat_minor": 5
}
