{
 "cells": [
  {
   "cell_type": "markdown",
   "id": "2e3feb00-6e97-4277-a0c7-0eadd7a11faf",
   "metadata": {},
   "source": [
    "# 10. Exceptional Handling in Python\n",
    "\n",
    " * __Exceptional handling deals with runtime errors to prevent program crashes.__\n",
    " * __Implemented using try, except, else, finally blocks.__\n",
    " * __Code that might cause an errror goes inside a try block.__\n",
    " * __Errors are caught using an except block.__\n",
    " * __The else blocks runs if no exceptions occurs.__\n",
    " * __The finally block always runs---even if an exceptions occurs.__\n",
    " * __Multiple except blocks can handle different exception types.__\n",
    " * __Common Exceptions: ZeroDivisionError, ValueError, TypeError, FileNotFoundError.__\n",
    " * __Use as keyword to access the exception object.__\n",
    " * __Raise exceptions manually using the raise keyword.__\n",
    " * __Create custom exceptions by subclassing Exception class.__\n",
    " * __Nested try-except blocks are allowed for complex error handling.__\n",
    " * __Unhandled exceptions terminates the program.__\n",
    " * __Use assert statements for debugging logical errors.__\n"
   ]
  },
  {
   "cell_type": "code",
   "execution_count": 1,
   "id": "43244a80-e64c-4338-858d-a575f7020f9d",
   "metadata": {},
   "outputs": [
    {
     "ename": "ZeroDivisionError",
     "evalue": "division by zero",
     "output_type": "error",
     "traceback": [
      "\u001b[31m---------------------------------------------------------------------------\u001b[39m",
      "\u001b[31mZeroDivisionError\u001b[39m                         Traceback (most recent call last)",
      "\u001b[36mCell\u001b[39m\u001b[36m \u001b[39m\u001b[32mIn[1]\u001b[39m\u001b[32m, line 1\u001b[39m\n\u001b[32m----> \u001b[39m\u001b[32m1\u001b[39m \u001b[38;5;28mprint\u001b[39m(\u001b[32;43m1\u001b[39;49m\u001b[43m/\u001b[49m\u001b[32;43m0\u001b[39;49m)\n\u001b[32m      2\u001b[39m \u001b[38;5;28mprint\u001b[39m(\u001b[33m\"\u001b[39m\u001b[33mHello world\u001b[39m\u001b[33m\"\u001b[39m)\n",
      "\u001b[31mZeroDivisionError\u001b[39m: division by zero"
     ]
    }
   ],
   "source": [
    "print(1/0)\n",
    "print(\"Hello world\")"
   ]
  },
  {
   "cell_type": "code",
   "execution_count": 2,
   "id": "c43dd7a5-9e2f-47e2-9227-adb8ad592288",
   "metadata": {},
   "outputs": [
    {
     "ename": "SyntaxError",
     "evalue": "invalid syntax. Perhaps you forgot a comma? (2497053111.py, line 1)",
     "output_type": "error",
     "traceback": [
      "  \u001b[36mCell\u001b[39m\u001b[36m \u001b[39m\u001b[32mIn[2]\u001b[39m\u001b[32m, line 1\u001b[39m\n\u001b[31m    \u001b[39m\u001b[31mprint(hello world)\u001b[39m\n          ^\n\u001b[31mSyntaxError\u001b[39m\u001b[31m:\u001b[39m invalid syntax. Perhaps you forgot a comma?\n"
     ]
    }
   ],
   "source": [
    "print(hello world)"
   ]
  },
  {
   "cell_type": "code",
   "execution_count": 5,
   "id": "6c6d77dd-e9c4-486f-b646-aa71d2adaf34",
   "metadata": {},
   "outputs": [
    {
     "name": "stdout",
     "output_type": "stream",
     "text": [
      "This code given an Eror ZeroDivisonError\n",
      "Hello world\n"
     ]
    }
   ],
   "source": [
    "try:\n",
    "    print(1/0)\n",
    "except ZeroDivisionError:\n",
    "    print(\"This code given an Eror ZeroDivisonError\")\n",
    "\n",
    "print(\"Hello world\")"
   ]
  },
  {
   "cell_type": "code",
   "execution_count": 11,
   "id": "feaea545-c750-4cf1-a2ef-0c397eb5ba9c",
   "metadata": {},
   "outputs": [
    {
     "name": "stdout",
     "output_type": "stream",
     "text": [
      "division by zero\n",
      "Hello world\n"
     ]
    }
   ],
   "source": [
    "try:\n",
    "    print(1/0)\n",
    "except Exception as e:\n",
    "    print(e)\n",
    "\n",
    "print(\"Hello world\")"
   ]
  },
  {
   "cell_type": "code",
   "execution_count": 17,
   "id": "b9839a10-4489-4707-bcc5-8159aa7a558a",
   "metadata": {},
   "outputs": [
    {
     "name": "stdin",
     "output_type": "stream",
     "text": [
      "enter any value:  apple\n"
     ]
    },
    {
     "name": "stdout",
     "output_type": "stream",
     "text": [
      "ValueError\n",
      "Hello world\n"
     ]
    }
   ],
   "source": [
    "# typeError\n",
    "\n",
    "try:\n",
    "    userValue = int(input(\"enter any value: \"))\n",
    "    print(userValue)\n",
    "except ValueError:\n",
    "    print(\"ValueError\")\n",
    "\n",
    "print(\"Hello world\")"
   ]
  },
  {
   "cell_type": "code",
   "execution_count": 20,
   "id": "3da64813-fc9f-41dd-8dc4-763df6c79e98",
   "metadata": {},
   "outputs": [
    {
     "name": "stdin",
     "output_type": "stream",
     "text": [
      "enter any value:  apple\n"
     ]
    },
    {
     "name": "stdout",
     "output_type": "stream",
     "text": [
      "invalid literal for int() with base 10: 'apple'\n",
      "Hello world\n"
     ]
    }
   ],
   "source": [
    "try:\n",
    "    userValue = int(input(\"enter any value: \"))\n",
    "    print(userValue)\n",
    "except Exception as e:\n",
    "    print(e)\n",
    "\n",
    "print(\"Hello world\")"
   ]
  },
  {
   "cell_type": "code",
   "execution_count": 24,
   "id": "fb28eaf4-4344-4d10-9672-7356858f7a75",
   "metadata": {},
   "outputs": [
    {
     "name": "stdout",
     "output_type": "stream",
     "text": [
      "name 'y' is not defined\n"
     ]
    }
   ],
   "source": [
    "try:\n",
    "    x = \"Utkarsh\"\n",
    "    print(y)\n",
    "except Exception as e:\n",
    "    print(e)"
   ]
  },
  {
   "cell_type": "code",
   "execution_count": 25,
   "id": "eaa6e5c0-edfd-4fa9-8168-0c56290616c1",
   "metadata": {},
   "outputs": [
    {
     "name": "stdout",
     "output_type": "stream",
     "text": [
      "This code given an Eror ZeroDivisonError\n",
      "Hello world\n"
     ]
    }
   ],
   "source": [
    "try:\n",
    "    print(1/0)\n",
    "except ZeroDivisionError:\n",
    "    print(\"This code given an Eror ZeroDivisonError\")\n",
    "\n",
    "except ValueEror:\n",
    "    print(\"this code gives a ValueError\")\n",
    "\n",
    "print(\"Hello world\")\n",
    "\n"
   ]
  },
  {
   "cell_type": "code",
   "execution_count": 39,
   "id": "5775ab82-6e40-466b-a934-675f8dc54052",
   "metadata": {},
   "outputs": [
    {
     "name": "stdin",
     "output_type": "stream",
     "text": [
      "Enter first value:  103235\n"
     ]
    },
    {
     "name": "stdout",
     "output_type": "stream",
     "text": [
      "This code given an Eror ZeroDivisonError\n"
     ]
    }
   ],
   "source": [
    "try:\n",
    "    # pass\n",
    "    userValue1 = int(input(\"Enter first value: \"))\n",
    "    secondValue = 0\n",
    "    total = userValue1/secondValue\n",
    "except ZeroDivisionError:\n",
    "    print(\"This code given an Eror ZeroDivisonError\")\n",
    "\n",
    "except ValueError:\n",
    "    print(\"this code gives a ValueError\")\n",
    "\n",
    "else:\n",
    "    \n",
    "    print(\"Sum of the value is: \", total)\n",
    "\n",
    "\n"
   ]
  },
  {
   "cell_type": "code",
   "execution_count": 41,
   "id": "def4e50a-fe81-451a-a22e-d1e16e000458",
   "metadata": {},
   "outputs": [
    {
     "name": "stdin",
     "output_type": "stream",
     "text": [
      "Enter first value:  apple\n"
     ]
    },
    {
     "name": "stdout",
     "output_type": "stream",
     "text": [
      "this code gives a ValueError\n",
      "code executed successfully\n"
     ]
    }
   ],
   "source": [
    "try:\n",
    "    # pass\n",
    "    userValue1 = int(input(\"Enter first value: \"))\n",
    "    secondValue = 0\n",
    "    total = userValue1/secondValue\n",
    "except ZeroDivisionError:\n",
    "    print(\"This code given an Eror ZeroDivisonError\")\n",
    "\n",
    "except ValueError:\n",
    "    print(\"this code gives a ValueError\")\n",
    "\n",
    "else:\n",
    "    \n",
    "    print(\"Sum of the value is: \", total)\n",
    "\n",
    "finally:\n",
    "    print(\"code executed successfully\")"
   ]
  },
  {
   "cell_type": "code",
   "execution_count": 60,
   "id": "9ccdad91-0699-4892-bb80-8012af1216ae",
   "metadata": {},
   "outputs": [
    {
     "name": "stdin",
     "output_type": "stream",
     "text": [
      "Enter students Name:  apple\n",
      "Enter students Name:  guava\n",
      "Enter students Name:  cat\n",
      "Enter students Name:  0\n"
     ]
    },
    {
     "name": "stdout",
     "output_type": "stream",
     "text": [
      "Generated List is: ['apple', 'guava', 'cat']\n",
      "Students Starts A: ['apple']\n",
      "Program Running Successfully!\n"
     ]
    }
   ],
   "source": [
    "# wap to take some string from user print value only with starts from \"A\"\n",
    "# students = ['Ankita','anUP',\"Omkar\",\"Manisha\",\"utkarsh\",\"Neeraj\",\"Atharv\",'aman']\n",
    "\n",
    "try:\n",
    "    listName = []\n",
    "    studentStartA = []\n",
    "    def startsA():\n",
    "        while True:\n",
    "            try:\n",
    "                userName = input(\"Enter students Name: \")\n",
    "            except Exception as e:\n",
    "                print(e)\n",
    "            if userName == \"0\":\n",
    "                break\n",
    "            listName.append(userName)\n",
    "\n",
    "            if userName[0] == 'A' or userName[0]=='a':\n",
    "                studentStartA.append(userName)\n",
    "            else:\n",
    "                pass\n",
    "    startsA()\n",
    "except Exception as e:\n",
    "    print(e)\n",
    "else:\n",
    "    print(\"Generated List is:\", listName)\n",
    "    print(\"Students Starts A:\", studentStartA)\n",
    "\n",
    "finally:\n",
    "    print(\"Program Running Successfully!\")\n",
    "            "
   ]
  },
  {
   "cell_type": "code",
   "execution_count": 53,
   "id": "595f86c7-1d59-4a2d-a667-71e79828bb13",
   "metadata": {},
   "outputs": [
    {
     "data": {
      "text/plain": [
       "'A'"
      ]
     },
     "execution_count": 53,
     "metadata": {},
     "output_type": "execute_result"
    }
   ],
   "source": [
    "userName= 'Ankita'\n",
    "userName[0]"
   ]
  },
  {
   "cell_type": "code",
   "execution_count": null,
   "id": "c8775768-a888-49de-a1d7-51a0024c85d5",
   "metadata": {},
   "outputs": [],
   "source": []
  }
 ],
 "metadata": {
  "kernelspec": {
   "display_name": "Python 3 (ipykernel)",
   "language": "python",
   "name": "python3"
  },
  "language_info": {
   "codemirror_mode": {
    "name": "ipython",
    "version": 3
   },
   "file_extension": ".py",
   "mimetype": "text/x-python",
   "name": "python",
   "nbconvert_exporter": "python",
   "pygments_lexer": "ipython3",
   "version": "3.13.7"
  }
 },
 "nbformat": 4,
 "nbformat_minor": 5
}
