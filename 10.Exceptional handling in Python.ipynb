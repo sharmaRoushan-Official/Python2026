{
 "cells": [
  {
   "cell_type": "markdown",
   "id": "2e3feb00-6e97-4277-a0c7-0eadd7a11faf",
   "metadata": {},
   "source": [
    "# 10. Exceptional Handling in Python\n",
    "\n",
    " * __Exceptional handling deals with runtime errors to prevent program crashes.__\n",
    " * __Implemented using try, except, else, finally blocks.__\n",
    " * __Code that might cause an errror goes inside a try block.__\n",
    " * __Errors are caught using an except block.__\n",
    " * __The else blocks runs if no exceptions occurs.__\n",
    " * __The finally block always runs---even if an exceptions occurs.__\n",
    " * __Multiple except blocks can handle different exception types.__\n",
    " * __Common Exceptions: ZeroDivisionError, ValueError, TypeError, FileNotFoundError.__\n",
    " * __Use as keyword to access the exception object.__\n",
    " * __Raise exceptions manually using the raise keyword.__\n",
    " * __Create custom exceptions by subclassing Exception class.__\n",
    " * __Nested try-except blocks are allowed for complex error handling.__\n",
    " * __Unhandled exceptions terminates the program.__\n",
    " * __Use assert statements for debugging logical errors.__\n"
   ]
  },
  {
   "cell_type": "code",
   "execution_count": 1,
   "id": "43244a80-e64c-4338-858d-a575f7020f9d",
   "metadata": {},
   "outputs": [
    {
     "ename": "ZeroDivisionError",
     "evalue": "division by zero",
     "output_type": "error",
     "traceback": [
      "\u001b[31m---------------------------------------------------------------------------\u001b[39m",
      "\u001b[31mZeroDivisionError\u001b[39m                         Traceback (most recent call last)",
      "\u001b[36mCell\u001b[39m\u001b[36m \u001b[39m\u001b[32mIn[1]\u001b[39m\u001b[32m, line 1\u001b[39m\n\u001b[32m----> \u001b[39m\u001b[32m1\u001b[39m \u001b[38;5;28mprint\u001b[39m(\u001b[32;43m1\u001b[39;49m\u001b[43m/\u001b[49m\u001b[32;43m0\u001b[39;49m)\n\u001b[32m      2\u001b[39m \u001b[38;5;28mprint\u001b[39m(\u001b[33m\"\u001b[39m\u001b[33mHello world\u001b[39m\u001b[33m\"\u001b[39m)\n",
      "\u001b[31mZeroDivisionError\u001b[39m: division by zero"
     ]
    }
   ],
   "source": [
    "print(1/0)\n",
    "print(\"Hello world\")"
   ]
  },
  {
   "cell_type": "code",
   "execution_count": 2,
   "id": "c43dd7a5-9e2f-47e2-9227-adb8ad592288",
   "metadata": {},
   "outputs": [
    {
     "ename": "SyntaxError",
     "evalue": "invalid syntax. Perhaps you forgot a comma? (2497053111.py, line 1)",
     "output_type": "error",
     "traceback": [
      "  \u001b[36mCell\u001b[39m\u001b[36m \u001b[39m\u001b[32mIn[2]\u001b[39m\u001b[32m, line 1\u001b[39m\n\u001b[31m    \u001b[39m\u001b[31mprint(hello world)\u001b[39m\n          ^\n\u001b[31mSyntaxError\u001b[39m\u001b[31m:\u001b[39m invalid syntax. Perhaps you forgot a comma?\n"
     ]
    }
   ],
   "source": [
    "print(hello world)"
   ]
  },
  {
   "cell_type": "code",
   "execution_count": 5,
   "id": "6c6d77dd-e9c4-486f-b646-aa71d2adaf34",
   "metadata": {},
   "outputs": [
    {
     "name": "stdout",
     "output_type": "stream",
     "text": [
      "This code given an Eror ZeroDivisonError\n",
      "Hello world\n"
     ]
    }
   ],
   "source": [
    "try:\n",
    "    print(1/0)\n",
    "except ZeroDivisionError:\n",
    "    print(\"This code given an Eror ZeroDivisonError\")\n",
    "\n",
    "print(\"Hello world\")"
   ]
  },
  {
   "cell_type": "code",
   "execution_count": 11,
   "id": "feaea545-c750-4cf1-a2ef-0c397eb5ba9c",
   "metadata": {},
   "outputs": [
    {
     "name": "stdout",
     "output_type": "stream",
     "text": [
      "division by zero\n",
      "Hello world\n"
     ]
    }
   ],
   "source": [
    "try:\n",
    "    print(1/0)\n",
    "except Exception as e:\n",
    "    print(e)\n",
    "\n",
    "print(\"Hello world\")"
   ]
  },
  {
   "cell_type": "code",
   "execution_count": 17,
   "id": "b9839a10-4489-4707-bcc5-8159aa7a558a",
   "metadata": {},
   "outputs": [
    {
     "name": "stdin",
     "output_type": "stream",
     "text": [
      "enter any value:  apple\n"
     ]
    },
    {
     "name": "stdout",
     "output_type": "stream",
     "text": [
      "ValueError\n",
      "Hello world\n"
     ]
    }
   ],
   "source": [
    "# typeError\n",
    "\n",
    "try:\n",
    "    userValue = int(input(\"enter any value: \"))\n",
    "    print(userValue)\n",
    "except ValueError:\n",
    "    print(\"ValueError\")\n",
    "\n",
    "print(\"Hello world\")"
   ]
  },
  {
   "cell_type": "code",
   "execution_count": 20,
   "id": "3da64813-fc9f-41dd-8dc4-763df6c79e98",
   "metadata": {},
   "outputs": [
    {
     "name": "stdin",
     "output_type": "stream",
     "text": [
      "enter any value:  apple\n"
     ]
    },
    {
     "name": "stdout",
     "output_type": "stream",
     "text": [
      "invalid literal for int() with base 10: 'apple'\n",
      "Hello world\n"
     ]
    }
   ],
   "source": [
    "try:\n",
    "    userValue = int(input(\"enter any value: \"))\n",
    "    print(userValue)\n",
    "except Exception as e:\n",
    "    print(e)\n",
    "\n",
    "print(\"Hello world\")"
   ]
  },
  {
   "cell_type": "code",
   "execution_count": 24,
   "id": "fb28eaf4-4344-4d10-9672-7356858f7a75",
   "metadata": {},
   "outputs": [
    {
     "name": "stdout",
     "output_type": "stream",
     "text": [
      "name 'y' is not defined\n"
     ]
    }
   ],
   "source": [
    "try:\n",
    "    x = \"Utkarsh\"\n",
    "    print(y)\n",
    "except Exception as e:\n",
    "    print(e)"
   ]
  },
  {
   "cell_type": "code",
   "execution_count": 25,
   "id": "eaa6e5c0-edfd-4fa9-8168-0c56290616c1",
   "metadata": {},
   "outputs": [
    {
     "name": "stdout",
     "output_type": "stream",
     "text": [
      "This code given an Eror ZeroDivisonError\n",
      "Hello world\n"
     ]
    }
   ],
   "source": [
    "try:\n",
    "    print(1/0)\n",
    "except ZeroDivisionError:\n",
    "    print(\"This code given an Eror ZeroDivisonError\")\n",
    "\n",
    "except ValueEror:\n",
    "    print(\"this code gives a ValueError\")\n",
    "\n",
    "print(\"Hello world\")\n",
    "\n"
   ]
  },
  {
   "cell_type": "code",
   "execution_count": 39,
   "id": "5775ab82-6e40-466b-a934-675f8dc54052",
   "metadata": {},
   "outputs": [
    {
     "name": "stdin",
     "output_type": "stream",
     "text": [
      "Enter first value:  103235\n"
     ]
    },
    {
     "name": "stdout",
     "output_type": "stream",
     "text": [
      "This code given an Eror ZeroDivisonError\n"
     ]
    }
   ],
   "source": [
    "try:\n",
    "    # pass\n",
    "    userValue1 = int(input(\"Enter first value: \"))\n",
    "    secondValue = 0\n",
    "    total = userValue1/secondValue\n",
    "except ZeroDivisionError:\n",
    "    print(\"This code given an Eror ZeroDivisonError\")\n",
    "\n",
    "except ValueError:\n",
    "    print(\"this code gives a ValueError\")\n",
    "\n",
    "else:\n",
    "    \n",
    "    print(\"Sum of the value is: \", total)\n",
    "\n",
    "\n"
   ]
  },
  {
   "cell_type": "code",
   "execution_count": 41,
   "id": "def4e50a-fe81-451a-a22e-d1e16e000458",
   "metadata": {},
   "outputs": [
    {
     "name": "stdin",
     "output_type": "stream",
     "text": [
      "Enter first value:  apple\n"
     ]
    },
    {
     "name": "stdout",
     "output_type": "stream",
     "text": [
      "this code gives a ValueError\n",
      "code executed successfully\n"
     ]
    }
   ],
   "source": [
    "try:\n",
    "    # pass\n",
    "    userValue1 = int(input(\"Enter first value: \"))\n",
    "    secondValue = 0\n",
    "    total = userValue1/secondValue\n",
    "except ZeroDivisionError:\n",
    "    print(\"This code given an Eror ZeroDivisonError\")\n",
    "\n",
    "except ValueError:\n",
    "    print(\"this code gives a ValueError\")\n",
    "\n",
    "else:\n",
    "    \n",
    "    print(\"Sum of the value is: \", total)\n",
    "\n",
    "finally:\n",
    "    print(\"code executed successfully\")"
   ]
  },
  {
   "cell_type": "code",
   "execution_count": 60,
   "id": "9ccdad91-0699-4892-bb80-8012af1216ae",
   "metadata": {},
   "outputs": [
    {
     "name": "stdin",
     "output_type": "stream",
     "text": [
      "Enter students Name:  apple\n",
      "Enter students Name:  guava\n",
      "Enter students Name:  cat\n",
      "Enter students Name:  0\n"
     ]
    },
    {
     "name": "stdout",
     "output_type": "stream",
     "text": [
      "Generated List is: ['apple', 'guava', 'cat']\n",
      "Students Starts A: ['apple']\n",
      "Program Running Successfully!\n"
     ]
    }
   ],
   "source": [
    "# wap to take some string from user print value only with starts from \"A\"\n",
    "# students = ['Ankita','anUP',\"Omkar\",\"Manisha\",\"utkarsh\",\"Neeraj\",\"Atharv\",'aman']\n",
    "\n",
    "try:\n",
    "    listName = []\n",
    "    studentStartA = []\n",
    "    def startsA():\n",
    "        while True:\n",
    "            try:\n",
    "                userName = input(\"Enter students Name: \")\n",
    "            except Exception as e:\n",
    "                print(e)\n",
    "            if userName == \"0\":\n",
    "                break\n",
    "            listName.append(userName)\n",
    "\n",
    "            if userName[0] == 'A' or userName[0]=='a':\n",
    "                studentStartA.append(userName)\n",
    "            else:\n",
    "                pass\n",
    "    startsA()\n",
    "except Exception as e:\n",
    "    print(e)\n",
    "else:\n",
    "    print(\"Generated List is:\", listName)\n",
    "    print(\"Students Starts A:\", studentStartA)\n",
    "\n",
    "finally:\n",
    "    print(\"Program Running Successfully!\")\n",
    "            "
   ]
  },
  {
   "cell_type": "code",
   "execution_count": 53,
   "id": "595f86c7-1d59-4a2d-a667-71e79828bb13",
   "metadata": {},
   "outputs": [
    {
     "data": {
      "text/plain": [
       "'A'"
      ]
     },
     "execution_count": 53,
     "metadata": {},
     "output_type": "execute_result"
    }
   ],
   "source": [
    "userName= 'Ankita'\n",
    "userName[0]"
   ]
  },
  {
   "cell_type": "code",
   "execution_count": 1,
   "id": "c8775768-a888-49de-a1d7-51a0024c85d5",
   "metadata": {},
   "outputs": [
    {
     "name": "stdout",
     "output_type": "stream",
     "text": [
      "This code given an Error of  ZeroDivisonError\n"
     ]
    }
   ],
   "source": [
    "# 1. Write a program to handle division by zero error.\n",
    "\n",
    "\n",
    "try:\n",
    "    print(1/0)\n",
    "except ZeroDivisionError:\n",
    "    print(\"This code given an Error of  ZeroDivisonError\")\n",
    "\n"
   ]
  },
  {
   "cell_type": "code",
   "execution_count": 2,
   "id": "f77027a5-bf1e-47fd-b10b-8b0026d0fe6f",
   "metadata": {},
   "outputs": [
    {
     "name": "stdout",
     "output_type": "stream",
     "text": [
      "division by zero\n"
     ]
    }
   ],
   "source": [
    "# 1. Write a program to handle division by zero error.\n",
    "\n",
    "try:\n",
    "    print(1/0)\n",
    "except Exception as e:\n",
    "    print(e)"
   ]
  },
  {
   "cell_type": "code",
   "execution_count": 3,
   "id": "f74f14c8-f2c3-4429-8c4f-647add56f366",
   "metadata": {},
   "outputs": [
    {
     "name": "stdin",
     "output_type": "stream",
     "text": [
      "Enter value for a:  10\n",
      "Enter value for b:  1\n"
     ]
    },
    {
     "name": "stdout",
     "output_type": "stream",
     "text": [
      " Division of 10 and 1 is 10.0\n"
     ]
    }
   ],
   "source": [
    "try:\n",
    "    a = int(input(\"Enter value for a: \"))\n",
    "    b = int(input(\"Enter value for b: \"))\n",
    "    result = a/b\n",
    "    print(f\" Division of {a} and {b} is {result}\")\n",
    "except ZeroDivisionError:\n",
    "    print(\" Error: Division by zero \")"
   ]
  },
  {
   "cell_type": "code",
   "execution_count": 5,
   "id": "35725c86-31db-475a-b057-df0fe2966986",
   "metadata": {},
   "outputs": [
    {
     "name": "stdin",
     "output_type": "stream",
     "text": [
      "Enter value for a:  10\n",
      "Enter value for b:  0\n"
     ]
    },
    {
     "name": "stdout",
     "output_type": "stream",
     "text": [
      "Error: Division by zero \n"
     ]
    }
   ],
   "source": [
    "try:\n",
    "    a = int(input(\"Enter value for a: \"))\n",
    "    b = int(input(\"Enter value for b: \"))\n",
    "    result = a/b\n",
    "    print(f\" Division of {a} and {b} is {result}\")\n",
    "except ZeroDivisionError:\n",
    "    print(\"Error: Division by zero \")\n",
    "except ValueError: \n",
    "    print(\"Error: Value Error\")"
   ]
  },
  {
   "cell_type": "code",
   "execution_count": 6,
   "id": "0b74c00a-8458-41fa-9264-fb7917e58a0e",
   "metadata": {},
   "outputs": [
    {
     "name": "stdin",
     "output_type": "stream",
     "text": [
      "enter any value:  10\n"
     ]
    },
    {
     "name": "stdout",
     "output_type": "stream",
     "text": [
      "10\n"
     ]
    }
   ],
   "source": [
    "# 2. Handle invalid input using try-except when taking user input for integers.\n",
    "\n",
    "try:\n",
    "    num = int(input(\"enter any value: \"))\n",
    "    print(num)\n",
    "except Exception as e:\n",
    "    print(e)"
   ]
  },
  {
   "cell_type": "code",
   "execution_count": 11,
   "id": "b4fba38f-7779-49d4-bc7b-0a34bf25b14c",
   "metadata": {},
   "outputs": [
    {
     "name": "stdout",
     "output_type": "stream",
     "text": [
      "C:\\Users\\User\\Desktop\\python.txt1\n",
      "[Errno 2] No such file or directory: 'C:\\\\Users\\\\User\\\\Desktop\\\\python.txt1'\n"
     ]
    }
   ],
   "source": [
    "# 3 Write a function that opens a file and handles FileNotFoundError\n",
    "\n",
    "try:\n",
    "    fileName = \"C:\\\\Users\\\\User\\\\Desktop\\\\python.txt1\"\n",
    "    print(fileName)\n",
    "    \n",
    "    with open(fileName,'r') as f:\n",
    "        print(f.read())\n",
    "except Exception as e:\n",
    "    print(e)"
   ]
  },
  {
   "cell_type": "code",
   "execution_count": 14,
   "id": "77e62e6e-ca97-479c-8d76-2541e834d7d0",
   "metadata": {},
   "outputs": [
    {
     "name": "stdin",
     "output_type": "stream",
     "text": [
      "Enter Index Value of the list:  6\n"
     ]
    },
    {
     "name": "stdout",
     "output_type": "stream",
     "text": [
      "list index out of range\n"
     ]
    }
   ],
   "source": [
    "# Catch multiple exceptions: ValueError and ZeroDivisionError in one block.\n",
    "\n",
    "# 5 Create a program that reads a list index from user and handles IndexError\n",
    "\n",
    "try:\n",
    "    fruits = [\"apple\", \"kiwi\",\"banana\",\"mango\",\"watermelon\",\"pears\"]\n",
    "    userIndex = int(input(\"Enter Index Value of the list: \"))\n",
    "    print(fruits[userIndex])\n",
    "except Exception as e:\n",
    "    print(e)"
   ]
  },
  {
   "cell_type": "code",
   "execution_count": 15,
   "id": "054df360-7c11-47a8-a74c-956e5ef2e25f",
   "metadata": {},
   "outputs": [
    {
     "name": "stdin",
     "output_type": "stream",
     "text": [
      "Enter a number:  10\n",
      "Enter a number:  0\n"
     ]
    },
    {
     "name": "stdout",
     "output_type": "stream",
     "text": [
      " Error Division by zero \n"
     ]
    }
   ],
   "source": [
    "# 4. Catch multiple exceptions: ValueError and ZeroDivisionError in one block.\n",
    "\n",
    "try:\n",
    "    num = int(input(\"Enter a number: \"))  \n",
    "    num2 = int(input(\"Enter a number: \"))  \n",
    "    result = (num / num2)                     \n",
    "    \n",
    "except ZeroDivisionError:\n",
    "    print(\"Error Division by zero \")\n",
    "except ValueError: \n",
    "    print(\"Error Value Error\")\n",
    "    \n",
    "else:\n",
    "    print( result)"
   ]
  },
  {
   "cell_type": "code",
   "execution_count": 19,
   "id": "e405ae66-0cf5-4dff-9879-6d84b4b10f25",
   "metadata": {},
   "outputs": [
    {
     "name": "stdin",
     "output_type": "stream",
     "text": [
      "Enter index (0-3):  10\n"
     ]
    },
    {
     "name": "stdout",
     "output_type": "stream",
     "text": [
      "Error: Index out of range!\n"
     ]
    }
   ],
   "source": [
    "# 5\n",
    "my_list = [10, 20, 30, 40]\n",
    "try:\n",
    "    index = int(input(\"Enter index (0-3): \"))\n",
    "    print(\"Value:\", my_list[index])\n",
    "except IndexError:\n",
    "    print(\"Error: Index out of range!\")\n",
    "except ValueError:\n",
    "    print(\"Error: Please enter a valid number.\")"
   ]
  },
  {
   "cell_type": "code",
   "execution_count": 21,
   "id": "d91527c6-7972-4b71-9e4d-f6e70db159ee",
   "metadata": {},
   "outputs": [
    {
     "ename": "IndexError",
     "evalue": "list index out of range",
     "output_type": "error",
     "traceback": [
      "\u001b[31m---------------------------------------------------------------------------\u001b[39m",
      "\u001b[31mIndexError\u001b[39m                                Traceback (most recent call last)",
      "\u001b[36mCell\u001b[39m\u001b[36m \u001b[39m\u001b[32mIn[21]\u001b[39m\u001b[32m, line 3\u001b[39m\n\u001b[32m      1\u001b[39m my_list = [\u001b[32m10\u001b[39m, \u001b[32m20\u001b[39m, \u001b[32m30\u001b[39m, \u001b[32m40\u001b[39m]\n\u001b[32m----> \u001b[39m\u001b[32m3\u001b[39m \u001b[43mmy_list\u001b[49m\u001b[43m[\u001b[49m\u001b[32;43m6\u001b[39;49m\u001b[43m]\u001b[49m\n",
      "\u001b[31mIndexError\u001b[39m: list index out of range"
     ]
    }
   ],
   "source": [
    "my_list = [10, 20, 30, 40]\n",
    "\n",
    "my_list[6]"
   ]
  },
  {
   "cell_type": "code",
   "execution_count": 22,
   "id": "51028614-ed36-4594-b3ed-ae5460720711",
   "metadata": {},
   "outputs": [
    {
     "name": "stdin",
     "output_type": "stream",
     "text": [
      "enter any value:  10\n"
     ]
    },
    {
     "name": "stdout",
     "output_type": "stream",
     "text": [
      "10\n",
      "Execution complete\n"
     ]
    }
   ],
   "source": [
    "# 7. Use finally block to print “Execution complete” regardless of exceptions.\n",
    "\n",
    "try:\n",
    "    num = int(input(\"enter any value: \"))\n",
    "    \n",
    "    \n",
    "except Exception as e:\n",
    "    print(e)\n",
    "\n",
    "else:\n",
    "    print(num)\n",
    "    \n",
    "finally:\n",
    "    print(\"Execution Complete\")"
   ]
  },
  {
   "cell_type": "code",
   "execution_count": 34,
   "id": "d34c42bc-8103-4ca5-b4d6-19b056bf94df",
   "metadata": {},
   "outputs": [
    {
     "name": "stdin",
     "output_type": "stream",
     "text": [
      "Enter any key: apple\n"
     ]
    },
    {
     "name": "stdout",
     "output_type": "stream",
     "text": [
      "KeyError\n"
     ]
    }
   ],
   "source": [
    "#6 Handle KeyError when accessing a dictionary key that may not exist.\n",
    "try:\n",
    "    details = {'name':'John', 'age':'30','job':'Engineer'}\n",
    "    keyValue = input(\"Enter any key:\")\n",
    "    print(details[keyValue])\n",
    "    \n",
    "except KeyError:\n",
    "    print(\"KeyError\")"
   ]
  },
  {
   "cell_type": "code",
   "execution_count": 36,
   "id": "071bc9c0-8c04-4f87-805b-eed7bcd593fc",
   "metadata": {},
   "outputs": [
    {
     "name": "stdin",
     "output_type": "stream",
     "text": [
      "enter any value:  apple\n"
     ]
    },
    {
     "name": "stdout",
     "output_type": "stream",
     "text": [
      "invalid literal for int() with base 10: 'apple'\n"
     ]
    }
   ],
   "source": [
    "# 8. Use else block with try-except to print \"No Exception occurred\".\n",
    "\n",
    "try:\n",
    "    num = int(input(\"enter any value: \"))\n",
    "    \n",
    "except Exception as e:\n",
    "    print(e)\n",
    "\n",
    "else:\n",
    "    print(num)\n",
    "    print(\"No Exception occurred\")"
   ]
  },
  {
   "cell_type": "code",
   "execution_count": 40,
   "id": "b2bdf199-c97d-4de8-a87e-3829c0104b30",
   "metadata": {
    "scrolled": true
   },
   "outputs": [
    {
     "name": "stdin",
     "output_type": "stream",
     "text": [
      "Enter any value:  -10\n"
     ]
    },
    {
     "name": "stdout",
     "output_type": "stream",
     "text": [
      "Negative Number is not allowed.\n"
     ]
    }
   ],
   "source": [
    "# 9. Create a custom exception called NegativeNumberError and raise it if the input is negative.\n",
    "\n",
    "class NegativeNumberError(Exception):\n",
    "    pass\n",
    "\n",
    "def check_positive(num):\n",
    "    if num<0:\n",
    "        raise NegativeNumberError(\"Negative Number is not allowed.\")\n",
    "    else:\n",
    "        print(\"Valid Input\",num)\n",
    "# check_positive(-1)\n",
    "\n",
    "try:\n",
    "    n = int(input(\"Enter any value: \"))\n",
    "\n",
    "    check_positive(n)\n",
    "\n",
    "except Exception as e:\n",
    "    print(e)"
   ]
  },
  {
   "cell_type": "code",
   "execution_count": 42,
   "id": "5c0c4967-aef7-4f54-93e2-dc35503f0fcb",
   "metadata": {},
   "outputs": [
    {
     "name": "stdin",
     "output_type": "stream",
     "text": [
      "Enter any value:  -10\n"
     ]
    },
    {
     "name": "stdout",
     "output_type": "stream",
     "text": [
      "Negative Number is not allowed.\n"
     ]
    }
   ],
   "source": [
    "try:\n",
    "    n = int(input(\"Enter any value: \"))\n",
    "    if n<0:\n",
    "        raise NegativeNumberError(\"Negative Number is not allowed.\")\n",
    "    check_positive(n)\n",
    "\n",
    "except Exception as e:\n",
    "    print(e)"
   ]
  },
  {
   "cell_type": "code",
   "execution_count": null,
   "id": "eeae8c6a-1e12-4b0d-8771-d31554d15301",
   "metadata": {},
   "outputs": [],
   "source": []
  }
 ],
 "metadata": {
  "kernelspec": {
   "display_name": "Python 3 (ipykernel)",
   "language": "python",
   "name": "python3"
  },
  "language_info": {
   "codemirror_mode": {
    "name": "ipython",
    "version": 3
   },
   "file_extension": ".py",
   "mimetype": "text/x-python",
   "name": "python",
   "nbconvert_exporter": "python",
   "pygments_lexer": "ipython3",
   "version": "3.13.7"
  }
 },
 "nbformat": 4,
 "nbformat_minor": 5
}
